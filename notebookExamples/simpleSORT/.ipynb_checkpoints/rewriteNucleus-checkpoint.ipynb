{
 "cells": [
  {
   "cell_type": "markdown",
   "metadata": {},
   "source": [
    "# Parameters"
   ]
  },
  {
   "cell_type": "code",
   "execution_count": 1,
   "metadata": {},
   "outputs": [],
   "source": [
    "interp.load.ivy(\"com.github.haifengl\" % \"smile-scala_2.12\" % \"1.5.2\")\n",
    "interp.load.ivy(\n",
    "  coursier.Dependency(\n",
    "    module = coursier.Module(coursier.Organization(\"org.platanios\"), coursier.ModuleName(\"tensorflow_2.12\")),\n",
    "    version = \"0.4.1\",\n",
    "    // replace with linux-gpu-x86_64 on linux with nvidia gpu or with darwin-cpu-x86_64 on macOS \n",
    "    attributes = coursier.Attributes(coursier.Type(\"\"), coursier.Classifier(\"darwin-cpu-x86_64\"))\n",
    "  )\n",
    ")\n",
    "interp.load.ivy(\"org.platanios\" %% \"tensorflow-data\" % \"0.4.1\")\n"
   ]
  },
  {
   "cell_type": "code",
   "execution_count": 2,
   "metadata": {},
   "outputs": [
    {
     "data": {
      "text/plain": [
       "\u001b[32mimport \u001b[39m\u001b[36morg.tensorflow.framework.GraphDef\n",
       "\u001b[39m\n",
       "\u001b[32mimport \u001b[39m\u001b[36morg.platanios.tensorflow.api._\n",
       "\u001b[39m\n",
       "\u001b[32mimport \u001b[39m\u001b[36morg.platanios.tensorflow.api.ops.{Files, Image => TImage}\n",
       "\u001b[39m\n",
       "\u001b[32mimport \u001b[39m\u001b[36morg.platanios.tensorflow.api.core.types.UByte\n",
       "\u001b[39m\n",
       "\u001b[32mimport \u001b[39m\u001b[36morg.platanios.tensorflow.api.core.client.FeedMap\n",
       "\u001b[39m\n",
       "\u001b[32mimport \u001b[39m\u001b[36mjava.io.{BufferedInputStream, File, FileInputStream}\n",
       "\u001b[39m\n",
       "\u001b[32mimport \u001b[39m\u001b[36mscala.math.sqrt\n",
       "\u001b[39m\n",
       "\u001b[32mimport \u001b[39m\u001b[36mscala.math.abs\n",
       "\u001b[39m\n",
       "\u001b[32mimport \u001b[39m\u001b[36msmile.stat.distribution.GaussianDistribution\n",
       "\u001b[39m\n",
       "\u001b[32mimport \u001b[39m\u001b[36morg.platanios.tensorflow.api.ops.NN._\u001b[39m"
      ]
     },
     "execution_count": 2,
     "metadata": {},
     "output_type": "execute_result"
    }
   ],
   "source": [
    "import org.tensorflow.framework.GraphDef\n",
    "import org.platanios.tensorflow.api._\n",
    "import org.platanios.tensorflow.api.ops.{Files, Image => TImage}\n",
    "import org.platanios.tensorflow.api.core.types.UByte\n",
    "import org.platanios.tensorflow.api.core.client.FeedMap\n",
    "import java.io.{BufferedInputStream, File, FileInputStream}\n",
    "import scala.math.sqrt\n",
    "import scala.math.abs\n",
    "import smile.stat.distribution.GaussianDistribution\n",
    "import org.platanios.tensorflow.api.ops.NN._"
   ]
  },
  {
   "cell_type": "code",
   "execution_count": 1,
   "metadata": {},
   "outputs": [
    {
     "data": {
      "text/plain": [
       "\u001b[36msigma\u001b[39m: \u001b[32mFloat\u001b[39m = \u001b[32m0.5F\u001b[39m\n",
       "\u001b[36mnt\u001b[39m: \u001b[32mFloat\u001b[39m = \u001b[32m0.3F\u001b[39m\n",
       "\u001b[36mthreshold\u001b[39m: \u001b[32mFloat\u001b[39m = \u001b[32m0.001F\u001b[39m\n",
       "\u001b[36mmethod\u001b[39m: \u001b[32mInt\u001b[39m = \u001b[32m0\u001b[39m\n",
       "\u001b[36mN\u001b[39m: \u001b[32mInt\u001b[39m = \u001b[32m10\u001b[39m\n",
       "\u001b[36mpos\u001b[39m: \u001b[32mInt\u001b[39m = \u001b[32m0\u001b[39m\n",
       "\u001b[36mmaxscore\u001b[39m: \u001b[32mInt\u001b[39m = \u001b[32m0\u001b[39m\n",
       "\u001b[36mmaxpos\u001b[39m: \u001b[32mInt\u001b[39m = \u001b[32m0\u001b[39m"
      ]
     },
     "execution_count": 1,
     "metadata": {},
     "output_type": "execute_result"
    }
   ],
   "source": [
    "val sigma: Float = 0.5f\n",
    "val nt: Float = 0.3f\n",
    "val threshold: Float = 0.001f\n",
    "val method: Int = 0\n",
    "\n",
    "val N = 10 //Number of boxes\n",
    "val pos = 0\n",
    "val maxscore = 0\n",
    "val maxpos = 0"
   ]
  },
  {
   "cell_type": "markdown",
   "metadata": {},
   "source": [
    "## Rewrite _cpu_soft_nms"
   ]
  },
  {
   "cell_type": "code",
   "execution_count": 0,
   "metadata": {},
   "outputs": [
    {
     "name": "stderr",
     "output_type": "stream",
     "text": [
      "cmd0.sc:1: not found: value GraphDef\n",
      "lazy val graphDef = GraphDef.parseFrom(\n",
      "                    ^cmd0.sc:2: not found: type BufferedInputStream\n",
      "    new BufferedInputStream(new FileInputStream(new File(\"/Users/vincentbrule/Desktop/rewriteScala/model/saved_model.pb\"))))\n",
      "        ^cmd0.sc:2: not found: type FileInputStream\n",
      "    new BufferedInputStream(new FileInputStream(new File(\"/Users/vincentbrule/Desktop/rewriteScala/model/saved_model.pb\"))))\n",
      "                                ^cmd0.sc:2: not found: type File\n",
      "    new BufferedInputStream(new FileInputStream(new File(\"/Users/vincentbrule/Desktop/rewriteScala/model/saved_model.pb\"))))\n",
      "                                                    ^cmd0.sc:3: not found: value Graph\n",
      "lazy val graph = Graph.fromGraphDef(graphDef)\n",
      "                 ^Compilation Failed"
     ]
    },
    {
     "ename": "",
     "evalue": "",
     "output_type": "error",
     "traceback": [
      "Compilation Failed"
     ]
    }
   ],
   "source": [
    "lazy val graphDef = GraphDef.parseFrom(\n",
    "    new BufferedInputStream(new FileInputStream(new File(\"/Users/vincentbrule/Desktop/rewriteScala/model/saved_model.pb\"))))\n",
    "lazy val graph = Graph.fromGraphDef(graphDef)\n"
   ]
  },
  {
   "cell_type": "code",
   "execution_count": 6,
   "metadata": {},
   "outputs": [
    {
     "ename": "",
     "evalue": "",
     "output_type": "error",
     "traceback": [
      "\u001b[31mcom.google.protobuf.InvalidProtocolBufferException: While parsing a protocol message, the input ended unexpectedly in the middle of a field.  This could mean either that the input has been truncated or that an embedded message misreported its own length.\u001b[39m\n  com.google.protobuf.InvalidProtocolBufferException.truncatedMessage(\u001b[32mInvalidProtocolBufferException.java\u001b[39m:\u001b[32m86\u001b[39m)\n  com.google.protobuf.CodedInputStream$StreamDecoder.skipRawBytesSlowPath(\u001b[32mCodedInputStream.java\u001b[39m:\u001b[32m3043\u001b[39m)\n  com.google.protobuf.CodedInputStream$StreamDecoder.skipRawBytes(\u001b[32mCodedInputStream.java\u001b[39m:\u001b[32m3026\u001b[39m)\n  com.google.protobuf.CodedInputStream$StreamDecoder.skipField(\u001b[32mCodedInputStream.java\u001b[39m:\u001b[32m2134\u001b[39m)\n  com.google.protobuf.CodedInputStream$StreamDecoder.skipMessage(\u001b[32mCodedInputStream.java\u001b[39m:\u001b[32m2196\u001b[39m)\n  com.google.protobuf.CodedInputStream$StreamDecoder.skipField(\u001b[32mCodedInputStream.java\u001b[39m:\u001b[32m2127\u001b[39m)\n  com.google.protobuf.MapEntryLite.parseEntry(\u001b[32mMapEntryLite.java\u001b[39m:\u001b[32m186\u001b[39m)\n  com.google.protobuf.MapEntry.<init>(\u001b[32mMapEntry.java\u001b[39m:\u001b[32m106\u001b[39m)\n  com.google.protobuf.MapEntry.<init>(\u001b[32mMapEntry.java\u001b[39m:\u001b[32m50\u001b[39m)\n  com.google.protobuf.MapEntry$Metadata$1.parsePartialFrom(\u001b[32mMapEntry.java\u001b[39m:\u001b[32m70\u001b[39m)\n  com.google.protobuf.MapEntry$Metadata$1.parsePartialFrom(\u001b[32mMapEntry.java\u001b[39m:\u001b[32m64\u001b[39m)\n  com.google.protobuf.CodedInputStream$StreamDecoder.readMessage(\u001b[32mCodedInputStream.java\u001b[39m:\u001b[32m2399\u001b[39m)\n  org.tensorflow.framework.FunctionDef.<init>(\u001b[32mFunctionDef.java\u001b[39m:\u001b[32m90\u001b[39m)\n  org.tensorflow.framework.FunctionDef.<init>(\u001b[32mFunctionDef.java\u001b[39m:\u001b[32m17\u001b[39m)\n  org.tensorflow.framework.FunctionDef$1.parsePartialFrom(\u001b[32mFunctionDef.java\u001b[39m:\u001b[32m1730\u001b[39m)\n  org.tensorflow.framework.FunctionDef$1.parsePartialFrom(\u001b[32mFunctionDef.java\u001b[39m:\u001b[32m1725\u001b[39m)\n  com.google.protobuf.CodedInputStream$StreamDecoder.readMessage(\u001b[32mCodedInputStream.java\u001b[39m:\u001b[32m2399\u001b[39m)\n  org.tensorflow.framework.FunctionDefLibrary.<init>(\u001b[32mFunctionDefLibrary.java\u001b[39m:\u001b[32m64\u001b[39m)\n  org.tensorflow.framework.FunctionDefLibrary.<init>(\u001b[32mFunctionDefLibrary.java\u001b[39m:\u001b[32m13\u001b[39m)\n  org.tensorflow.framework.FunctionDefLibrary$1.parsePartialFrom(\u001b[32mFunctionDefLibrary.java\u001b[39m:\u001b[32m1067\u001b[39m)\n  org.tensorflow.framework.FunctionDefLibrary$1.parsePartialFrom(\u001b[32mFunctionDefLibrary.java\u001b[39m:\u001b[32m1062\u001b[39m)\n  com.google.protobuf.CodedInputStream$StreamDecoder.readMessage(\u001b[32mCodedInputStream.java\u001b[39m:\u001b[32m2399\u001b[39m)\n  org.tensorflow.framework.GraphDef.<init>(\u001b[32mGraphDef.java\u001b[39m:\u001b[32m72\u001b[39m)\n  org.tensorflow.framework.GraphDef.<init>(\u001b[32mGraphDef.java\u001b[39m:\u001b[32m13\u001b[39m)\n  org.tensorflow.framework.GraphDef$1.parsePartialFrom(\u001b[32mGraphDef.java\u001b[39m:\u001b[32m1543\u001b[39m)\n  org.tensorflow.framework.GraphDef$1.parsePartialFrom(\u001b[32mGraphDef.java\u001b[39m:\u001b[32m1538\u001b[39m)\n  com.google.protobuf.AbstractParser.parsePartialFrom(\u001b[32mAbstractParser.java\u001b[39m:\u001b[32m221\u001b[39m)\n  com.google.protobuf.AbstractParser.parseFrom(\u001b[32mAbstractParser.java\u001b[39m:\u001b[32m239\u001b[39m)\n  com.google.protobuf.AbstractParser.parseFrom(\u001b[32mAbstractParser.java\u001b[39m:\u001b[32m244\u001b[39m)\n  com.google.protobuf.AbstractParser.parseFrom(\u001b[32mAbstractParser.java\u001b[39m:\u001b[32m49\u001b[39m)\n  com.google.protobuf.GeneratedMessageV3.parseWithIOException(\u001b[32mGeneratedMessageV3.java\u001b[39m:\u001b[32m311\u001b[39m)\n  org.tensorflow.framework.GraphDef.parseFrom(\u001b[32mGraphDef.java\u001b[39m:\u001b[32m454\u001b[39m)\n  ammonite.$sess.cmd4$Helper.graphDef$lzycompute(\u001b[32mcmd4.sc\u001b[39m:\u001b[32m2\u001b[39m)\n  ammonite.$sess.cmd4$Helper.graphDef(\u001b[32mcmd4.sc\u001b[39m:\u001b[32m426\u001b[39m)\n  ammonite.$sess.cmd4$Helper.graph$lzycompute(\u001b[32mcmd4.sc\u001b[39m:\u001b[32m3\u001b[39m)\n  ammonite.$sess.cmd4$Helper.graph(\u001b[32mcmd4.sc\u001b[39m:\u001b[32m3\u001b[39m)\n  ammonite.$sess.cmd5$Helper.<init>(\u001b[32mcmd5.sc\u001b[39m:\u001b[32m1\u001b[39m)\n  ammonite.$sess.cmd5$.<init>(\u001b[32mcmd5.sc\u001b[39m:\u001b[32m7\u001b[39m)\n  ammonite.$sess.cmd5$.<clinit>(\u001b[32mcmd5.sc\u001b[39m:\u001b[32m-1\u001b[39m)"
     ]
    }
   ],
   "source": [
    "val session = Session(graph)\n",
    "val sessionSimple = Session()"
   ]
  }
 ],
 "metadata": {
  "kernelspec": {
   "display_name": "Scala",
   "language": "scala",
   "name": "scala"
  },
  "language_info": {
   "codemirror_mode": "text/x-scala",
   "file_extension": ".scala",
   "mimetype": "text/x-scala",
   "name": "scala",
   "nbconvert_exporter": "script",
   "version": "2.12.8"
  }
 },
 "nbformat": 4,
 "nbformat_minor": 2
}
