{
 "cells": [
  {
   "cell_type": "markdown",
   "metadata": {},
   "source": [
    "# <p style=\"text-align: center;, font-style: strong;\">Soft NMS</p>\n"
   ]
  },
  {
   "cell_type": "markdown",
   "metadata": {},
   "source": [
    "## Dependencies"
   ]
  },
  {
   "cell_type": "code",
   "execution_count": 1,
   "metadata": {},
   "outputs": [],
   "source": [
    "interp.load.ivy(\"com.github.haifengl\" % \"smile-scala_2.12\" % \"1.5.2\")"
   ]
  },
  {
   "cell_type": "code",
   "execution_count": 2,
   "metadata": {},
   "outputs": [],
   "source": [
    "interp.load.ivy(\n",
    "  coursier.Dependency(\n",
    "    module = coursier.Module(coursier.Organization(\"org.platanios\"), coursier.ModuleName(\"tensorflow_2.12\")),\n",
    "    version = \"0.4.1\",\n",
    "    // replace with linux-gpu-x86_64 on linux with nvidia gpu or with darwin-cpu-x86_64 on macOS \n",
    "    attributes = coursier.Attributes(coursier.Type(\"\"), coursier.Classifier(\"darwin-cpu-x86_64\"))\n",
    "  )\n",
    ")\n",
    "\n",
    "interp.load.ivy(\"org.platanios\" %% \"tensorflow-data\" % \"0.4.1\")\n"
   ]
  },
  {
   "cell_type": "code",
   "execution_count": 32,
   "metadata": {},
   "outputs": [
    {
     "data": {
      "text/plain": [
       "\u001b[32mimport \u001b[39m\u001b[36morg.tensorflow.framework.GraphDef\n",
       "\u001b[39m\n",
       "\u001b[32mimport \u001b[39m\u001b[36morg.platanios.tensorflow.api._\n",
       "\u001b[39m\n",
       "\u001b[32mimport \u001b[39m\u001b[36morg.platanios.tensorflow.api.ops.{Files, Image => TImage}\n",
       "\u001b[39m\n",
       "\u001b[32mimport \u001b[39m\u001b[36mjava.awt.{Image => JImage}\n",
       "\u001b[39m\n",
       "\u001b[32mimport \u001b[39m\u001b[36morg.platanios.tensorflow.api.core.types.UByte\n",
       "\u001b[39m\n",
       "\u001b[32mimport \u001b[39m\u001b[36morg.platanios.tensorflow.api.core.client.FeedMap\n",
       "\u001b[39m\n",
       "\u001b[32mimport \u001b[39m\u001b[36mjava.io.{BufferedInputStream, File, FileInputStream}\n",
       "\u001b[39m\n",
       "\u001b[32mimport \u001b[39m\u001b[36mscala.math.sqrt\n",
       "\u001b[39m\n",
       "\u001b[32mimport \u001b[39m\u001b[36mscala.math.abs\n",
       "\u001b[39m\n",
       "\u001b[32mimport \u001b[39m\u001b[36msmile.stat.distribution.GaussianDistribution\n",
       "\u001b[39m\n",
       "\u001b[32mimport \u001b[39m\u001b[36morg.platanios.tensorflow.api.ops.NN._\n",
       "\u001b[39m\n",
       "\u001b[32mimport \u001b[39m\u001b[36mscala.io.Source\n",
       "\u001b[39m\n",
       "\u001b[32mimport \u001b[39m\u001b[36mscala.collection.mutable.ListBuffer\n",
       "\u001b[39m\n",
       "\u001b[32mimport \u001b[39m\u001b[36mscala.math.min\n",
       "\u001b[39m\n",
       "\u001b[32mimport \u001b[39m\u001b[36mscala.math.max\n",
       "\u001b[39m\n",
       "\u001b[32mimport \u001b[39m\u001b[36mscala.math.exp\n",
       "\u001b[39m\n",
       "\u001b[32mimport \u001b[39m\u001b[36mjava.awt.image.BufferedImage\n",
       "\u001b[39m\n",
       "\u001b[32mimport \u001b[39m\u001b[36mjava.awt.Color\n",
       "\u001b[39m\n",
       "\u001b[32mimport \u001b[39m\u001b[36mjava.awt.image.BufferedImage\n",
       "\u001b[39m\n",
       "\u001b[32mimport \u001b[39m\u001b[36mjava.io.ByteArrayOutputStream\n",
       "\u001b[39m\n",
       "\u001b[32mimport \u001b[39m\u001b[36mjava.io.File\n",
       "\u001b[39m\n",
       "\u001b[32mimport \u001b[39m\u001b[36mjava.io.IOException\n",
       "\u001b[39m\n",
       "\u001b[32mimport \u001b[39m\u001b[36mjavax.imageio.ImageIO\n",
       "\u001b[39m\n",
       "\u001b[32mimport \u001b[39m\u001b[36mscala.util.Random\n",
       "\u001b[39m\n",
       "\u001b[32mimport \u001b[39m\u001b[36mjava.util.Base64\n",
       "\u001b[39m\n",
       "\u001b[32mimport \u001b[39m\u001b[36mjava.io.PrintWriter\n",
       "\u001b[39m\n",
       "\u001b[32mimport \u001b[39m\u001b[36mscala.io.Source\n",
       "\u001b[39m"
      ]
     },
     "execution_count": 32,
     "metadata": {},
     "output_type": "execute_result"
    }
   ],
   "source": [
    "import org.tensorflow.framework.GraphDef\n",
    "import org.platanios.tensorflow.api._\n",
    "import org.platanios.tensorflow.api.ops.{Files, Image => TImage}\n",
    "import java.awt.{Image => JImage}\n",
    "import org.platanios.tensorflow.api.core.types.UByte\n",
    "import org.platanios.tensorflow.api.core.client.FeedMap\n",
    "import java.io.{BufferedInputStream, File, FileInputStream}\n",
    "import scala.math.sqrt\n",
    "import scala.math.abs\n",
    "import smile.stat.distribution.GaussianDistribution\n",
    "import org.platanios.tensorflow.api.ops.NN._\n",
    "import scala.io.Source\n",
    "import scala.collection.mutable.ListBuffer\n",
    "import scala.math.min\n",
    "import scala.math.max\n",
    "import scala.math.exp\n",
    "import java.awt.image.BufferedImage\n",
    "import java.awt.Color\n",
    "import java.awt.image.BufferedImage\n",
    "import java.io.ByteArrayOutputStream\n",
    "import java.io.File\n",
    "import java.io.IOException\n",
    "import javax.imageio.ImageIO\n",
    "import scala.util.Random\n",
    "import java.util.Base64\n",
    "import java.io.PrintWriter\n",
    "import scala.io.Source\n"
   ]
  },
  {
   "cell_type": "code",
   "execution_count": 4,
   "metadata": {},
   "outputs": [
    {
     "data": {
      "text/plain": [
       "defined \u001b[32mfunction\u001b[39m \u001b[36mresize\u001b[39m\n",
       "defined \u001b[32mfunction\u001b[39m \u001b[36mtransformBufferedImage\u001b[39m"
      ]
     },
     "execution_count": 4,
     "metadata": {},
     "output_type": "execute_result"
    }
   ],
   "source": [
    "def resize(img: BufferedImage, height: Int, width: Int): BufferedImage = {\n",
    "    val tmp = img.getScaledInstance(width, height, JImage.SCALE_SMOOTH)\n",
    "    val resized = new BufferedImage(width, height, BufferedImage.TYPE_INT_ARGB)\n",
    "    val g2d = resized.createGraphics()\n",
    "    g2d.drawImage(tmp, 0, 0, null)\n",
    "    g2d.dispose()\n",
    "    resized\n",
    "}\n",
    "\n",
    "def transformBufferedImage(image: BufferedImage, size: Int): Array[Byte] = {\n",
    "    val baos = new ByteArrayOutputStream()\n",
    "    ImageIO.write(resize(image, size, size), \"png\", baos)\n",
    "    baos.flush()\n",
    "    val imageInByte = baos.toByteArray()\n",
    "    baos.close()\n",
    "    imageInByte\n",
    "}"
   ]
  },
  {
   "cell_type": "code",
   "execution_count": 49,
   "metadata": {},
   "outputs": [
    {
     "data": {
      "text/plain": [
       "defined \u001b[32mfunction\u001b[39m \u001b[36mgenerateRandomColor\u001b[39m\n",
       "defined \u001b[32mfunction\u001b[39m \u001b[36mgenerateRandomImage\u001b[39m\n",
       "defined \u001b[32mfunction\u001b[39m \u001b[36mgenerateBase64Image\u001b[39m"
      ]
     },
     "execution_count": 49,
     "metadata": {},
     "output_type": "execute_result"
    }
   ],
   "source": [
    "def generateRandomColor(initialGreen: Int, initialBlue: Int, rnd: Random): (Int, Int) = {\n",
    "    val step = 50\n",
    "    val startGreen = if (initialGreen - step < 0) 0 else initialGreen - step\n",
    "    val endGreen = if (initialGreen + step > 255) 255 else initialGreen + step\n",
    "    val startBlue = if (initialBlue - step < 0) 0 else initialBlue - step\n",
    "    val endBlue = if (initialBlue + step > 255) 255 else initialBlue + step\n",
    "    (startGreen + rnd.nextInt((endGreen - startGreen) + 1), startBlue + rnd.nextInt((endBlue - startBlue) + 1))\n",
    "}\n",
    "\n",
    "def generateRandomImage(rand: Random): BufferedImage = {\n",
    "    val rand = new Random(System.nanoTime)\n",
    "    val image = new BufferedImage(10, 10, BufferedImage.TYPE_INT_RGB)\n",
    "    val initialGreen = rand.nextInt(256)\n",
    "    val initialBlue = rand.nextInt(256)\n",
    "    Range(0, image.getHeight()).foreach { y =>\n",
    "        Range(0, image.getWidth()).foreach { x =>\n",
    "            val (newGreen, newBlue) = generateRandomColor(initialGreen, initialBlue, rand)\n",
    "            image.setRGB(x, y, new Color(0, newGreen, newBlue).getRGB)\n",
    "        }\n",
    "    }\n",
    "    image\n",
    "}\n",
    "\n",
    "def generateBase64Image(rand: Random): String = {\n",
    "    val buffImage: BufferedImage = generateRandomImage(rand)\n",
    "    val byteImage: Array[Byte] = transformBufferedImage(buffImage, 100)\n",
    "    Base64.getEncoder.encodeToString(byteImage)\n",
    "}"
   ]
  },
  {
   "cell_type": "code",
   "execution_count": 26,
   "metadata": {},
   "outputs": [
    {
     "data": {
      "text/plain": [
       "defined \u001b[32mfunction\u001b[39m \u001b[36mdisplayColorButtons\u001b[39m"
      ]
     },
     "execution_count": 26,
     "metadata": {},
     "output_type": "execute_result"
    }
   ],
   "source": [
    "def displayColorButtons(id: String) {\n",
    "    kernel.publish.display(\n",
    "      almond.interpreter.api.DisplayData(\n",
    "        Map(\n",
    "          \"text/html\" -> \n",
    "          s\"\"\"\n",
    "              <script> \n",
    "                  var comm = Jupyter.notebook.kernel.comm_manager.new_comm(\"$id\");\n",
    "                  var green = 0; var blue = 0;\n",
    "                  function addColor(color) {\n",
    "                    if (green < 2 || blue < 2) {\n",
    "                      if(color === 'green') { \n",
    "                          document.getElementById(\"green\").innerHTML = ++green;\n",
    "                          comm.send({\"content\":\"green\"});\n",
    "                      }\n",
    "                      else {\n",
    "                          document.getElementById(\"blue\").innerHTML = ++blue;\n",
    "                          comm.send({\"content\":\"blue\"});\n",
    "                      }\n",
    "                    } \n",
    "                    else { \n",
    "                        document.getElementById(\"green\").style.display = 'none';\n",
    "                        document.getElementById(\"blue\").style.display = 'none';\n",
    "                        color === 'green'? comm.send({\"content\":\"endGreen\"}) : comm.send({\"content\":\"endBlue\"});\n",
    "                        comm.close(); \n",
    "                    }\n",
    "                  }\n",
    "                  function start() {\n",
    "                     green = 0; blue = 0;\n",
    "                     document.getElementById(\"green\").style.display = 'inline';\n",
    "                     document.getElementById(\"blue\").style.display = 'inline'; \n",
    "                     document.getElementById(\"start\").style.display = 'none';\n",
    "                     comm.send({\"content\": \"start\"});\n",
    "                  }\n",
    "              </script>\n",
    "              <style>\n",
    "                .colorButton {\n",
    "                  width: 100px;\n",
    "                  height: 50px;\n",
    "                  border-radius: 12px;\n",
    "                  font-size: 20px;\n",
    "                  color: white;\n",
    "                  margin-right: 50px;\n",
    "                  outline:none;\n",
    "                  margin-bottom: 30px;\n",
    "                }\n",
    "                .colorButton:hover {\n",
    "                    border: 3px solid lime;\n",
    "                }\n",
    "                .colorButton:active {\n",
    "                    color: lime;\n",
    "                    position: relative;\n",
    "                    top: 1px;\n",
    "                }\n",
    "                #green {\n",
    "                    background: green;\n",
    "                }\n",
    "                #blue {\n",
    "                    background: blue;\n",
    "                }\n",
    "                #groupButton {\n",
    "                    text-align: center;\n",
    "                }\n",
    "                #start {\n",
    "                    background: gray;\n",
    "                }\n",
    "              </style>\n",
    "              <div id=\"groupButton\">\n",
    "                  <button onClick=\"start()\"           id=\"start\" class=\"colorButton\">Start</button>\n",
    "                  <button onClick=\"addColor('green')\" id=\"green\" class=\"colorButton\" style=\"display: none;\">0</button>\n",
    "                  <button onClick=\"addColor('blue')\"  id=\"blue\"  class=\"colorButton\" style=\"display: none;\">0</button>\n",
    "              </div>\n",
    "          \"\"\"\n",
    "        )\n",
    "      )\n",
    "    )\n",
    "}"
   ]
  },
  {
   "cell_type": "code",
   "execution_count": 27,
   "metadata": {
    "scrolled": true
   },
   "outputs": [
    {
     "data": {
      "text/html": [
       "\n",
       "              <script> \n",
       "                  var comm = Jupyter.notebook.kernel.comm_manager.new_comm(\"2fa4d266-532a-4d49-a6b3-69b30f828301\");\n",
       "                  var green = 0; var blue = 0;\n",
       "                  function addColor(color) {\n",
       "                    if (green < 2 || blue < 2) {\n",
       "                      if(color === 'green') { \n",
       "                          document.getElementById(\"green\").innerHTML = ++green;\n",
       "                          comm.send({\"content\":\"green\"});\n",
       "                      }\n",
       "                      else {\n",
       "                          document.getElementById(\"blue\").innerHTML = ++blue;\n",
       "                          comm.send({\"content\":\"blue\"});\n",
       "                      }\n",
       "                    } \n",
       "                    else { \n",
       "                        document.getElementById(\"green\").style.display = 'none';\n",
       "                        document.getElementById(\"blue\").style.display = 'none';\n",
       "                        color === 'green'? comm.send({\"content\":\"endGreen\"}) : comm.send({\"content\":\"endBlue\"});\n",
       "                        comm.close(); \n",
       "                    }\n",
       "                  }\n",
       "                  function start() {\n",
       "                     green = 0; blue = 0;\n",
       "                     document.getElementById(\"green\").style.display = 'inline';\n",
       "                     document.getElementById(\"blue\").style.display = 'inline'; \n",
       "                     document.getElementById(\"start\").style.display = 'none';\n",
       "                     comm.send({\"content\": \"start\"});\n",
       "                  }\n",
       "              </script>\n",
       "              <style>\n",
       "                .colorButton {\n",
       "                  width: 100px;\n",
       "                  height: 50px;\n",
       "                  border-radius: 12px;\n",
       "                  font-size: 20px;\n",
       "                  color: white;\n",
       "                  margin-right: 50px;\n",
       "                  outline:none;\n",
       "                  margin-bottom: 30px;\n",
       "                }\n",
       "                .colorButton:hover {\n",
       "                    border: 3px solid lime;\n",
       "                }\n",
       "                .colorButton:active {\n",
       "                    color: lime;\n",
       "                    position: relative;\n",
       "                    top: 1px;\n",
       "                }\n",
       "                #green {\n",
       "                    background: green;\n",
       "                }\n",
       "                #blue {\n",
       "                    background: blue;\n",
       "                }\n",
       "                #groupButton {\n",
       "                    text-align: center;\n",
       "                }\n",
       "                #start {\n",
       "                    background: gray;\n",
       "                }\n",
       "              </style>\n",
       "              <div id=\"groupButton\">\n",
       "                  <button onClick=\"start()\"           id=\"start\" class=\"colorButton\">Start</button>\n",
       "                  <button onClick=\"addColor('green')\" id=\"green\" class=\"colorButton\" style=\"display: none;\">0</button>\n",
       "                  <button onClick=\"addColor('blue')\"  id=\"blue\"  class=\"colorButton\" style=\"display: none;\">0</button>\n",
       "              </div>\n",
       "          "
      ]
     },
     "metadata": {},
     "output_type": "display_data"
    },
    {
     "data": {
      "text/html": [
       "<h1 id=\"lastText\" style=\"display: block; text-align: center;\">Congratulation! You can go to next step &#128526</h1>"
      ]
     },
     "metadata": {},
     "output_type": "display_data"
    },
    {
     "data": {
      "text/plain": [
       "\u001b[36mid\u001b[39m: \u001b[32mString\u001b[39m = \u001b[32m\"2fa4d266-532a-4d49-a6b3-69b30f828301\"\u001b[39m\n",
       "\u001b[36mrand\u001b[39m: \u001b[32mRandom\u001b[39m = scala.util.Random@338741be\n",
       "\u001b[36mfileResults\u001b[39m: \u001b[32mFile\u001b[39m = labels.txt\n",
       "\u001b[36mwriterResults\u001b[39m: \u001b[32mPrintWriter\u001b[39m = java.io.PrintWriter@33172671"
      ]
     },
     "execution_count": 27,
     "metadata": {},
     "output_type": "execute_result"
    }
   ],
   "source": [
    "val id = java.util.UUID.randomUUID().toString\n",
    "val rand = new Random(System.nanoTime)\n",
    "displayColorButtons(id)\n",
    "kernel.publish.html(\"<img></img>\", id)\n",
    "\n",
    "val fileResults = new File(\"labels.txt\")  \n",
    "val writerResults = new PrintWriter(fileResults)  \n",
    "kernel.comm.receiver(id) { data =>\n",
    "    val img = generateBase64Image(rand)\n",
    "    val htmlToDisplay = data match {\n",
    "        case \"\"\"{\"content\":\"endGreen\"}\"\"\" => {\n",
    "            writerResults.write(\" green\")\n",
    "            writerResults.close()  \n",
    "            \"\"\"<h1 id=\"lastText\" style=\"display: block; text-align: center;\">Congratulation! You can go to next step &#128526</h1>\"\"\"\n",
    "        }\n",
    "        case \"\"\"{\"content\":\"endBlue\"}\"\"\" => {\n",
    "            writerResults.write(\" blue\")\n",
    "            writerResults.close()  \n",
    "            \"\"\"<h1 id=\"lastText\" style=\"display: block; text-align: center;\">Congratulation! You can go to next step &#128526</h1>\"\"\"\n",
    "        }\n",
    "        case \"\"\"{\"content\":\"start\"}\"\"\" => s\"\"\"<img src=data:image/png;base64,$img style=\"display: block;margin-left: auto;margin-right: auto;transform: translateX(-25%);\"></img>\"\"\"\n",
    "        case \"\"\"{\"content\":\"green\"}\"\"\" => {\n",
    "            writerResults.write(\" green\\n\\n\")\n",
    "            s\"\"\"<img src=data:image/png;base64,$img style=\"display: block;margin-left: auto;margin-right: auto;transform: translateX(-25%);\"></img>\"\"\"\n",
    "        }\n",
    "        case \"\"\"{\"content\":\"blue\"}\"\"\" => {\n",
    "            writerResults.write(\" blue\\n\\n\")\n",
    "            s\"\"\"<img src=data:image/png;base64,$img style=\"display: block;margin-left: auto;margin-right: auto;transform: translateX(-25%);\"></img>\"\"\"\n",
    "        }\n",
    "        case _ => {\n",
    "            writerResults.close()\n",
    "            \"\"\"<h1 id=\"lastText\" style=\"display: block; text-align: center;\">An error occurs, please retry this cell.</h1>\"\"\"\n",
    "        }\n",
    "    }\n",
    "    writerResults.write(img)\n",
    "    kernel.publish.updateHtml(htmlToDisplay, id)\n",
    "}\n",
    "\n"
   ]
  },
  {
   "cell_type": "code",
   "execution_count": 51,
   "metadata": {},
   "outputs": [
    {
     "ename": "",
     "evalue": "",
     "output_type": "error",
     "traceback": [
      "\u001b[31mjava.lang.IllegalArgumentException: Illegal base64 character 3a\u001b[39m\n  java.util.Base64$Decoder.decode0(\u001b[32mBase64.java\u001b[39m:\u001b[32m743\u001b[39m)\n  java.util.Base64$Decoder.decode(\u001b[32mBase64.java\u001b[39m:\u001b[32m535\u001b[39m)\n  java.util.Base64$Decoder.decode(\u001b[32mBase64.java\u001b[39m:\u001b[32m558\u001b[39m)\n  ammonite.$sess.cmd50$Helper.$anonfun$res50$1(\u001b[32mcmd50.sc\u001b[39m:\u001b[32m3\u001b[39m)\n  ammonite.$sess.cmd50$Helper.$anonfun$res50$1$adapted(\u001b[32mcmd50.sc\u001b[39m:\u001b[32m1\u001b[39m)\n  scala.collection.Iterator.foreach(\u001b[32mIterator.scala\u001b[39m:\u001b[32m941\u001b[39m)\n  scala.collection.Iterator.foreach$(\u001b[32mIterator.scala\u001b[39m:\u001b[32m941\u001b[39m)\n  scala.collection.AbstractIterator.foreach(\u001b[32mIterator.scala\u001b[39m:\u001b[32m1429\u001b[39m)\n  ammonite.$sess.cmd50$Helper.<init>(\u001b[32mcmd50.sc\u001b[39m:\u001b[32m1\u001b[39m)\n  ammonite.$sess.cmd50$.<init>(\u001b[32mcmd50.sc\u001b[39m:\u001b[32m7\u001b[39m)\n  ammonite.$sess.cmd50$.<clinit>(\u001b[32mcmd50.sc\u001b[39m:\u001b[32m-1\u001b[39m)"
     ]
    }
   ],
   "source": [
    "\n",
    "for (line <- Source.fromFile(\"labels.txt\").getLines) {\n",
    "    val splitLine = line.split(\" \")\n",
    "    val base64Decoded = Base64.getDecoder.decode(splitLine.head)\n",
    "    Image(base64Decoded).display\n",
    "    val label = splitLine.last\n",
    "}"
   ]
  }
 ],
 "metadata": {
  "kernelspec": {
   "display_name": "Scala",
   "language": "scala",
   "name": "scala"
  },
  "language_info": {
   "codemirror_mode": "text/x-scala",
   "file_extension": ".scala",
   "mimetype": "text/x-scala",
   "name": "scala",
   "nbconvert_exporter": "script",
   "version": "2.12.8"
  }
 },
 "nbformat": 4,
 "nbformat_minor": 2
}
