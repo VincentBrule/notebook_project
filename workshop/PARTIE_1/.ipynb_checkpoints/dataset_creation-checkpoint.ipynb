{
 "cells": [
  {
   "cell_type": "markdown",
   "metadata": {},
   "source": [
    "# <p style=\"text-align: center;, font-style: strong;\">Partie 1.1 - Création d'un jeu de données</p>\n"
   ]
  },
  {
   "cell_type": "markdown",
   "metadata": {},
   "source": [
    "#### Load Tensorflow Scala dependencie"
   ]
  },
  {
   "cell_type": "code",
   "execution_count": 2,
   "metadata": {},
   "outputs": [],
   "source": [
    "interp.load.ivy(\n",
    "  coursier.Dependency(\n",
    "    module = coursier.Module(coursier.Organization(\"org.platanios\"), coursier.ModuleName(\"tensorflow_2.12\")),\n",
    "    version = \"0.4.1\",\n",
    "    // replace with linux-gpu-x86_64 on linux with nvidia gpu or with darwin-cpu-x86_64 on macOS \n",
    "    attributes = coursier.Attributes(coursier.Type(\"\"), coursier.Classifier(\"darwin-cpu-x86_64\"))\n",
    "  )\n",
    ")"
   ]
  },
  {
   "cell_type": "markdown",
   "metadata": {},
   "source": [
    "#### Imports"
   ]
  },
  {
   "cell_type": "code",
   "execution_count": 8,
   "metadata": {},
   "outputs": [
    {
     "data": {
      "text/plain": [
       "\u001b[32mimport \u001b[39m\u001b[36mjava.nio.file.{ Files, Paths }\n",
       "\u001b[39m\n",
       "\u001b[32mimport \u001b[39m\u001b[36mjava.awt.{ Image => JImage }\n",
       "\u001b[39m\n",
       "\u001b[32mimport \u001b[39m\u001b[36mjava.io.{File, FileInputStream, ByteArrayOutputStream, IOException}\n",
       "\u001b[39m\n",
       "\u001b[32mimport \u001b[39m\u001b[36mscala.io.Source\n",
       "\u001b[39m\n",
       "\u001b[32mimport \u001b[39m\u001b[36mscala.collection.mutable.ListBuffer\n",
       "\u001b[39m\n",
       "\u001b[32mimport \u001b[39m\u001b[36mjava.awt.image.BufferedImage\n",
       "\u001b[39m\n",
       "\u001b[32mimport \u001b[39m\u001b[36mjava.awt.Color\n",
       "\u001b[39m\n",
       "\u001b[32mimport \u001b[39m\u001b[36mjava.awt.image.BufferedImage\n",
       "\u001b[39m\n",
       "\u001b[32mimport \u001b[39m\u001b[36mjavax.imageio.ImageIO\n",
       "\u001b[39m\n",
       "\u001b[32mimport \u001b[39m\u001b[36mscala.util.Random\n",
       "\u001b[39m\n",
       "\u001b[32mimport \u001b[39m\u001b[36mjava.util.Base64\n",
       "\u001b[39m\n",
       "\u001b[32mimport \u001b[39m\u001b[36mjava.io.PrintWriter\n",
       "\u001b[39m\n",
       "\u001b[32mimport \u001b[39m\u001b[36mscala.io.Source\n",
       "\u001b[39m\n",
       "\u001b[32mimport \u001b[39m\u001b[36mjava.io.ByteArrayInputStream\n",
       "\u001b[39m\n",
       "\u001b[32mimport \u001b[39m\u001b[36morg.platanios.tensorflow.api.tf\n",
       "\u001b[39m\n",
       "\u001b[32mimport \u001b[39m\u001b[36morg.platanios.tensorflow.api.tensors.Tensor\n",
       "\u001b[39m\n",
       "\u001b[32mimport \u001b[39m\u001b[36morg.platanios.tensorflow.api.core.Shape\n",
       "\u001b[39m\n",
       "\u001b[32mimport \u001b[39m\u001b[36morg.platanios.tensorflow.api.core.client.{Session, FeedMap}\n",
       "\u001b[39m\n",
       "\u001b[32mimport \u001b[39m\u001b[36morg.platanios.tensorflow.api.core.types.DataType\n",
       "\u001b[39m\n",
       "\u001b[32mimport \u001b[39m\u001b[36morg.platanios.tensorflow.api.ops.{ Image => TImage }\u001b[39m"
      ]
     },
     "execution_count": 8,
     "metadata": {},
     "output_type": "execute_result"
    }
   ],
   "source": [
    "import java.nio.file.{ Files, Paths }\n",
    "import java.awt.{ Image => JImage }\n",
    "import java.io.{File, FileInputStream, ByteArrayOutputStream, IOException}\n",
    "import scala.io.Source\n",
    "import scala.collection.mutable.ListBuffer\n",
    "import java.awt.image.BufferedImage\n",
    "import java.awt.Color\n",
    "import java.awt.image.BufferedImage\n",
    "import javax.imageio.ImageIO\n",
    "import scala.util.Random\n",
    "import java.util.Base64\n",
    "import java.io.PrintWriter\n",
    "import scala.io.Source\n",
    "import java.io.ByteArrayInputStream\n",
    "import org.platanios.tensorflow.api.tf\n",
    "import org.platanios.tensorflow.api.tensors.Tensor\n",
    "import org.platanios.tensorflow.api.core.Shape\n",
    "import org.platanios.tensorflow.api.core.client.{Session, FeedMap}\n",
    "import org.platanios.tensorflow.api.core.types.DataType\n",
    "import org.platanios.tensorflow.api.ops.{ Image => TImage }"
   ]
  },
  {
   "cell_type": "markdown",
   "metadata": {},
   "source": [
    "## Utilities function"
   ]
  },
  {
   "cell_type": "code",
   "execution_count": 9,
   "metadata": {},
   "outputs": [
    {
     "data": {
      "text/plain": [
       "defined \u001b[32mfunction\u001b[39m \u001b[36mconvertBufferedImgToByteArray\u001b[39m"
      ]
     },
     "execution_count": 9,
     "metadata": {},
     "output_type": "execute_result"
    }
   ],
   "source": [
    "// Transform BufferedImage to an Array of bytes\n",
    "def convertBufferedImgToByteArray(buffImg: BufferedImage): Array[Byte] = {\n",
    "    val baos = new ByteArrayOutputStream()\n",
    "    ImageIO.write(buffImg, \"png\", baos)\n",
    "    baos.toByteArray()\n",
    "}"
   ]
  },
  {
   "cell_type": "code",
   "execution_count": null,
   "metadata": {},
   "outputs": [],
   "source": [
    "def generateRandomColor(initialGreen: Int, step: Int, rnd: Random): (Int, Int) = {\n",
    "    // handle border cases\n",
    "    val startGreen = if (initialGreen - step < 0) 0 else initialGreen - step\n",
    "    val endGreen = if (initialGreen + step > 255) 255 else initialGreen + step\n",
    "    // generate a new green value\n",
    "    val randomGreen = startGreen + rnd.nextInt((endGreen - startGreen) + 1)\n",
    "    // the new color is [r = 0, g = randomGreen, b = 255 - randomGreen]\n",
    "    (randomGreen, 255 - randomGreen)\n",
    "}\n",
    "\n",
    "def generateRandomImage(step: Int, rand: Random): BufferedImage = {\n",
    "    val rand = new Random(System.nanoTime)\n",
    "    val image = new BufferedImage(5, 5, BufferedImage.TYPE_INT_RGB)\n",
    "    val initialGreen = rand.nextInt(256)\n",
    "    val initialBlue = (255 - initialGreen)\n",
    "    Range(0, image.getHeight()).foreach { y =>\n",
    "        Range(0, image.getWidth()).foreach { x =>\n",
    "            val (newGreen, newBlue) = generateRandomColor(initialGreen, step, rand)\n",
    "            image.setRGB(x, y, new Color(0, newGreen, newBlue).getRGB)\n",
    "        }\n",
    "    }\n",
    "    image\n",
    "}\n",
    "\n",
    "def generateBase64Image(step: Int, rand: Random): String = {\n",
    "    val buffImage: BufferedImage = generateRandomImage(step, rand)\n",
    "    val byteImage: Array[Byte] = convertBufferedImgToByteArray(buffImage)\n",
    "    Base64.getEncoder.encodeToString(byteImage)\n",
    "}"
   ]
  },
  {
   "cell_type": "code",
   "execution_count": 4,
   "metadata": {},
   "outputs": [
    {
     "data": {
      "text/plain": [
       "defined \u001b[32mfunction\u001b[39m \u001b[36mdisplayColorButtons\u001b[39m"
      ]
     },
     "execution_count": 4,
     "metadata": {},
     "output_type": "execute_result"
    }
   ],
   "source": [
    "def displayColorButtons(id: String) {\n",
    "    val htmlCode = Files.readString(Paths.get(\"interaction.txt\"))\n",
    "    kernel.publish.display(\n",
    "      almond.interpreter.api.DisplayData(\n",
    "        Map(\"text/html\" -> htmlCode.replace(\"nameCommandToChange\", id))\n",
    "      )\n",
    "    )\n",
    "}"
   ]
  },
  {
   "cell_type": "markdown",
   "metadata": {},
   "source": [
    "## Parameters"
   ]
  },
  {
   "cell_type": "code",
   "execution_count": 10,
   "metadata": {},
   "outputs": [
    {
     "data": {
      "text/plain": [
       "\u001b[36mstep\u001b[39m: \u001b[32mInt\u001b[39m = \u001b[32m50\u001b[39m"
      ]
     },
     "execution_count": 10,
     "metadata": {},
     "output_type": "execute_result"
    }
   ],
   "source": [
    "val step = 50 // [step] between different pixels in the same image. \n",
    "              // if your first pixel has a random green value of 65, \n",
    "              // following pixels can only have value between [65 - step, 65 + step]\n",
    "\n"
   ]
  },
  {
   "cell_type": "code",
   "execution_count": null,
   "metadata": {
    "scrolled": true
   },
   "outputs": [],
   "source": [
    "val id = java.util.UUID.randomUUID().toString\n",
    "val rand = new Random(System.nanoTime)\n",
    "displayColorButtons(id)\n",
    "kernel.publish.html(\"<img></img>\", id)\n",
    "\n",
    "val fileResults = new File(\"labels.txt\")  \n",
    "val writerResults = new PrintWriter(fileResults)  \n",
    "kernel.comm.receiver(id) { data =>\n",
    "    val img = generateBase64Image(rand)\n",
    "    val htmlToDisplay = data match {\n",
    "        case \"\"\"{\"content\":\"endGreen\"}\"\"\" => {\n",
    "            writerResults.write(\" green\")\n",
    "            writerResults.close()  \n",
    "            \"\"\"<h1 id=\"lastText\" style=\"display: block; text-align: center;\">Congratulation! You can go to next step &#128526</h1>\"\"\"\n",
    "        }\n",
    "        case \"\"\"{\"content\":\"endBlue\"}\"\"\" => {\n",
    "            writerResults.write(\" blue\")\n",
    "            writerResults.close()  \n",
    "            \"\"\"<h1 id=\"lastText\" style=\"display: block; text-align: center;\">Congratulation! You can go to next step &#128526</h1>\"\"\"\n",
    "        }\n",
    "        case \"\"\"{\"content\":\"start\"}\"\"\" => s\"\"\"<img src=data:image/png;base64,$img style=\"image-rendering: pixelated; display: block;margin-left: auto;margin-right: auto;transform: translateX(-25%); height=\"100\" width=\"100\"\"></img>\"\"\"\n",
    "        case \"\"\"{\"content\":\"green\"}\"\"\" => {\n",
    "            writerResults.write(\" green\\n\")\n",
    "            s\"\"\"<img src=data:image/png;base64,$img style=\"image-rendering: pixelated; display: block;margin-left: auto;margin-right: auto;transform: translateX(-25%);\" height=\"100\" width=\"100\"></img>\"\"\"\n",
    "        }\n",
    "        case \"\"\"{\"content\":\"blue\"}\"\"\" => {\n",
    "            writerResults.write(\" blue\\n\")\n",
    "            s\"\"\"<img src=data:image/png;base64,$img style=\"image-rendering: pixelated; display: block;margin-left: auto;margin-right: auto;transform: translateX(-25%); height=\"100\" width=\"100\"\"></img>\"\"\"\n",
    "        }\n",
    "        case _ => {\n",
    "            writerResults.close()\n",
    "            \"\"\"<h1 id=\"lastText\" style=\"display: block; text-align: center;\">An error occurs, please retry this cell.</h1>\"\"\"\n",
    "        }\n",
    "    }\n",
    "    writerResults.write(img)\n",
    "    kernel.publish.updateHtml(htmlToDisplay, id)\n",
    "}\n",
    "\n"
   ]
  }
 ],
 "metadata": {
  "kernelspec": {
   "display_name": "Scala",
   "language": "scala",
   "name": "scala"
  },
  "language_info": {
   "codemirror_mode": "text/x-scala",
   "file_extension": ".scala",
   "mimetype": "text/x-scala",
   "name": "scala",
   "nbconvert_exporter": "script",
   "version": "2.12.8"
  }
 },
 "nbformat": 4,
 "nbformat_minor": 2
}
