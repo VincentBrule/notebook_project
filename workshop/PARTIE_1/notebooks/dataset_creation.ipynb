{
 "cells": [
  {
   "cell_type": "markdown",
   "metadata": {},
   "source": [
    "# <p style=\"text-align: center; font-style: strong;\">Partie 1.1 - Création d'un jeu de données</p>\n",
    "### <p style=\"text-align: center;\">(Almond 0.7.0, Scala 2.12.8)</p>\n"
   ]
  },
  {
   "cell_type": "markdown",
   "metadata": {},
   "source": [
    "#### Imports"
   ]
  },
  {
   "cell_type": "code",
   "execution_count": 1,
   "metadata": {},
   "outputs": [
    {
     "data": {
      "text/plain": [
       "\u001b[32mimport \u001b[39m\u001b[36mjava.nio.file.{ Files, Paths, Path }\n",
       "\u001b[39m\n",
       "\u001b[32mimport \u001b[39m\u001b[36mjava.io.ByteArrayOutputStream\n",
       "\u001b[39m\n",
       "\u001b[32mimport \u001b[39m\u001b[36mjava.awt.image.BufferedImage\n",
       "\u001b[39m\n",
       "\u001b[32mimport \u001b[39m\u001b[36mjava.awt.Color\n",
       "\u001b[39m\n",
       "\u001b[32mimport \u001b[39m\u001b[36mscala.util.Random\n",
       "\u001b[39m\n",
       "\u001b[32mimport \u001b[39m\u001b[36mjava.util.Base64\n",
       "\u001b[39m\n",
       "\u001b[32mimport \u001b[39m\u001b[36mjavax.imageio.ImageIO\u001b[39m"
      ]
     },
     "execution_count": 1,
     "metadata": {},
     "output_type": "execute_result"
    }
   ],
   "source": [
    "import java.nio.file.{ Files, Paths, Path }\n",
    "import java.io.ByteArrayOutputStream\n",
    "import java.awt.image.BufferedImage\n",
    "import java.awt.Color\n",
    "import scala.util.Random\n",
    "import java.util.Base64\n",
    "import javax.imageio.ImageIO"
   ]
  },
  {
   "cell_type": "markdown",
   "metadata": {},
   "source": [
    "## Parameters"
   ]
  },
  {
   "cell_type": "code",
   "execution_count": 2,
   "metadata": {},
   "outputs": [
    {
     "data": {
      "text/plain": [
       "\u001b[36mstep\u001b[39m: \u001b[32mInt\u001b[39m = \u001b[32m20\u001b[39m\n",
       "\u001b[36mwidthImage\u001b[39m: \u001b[32mInt\u001b[39m = \u001b[32m5\u001b[39m"
      ]
     },
     "execution_count": 2,
     "metadata": {},
     "output_type": "execute_result"
    }
   ],
   "source": [
    "val step = 20 // [step] between different pixels in the same image. \n",
    "              // if your first pixel has a random green value of 65, \n",
    "              // following pixels can only have value between [65 - step, 65 + step]\n",
    "val widthImage = 5"
   ]
  },
  {
   "cell_type": "markdown",
   "metadata": {},
   "source": [
    "## Utilities function"
   ]
  },
  {
   "cell_type": "code",
   "execution_count": 3,
   "metadata": {},
   "outputs": [
    {
     "data": {
      "text/plain": [
       "defined \u001b[32mfunction\u001b[39m \u001b[36mconvertBufferedImgToByteArray\u001b[39m\n",
       "defined \u001b[32mfunction\u001b[39m \u001b[36mgenerateRandomColor\u001b[39m\n",
       "defined \u001b[32mfunction\u001b[39m \u001b[36mgenerateRandomImage\u001b[39m\n",
       "defined \u001b[32mfunction\u001b[39m \u001b[36mgenerateBase64Image\u001b[39m\n",
       "defined \u001b[32mfunction\u001b[39m \u001b[36mdisplayColorButtons\u001b[39m\n",
       "defined \u001b[32mfunction\u001b[39m \u001b[36mdisplayUserInterface\u001b[39m"
      ]
     },
     "execution_count": 3,
     "metadata": {},
     "output_type": "execute_result"
    }
   ],
   "source": [
    "// Transform BufferedImage to a bytes Array\n",
    "def convertBufferedImgToByteArray(buffImg: BufferedImage): Array[Byte] = {\n",
    "    val baos = new ByteArrayOutputStream()\n",
    "    ImageIO.write(buffImg, \"png\", baos)\n",
    "    baos.toByteArray()\n",
    "}\n",
    "\n",
    "// Generate a new blue-green color \n",
    "// initialGreen = First green choice randomly\n",
    "// step = step to choose the new green color\n",
    "// rnd = random generator\n",
    "// RETURN a new green and blue value with \n",
    "// (green: Int = random value between [intialGreen - step, initialGreen + step], blue: Int = 255 - green)\n",
    "def generateRandomColor(initialGreen: Int, step: Int, rnd: Random): (Int, Int) = {\n",
    "    // handle border cases\n",
    "    val start = if (initialGreen - step < 0) 0 else initialGreen - step\n",
    "    val end = if (initialGreen + step > 255) 255 else initialGreen + step\n",
    "    val randomGreen = start + rnd.nextInt((end - start) + 1)\n",
    "    // new color is [r = 0, g = randomGreen, b = 255 - randomGreen]\n",
    "    (randomGreen, 255 - randomGreen)\n",
    "}\n",
    "\n",
    "// Generate a random image\n",
    "// size of the image, size = width = height\n",
    "// step = step to choose the new green color\n",
    "// rnd = random generator\n",
    "// RETURN random image: BufferedImage\n",
    "def generateRandomImage(size: Int, step: Int, rnd: Random, nbGreen: Int, nbBlue: Int): BufferedImage = {\n",
    "    val rand = new Random(System.nanoTime)\n",
    "    val image = new BufferedImage(size, size, BufferedImage.TYPE_INT_RGB)\n",
    "    val start = if ((nbBlue - nbGreen) > 0) 0 + ((nbBlue - nbGreen) * 30) else 0\n",
    "    val end = if ((nbGreen - nbBlue) > 0) 255 - ((nbGreen - nbBlue) * 30) else 255\n",
    "    val startGreen = if (start > 255) 255 else start\n",
    "    val endGreen = if (end < 0) 0 else end\n",
    "    val initialGreen = startGreen + rnd.nextInt((endGreen - startGreen) + 1)\n",
    "    val initialBlue = (255 - initialGreen)\n",
    "    for (x <- 0 until image.getWidth) {\n",
    "        for (y <- 0 until image.getHeight) {\n",
    "            // fill other with color depending from the initialGreen and the step variable\n",
    "            val (newGreen, newBlue) = generateRandomColor(initialGreen, step, rnd)\n",
    "            image.setRGB(x, y, new Color(0, newGreen, newBlue).getRGB)\n",
    "        }\n",
    "    }\n",
    "    image\n",
    "}\n",
    "\n",
    "// Generate random image and convert it to base64 representation\n",
    "// step = step to choose the new green color\n",
    "// rnd = random generator\n",
    "// RETURN String = base64 random image\n",
    "def generateBase64Image(size: Int, step: Int, rnd: Random, nbGreen: Int, nbBlue: Int): String = {\n",
    "    val buffImage: BufferedImage = generateRandomImage(size, step, rnd, nbGreen, nbBlue)\n",
    "    val byteImage: Array[Byte] = convertBufferedImgToByteArray(buffImage)\n",
    "    Base64.getEncoder.encodeToString(byteImage)\n",
    "}\n",
    "\n",
    "// display an interface to build the dataset\n",
    "def displayColorButtons(id: String) {\n",
    "    val htmlCode = Files.readString(Paths.get(\"../resources/interaction.html\"))\n",
    "    kernel.publish.display(almond.interpreter.api.DisplayData(Map(\"text/html\" -> htmlCode.replace(\"nameCommandToChange\", id))))\n",
    "}\n",
    "\n",
    "def displayUserInterface(fileResults: Path, rand: Random) {\n",
    "    var (nbGreen, nbBlue) = (0, 0)\n",
    "    val id = java.util.UUID.randomUUID().toString // random ID use to synchronize communication between JS code and Scala code\n",
    "    val writerResults = Files.newBufferedWriter(fileResults)\n",
    "    var isClosed = false\n",
    "    displayColorButtons(id)\n",
    "    kernel.publish.html(\"<img></img>\", id)\n",
    "    kernel.comm.receiver(id) { data =>\n",
    "        val img = generateBase64Image(widthImage, step, rand, nbGreen, nbBlue) // generate an image 10*10\n",
    "        val htmlToDisplay = data match {\n",
    "            case \"\"\"{\"content\":\"start\"}\"\"\" => s\"\"\"<img src=data:image/png;base64,$img style=\"image-rendering: pixelated; display: block;margin-left: auto;margin-right: auto;transform: translateX(-25%); height=\"100\" width=\"100\"\"></img>\"\"\"\n",
    "            case \"\"\"{\"content\":\"green\"}\"\"\" => {\n",
    "                nbGreen += 1\n",
    "                writerResults.write(\" green\\n\")\n",
    "                s\"\"\"<img src=data:image/png;base64,$img style=\"image-rendering: pixelated; display: block;margin-left: auto;margin-right: auto;transform: translateX(-25%);\" height=\"100\" width=\"100\"></img>\"\"\"\n",
    "            }\n",
    "            case \"\"\"{\"content\":\"blue\"}\"\"\" => {\n",
    "                nbBlue += 1\n",
    "                writerResults.write(\" blue\\n\")\n",
    "                s\"\"\"<img src=data:image/png;base64,$img style=\"image-rendering: pixelated; display: block;margin-left: auto;margin-right: auto;transform: translateX(-25%); height=\"100\" width=\"100\"\"></img>\"\"\"\n",
    "            }\n",
    "            case \"\"\"{\"content\":\"endGreen\"}\"\"\" => {\n",
    "                writerResults.write(\" green\")\n",
    "                writerResults.close()\n",
    "                isClosed = true\n",
    "                \"\"\"<h1 id=\"lastText\" style=\"display: block; text-align: center;\">Congratulation! You can go to next step &#128526</h1>\"\"\"\n",
    "            }\n",
    "            case \"\"\"{\"content\":\"endBlue\"}\"\"\" => {\n",
    "                writerResults.write(\" blue\")\n",
    "                writerResults.close()\n",
    "                isClosed = true\n",
    "                \"\"\"<h1 id=\"lastText\" style=\"display: block; text-align: center;\">Congratulation! You can go to next notebook &#128526</h1>\"\"\"\n",
    "            }\n",
    "\n",
    "            case _ => {\n",
    "                writerResults.close()\n",
    "                \"\"\"<h1 id=\"lastText\" style=\"display: block; text-align: center;\">An error occurs, please retry this cell.</h1>\"\"\"\n",
    "            }\n",
    "        }\n",
    "        if (!isClosed) { writerResults.write(img) }\n",
    "        kernel.publish.updateHtml(htmlToDisplay, id)\n",
    "    }\n",
    "}"
   ]
  },
  {
   "cell_type": "markdown",
   "metadata": {},
   "source": [
    "## Dataset generation"
   ]
  },
  {
   "cell_type": "code",
   "execution_count": 4,
   "metadata": {
    "scrolled": true
   },
   "outputs": [
    {
     "data": {
      "text/html": [
       "<script>\n",
       "    var comm = Jupyter.notebook.kernel.comm_manager.new_comm(\"e8462eb4-cc67-4049-acae-cc0f5bd0ed68\");\n",
       "    var green = 0; var blue = 0;\n",
       "    function addColor(color) {\n",
       "      if (green < 10 || blue < 10) {\n",
       "        if(color === 'green') {\n",
       "            document.getElementById(\"green\").innerHTML = ++green;\n",
       "            comm.send({\"content\":\"green\"});\n",
       "        }\n",
       "        else {\n",
       "            document.getElementById(\"blue\").innerHTML = ++blue;\n",
       "            comm.send({\"content\":\"blue\"});\n",
       "        }\n",
       "      }\n",
       "      else {\n",
       "          document.getElementById(\"green\").style.display = 'none';\n",
       "          document.getElementById(\"blue\").style.display = 'none';\n",
       "          color === 'green'? comm.send({\"content\":\"endGreen\"}) : comm.send({\"content\":\"endBlue\"});\n",
       "          comm.close();\n",
       "      }\n",
       "    }\n",
       "    function start() {\n",
       "       green = 0; blue = 0;\n",
       "       document.getElementById(\"green\").style.display = 'inline';\n",
       "       document.getElementById(\"blue\").style.display = 'inline';\n",
       "       document.getElementById(\"start\").style.display = 'none';\n",
       "       comm.send({\"content\": \"start\"});\n",
       "    }\n",
       "</script>\n",
       "<style>\n",
       "  .colorButton {\n",
       "    width: 100px;\n",
       "    height: 50px;\n",
       "    border-radius: 12px;\n",
       "    font-size: 20px;\n",
       "    color: white;\n",
       "    margin-right: 50px;\n",
       "    outline:none;\n",
       "    margin-bottom: 30px;\n",
       "  }\n",
       "  .colorButton:hover {\n",
       "      border: 3px solid lime;\n",
       "  }\n",
       "  .colorButton:active {\n",
       "      color: lime;\n",
       "      position: relative;\n",
       "      top: 1px;\n",
       "  }\n",
       "  #green {\n",
       "      background: green;\n",
       "  }\n",
       "  #blue {\n",
       "      background: blue;\n",
       "  }\n",
       "  #groupButton {\n",
       "      text-align: center;\n",
       "  }\n",
       "  #start {\n",
       "      background: gray;\n",
       "  }\n",
       "</style>\n",
       "<div id=\"groupButton\">\n",
       "    <button onClick=\"start()\"           id=\"start\" class=\"colorButton\">Start</button>\n",
       "    <button onClick=\"addColor('green')\" id=\"green\" class=\"colorButton\" style=\"display: none;\">0</button>\n",
       "    <button onClick=\"addColor('blue')\"  id=\"blue\"  class=\"colorButton\" style=\"display: none;\">0</button>\n",
       "</div>\n"
      ]
     },
     "metadata": {},
     "output_type": "display_data"
    },
    {
     "data": {
      "text/html": [
       "<h1 id=\"lastText\" style=\"display: block; text-align: center;\">Congratulation! You can go to next step &#128526</h1>"
      ]
     },
     "metadata": {},
     "output_type": "display_data"
    },
    {
     "data": {
      "text/plain": [
       "\u001b[36mrand\u001b[39m: \u001b[32mRandom\u001b[39m = scala.util.Random@127ae4a6"
      ]
     },
     "execution_count": 4,
     "metadata": {},
     "output_type": "execute_result"
    }
   ],
   "source": [
    "val rand = new Random(System.nanoTime) // random generator for random images\n",
    "displayUserInterface(Paths.get(\"../resources/labels.txt\"), rand)"
   ]
  }
 ],
 "metadata": {
  "kernelspec": {
   "display_name": "Scala",
   "language": "scala",
   "name": "scala"
  },
  "language_info": {
   "codemirror_mode": "text/x-scala",
   "file_extension": ".scala",
   "mimetype": "text/x-scala",
   "name": "scala",
   "nbconvert_exporter": "script",
   "version": "2.12.8"
  }
 },
 "nbformat": 4,
 "nbformat_minor": 2
}
