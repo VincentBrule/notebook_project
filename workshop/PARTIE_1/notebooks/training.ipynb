{
 "cells": [
  {
   "cell_type": "markdown",
   "metadata": {},
   "source": [
    "# <p style=\"text-align: center;, font-style: strong;\">Section 1.2 - Training Logistic Regression Model</p>\n",
    "### <p style=\"text-align: center;\">(Almond 0.9.1, Scala 2.12.10)</p>"
   ]
  },
  {
   "cell_type": "markdown",
   "metadata": {},
   "source": [
    "## Dependencie"
   ]
  },
  {
   "cell_type": "code",
   "execution_count": null,
   "metadata": {},
   "outputs": [],
   "source": [
    "import $ivy.`org.plotly-scala::plotly-almond:0.7.0`\n",
    "interp.load.ivy(coursierapi.Dependency.of(\"org.platanios\", \"tensorflow_2.12\", \"0.4.1\").withClassifier(\"linux-cpu-x86_64\"))"
   ]
  },
  {
   "cell_type": "markdown",
   "metadata": {},
   "source": [
    "## Imports"
   ]
  },
  {
   "cell_type": "code",
   "execution_count": null,
   "metadata": {},
   "outputs": [],
   "source": [
    "import plotly._, plotly.element._, plotly.layout._, plotly.Almond._\n",
    "\n",
    "import java.awt.{ Image => JImage }\n",
    "import java.io.{ ByteArrayOutputStream, ByteArrayInputStream}\n",
    "import scala.io.Source\n",
    "import java.awt.image.BufferedImage\n",
    "import java.awt.{ Color => JColor }\n",
    "import javax.imageio.ImageIO\n",
    "import scala.util.Random\n",
    "import java.util.Base64\n",
    "import org.platanios.tensorflow.api.tf\n",
    "import org.platanios.tensorflow.api.tensors.Tensor\n",
    "import org.platanios.tensorflow.api.core.Shape\n",
    "import org.platanios.tensorflow.api.core.client.{Session, FeedMap}"
   ]
  },
  {
   "cell_type": "code",
   "execution_count": null,
   "metadata": {},
   "outputs": [],
   "source": [
    "def transformDataIntoTensors(pathData: String, widthImage: Int): (Tensor[Float], Tensor[Int]) = {\n",
    "    val data = Source.fromFile(pathData).getLines.toList\n",
    "    val numImages = data.length\n",
    "    var dataNormalized: Array[Array[Double]] = Array.ofDim[Double](numImages, widthImage * widthImage)\n",
    "    var labels: List[Int] = List()\n",
    "\n",
    "    for ((line, index) <- data.zipWithIndex) {\n",
    "        val splitLine = line.split(\" \")\n",
    "        val base64Decoded: Array[Byte] = Base64.getDecoder.decode(splitLine.head)\n",
    "        val label = splitLine.last\n",
    "        val bufferedImage = ImageIO.read(new ByteArrayInputStream(base64Decoded))\n",
    "        labels = if (label == \"green\") 1 :: labels else 0 :: labels // 1 = green, 0 = blue\n",
    "        for (x <- 0 until bufferedImage.getWidth) {\n",
    "            for (y <- 0 until bufferedImage.getHeight) {\n",
    "                val color = bufferedImage.getRGB(x, y)\n",
    "                val green = ((color & 0x0000ff00) >> 8) / 255.0 // normalize\n",
    "                dataNormalized(index)(x * widthImage + y) = green\n",
    "            }\n",
    "        }\n",
    "    }\n",
    "\n",
    "    val labelsTensor = Tensor(labels.reverse).reshape(Shape(numImages))\n",
    "    val imagesTensor = Tensor(dataNormalized.flatten.toList).reshape(Shape(numImages, widthImage * widthImage)).toFloat // utiliser fill plus optimal je pense\n",
    "    val tensorHotEncoded = tf.oneHot(labelsTensor, 2, 1, 0) // 2 = nb dimensions, 1 = on value, 0 = off value\n",
    "    (imagesTensor, Session().run(fetches = tensorHotEncoded))\n",
    "}"
   ]
  },
  {
   "cell_type": "code",
   "execution_count": null,
   "metadata": {},
   "outputs": [],
   "source": [
    "// Transform BufferedImage to a bytes Array\n",
    "def convertBufferedImgToByteArray(buffImg: BufferedImage): Array[Byte] = {\n",
    "    val baos = new ByteArrayOutputStream()\n",
    "    ImageIO.write(buffImg, \"png\", baos)\n",
    "    baos.toByteArray()\n",
    "}\n",
    "\n",
    "def resize(img: Array[Byte], height: Int, width: Int): Array[Byte] = {\n",
    "    val bais = new ByteArrayInputStream(img)\n",
    "    val bufferedImg = ImageIO.read(bais)\n",
    "    val newImg = bufferedImg.getScaledInstance(width, height, JImage.SCALE_SMOOTH)\n",
    "    val resized = new BufferedImage(width, height, BufferedImage.TYPE_INT_RGB)\n",
    "    val g2d = resized.createGraphics()\n",
    "    g2d.drawImage(newImg, 0, 0, null)\n",
    "    g2d.dispose()\n",
    "    convertBufferedImgToByteArray(resized)\n",
    "}\n",
    "\n",
    "// Generate a new blue-green color \n",
    "// initialGreen = First green choice randomly\n",
    "// step = step to choose the new green color\n",
    "// rnd = random generator\n",
    "// RETURN a new green and blue value with \n",
    "// (green: Int = random value between [intialGreen - step, initialGreen + step], blue: Int = 255 - green)\n",
    "def generateRandomColor(initialGreen: Int, step: Int, rnd: Random): (Int, Int) = {\n",
    "    // handle border cases\n",
    "    val start = if (initialGreen - step < 0) 0 else initialGreen - step\n",
    "    val end = if (initialGreen + step > 255) 255 else initialGreen + step\n",
    "    val randomGreen = start + rnd.nextInt((end - start) + 1)\n",
    "    // new color is [r = 0, g = randomGreen, b = 255 - randomGreen]\n",
    "    (randomGreen, 255 - randomGreen)\n",
    "}\n",
    "\n",
    "// Generate a random image\n",
    "// size of the image, size = width = height\n",
    "// step = step to choose the new green color\n",
    "// rnd = random generator\n",
    "// RETURN random image: BufferedImage\n",
    "def generateRandomImage(size: Int, step: Int, rnd: Random): BufferedImage = {\n",
    "    val rand = new Random(System.nanoTime)\n",
    "    val image = new BufferedImage(size, size, BufferedImage.TYPE_INT_RGB)\n",
    "    val initialGreen = rnd.nextInt(256) // random green between [0, 255]\n",
    "    val initialBlue = (255 - initialGreen)\n",
    "    for (x <- 0 until image.getWidth) {\n",
    "        for (y <- 0 until image.getHeight) {\n",
    "            // fill other with color depending from the initialGreen and the step variable\n",
    "            val (newGreen, newBlue) = generateRandomColor(initialGreen, step, rnd)\n",
    "            image.setRGB(x, y, new JColor(0, newGreen, newBlue).getRGB)\n",
    "        }\n",
    "    }\n",
    "    image\n",
    "}\n",
    "\n",
    "// Generate random image and convert it to base64 representation\n",
    "// step = step to choose the new green color\n",
    "// rnd = random generator\n",
    "// RETURN String = base64 random image\n",
    "def generateBase64Image(size: Int, step: Int, rnd: Random): String = {\n",
    "    val buffImage: BufferedImage = generateRandomImage(size, step, rnd)\n",
    "    val byteImage: Array[Byte] = convertBufferedImgToByteArray(buffImage)\n",
    "    Base64.getEncoder.encodeToString(byteImage)\n",
    "}"
   ]
  },
  {
   "cell_type": "code",
   "execution_count": null,
   "metadata": {},
   "outputs": [],
   "source": [
    "// Visualize results\n",
    "def showAnswers(nameFile: String) {\n",
    "    for (line <- Source.fromFile(nameFile).getLines) {\n",
    "        val splitLine = line.split(\" \")\n",
    "        val base64Decoded: Array[Byte] = Base64.getDecoder.decode(splitLine.head)\n",
    "        val image = Image(resize(base64Decoded, 100, 100)).withFormat(Image.PNG).display\n",
    "        val label = splitLine.last\n",
    "        println(label)\n",
    "    }\n",
    "}"
   ]
  },
  {
   "cell_type": "markdown",
   "metadata": {},
   "source": [
    "# TRAINING"
   ]
  },
  {
   "cell_type": "markdown",
   "metadata": {},
   "source": [
    "### Parameters"
   ]
  },
  {
   "cell_type": "code",
   "execution_count": null,
   "metadata": {},
   "outputs": [],
   "source": [
    "val learningRate = 0.35f\n",
    "val epochs = 100 // number of `iteration` in this case\n",
    "val widthImage = 5\n",
    "val pathData = \"../resources/labels.txt\"\n",
    "val step = 20\n",
    "\n",
    "val classNumber = 2 // blue or green"
   ]
  },
  {
   "cell_type": "markdown",
   "metadata": {},
   "source": [
    "### Visualize"
   ]
  },
  {
   "cell_type": "code",
   "execution_count": null,
   "metadata": {},
   "outputs": [],
   "source": [
    "showAnswers(pathData)"
   ]
  },
  {
   "cell_type": "markdown",
   "metadata": {},
   "source": [
    "### Model Creation\n",
    "We use a softmax activation because we want multi-class classification (= blue or green and not both at the same time)"
   ]
  },
  {
   "cell_type": "code",
   "execution_count": null,
   "metadata": {},
   "outputs": [],
   "source": [
    "val sess = Session()\n",
    "val sizeImage = widthImage * widthImage // num features\n",
    "\n",
    "val imagesPlaceholder = tf.placeholder[Float](Shape(-1, sizeImage)) // = x\n",
    "val labelsPlaceholder = tf.placeholder[Float](Shape(-1, classNumber)) // = y_\n",
    "\n",
    "val W = tf.variable[Float](\"weights\", Shape(sizeImage, classNumber), tf.ZerosInitializer)\n",
    "val B = tf.variable[Float](\"biais\", Shape(classNumber), tf.ZerosInitializer)\n",
    "\n",
    "val labelsInfered = tf.add(tf.matmul(imagesPlaceholder, W), B) // W.x + B = (a.x + b) ... = Ŷ\n",
    "\n",
    "val cost = tf.mean(tf.softmaxCrossEntropy(logits = labelsInfered, labels = labelsPlaceholder))\n",
    "\n",
    "val optimizer = tf.train.GradientDescent(learningRate = learningRate).minimize(cost) \n",
    "\n",
    "sess.run(targets = tf.globalVariablesInitializer())"
   ]
  },
  {
   "cell_type": "markdown",
   "metadata": {},
   "source": [
    "### Training the model"
   ]
  },
  {
   "cell_type": "code",
   "execution_count": null,
   "metadata": {},
   "outputs": [],
   "source": [
    "val (imagesTensor, labelsTensor) = transformDataIntoTensors(pathData, widthImage)\n",
    "val correct_prediction = tf.mean(tf.equal(tf.argmax(input = labelsInfered, axes = -1, outputDataType = Int), tf.argmax(input = labelsPlaceholder, axes = -1, outputDataType = Int)).toFloat)\n",
    "\n",
    "val history = (1 to epochs).map { e => \n",
    "    val (costIte, accIte) = sess.run(fetches = (cost, correct_prediction), targets = optimizer, feeds = FeedMap(Map(imagesPlaceholder -> imagesTensor, labelsPlaceholder -> labelsTensor.toFloat)))\n",
    "    if (e % 10 == 0) { println(s\"Train loss at iteration $e = ${costIte.scalar}\\nAccuracy at iteration $e = ${accIte.scalar * 100}%\\n\") }\n",
    "    (costIte.scalar, accIte.scalar)\n",
    "}"
   ]
  },
  {
   "cell_type": "markdown",
   "metadata": {},
   "source": [
    "### Display cost"
   ]
  },
  {
   "cell_type": "code",
   "execution_count": null,
   "metadata": {},
   "outputs": [],
   "source": [
    "val weight = sess.run(fetches = W.value)\n",
    "val biais  = sess.run(fetches = B.value)"
   ]
  },
  {
   "cell_type": "code",
   "execution_count": null,
   "metadata": {},
   "outputs": [],
   "source": [
    "// If it doesn't display, remove checkpoints in the same folder and run all the notebook again\n",
    "{{\n",
    "val costHistory = Scatter(\n",
    "    (1 to epochs), \n",
    "    history.map(h => h._1),\n",
    "    name = \"Cost history\"\n",
    ")\n",
    "\n",
    "val accHistory = Scatter(\n",
    "    (1 to epochs), \n",
    "    history.map(h => h._2),\n",
    "    name = \"Accuracy history\"\n",
    ")\n",
    "\n",
    "val data = Seq(costHistory, accHistory)\n",
    "val layout = Layout(title = \"Cost and Accuracy history\")\n",
    "plot(data, layout)\n",
    "}}"
   ]
  },
  {
   "cell_type": "markdown",
   "metadata": {},
   "source": [
    "### Test our trained model"
   ]
  },
  {
   "cell_type": "code",
   "execution_count": null,
   "metadata": {},
   "outputs": [],
   "source": [
    "val rand = new Random(System.nanoTime) // random generator for random images\n",
    "\n",
    "for (i <- 0 to 20) {\n",
    "    val newData: Array[Double] = Array.ofDim[Double](sizeImage)\n",
    "    val img = generateBase64Image(widthImage, step, rand)\n",
    "    val base64Decoded: Array[Byte] = Base64.getDecoder.decode(img)\n",
    "    val bufferedImage = ImageIO.read(new ByteArrayInputStream(base64Decoded))\n",
    "    val image = Image(resize(base64Decoded, 100, 100)).withFormat(Image.PNG).display\n",
    "\n",
    "    for (x <- 0 until bufferedImage.getWidth) {\n",
    "        for (y <- 0 until bufferedImage.getHeight) {\n",
    "            val color = bufferedImage.getRGB(x, y)\n",
    "            val green = ((color & 0x0000ff00) >> 8) / 255.0 // normalize\n",
    "            newData(x * widthImage + y) = green\n",
    "        }\n",
    "    }\n",
    "\n",
    "\n",
    "    val imagesTensor = Tensor(newData.toList).reshape(Shape(1, sizeImage))\n",
    "    val labelDetected = sess.run(fetches = tf.argmax(tf.softmax(labelsInfered), -1, Int), feeds = FeedMap(Map(imagesPlaceholder -> imagesTensor.toFloat)))\n",
    "    if (labelDetected.scalar == 1) println(\"green\") else println(\"blue\")\n",
    "}"
   ]
  }
 ],
 "metadata": {
  "kernelspec": {
   "display_name": "Scala",
   "language": "scala",
   "name": "scala"
  },
  "language_info": {
   "codemirror_mode": "text/x-scala",
   "file_extension": ".scala",
   "mimetype": "text/x-scala",
   "name": "scala",
   "nbconvert_exporter": "script",
   "version": "2.12.10"
  }
 },
 "nbformat": 4,
 "nbformat_minor": 2
}
