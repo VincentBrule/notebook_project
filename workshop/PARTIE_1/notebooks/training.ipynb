{
 "cells": [
  {
   "cell_type": "markdown",
   "metadata": {},
   "source": [
    "# <p style=\"text-align: center;, font-style: strong;\">Partie 1.2 - Entraînement d'un modèle à régression logistique</p>\n"
   ]
  },
  {
   "cell_type": "markdown",
   "metadata": {},
   "source": [
    "## Dependencie"
   ]
  },
  {
   "cell_type": "code",
   "execution_count": 12,
   "metadata": {},
   "outputs": [],
   "source": [
    "interp.load.ivy(\n",
    "  coursier.Dependency(\n",
    "    module = coursier.Module(coursier.Organization(\"org.platanios\"), coursier.ModuleName(\"tensorflow_2.12\")),\n",
    "    version = \"0.4.1\",\n",
    "    // replace with linux-gpu-x86_64 on linux with nvidia gpu or with darwin-cpu-x86_64 on macOS \n",
    "    attributes = coursier.Attributes(coursier.Type(\"\"), coursier.Classifier(\"darwin-cpu-x86_64\"))\n",
    "  )\n",
    ")"
   ]
  },
  {
   "cell_type": "markdown",
   "metadata": {},
   "source": [
    "## Imports"
   ]
  },
  {
   "cell_type": "code",
   "execution_count": 13,
   "metadata": {},
   "outputs": [
    {
     "data": {
      "text/plain": [
       "\u001b[32mimport \u001b[39m\u001b[36mjava.awt.{ Image => JImage }\n",
       "\u001b[39m\n",
       "\u001b[32mimport \u001b[39m\u001b[36mjava.io.{ ByteArrayOutputStream, ByteArrayInputStream}\n",
       "\u001b[39m\n",
       "\u001b[32mimport \u001b[39m\u001b[36mscala.io.Source\n",
       "\u001b[39m\n",
       "\u001b[32mimport \u001b[39m\u001b[36mjava.awt.image.BufferedImage\n",
       "\u001b[39m\n",
       "\u001b[32mimport \u001b[39m\u001b[36mjava.awt.Color\n",
       "\u001b[39m\n",
       "\u001b[32mimport \u001b[39m\u001b[36mjavax.imageio.ImageIO\n",
       "\u001b[39m\n",
       "\u001b[32mimport \u001b[39m\u001b[36mscala.util.Random\n",
       "\u001b[39m\n",
       "\u001b[32mimport \u001b[39m\u001b[36mjava.util.Base64\n",
       "\u001b[39m\n",
       "\u001b[32mimport \u001b[39m\u001b[36morg.platanios.tensorflow.api.tf\n",
       "\u001b[39m\n",
       "\u001b[32mimport \u001b[39m\u001b[36morg.platanios.tensorflow.api.tensors.Tensor\n",
       "\u001b[39m\n",
       "\u001b[32mimport \u001b[39m\u001b[36morg.platanios.tensorflow.api.core.Shape\n",
       "\u001b[39m\n",
       "\u001b[32mimport \u001b[39m\u001b[36morg.platanios.tensorflow.api.core.client.{Session, FeedMap}\u001b[39m"
      ]
     },
     "execution_count": 13,
     "metadata": {},
     "output_type": "execute_result"
    }
   ],
   "source": [
    "import java.awt.{ Image => JImage }\n",
    "import java.io.{ ByteArrayOutputStream, ByteArrayInputStream}\n",
    "import scala.io.Source\n",
    "import java.awt.image.BufferedImage\n",
    "import java.awt.Color\n",
    "import javax.imageio.ImageIO\n",
    "import scala.util.Random\n",
    "import java.util.Base64\n",
    "import org.platanios.tensorflow.api.tf\n",
    "import org.platanios.tensorflow.api.tensors.Tensor\n",
    "import org.platanios.tensorflow.api.core.Shape\n",
    "import org.platanios.tensorflow.api.core.client.{Session, FeedMap}"
   ]
  },
  {
   "cell_type": "code",
   "execution_count": 14,
   "metadata": {},
   "outputs": [
    {
     "data": {
      "text/plain": [
       "defined \u001b[32mfunction\u001b[39m \u001b[36mtransformDataIntoTensors\u001b[39m"
      ]
     },
     "execution_count": 14,
     "metadata": {},
     "output_type": "execute_result"
    }
   ],
   "source": [
    "def transformDataIntoTensors(pathData: String, widthImage: Int): (Tensor[Float], Tensor[Int]) = {\n",
    "    val data = Source.fromFile(pathData).getLines.toList\n",
    "    val numImages = data.length\n",
    "    var dataNormalized: Array[Array[Double]] = Array.ofDim[Double](numImages, widthImage * widthImage)\n",
    "    var labels: List[Int] = List()\n",
    "\n",
    "    for ((line, index) <- data.zipWithIndex) {\n",
    "        val splitLine = line.split(\" \")\n",
    "        val base64Decoded: Array[Byte] = Base64.getDecoder.decode(splitLine.head)\n",
    "        val label = splitLine.last\n",
    "        val bufferedImage = ImageIO.read(new ByteArrayInputStream(base64Decoded))\n",
    "        labels = if (label == \"green\") 1 :: labels else 0 :: labels // 1 = green, 0 = blue\n",
    "        for (x <- 0 until bufferedImage.getWidth) {\n",
    "            for (y <- 0 until bufferedImage.getHeight) {\n",
    "                val color = bufferedImage.getRGB(x, y)\n",
    "                val green = ((color & 0x0000ff00) >> 8) / 255.0 // normalize\n",
    "                dataNormalized(index)(x * widthImage + y) = green\n",
    "            }\n",
    "        }\n",
    "    }\n",
    "\n",
    "    val labelsTensor = Tensor(labels.reverse).reshape(Shape(numImages))\n",
    "    val imagesTensor = Tensor(dataNormalized.flatten.toList).reshape(Shape(numImages, widthImage * widthImage)).toFloat // utiliser fill plus optimal je pense\n",
    "\n",
    "    val tensorHotEncoded = tf.oneHot(labelsTensor, 2, 1, 0) // 2 = nb dimensions, 1 = on value, 0 = off value\n",
    "    (imagesTensor, Session().run(fetches = tensorHotEncoded))\n",
    "}"
   ]
  },
  {
   "cell_type": "code",
   "execution_count": 15,
   "metadata": {},
   "outputs": [
    {
     "data": {
      "text/plain": [
       "defined \u001b[32mfunction\u001b[39m \u001b[36mconvertBufferedImgToByteArray\u001b[39m\n",
       "defined \u001b[32mfunction\u001b[39m \u001b[36mresize\u001b[39m\n",
       "defined \u001b[32mfunction\u001b[39m \u001b[36mgenerateRandomColor\u001b[39m\n",
       "defined \u001b[32mfunction\u001b[39m \u001b[36mgenerateRandomImage\u001b[39m\n",
       "defined \u001b[32mfunction\u001b[39m \u001b[36mgenerateBase64Image\u001b[39m"
      ]
     },
     "execution_count": 15,
     "metadata": {},
     "output_type": "execute_result"
    }
   ],
   "source": [
    "// Transform BufferedImage to a bytes Array\n",
    "def convertBufferedImgToByteArray(buffImg: BufferedImage): Array[Byte] = {\n",
    "    val baos = new ByteArrayOutputStream()\n",
    "    ImageIO.write(buffImg, \"png\", baos)\n",
    "    baos.toByteArray()\n",
    "}\n",
    "\n",
    "def resize(img: Array[Byte], height: Int, width: Int): Array[Byte] = {\n",
    "    val bais = new ByteArrayInputStream(img)\n",
    "    val bufferedImg = ImageIO.read(bais)\n",
    "    val newImg = bufferedImg.getScaledInstance(width, height, JImage.SCALE_SMOOTH)\n",
    "    val resized = new BufferedImage(width, height, BufferedImage.TYPE_INT_RGB)\n",
    "    val g2d = resized.createGraphics()\n",
    "    g2d.drawImage(newImg, 0, 0, null)\n",
    "    g2d.dispose()\n",
    "    convertBufferedImgToByteArray(resized)\n",
    "}\n",
    "\n",
    "// Generate a new blue-green color \n",
    "// initialGreen = First green choice randomly\n",
    "// step = step to choose the new green color\n",
    "// rnd = random generator\n",
    "// RETURN a new green and blue value with \n",
    "// (green: Int = random value between [intialGreen - step, initialGreen + step], blue: Int = 255 - green)\n",
    "def generateRandomColor(initialGreen: Int, step: Int, rnd: Random): (Int, Int) = {\n",
    "    // handle border cases\n",
    "    val start = if (initialGreen - step < 0) 0 else initialGreen - step\n",
    "    val end = if (initialGreen + step > 255) 255 else initialGreen + step\n",
    "    val randomGreen = start + rnd.nextInt((end - start) + 1)\n",
    "    // new color is [r = 0, g = randomGreen, b = 255 - randomGreen]\n",
    "    (randomGreen, 255 - randomGreen)\n",
    "}\n",
    "\n",
    "// Generate a random image\n",
    "// size of the image, size = width = height\n",
    "// step = step to choose the new green color\n",
    "// rnd = random generator\n",
    "// RETURN random image: BufferedImage\n",
    "def generateRandomImage(size: Int, step: Int, rnd: Random): BufferedImage = {\n",
    "    val rand = new Random(System.nanoTime)\n",
    "    val image = new BufferedImage(size, size, BufferedImage.TYPE_INT_RGB)\n",
    "    val initialGreen = rnd.nextInt(256) // random green between [0, 255]\n",
    "    val initialBlue = (255 - initialGreen)\n",
    "    for (x <- 0 until image.getWidth) {\n",
    "        for (y <- 0 until image.getHeight) {\n",
    "            // fill other with color depending from the initialGreen and the step variable\n",
    "            val (newGreen, newBlue) = generateRandomColor(initialGreen, step, rnd)\n",
    "            image.setRGB(x, y, new Color(0, newGreen, newBlue).getRGB)\n",
    "        }\n",
    "    }\n",
    "    image\n",
    "}\n",
    "\n",
    "// Generate random image and convert it to base64 representation\n",
    "// step = step to choose the new green color\n",
    "// rnd = random generator\n",
    "// RETURN String = base64 random image\n",
    "def generateBase64Image(size: Int, step: Int, rnd: Random): String = {\n",
    "    val buffImage: BufferedImage = generateRandomImage(size, step, rnd)\n",
    "    val byteImage: Array[Byte] = convertBufferedImgToByteArray(buffImage)\n",
    "    Base64.getEncoder.encodeToString(byteImage)\n",
    "}"
   ]
  },
  {
   "cell_type": "code",
   "execution_count": 16,
   "metadata": {},
   "outputs": [
    {
     "data": {
      "text/plain": [
       "defined \u001b[32mfunction\u001b[39m \u001b[36mshowAnswers\u001b[39m"
      ]
     },
     "execution_count": 16,
     "metadata": {},
     "output_type": "execute_result"
    }
   ],
   "source": [
    "// Visualize results\n",
    "def showAnswers(nameFile: String) {\n",
    "    for (line <- Source.fromFile(nameFile).getLines) {\n",
    "        val splitLine = line.split(\" \")\n",
    "        val base64Decoded: Array[Byte] = Base64.getDecoder.decode(splitLine.head)\n",
    "        val image = Image(resize(base64Decoded, 100, 100)).withFormat(Image.PNG).display\n",
    "        val label = splitLine.last\n",
    "        println(label)\n",
    "    }\n",
    "}"
   ]
  },
  {
   "cell_type": "markdown",
   "metadata": {},
   "source": [
    "# TRAINING"
   ]
  },
  {
   "cell_type": "markdown",
   "metadata": {},
   "source": [
    "### Parameters"
   ]
  },
  {
   "cell_type": "code",
   "execution_count": 17,
   "metadata": {},
   "outputs": [
    {
     "data": {
      "text/plain": [
       "\u001b[36mlearningRate\u001b[39m: \u001b[32mFloat\u001b[39m = \u001b[32m0.35F\u001b[39m\n",
       "\u001b[36mepochs\u001b[39m: \u001b[32mInt\u001b[39m = \u001b[32m100\u001b[39m\n",
       "\u001b[36mwidthImage\u001b[39m: \u001b[32mInt\u001b[39m = \u001b[32m5\u001b[39m\n",
       "\u001b[36mpathData\u001b[39m: \u001b[32mString\u001b[39m = \u001b[32m\"../resources/labels.txt\"\u001b[39m\n",
       "\u001b[36mstep\u001b[39m: \u001b[32mInt\u001b[39m = \u001b[32m20\u001b[39m\n",
       "\u001b[36mclassNumber\u001b[39m: \u001b[32mInt\u001b[39m = \u001b[32m2\u001b[39m"
      ]
     },
     "execution_count": 17,
     "metadata": {},
     "output_type": "execute_result"
    }
   ],
   "source": [
    "val learningRate = 0.35f\n",
    "val epochs = 100 // number of `iteration` in this case\n",
    "val widthImage = 5\n",
    "val pathData = \"../resources/labels.txt\"\n",
    "val step = 20\n",
    "\n",
    "val classNumber = 2 // blue or green"
   ]
  },
  {
   "cell_type": "markdown",
   "metadata": {},
   "source": [
    "### Visualize"
   ]
  },
  {
   "cell_type": "code",
   "execution_count": 18,
   "metadata": {},
   "outputs": [
    {
     "data": {
      "image/png": "[encoded data removed]"
     },
     "metadata": {},
     "output_type": "display_data"
    },
    {
     "name": "stdout",
     "output_type": "stream",
     "text": [
      "blue\n"
     ]
    },
    {
     "data": {
      "image/png": "[encoded data removed]"
     },
     "metadata": {},
     "output_type": "display_data"
    },
    {
     "name": "stdout",
     "output_type": "stream",
     "text": [
      "blue\n"
     ]
    },
    {
     "data": {
      "image/png": "[encoded data removed]"
     },
     "metadata": {},
     "output_type": "display_data"
    },
    {
     "name": "stdout",
     "output_type": "stream",
     "text": [
      "green\n"
     ]
    },
    {
     "data": {
      "image/png": "[encoded data removed]"
     },
     "metadata": {},
     "output_type": "display_data"
    },
    {
     "name": "stdout",
     "output_type": "stream",
     "text": [
      "green\n"
     ]
    },
    {
     "data": {
      "image/png": "[encoded data removed]"
     },
     "metadata": {},
     "output_type": "display_data"
    },
    {
     "name": "stdout",
     "output_type": "stream",
     "text": [
      "blue\n"
     ]
    },
    {
     "data": {
      "image/png": "[encoded data removed]"
     },
     "metadata": {},
     "output_type": "display_data"
    },
    {
     "name": "stdout",
     "output_type": "stream",
     "text": [
      "green\n"
     ]
    },
    {
     "data": {
      "image/png": "[encoded data removed]"
     },
     "metadata": {},
     "output_type": "display_data"
    },
    {
     "name": "stdout",
     "output_type": "stream",
     "text": [
      "blue\n"
     ]
    },
    {
     "data": {
      "image/png": "[encoded data removed]"
     },
     "metadata": {},
     "output_type": "display_data"
    },
    {
     "name": "stdout",
     "output_type": "stream",
     "text": [
      "blue\n"
     ]
    },
    {
     "data": {
      "image/png": "[encoded data removed]"
     },
     "metadata": {},
     "output_type": "display_data"
    },
    {
     "name": "stdout",
     "output_type": "stream",
     "text": [
      "green\n"
     ]
    },
    {
     "data": {
      "image/png": "[encoded data removed]"
     },
     "metadata": {},
     "output_type": "display_data"
    },
    {
     "name": "stdout",
     "output_type": "stream",
     "text": [
      "green\n"
     ]
    },
    {
     "data": {
      "image/png": "[encoded data removed]"
     },
     "metadata": {},
     "output_type": "display_data"
    },
    {
     "name": "stdout",
     "output_type": "stream",
     "text": [
      "green\n"
     ]
    },
    {
     "data": {
      "image/png": "[encoded data removed]"
     },
     "metadata": {},
     "output_type": "display_data"
    },
    {
     "name": "stdout",
     "output_type": "stream",
     "text": [
      "green\n"
     ]
    },
    {
     "data": {
      "image/png": "[encoded data removed]"
     },
     "metadata": {},
     "output_type": "display_data"
    },
    {
     "name": "stdout",
     "output_type": "stream",
     "text": [
      "green\n"
     ]
    },
    {
     "data": {
      "image/png": "[encoded data removed]"
     },
     "metadata": {},
     "output_type": "display_data"
    },
    {
     "name": "stdout",
     "output_type": "stream",
     "text": [
      "blue\n"
     ]
    },
    {
     "data": {
      "image/png": "[encoded data removed]"
     },
     "metadata": {},
     "output_type": "display_data"
    },
    {
     "name": "stdout",
     "output_type": "stream",
     "text": [
      "blue\n"
     ]
    },
    {
     "data": {
      "image/png": "[encoded data removed]"
     },
     "metadata": {},
     "output_type": "display_data"
    },
    {
     "name": "stdout",
     "output_type": "stream",
     "text": [
      "blue\n"
     ]
    },
    {
     "data": {
      "image/png": "[encoded data removed]"
     },
     "metadata": {},
     "output_type": "display_data"
    },
    {
     "name": "stdout",
     "output_type": "stream",
     "text": [
      "green\n"
     ]
    },
    {
     "data": {
      "image/png": "[encoded data removed]"
     },
     "metadata": {},
     "output_type": "display_data"
    },
    {
     "name": "stdout",
     "output_type": "stream",
     "text": [
      "blue\n"
     ]
    },
    {
     "data": {
      "image/png": "[encoded data removed]"
     },
     "metadata": {},
     "output_type": "display_data"
    },
    {
     "name": "stdout",
     "output_type": "stream",
     "text": [
      "blue\n"
     ]
    },
    {
     "data": {
      "image/png": "[encoded data removed]"
     },
     "metadata": {},
     "output_type": "display_data"
    },
    {
     "name": "stdout",
     "output_type": "stream",
     "text": [
      "blue\n"
     ]
    },
    {
     "data": {
      "image/png": "[encoded data removed]"
     },
     "metadata": {},
     "output_type": "display_data"
    },
    {
     "name": "stdout",
     "output_type": "stream",
     "text": [
      "blue\n"
     ]
    },
    {
     "data": {
      "image/png": "[encoded data removed]"
     },
     "metadata": {},
     "output_type": "display_data"
    },
    {
     "name": "stdout",
     "output_type": "stream",
     "text": [
      "blue\n"
     ]
    },
    {
     "data": {
      "image/png": "[encoded data removed]"
     },
     "metadata": {},
     "output_type": "display_data"
    },
    {
     "name": "stdout",
     "output_type": "stream",
     "text": [
      "green\n"
     ]
    },
    {
     "data": {
      "image/png": "[encoded data removed]"
     },
     "metadata": {},
     "output_type": "display_data"
    },
    {
     "name": "stdout",
     "output_type": "stream",
     "text": [
      "green\n"
     ]
    }
   ],
   "source": [
    "showAnswers(pathData)"
   ]
  },
  {
   "cell_type": "markdown",
   "metadata": {},
   "source": [
    "### Model Creation"
   ]
  },
  {
   "cell_type": "code",
   "execution_count": 19,
   "metadata": {},
   "outputs": [
    {
     "data": {
      "text/plain": [
       "\u001b[36msess\u001b[39m: \u001b[32mSession\u001b[39m = org.platanios.tensorflow.api.core.client.Session@175f8d67\n",
       "\u001b[36msizeImage\u001b[39m: \u001b[32mInt\u001b[39m = \u001b[32m25\u001b[39m\n",
       "\u001b[36mimagesPlaceholder\u001b[39m: \u001b[32morg\u001b[39m.\u001b[32mplatanios\u001b[39m.\u001b[32mtensorflow\u001b[39m.\u001b[32mapi\u001b[39m.\u001b[32mops\u001b[39m.\u001b[32mOutput\u001b[39m[\u001b[32mFloat\u001b[39m] = \u001b[33mOutput\u001b[39m(\n",
       "  Placeholder_2,\n",
       "  \u001b[32m0\u001b[39m\n",
       ")\n",
       "\u001b[36mlabelsPlaceholder\u001b[39m: \u001b[32morg\u001b[39m.\u001b[32mplatanios\u001b[39m.\u001b[32mtensorflow\u001b[39m.\u001b[32mapi\u001b[39m.\u001b[32mops\u001b[39m.\u001b[32mOutput\u001b[39m[\u001b[32mFloat\u001b[39m] = \u001b[33mOutput\u001b[39m(\n",
       "  Placeholder_3,\n",
       "  \u001b[32m0\u001b[39m\n",
       ")\n",
       "\u001b[36mW\u001b[39m: \u001b[32mtf\u001b[39m.\u001b[32mVariable\u001b[39m[\u001b[32mFloat\u001b[39m] = \u001b[33mVariable\u001b[39m(\n",
       "  \u001b[33mDataType\u001b[39m(\u001b[32m\"Float\"\u001b[39m, \u001b[32m1\u001b[39m, \u001b[33mSome\u001b[39m(\u001b[32m4\u001b[39m), DT_FLOAT),\n",
       "  \u001b[33mOutput\u001b[39m(weights, \u001b[32m0\u001b[39m),\n",
       "  weights/InitializationAssign,\n",
       "  \u001b[32mnull\u001b[39m,\n",
       "  \u001b[33mOutput\u001b[39m(weights/Read/ReadVariable, \u001b[32m0\u001b[39m)\n",
       ")\n",
       "\u001b[36mB\u001b[39m: \u001b[32mtf\u001b[39m.\u001b[32mVariable\u001b[39m[\u001b[32mFloat\u001b[39m] = \u001b[33mVariable\u001b[39m(\n",
       "  \u001b[33mDataType\u001b[39m(\u001b[32m\"Float\"\u001b[39m, \u001b[32m1\u001b[39m, \u001b[33mSome\u001b[39m(\u001b[32m4\u001b[39m), DT_FLOAT),\n",
       "  \u001b[33mOutput\u001b[39m(biais, \u001b[32m0\u001b[39m),\n",
       "  biais/InitializationAssign,\n",
       "  \u001b[32mnull\u001b[39m,\n",
       "  \u001b[33mOutput\u001b[39m(biais/Read/ReadVariable, \u001b[32m0\u001b[39m)\n",
       ")\n",
       "\u001b[36mlabelsInfered\u001b[39m: \u001b[32morg\u001b[39m.\u001b[32mplatanios\u001b[39m.\u001b[32mtensorflow\u001b[39m.\u001b[32mapi\u001b[39m.\u001b[32mops\u001b[39m.\u001b[32mOutput\u001b[39m[\u001b[32mFloat\u001b[39m] = \u001b[33mOutput\u001b[39m(\n",
       "  Sigmoid_1,\n",
       "  \u001b[32m0\u001b[39m\n",
       ")\n",
       "\u001b[36mcost\u001b[39m: \u001b[32morg\u001b[39m.\u001b[32mplatanios\u001b[39m.\u001b[32mtensorflow\u001b[39m.\u001b[32mapi\u001b[39m.\u001b[32mops\u001b[39m.\u001b[32mOutput\u001b[39m[\u001b[32mFloat\u001b[39m] = \u001b[33mOutput\u001b[39m(\n",
       "  SigmoidCrossEntropy_1/Add,\n",
       "  \u001b[32m0\u001b[39m\n",
       ")\n",
       "\u001b[36moptimizer\u001b[39m: \u001b[32morg\u001b[39m.\u001b[32mplatanios\u001b[39m.\u001b[32mtensorflow\u001b[39m.\u001b[32mapi\u001b[39m.\u001b[32mops\u001b[39m.\u001b[32mpackage\u001b[39m.\u001b[32mUntypedOp\u001b[39m = Minimize_1/Finish\n",
       "\u001b[36mres18_9\u001b[39m: \u001b[32morg\u001b[39m.\u001b[32mplatanios\u001b[39m.\u001b[32mtensorflow\u001b[39m.\u001b[32mapi\u001b[39m.\u001b[32mimplicits\u001b[39m.\u001b[32mhelpers\u001b[39m.\u001b[32mOutputToTensor\u001b[39m.\u001b[32m<refinement>\u001b[39m.this.type.\u001b[32mV\u001b[39m = \u001b[33mList\u001b[39m()\n",
       "\u001b[36mimagesTensor\u001b[39m: \u001b[32mTensor\u001b[39m[\u001b[32mFloat\u001b[39m] = Tensor[Float, [24, 25]]\n",
       "\u001b[36mlabelsTensor\u001b[39m: \u001b[32mTensor\u001b[39m[\u001b[32mInt\u001b[39m] = Tensor[Int, [24, 2]]"
      ]
     },
     "execution_count": 19,
     "metadata": {},
     "output_type": "execute_result"
    }
   ],
   "source": [
    "val sess = Session()\n",
    "val sizeImage = widthImage * widthImage\n",
    "\n",
    "val imagesPlaceholder = tf.placeholder[Float](Shape(-1, sizeImage))\n",
    "val labelsPlaceholder = tf.placeholder[Float](Shape(-1, classNumber))\n",
    "\n",
    "val W = tf.variable[Float](\"weights\", Shape(sizeImage, classNumber), tf.ZerosInitializer)\n",
    "val B = tf.variable[Float](\"biais\", Shape(classNumber), tf.ZerosInitializer)\n",
    "\n",
    "val labelsInfered = tf.sigmoid(tf.add(tf.matmul(imagesPlaceholder, W), B)) // model\n",
    "\n",
    "val cost = tf.sigmoidCrossEntropy(logits = labelsInfered, labels = labelsPlaceholder) \n",
    "\n",
    "val optimizer = tf.train.GradientDescent(learningRate = learningRate).minimize(cost) \n",
    "\n",
    "sess.run(targets = tf.globalVariablesInitializer())\n",
    "\n",
    "val (imagesTensor, labelsTensor) = transformDataIntoTensors(pathData, widthImage)"
   ]
  },
  {
   "cell_type": "markdown",
   "metadata": {},
   "source": [
    "### Training the model"
   ]
  },
  {
   "cell_type": "code",
   "execution_count": 20,
   "metadata": {},
   "outputs": [
    {
     "name": "stdout",
     "output_type": "stream",
     "text": [
      "Final accuracy = 1.0\n"
     ]
    },
    {
     "data": {
      "text/plain": [
       "\u001b[36mcorrect_prediction\u001b[39m: \u001b[32morg\u001b[39m.\u001b[32mplatanios\u001b[39m.\u001b[32mtensorflow\u001b[39m.\u001b[32mapi\u001b[39m.\u001b[32mops\u001b[39m.\u001b[32mOutput\u001b[39m[\u001b[32mBoolean\u001b[39m] = \u001b[33mOutput\u001b[39m(\n",
       "  Equal_1,\n",
       "  \u001b[32m0\u001b[39m\n",
       ")\n",
       "\u001b[36maccuracy\u001b[39m: \u001b[32mTensor\u001b[39m[\u001b[32mFloat\u001b[39m] = Tensor[Float, []]"
      ]
     },
     "execution_count": 20,
     "metadata": {},
     "output_type": "execute_result"
    }
   ],
   "source": [
    "for (e <- 1 to epochs) {\n",
    "    sess.run(targets = optimizer, feeds = FeedMap(Map(imagesPlaceholder -> imagesTensor, labelsPlaceholder -> labelsTensor.toFloat))) \n",
    "}\n",
    "\n",
    "val correct_prediction = tf.equal(tf.argmax(input = labelsInfered, axes = 1, outputDataType = Int), tf.argmax(input = labelsPlaceholder, axes = 1, outputDataType = Int))\n",
    "val accuracy = sess.run(fetches = tf.mean(correct_prediction.toFloat), feeds = FeedMap(Map(imagesPlaceholder -> imagesTensor, labelsPlaceholder -> labelsTensor.toFloat))) \n",
    "println(s\"Final accuracy = ${accuracy.scalar}\")\n"
   ]
  },
  {
   "cell_type": "markdown",
   "metadata": {},
   "source": [
    "### Take back results from training"
   ]
  },
  {
   "cell_type": "code",
   "execution_count": 21,
   "metadata": {},
   "outputs": [
    {
     "data": {
      "text/plain": [
       "\u001b[36mweight\u001b[39m: \u001b[32mTensor\u001b[39m[\u001b[32mFloat\u001b[39m] = Tensor[Float, [25, 2]]\n",
       "\u001b[36mbiais\u001b[39m: \u001b[32mTensor\u001b[39m[\u001b[32mFloat\u001b[39m] = Tensor[Float, [2]]\n",
       "\u001b[36mres20_2\u001b[39m: \u001b[32mTensor\u001b[39m[\u001b[32mFloat\u001b[39m] = Tensor[Float, [24, 25]]"
      ]
     },
     "execution_count": 21,
     "metadata": {},
     "output_type": "execute_result"
    }
   ],
   "source": [
    "val weight = sess.run(fetches = W.value)\n",
    "val biais = sess.run(fetches = B.value)\n",
    "imagesTensor"
   ]
  },
  {
   "cell_type": "markdown",
   "metadata": {},
   "source": [
    "### Test our trained model"
   ]
  },
  {
   "cell_type": "code",
   "execution_count": 22,
   "metadata": {},
   "outputs": [
    {
     "data": {
      "image/png": "[encoded data removed]"
     },
     "metadata": {},
     "output_type": "display_data"
    },
    {
     "name": "stdout",
     "output_type": "stream",
     "text": [
      "blue\n"
     ]
    },
    {
     "data": {
      "image/png": "[encoded data removed]"
     },
     "metadata": {},
     "output_type": "display_data"
    },
    {
     "name": "stdout",
     "output_type": "stream",
     "text": [
      "blue\n"
     ]
    },
    {
     "data": {
      "image/png": "[encoded data removed]"
     },
     "metadata": {},
     "output_type": "display_data"
    },
    {
     "name": "stdout",
     "output_type": "stream",
     "text": [
      "blue\n"
     ]
    },
    {
     "data": {
      "image/png": "[encoded data removed]"
     },
     "metadata": {},
     "output_type": "display_data"
    },
    {
     "name": "stdout",
     "output_type": "stream",
     "text": [
      "green\n"
     ]
    },
    {
     "data": {
      "image/png": "[encoded data removed]"
     },
     "metadata": {},
     "output_type": "display_data"
    },
    {
     "name": "stdout",
     "output_type": "stream",
     "text": [
      "blue\n"
     ]
    },
    {
     "data": {
      "image/png": "[encoded data removed]"
     },
     "metadata": {},
     "output_type": "display_data"
    },
    {
     "name": "stdout",
     "output_type": "stream",
     "text": [
      "green\n"
     ]
    },
    {
     "data": {
      "image/png": "[encoded data removed]"
     },
     "metadata": {},
     "output_type": "display_data"
    },
    {
     "name": "stdout",
     "output_type": "stream",
     "text": [
      "green\n"
     ]
    },
    {
     "data": {
      "image/png": "[encoded data removed]"
     },
     "metadata": {},
     "output_type": "display_data"
    },
    {
     "name": "stdout",
     "output_type": "stream",
     "text": [
      "green\n"
     ]
    },
    {
     "data": {
      "image/png": "[encoded data removed]"
     },
     "metadata": {},
     "output_type": "display_data"
    },
    {
     "name": "stdout",
     "output_type": "stream",
     "text": [
      "green\n"
     ]
    },
    {
     "data": {
      "image/png": "[encoded data removed]"
     },
     "metadata": {},
     "output_type": "display_data"
    },
    {
     "name": "stdout",
     "output_type": "stream",
     "text": [
      "blue\n"
     ]
    },
    {
     "data": {
      "image/png": "[encoded data removed]"
     },
     "metadata": {},
     "output_type": "display_data"
    },
    {
     "name": "stdout",
     "output_type": "stream",
     "text": [
      "green\n"
     ]
    },
    {
     "data": {
      "image/png": "[encoded data removed]"
     },
     "metadata": {},
     "output_type": "display_data"
    },
    {
     "name": "stdout",
     "output_type": "stream",
     "text": [
      "blue\n"
     ]
    },
    {
     "data": {
      "image/png": "[encoded data removed]"
     },
     "metadata": {},
     "output_type": "display_data"
    },
    {
     "name": "stdout",
     "output_type": "stream",
     "text": [
      "green\n"
     ]
    },
    {
     "data": {
      "image/png": "[encoded data removed]"
     },
     "metadata": {},
     "output_type": "display_data"
    },
    {
     "name": "stdout",
     "output_type": "stream",
     "text": [
      "blue\n"
     ]
    },
    {
     "data": {
      "image/png": "[encoded data removed]"
     },
     "metadata": {},
     "output_type": "display_data"
    },
    {
     "name": "stdout",
     "output_type": "stream",
     "text": [
      "blue\n"
     ]
    },
    {
     "data": {
      "image/png": "[encoded data removed]"
     },
     "metadata": {},
     "output_type": "display_data"
    },
    {
     "name": "stdout",
     "output_type": "stream",
     "text": [
      "green\n"
     ]
    },
    {
     "data": {
      "image/png": "[encoded data removed]"
     },
     "metadata": {},
     "output_type": "display_data"
    },
    {
     "name": "stdout",
     "output_type": "stream",
     "text": [
      "green\n"
     ]
    },
    {
     "data": {
      "image/png": "[encoded data removed]"
     },
     "metadata": {},
     "output_type": "display_data"
    },
    {
     "name": "stdout",
     "output_type": "stream",
     "text": [
      "green\n"
     ]
    },
    {
     "data": {
      "image/png": "[encoded data removed]"
     },
     "metadata": {},
     "output_type": "display_data"
    },
    {
     "name": "stdout",
     "output_type": "stream",
     "text": [
      "green\n"
     ]
    },
    {
     "data": {
      "image/png": "[encoded data removed]"
     },
     "metadata": {},
     "output_type": "display_data"
    },
    {
     "name": "stdout",
     "output_type": "stream",
     "text": [
      "blue\n"
     ]
    },
    {
     "data": {
      "image/png": "[encoded data removed]"
     },
     "metadata": {},
     "output_type": "display_data"
    },
    {
     "name": "stdout",
     "output_type": "stream",
     "text": [
      "blue\n"
     ]
    },
    {
     "data": {
      "text/plain": [
       "\u001b[36mrand\u001b[39m: \u001b[32mRandom\u001b[39m = scala.util.Random@58c7e096"
      ]
     },
     "execution_count": 22,
     "metadata": {},
     "output_type": "execute_result"
    }
   ],
   "source": [
    "val rand = new Random(System.nanoTime) // random generator for random images\n",
    "\n",
    "for (i <- 0 to 20) {\n",
    "    val newData: Array[Double] = Array.ofDim[Double](sizeImage)\n",
    "    val img = generateBase64Image(widthImage, step, rand)\n",
    "    val base64Decoded: Array[Byte] = Base64.getDecoder.decode(img)\n",
    "    val bufferedImage = ImageIO.read(new ByteArrayInputStream(base64Decoded))\n",
    "    val image = Image(resize(base64Decoded, 100, 100)).withFormat(Image.PNG).display\n",
    "\n",
    "    for (x <- 0 until bufferedImage.getWidth) {\n",
    "        for (y <- 0 until bufferedImage.getHeight) {\n",
    "            val color = bufferedImage.getRGB(x, y)\n",
    "            val green = ((color & 0x0000ff00) >> 8) / 255.0 // normalize\n",
    "            newData(x * widthImage + y) = green\n",
    "        }\n",
    "    }\n",
    "\n",
    "\n",
    "    val imagesTensor = Tensor(newData.toList).reshape(Shape(1, sizeImage))\n",
    "    val prediction = sess.run(fetches = labelsInfered, feeds = FeedMap(Map(imagesPlaceholder -> imagesTensor.toFloat)))\n",
    "    val labelDetected = Session().run(fetches = tf.argmax(prediction, 1, Int))\n",
    "    if (labelDetected.scalar == 1) println(\"green\") else println(\"blue\")\n",
    "}"
   ]
  }
 ],
 "metadata": {
  "kernelspec": {
   "display_name": "Scala",
   "language": "scala",
   "name": "scala"
  },
  "language_info": {
   "codemirror_mode": "text/x-scala",
   "file_extension": ".scala",
   "mimetype": "text/x-scala",
   "name": "scala",
   "nbconvert_exporter": "script",
   "version": "2.12.8"
  }
 },
 "nbformat": 4,
 "nbformat_minor": 2
}
