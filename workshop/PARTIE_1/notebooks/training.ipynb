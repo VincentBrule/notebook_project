{
 "cells": [
  {
   "cell_type": "markdown",
   "metadata": {},
   "source": [
    "# <p style=\"text-align: center;, font-style: strong;\">Partie 1.2 - Entraînement d'un modèle à régression logistique</p>\n",
    "### <p style=\"text-align: center;\">(Almond 0.8.1, Scala 2.12.8)</p>\n",
    "\n",
    "Question : Softmax équivalent à Sigmoid dans notre cas de figure. J'ai utilisé Softmax pour montrer hot encoding et montrer qu'on peut rajouter des couleurs simplement. Reste-t-on dans ce choix ?"
   ]
  },
  {
   "cell_type": "markdown",
   "metadata": {},
   "source": [
    "## Dependencie"
   ]
  },
  {
   "cell_type": "code",
   "execution_count": 1,
   "metadata": {},
   "outputs": [
    {
     "data": {
      "text/plain": [
       "\u001b[32mimport \u001b[39m\u001b[36m$ivy.$                                      \n",
       "\u001b[39m"
      ]
     },
     "execution_count": 1,
     "metadata": {},
     "output_type": "execute_result"
    }
   ],
   "source": [
    "import $ivy.`org.plotly-scala::plotly-almond:0.7.0`\n",
    "interp.load.ivy(coursierapi.Dependency.of(\"org.platanios\", \"tensorflow_2.12\", \"0.4.1\").withClassifier(\"darwin-cpu-x86_64\"))"
   ]
  },
  {
   "cell_type": "markdown",
   "metadata": {},
   "source": [
    "## Imports"
   ]
  },
  {
   "cell_type": "code",
   "execution_count": 2,
   "metadata": {},
   "outputs": [
    {
     "data": {
      "text/plain": [
       "\u001b[32mimport \u001b[39m\u001b[36mplotly._, plotly.element._, plotly.layout._, plotly.Almond._\n",
       "\n",
       "\u001b[39m\n",
       "\u001b[32mimport \u001b[39m\u001b[36mjava.awt.{ Image => JImage }\n",
       "\u001b[39m\n",
       "\u001b[32mimport \u001b[39m\u001b[36mjava.io.{ ByteArrayOutputStream, ByteArrayInputStream}\n",
       "\u001b[39m\n",
       "\u001b[32mimport \u001b[39m\u001b[36mscala.io.Source\n",
       "\u001b[39m\n",
       "\u001b[32mimport \u001b[39m\u001b[36mjava.awt.image.BufferedImage\n",
       "\u001b[39m\n",
       "\u001b[32mimport \u001b[39m\u001b[36mjava.awt.{ Color => JColor }\n",
       "\u001b[39m\n",
       "\u001b[32mimport \u001b[39m\u001b[36mjavax.imageio.ImageIO\n",
       "\u001b[39m\n",
       "\u001b[32mimport \u001b[39m\u001b[36mscala.util.Random\n",
       "\u001b[39m\n",
       "\u001b[32mimport \u001b[39m\u001b[36mjava.util.Base64\n",
       "\u001b[39m\n",
       "\u001b[32mimport \u001b[39m\u001b[36morg.platanios.tensorflow.api.tf\n",
       "\u001b[39m\n",
       "\u001b[32mimport \u001b[39m\u001b[36morg.platanios.tensorflow.api.tensors.Tensor\n",
       "\u001b[39m\n",
       "\u001b[32mimport \u001b[39m\u001b[36morg.platanios.tensorflow.api.core.Shape\n",
       "\u001b[39m\n",
       "\u001b[32mimport \u001b[39m\u001b[36morg.platanios.tensorflow.api.core.client.{Session, FeedMap}\u001b[39m"
      ]
     },
     "execution_count": 2,
     "metadata": {},
     "output_type": "execute_result"
    }
   ],
   "source": [
    "import plotly._, plotly.element._, plotly.layout._, plotly.Almond._\n",
    "\n",
    "import java.awt.{ Image => JImage }\n",
    "import java.io.{ ByteArrayOutputStream, ByteArrayInputStream}\n",
    "import scala.io.Source\n",
    "import java.awt.image.BufferedImage\n",
    "import java.awt.{ Color => JColor }\n",
    "import javax.imageio.ImageIO\n",
    "import scala.util.Random\n",
    "import java.util.Base64\n",
    "import org.platanios.tensorflow.api.tf\n",
    "import org.platanios.tensorflow.api.tensors.Tensor\n",
    "import org.platanios.tensorflow.api.core.Shape\n",
    "import org.platanios.tensorflow.api.core.client.{Session, FeedMap}"
   ]
  },
  {
   "cell_type": "code",
   "execution_count": 3,
   "metadata": {},
   "outputs": [
    {
     "data": {
      "text/plain": [
       "defined \u001b[32mfunction\u001b[39m \u001b[36mtransformDataIntoTensors\u001b[39m"
      ]
     },
     "execution_count": 3,
     "metadata": {},
     "output_type": "execute_result"
    }
   ],
   "source": [
    "def transformDataIntoTensors(pathData: String, widthImage: Int): (Tensor[Float], Tensor[Int]) = {\n",
    "    val data = Source.fromFile(pathData).getLines.toList\n",
    "    val numImages = data.length\n",
    "    var dataNormalized: Array[Array[Double]] = Array.ofDim[Double](numImages, widthImage * widthImage)\n",
    "    var labels: List[Int] = List()\n",
    "\n",
    "    for ((line, index) <- data.zipWithIndex) {\n",
    "        val splitLine = line.split(\" \")\n",
    "        val base64Decoded: Array[Byte] = Base64.getDecoder.decode(splitLine.head)\n",
    "        val label = splitLine.last\n",
    "        val bufferedImage = ImageIO.read(new ByteArrayInputStream(base64Decoded))\n",
    "        labels = if (label == \"green\") 1 :: labels else 0 :: labels // 1 = green, 0 = blue\n",
    "        for (x <- 0 until bufferedImage.getWidth) {\n",
    "            for (y <- 0 until bufferedImage.getHeight) {\n",
    "                val color = bufferedImage.getRGB(x, y)\n",
    "                val green = ((color & 0x0000ff00) >> 8) / 255.0 // normalize\n",
    "                dataNormalized(index)(x * widthImage + y) = green\n",
    "            }\n",
    "        }\n",
    "    }\n",
    "\n",
    "    val labelsTensor = Tensor(labels.reverse).reshape(Shape(numImages))\n",
    "    val imagesTensor = Tensor(dataNormalized.flatten.toList).reshape(Shape(numImages, widthImage * widthImage)).toFloat // utiliser fill plus optimal je pense\n",
    "    val tensorHotEncoded = tf.oneHot(labelsTensor, 2, 1, 0) // 2 = nb dimensions, 1 = on value, 0 = off value\n",
    "    (imagesTensor, Session().run(fetches = tensorHotEncoded))\n",
    "}"
   ]
  },
  {
   "cell_type": "code",
   "execution_count": 4,
   "metadata": {},
   "outputs": [
    {
     "data": {
      "text/plain": [
       "defined \u001b[32mfunction\u001b[39m \u001b[36mconvertBufferedImgToByteArray\u001b[39m\n",
       "defined \u001b[32mfunction\u001b[39m \u001b[36mresize\u001b[39m\n",
       "defined \u001b[32mfunction\u001b[39m \u001b[36mgenerateRandomColor\u001b[39m\n",
       "defined \u001b[32mfunction\u001b[39m \u001b[36mgenerateRandomImage\u001b[39m\n",
       "defined \u001b[32mfunction\u001b[39m \u001b[36mgenerateBase64Image\u001b[39m"
      ]
     },
     "execution_count": 4,
     "metadata": {},
     "output_type": "execute_result"
    }
   ],
   "source": [
    "// Transform BufferedImage to a bytes Array\n",
    "def convertBufferedImgToByteArray(buffImg: BufferedImage): Array[Byte] = {\n",
    "    val baos = new ByteArrayOutputStream()\n",
    "    ImageIO.write(buffImg, \"png\", baos)\n",
    "    baos.toByteArray()\n",
    "}\n",
    "\n",
    "def resize(img: Array[Byte], height: Int, width: Int): Array[Byte] = {\n",
    "    val bais = new ByteArrayInputStream(img)\n",
    "    val bufferedImg = ImageIO.read(bais)\n",
    "    val newImg = bufferedImg.getScaledInstance(width, height, JImage.SCALE_SMOOTH)\n",
    "    val resized = new BufferedImage(width, height, BufferedImage.TYPE_INT_RGB)\n",
    "    val g2d = resized.createGraphics()\n",
    "    g2d.drawImage(newImg, 0, 0, null)\n",
    "    g2d.dispose()\n",
    "    convertBufferedImgToByteArray(resized)\n",
    "}\n",
    "\n",
    "// Generate a new blue-green color \n",
    "// initialGreen = First green choice randomly\n",
    "// step = step to choose the new green color\n",
    "// rnd = random generator\n",
    "// RETURN a new green and blue value with \n",
    "// (green: Int = random value between [intialGreen - step, initialGreen + step], blue: Int = 255 - green)\n",
    "def generateRandomColor(initialGreen: Int, step: Int, rnd: Random): (Int, Int) = {\n",
    "    // handle border cases\n",
    "    val start = if (initialGreen - step < 0) 0 else initialGreen - step\n",
    "    val end = if (initialGreen + step > 255) 255 else initialGreen + step\n",
    "    val randomGreen = start + rnd.nextInt((end - start) + 1)\n",
    "    // new color is [r = 0, g = randomGreen, b = 255 - randomGreen]\n",
    "    (randomGreen, 255 - randomGreen)\n",
    "}\n",
    "\n",
    "// Generate a random image\n",
    "// size of the image, size = width = height\n",
    "// step = step to choose the new green color\n",
    "// rnd = random generator\n",
    "// RETURN random image: BufferedImage\n",
    "def generateRandomImage(size: Int, step: Int, rnd: Random): BufferedImage = {\n",
    "    val rand = new Random(System.nanoTime)\n",
    "    val image = new BufferedImage(size, size, BufferedImage.TYPE_INT_RGB)\n",
    "    val initialGreen = rnd.nextInt(256) // random green between [0, 255]\n",
    "    val initialBlue = (255 - initialGreen)\n",
    "    for (x <- 0 until image.getWidth) {\n",
    "        for (y <- 0 until image.getHeight) {\n",
    "            // fill other with color depending from the initialGreen and the step variable\n",
    "            val (newGreen, newBlue) = generateRandomColor(initialGreen, step, rnd)\n",
    "            image.setRGB(x, y, new JColor(0, newGreen, newBlue).getRGB)\n",
    "        }\n",
    "    }\n",
    "    image\n",
    "}\n",
    "\n",
    "// Generate random image and convert it to base64 representation\n",
    "// step = step to choose the new green color\n",
    "// rnd = random generator\n",
    "// RETURN String = base64 random image\n",
    "def generateBase64Image(size: Int, step: Int, rnd: Random): String = {\n",
    "    val buffImage: BufferedImage = generateRandomImage(size, step, rnd)\n",
    "    val byteImage: Array[Byte] = convertBufferedImgToByteArray(buffImage)\n",
    "    Base64.getEncoder.encodeToString(byteImage)\n",
    "}"
   ]
  },
  {
   "cell_type": "code",
   "execution_count": 5,
   "metadata": {},
   "outputs": [
    {
     "data": {
      "text/plain": [
       "defined \u001b[32mfunction\u001b[39m \u001b[36mshowAnswers\u001b[39m"
      ]
     },
     "execution_count": 5,
     "metadata": {},
     "output_type": "execute_result"
    }
   ],
   "source": [
    "// Visualize results\n",
    "def showAnswers(nameFile: String) {\n",
    "    for (line <- Source.fromFile(nameFile).getLines) {\n",
    "        val splitLine = line.split(\" \")\n",
    "        val base64Decoded: Array[Byte] = Base64.getDecoder.decode(splitLine.head)\n",
    "        val image = Image(resize(base64Decoded, 100, 100)).withFormat(Image.PNG).display\n",
    "        val label = splitLine.last\n",
    "        println(label)\n",
    "    }\n",
    "}"
   ]
  },
  {
   "cell_type": "markdown",
   "metadata": {},
   "source": [
    "# TRAINING"
   ]
  },
  {
   "cell_type": "markdown",
   "metadata": {},
   "source": [
    "### Parameters"
   ]
  },
  {
   "cell_type": "code",
   "execution_count": 6,
   "metadata": {},
   "outputs": [
    {
     "data": {
      "text/plain": [
       "\u001b[36mlearningRate\u001b[39m: \u001b[32mFloat\u001b[39m = \u001b[32m0.35F\u001b[39m\n",
       "\u001b[36mepochs\u001b[39m: \u001b[32mInt\u001b[39m = \u001b[32m100\u001b[39m\n",
       "\u001b[36mwidthImage\u001b[39m: \u001b[32mInt\u001b[39m = \u001b[32m5\u001b[39m\n",
       "\u001b[36mpathData\u001b[39m: \u001b[32mString\u001b[39m = \u001b[32m\"../resources/labels.txt\"\u001b[39m\n",
       "\u001b[36mstep\u001b[39m: \u001b[32mInt\u001b[39m = \u001b[32m20\u001b[39m\n",
       "\u001b[36mclassNumber\u001b[39m: \u001b[32mInt\u001b[39m = \u001b[32m2\u001b[39m"
      ]
     },
     "execution_count": 6,
     "metadata": {},
     "output_type": "execute_result"
    }
   ],
   "source": [
    "val learningRate = 0.35f\n",
    "val epochs = 100 // number of `iteration` in this case\n",
    "val widthImage = 5\n",
    "val pathData = \"../resources/labels.txt\"\n",
    "val step = 20\n",
    "\n",
    "val classNumber = 2 // blue or green"
   ]
  },
  {
   "cell_type": "markdown",
   "metadata": {},
   "source": [
    "### Visualize"
   ]
  },
  {
   "cell_type": "code",
   "execution_count": 7,
   "metadata": {},
   "outputs": [
    {
     "data": {
      "image/png": "[encoded data removed]"
     },
     "metadata": {},
     "output_type": "display_data"
    },
    {
     "name": "stdout",
     "output_type": "stream",
     "text": [
      "blue\n"
     ]
    },
    {
     "data": {
      "image/png": "[encoded data removed]"
     },
     "metadata": {},
     "output_type": "display_data"
    },
    {
     "name": "stdout",
     "output_type": "stream",
     "text": [
      "blue\n"
     ]
    },
    {
     "data": {
      "image/png": "[encoded data removed]"
     },
     "metadata": {},
     "output_type": "display_data"
    },
    {
     "name": "stdout",
     "output_type": "stream",
     "text": [
      "green\n"
     ]
    },
    {
     "data": {
      "image/png": "[encoded data removed]"
     },
     "metadata": {},
     "output_type": "display_data"
    },
    {
     "name": "stdout",
     "output_type": "stream",
     "text": [
      "green\n"
     ]
    },
    {
     "data": {
      "image/png": "[encoded data removed]"
     },
     "metadata": {},
     "output_type": "display_data"
    },
    {
     "name": "stdout",
     "output_type": "stream",
     "text": [
      "blue\n"
     ]
    },
    {
     "data": {
      "image/png": "[encoded data removed]"
     },
     "metadata": {},
     "output_type": "display_data"
    },
    {
     "name": "stdout",
     "output_type": "stream",
     "text": [
      "blue\n"
     ]
    },
    {
     "data": {
      "image/png": "[encoded data removed]"
     },
     "metadata": {},
     "output_type": "display_data"
    },
    {
     "name": "stdout",
     "output_type": "stream",
     "text": [
      "green\n"
     ]
    },
    {
     "data": {
      "image/png": "[encoded data removed]"
     },
     "metadata": {},
     "output_type": "display_data"
    },
    {
     "name": "stdout",
     "output_type": "stream",
     "text": [
      "blue\n"
     ]
    },
    {
     "data": {
      "image/png": "[encoded data removed]"
     },
     "metadata": {},
     "output_type": "display_data"
    },
    {
     "name": "stdout",
     "output_type": "stream",
     "text": [
      "blue\n"
     ]
    },
    {
     "data": {
      "image/png": "[encoded data removed]"
     },
     "metadata": {},
     "output_type": "display_data"
    },
    {
     "name": "stdout",
     "output_type": "stream",
     "text": [
      "green\n"
     ]
    },
    {
     "data": {
      "image/png": "[encoded data removed]"
     },
     "metadata": {},
     "output_type": "display_data"
    },
    {
     "name": "stdout",
     "output_type": "stream",
     "text": [
      "green\n"
     ]
    },
    {
     "data": {
      "image/png": "[encoded data removed]"
     },
     "metadata": {},
     "output_type": "display_data"
    },
    {
     "name": "stdout",
     "output_type": "stream",
     "text": [
      "green\n"
     ]
    },
    {
     "data": {
      "image/png": "[encoded data removed]"
     },
     "metadata": {},
     "output_type": "display_data"
    },
    {
     "name": "stdout",
     "output_type": "stream",
     "text": [
      "blue\n"
     ]
    },
    {
     "data": {
      "image/png": "[encoded data removed]"
     },
     "metadata": {},
     "output_type": "display_data"
    },
    {
     "name": "stdout",
     "output_type": "stream",
     "text": [
      "green\n"
     ]
    },
    {
     "data": {
      "image/png": "[encoded data removed]"
     },
     "metadata": {},
     "output_type": "display_data"
    },
    {
     "name": "stdout",
     "output_type": "stream",
     "text": [
      "blue\n"
     ]
    },
    {
     "data": {
      "image/png": "[encoded data removed]"
     },
     "metadata": {},
     "output_type": "display_data"
    },
    {
     "name": "stdout",
     "output_type": "stream",
     "text": [
      "green\n"
     ]
    },
    {
     "data": {
      "image/png": "[encoded data removed]"
     },
     "metadata": {},
     "output_type": "display_data"
    },
    {
     "name": "stdout",
     "output_type": "stream",
     "text": [
      "blue\n"
     ]
    },
    {
     "data": {
      "image/png": "[encoded data removed]"
     },
     "metadata": {},
     "output_type": "display_data"
    },
    {
     "name": "stdout",
     "output_type": "stream",
     "text": [
      "green\n"
     ]
    },
    {
     "data": {
      "image/png": "[encoded data removed]"
     },
     "metadata": {},
     "output_type": "display_data"
    },
    {
     "name": "stdout",
     "output_type": "stream",
     "text": [
      "green\n"
     ]
    },
    {
     "data": {
      "image/png": "[encoded data removed]"
     },
     "metadata": {},
     "output_type": "display_data"
    },
    {
     "name": "stdout",
     "output_type": "stream",
     "text": [
      "green\n"
     ]
    },
    {
     "data": {
      "image/png": "[encoded data removed]"
     },
     "metadata": {},
     "output_type": "display_data"
    },
    {
     "name": "stdout",
     "output_type": "stream",
     "text": [
      "blue\n"
     ]
    },
    {
     "data": {
      "image/png": "[encoded data removed]"
     },
     "metadata": {},
     "output_type": "display_data"
    },
    {
     "name": "stdout",
     "output_type": "stream",
     "text": [
      "blue\n"
     ]
    }
   ],
   "source": [
    "showAnswers(pathData)"
   ]
  },
  {
   "cell_type": "markdown",
   "metadata": {},
   "source": [
    "### Model Creation\n",
    "We use a softmax activation because we want multi-class classification (= blue or green and not both at the same time)"
   ]
  },
  {
   "cell_type": "code",
   "execution_count": 8,
   "metadata": {},
   "outputs": [
    {
     "data": {
      "text/plain": [
       "\u001b[36msess\u001b[39m: \u001b[32mSession\u001b[39m = org.platanios.tensorflow.api.core.client.Session@308412cf\n",
       "\u001b[36msizeImage\u001b[39m: \u001b[32mInt\u001b[39m = \u001b[32m25\u001b[39m\n",
       "\u001b[36mimagesPlaceholder\u001b[39m: \u001b[32morg\u001b[39m.\u001b[32mplatanios\u001b[39m.\u001b[32mtensorflow\u001b[39m.\u001b[32mapi\u001b[39m.\u001b[32mops\u001b[39m.\u001b[32mOutput\u001b[39m[\u001b[32mFloat\u001b[39m] = \u001b[33mOutput\u001b[39m(\n",
       "  Placeholder,\n",
       "  \u001b[32m0\u001b[39m\n",
       ")\n",
       "\u001b[36mlabelsPlaceholder\u001b[39m: \u001b[32morg\u001b[39m.\u001b[32mplatanios\u001b[39m.\u001b[32mtensorflow\u001b[39m.\u001b[32mapi\u001b[39m.\u001b[32mops\u001b[39m.\u001b[32mOutput\u001b[39m[\u001b[32mFloat\u001b[39m] = \u001b[33mOutput\u001b[39m(\n",
       "  Placeholder_1,\n",
       "  \u001b[32m0\u001b[39m\n",
       ")\n",
       "\u001b[36mW\u001b[39m: \u001b[32mtf\u001b[39m.\u001b[32mVariable\u001b[39m[\u001b[32mFloat\u001b[39m] = \u001b[33mVariable\u001b[39m(\n",
       "  \u001b[33mDataType\u001b[39m(\u001b[32m\"Float\"\u001b[39m, \u001b[32m1\u001b[39m, \u001b[33mSome\u001b[39m(\u001b[32m4\u001b[39m), DT_FLOAT),\n",
       "  \u001b[33mOutput\u001b[39m(weights, \u001b[32m0\u001b[39m),\n",
       "  weights/InitializationAssign,\n",
       "  \u001b[32mnull\u001b[39m,\n",
       "  \u001b[33mOutput\u001b[39m(weights/Read/ReadVariable, \u001b[32m0\u001b[39m)\n",
       ")\n",
       "\u001b[36mB\u001b[39m: \u001b[32mtf\u001b[39m.\u001b[32mVariable\u001b[39m[\u001b[32mFloat\u001b[39m] = \u001b[33mVariable\u001b[39m(\n",
       "  \u001b[33mDataType\u001b[39m(\u001b[32m\"Float\"\u001b[39m, \u001b[32m1\u001b[39m, \u001b[33mSome\u001b[39m(\u001b[32m4\u001b[39m), DT_FLOAT),\n",
       "  \u001b[33mOutput\u001b[39m(biais, \u001b[32m0\u001b[39m),\n",
       "  biais/InitializationAssign,\n",
       "  \u001b[32mnull\u001b[39m,\n",
       "  \u001b[33mOutput\u001b[39m(biais/Read/ReadVariable, \u001b[32m0\u001b[39m)\n",
       ")\n",
       "\u001b[36mlabelsInfered\u001b[39m: \u001b[32morg\u001b[39m.\u001b[32mplatanios\u001b[39m.\u001b[32mtensorflow\u001b[39m.\u001b[32mapi\u001b[39m.\u001b[32mops\u001b[39m.\u001b[32mOutput\u001b[39m[\u001b[32mFloat\u001b[39m] = \u001b[33mOutput\u001b[39m(Add, \u001b[32m0\u001b[39m)\n",
       "\u001b[36mcost\u001b[39m: \u001b[32morg\u001b[39m.\u001b[32mplatanios\u001b[39m.\u001b[32mtensorflow\u001b[39m.\u001b[32mapi\u001b[39m.\u001b[32mops\u001b[39m.\u001b[32mOutput\u001b[39m[\u001b[32mFloat\u001b[39m] = \u001b[33mOutput\u001b[39m(Mean, \u001b[32m0\u001b[39m)\n",
       "\u001b[36moptimizer\u001b[39m: \u001b[32morg\u001b[39m.\u001b[32mplatanios\u001b[39m.\u001b[32mtensorflow\u001b[39m.\u001b[32mapi\u001b[39m.\u001b[32mops\u001b[39m.\u001b[32mpackage\u001b[39m.\u001b[32mUntypedOp\u001b[39m = Minimize/Finish\n",
       "\u001b[36mres7_9\u001b[39m: \u001b[32morg\u001b[39m.\u001b[32mplatanios\u001b[39m.\u001b[32mtensorflow\u001b[39m.\u001b[32mapi\u001b[39m.\u001b[32mimplicits\u001b[39m.\u001b[32mhelpers\u001b[39m.\u001b[32mOutputToTensor\u001b[39m.\u001b[32m<refinement>\u001b[39m.this.type.\u001b[32mV\u001b[39m = \u001b[33mList\u001b[39m()"
      ]
     },
     "execution_count": 8,
     "metadata": {},
     "output_type": "execute_result"
    }
   ],
   "source": [
    "val sess = Session()\n",
    "val sizeImage = widthImage * widthImage // num features\n",
    "\n",
    "val imagesPlaceholder = tf.placeholder[Float](Shape(-1, sizeImage)) // = x\n",
    "val labelsPlaceholder = tf.placeholder[Float](Shape(-1, classNumber)) // = y_\n",
    "\n",
    "val W = tf.variable[Float](\"weights\", Shape(sizeImage, classNumber), tf.ZerosInitializer)\n",
    "val B = tf.variable[Float](\"biais\", Shape(classNumber), tf.ZerosInitializer)\n",
    "\n",
    "val labelsInfered = tf.add(tf.matmul(imagesPlaceholder, W), B) // W.x + B = (a.x + b) ... = Ŷ\n",
    "\n",
    "val cost = tf.mean(tf.softmaxCrossEntropy(logits = labelsInfered, labels = labelsPlaceholder))\n",
    "\n",
    "val optimizer = tf.train.GradientDescent(learningRate = learningRate).minimize(cost) \n",
    "\n",
    "sess.run(targets = tf.globalVariablesInitializer())"
   ]
  },
  {
   "cell_type": "markdown",
   "metadata": {},
   "source": [
    "### Training the model"
   ]
  },
  {
   "cell_type": "code",
   "execution_count": 9,
   "metadata": {},
   "outputs": [
    {
     "name": "stdout",
     "output_type": "stream",
     "text": [
      "Train loss at iteration 10 = 0.46505582\n",
      "Accuracy at iteration 10 = 77.27273%\n",
      "\n",
      "Train loss at iteration 20 = 0.3721671\n",
      "Accuracy at iteration 20 = 86.36364%\n",
      "\n",
      "Train loss at iteration 30 = 0.3176512\n",
      "Accuracy at iteration 30 = 90.909096%\n",
      "\n",
      "Train loss at iteration 40 = 0.2820278\n",
      "Accuracy at iteration 40 = 95.454544%\n",
      "\n",
      "Train loss at iteration 50 = 0.25681838\n",
      "Accuracy at iteration 50 = 95.454544%\n",
      "\n",
      "Train loss at iteration 60 = 0.23791213\n",
      "Accuracy at iteration 60 = 95.454544%\n",
      "\n",
      "Train loss at iteration 70 = 0.2231078\n",
      "Accuracy at iteration 70 = 95.454544%\n",
      "\n",
      "Train loss at iteration 80 = 0.21112734\n",
      "Accuracy at iteration 80 = 95.454544%\n",
      "\n",
      "Train loss at iteration 90 = 0.2011789\n",
      "Accuracy at iteration 90 = 95.454544%\n",
      "\n",
      "Train loss at iteration 100 = 0.19274569\n",
      "Accuracy at iteration 100 = 95.454544%\n",
      "\n"
     ]
    },
    {
     "data": {
      "text/plain": [
       "\u001b[36mimagesTensor\u001b[39m: \u001b[32mTensor\u001b[39m[\u001b[32mFloat\u001b[39m] = Tensor[Float, [22, 25]]\n",
       "\u001b[36mlabelsTensor\u001b[39m: \u001b[32mTensor\u001b[39m[\u001b[32mInt\u001b[39m] = Tensor[Int, [22, 2]]\n",
       "\u001b[36mcorrect_prediction\u001b[39m: \u001b[32morg\u001b[39m.\u001b[32mplatanios\u001b[39m.\u001b[32mtensorflow\u001b[39m.\u001b[32mapi\u001b[39m.\u001b[32mops\u001b[39m.\u001b[32mOutput\u001b[39m[\u001b[32mFloat\u001b[39m] = \u001b[33mOutput\u001b[39m(\n",
       "  Mean_1,\n",
       "  \u001b[32m0\u001b[39m\n",
       ")\n",
       "\u001b[36mhistory\u001b[39m: \u001b[32mcollection\u001b[39m.\u001b[32mimmutable\u001b[39m.\u001b[32mIndexedSeq\u001b[39m[(\u001b[32mFloat\u001b[39m, \u001b[32mFloat\u001b[39m)] = \u001b[33mVector\u001b[39m(\n",
       "  (\u001b[32m0.6931472F\u001b[39m, \u001b[32m0.5F\u001b[39m),\n",
       "  (\u001b[32m0.6075014F\u001b[39m, \u001b[32m0.5F\u001b[39m),\n",
       "  (\u001b[32m0.57626516F\u001b[39m, \u001b[32m0.59090906F\u001b[39m),\n",
       "  (\u001b[32m0.55686516F\u001b[39m, \u001b[32m0.6363636F\u001b[39m),\n",
       "  (\u001b[32m0.5388139F\u001b[39m, \u001b[32m0.6363636F\u001b[39m),\n",
       "  (\u001b[32m0.5219819F\u001b[39m, \u001b[32m0.6818182F\u001b[39m),\n",
       "  (\u001b[32m0.50627476F\u001b[39m, \u001b[32m0.6818182F\u001b[39m),\n",
       "  (\u001b[32m0.4916049F\u001b[39m, \u001b[32m0.77272725F\u001b[39m),\n",
       "  (\u001b[32m0.47789052F\u001b[39m, \u001b[32m0.77272725F\u001b[39m),\n",
       "  (\u001b[32m0.46505582F\u001b[39m, \u001b[32m0.77272725F\u001b[39m),\n",
       "  (\u001b[32m0.4530304F\u001b[39m, \u001b[32m0.8636364F\u001b[39m),\n",
       "  (\u001b[32m0.44174987F\u001b[39m, \u001b[32m0.8636364F\u001b[39m),\n",
       "  (\u001b[32m0.43115482F\u001b[39m, \u001b[32m0.8636364F\u001b[39m),\n",
       "  (\u001b[32m0.4211911F\u001b[39m, \u001b[32m0.8636364F\u001b[39m),\n",
       "  (\u001b[32m0.41180894F\u001b[39m, \u001b[32m0.8636364F\u001b[39m),\n",
       "  (\u001b[32m0.40296307F\u001b[39m, \u001b[32m0.8636364F\u001b[39m),\n",
       "  (\u001b[32m0.39461204F\u001b[39m, \u001b[32m0.8636364F\u001b[39m),\n",
       "  (\u001b[32m0.38671815F\u001b[39m, \u001b[32m0.8636364F\u001b[39m),\n",
       "  (\u001b[32m0.37924698F\u001b[39m, \u001b[32m0.8636364F\u001b[39m),\n",
       "  (\u001b[32m0.3721671F\u001b[39m, \u001b[32m0.8636364F\u001b[39m),\n",
       "  (\u001b[32m0.36544982F\u001b[39m, \u001b[32m0.8636364F\u001b[39m),\n",
       "  (\u001b[32m0.35906908F\u001b[39m, \u001b[32m0.8636364F\u001b[39m),\n",
       "  (\u001b[32m0.35300076F\u001b[39m, \u001b[32m0.8636364F\u001b[39m),\n",
       "  (\u001b[32m0.34722325F\u001b[39m, \u001b[32m0.90909094F\u001b[39m),\n",
       "  (\u001b[32m0.34171632F\u001b[39m, \u001b[32m0.90909094F\u001b[39m),\n",
       "  (\u001b[32m0.3364618F\u001b[39m, \u001b[32m0.90909094F\u001b[39m),\n",
       "  (\u001b[32m0.33144283F\u001b[39m, \u001b[32m0.90909094F\u001b[39m),\n",
       "  (\u001b[32m0.32664397F\u001b[39m, \u001b[32m0.90909094F\u001b[39m),\n",
       "  (\u001b[32m0.32205114F\u001b[39m, \u001b[32m0.90909094F\u001b[39m),\n",
       "  (\u001b[32m0.3176512F\u001b[39m, \u001b[32m0.90909094F\u001b[39m),\n",
       "  (\u001b[32m0.31343225F\u001b[39m, \u001b[32m0.90909094F\u001b[39m),\n",
       "  (\u001b[32m0.30938312F\u001b[39m, \u001b[32m0.90909094F\u001b[39m),\n",
       "  (\u001b[32m0.30549368F\u001b[39m, \u001b[32m0.90909094F\u001b[39m),\n",
       "  (\u001b[32m0.30175447F\u001b[39m, \u001b[32m0.90909094F\u001b[39m),\n",
       "  (\u001b[32m0.29815677F\u001b[39m, \u001b[32m0.90909094F\u001b[39m),\n",
       "  (\u001b[32m0.29469255F\u001b[39m, \u001b[32m0.90909094F\u001b[39m),\n",
       "  (\u001b[32m0.2913542F\u001b[39m, \u001b[32m0.95454544F\u001b[39m),\n",
       "  (\u001b[32m0.2881349F\u001b[39m, \u001b[32m0.95454544F\u001b[39m),\n",
       "..."
      ]
     },
     "execution_count": 9,
     "metadata": {},
     "output_type": "execute_result"
    }
   ],
   "source": [
    "val (imagesTensor, labelsTensor) = transformDataIntoTensors(pathData, widthImage)\n",
    "val correct_prediction = tf.mean(tf.equal(tf.argmax(input = labelsInfered, axes = -1, outputDataType = Int), tf.argmax(input = labelsPlaceholder, axes = -1, outputDataType = Int)).toFloat)\n",
    "\n",
    "val history = (1 to epochs).map { e => \n",
    "    val (costIte, accIte) = sess.run(fetches = (cost, correct_prediction), targets = optimizer, feeds = FeedMap(Map(imagesPlaceholder -> imagesTensor, labelsPlaceholder -> labelsTensor.toFloat)))\n",
    "    if (e % 10 == 0) { println(s\"Train loss at iteration $e = ${costIte.scalar}\\nAccuracy at iteration $e = ${accIte.scalar * 100}%\\n\") }\n",
    "    (costIte.scalar, accIte.scalar)\n",
    "}"
   ]
  },
  {
   "cell_type": "markdown",
   "metadata": {},
   "source": [
    "### Display cost"
   ]
  },
  {
   "cell_type": "code",
   "execution_count": 10,
   "metadata": {},
   "outputs": [
    {
     "data": {
      "text/plain": [
       "\u001b[36mweight\u001b[39m: \u001b[32mTensor\u001b[39m[\u001b[32mFloat\u001b[39m] = Tensor[Float, [25, 2]]\n",
       "\u001b[36mbiais\u001b[39m: \u001b[32mTensor\u001b[39m[\u001b[32mFloat\u001b[39m] = Tensor[Float, [2]]"
      ]
     },
     "execution_count": 10,
     "metadata": {},
     "output_type": "execute_result"
    }
   ],
   "source": [
    "val weight = sess.run(fetches = W.value)\n",
    "val biais  = sess.run(fetches = B.value)"
   ]
  },
  {
   "cell_type": "code",
   "execution_count": 11,
   "metadata": {},
   "outputs": [
    {
     "data": {
      "text/html": [
       "\n",
       "      <script type=\"text/javascript\">\n",
       "        require.config({\n",
       "  paths: {\n",
       "    d3: 'https://cdnjs.cloudflare.com/ajax/libs/d3/3.5.17/d3.min',\n",
       "    plotly: 'https://cdn.plot.ly/plotly-1.41.3.min',\n",
       "    jquery: 'https://code.jquery.com/jquery-3.3.1.min'\n",
       "  },\n",
       "\n",
       "  shim: {\n",
       "    plotly: {\n",
       "      deps: ['d3', 'jquery'],\n",
       "      exports: 'plotly'\n",
       "    }\n",
       "  }\n",
       "});\n",
       "        \n",
       "\n",
       "        require(['plotly'], function(Plotly) {\n",
       "          window.Plotly = Plotly;\n",
       "        });\n",
       "      </script>\n",
       "    "
      ]
     },
     "metadata": {},
     "output_type": "display_data"
    },
    {
     "data": {
      "application/vnd.plotly.v1+json": {
       "data": [
        {
         "name": "Cost history",
         "type": "scatter",
         "x": [
          1,
          2,
          3,
          4,
          5,
          6,
          7,
          8,
          9,
          10,
          11,
          12,
          13,
          14,
          15,
          16,
          17,
          18,
          19,
          20,
          21,
          22,
          23,
          24,
          25,
          26,
          27,
          28,
          29,
          30,
          31,
          32,
          33,
          34,
          35,
          36,
          37,
          38,
          39,
          40,
          41,
          42,
          43,
          44,
          45,
          46,
          47,
          48,
          49,
          50,
          51,
          52,
          53,
          54,
          55,
          56,
          57,
          58,
          59,
          60,
          61,
          62,
          63,
          64,
          65,
          66,
          67,
          68,
          69,
          70,
          71,
          72,
          73,
          74,
          75,
          76,
          77,
          78,
          79,
          80,
          81,
          82,
          83,
          84,
          85,
          86,
          87,
          88,
          89,
          90,
          91,
          92,
          93,
          94,
          95,
          96,
          97,
          98,
          99,
          100
         ],
         "y": [
          0.6931471824645996,
          0.6075013875961304,
          0.5762651562690735,
          0.5568651556968689,
          0.5388138890266418,
          0.5219818949699402,
          0.5062747597694397,
          0.49160489439964294,
          0.4778905212879181,
          0.46505582332611084,
          0.45303040742874146,
          0.4417498707771301,
          0.4311548173427582,
          0.42119109630584717,
          0.41180893778800964,
          0.4029630720615387,
          0.39461204409599304,
          0.38671815395355225,
          0.3792469799518585,
          0.37216711044311523,
          0.36544981598854065,
          0.3590690791606903,
          0.3530007600784302,
          0.3472232520580292,
          0.34171631932258606,
          0.3364618122577667,
          0.33144283294677734,
          0.3266439735889435,
          0.32205113768577576,
          0.3176512122154236,
          0.3134322464466095,
          0.3093831241130829,
          0.30549368262290955,
          0.3017544746398926,
          0.2981567680835724,
          0.2946925461292267,
          0.2913542091846466,
          0.288134902715683,
          0.2850281000137329,
          0.28202781081199646,
          0.27912846207618713,
          0.2763248085975647,
          0.27361199259757996,
          0.2709854543209076,
          0.26844096183776855,
          0.2659745514392853,
          0.2635824680328369,
          0.2612612545490265,
          0.2590075731277466,
          0.25681838393211365,
          0.2546907961368561,
          0.2526220977306366,
          0.2506096661090851,
          0.24865113198757172,
          0.24674421548843384,
          0.24488669633865356,
          0.2430766224861145,
          0.24131202697753906,
          0.2395911067724228,
          0.2379121333360672,
          0.23627343773841858,
          0.23467354476451874,
          0.2331109493970871,
          0.23158420622348785,
          0.23009204864501953,
          0.22863321006298065,
          0.22720648348331451,
          0.2258107215166092,
          0.22444485127925873,
          0.22310779988765717,
          0.2217986136674881,
          0.2205163836479187,
          0.21926017105579376,
          0.21802906692028046,
          0.2168222963809967,
          0.2156391143798828,
          0.21447871625423431,
          0.2133404165506363,
          0.21222351491451263,
          0.21112734079360962,
          0.2100512981414795,
          0.20899468660354614,
          0.20795704424381256,
          0.2069377303123474,
          0.2059362530708313,
          0.20495210587978363,
          0.20398475229740143,
          0.20303373038768768,
          0.20209860801696777,
          0.2011788934469223,
          0.2002742439508438,
          0.19938422739505768,
          0.1985083967447281,
          0.19764642417430878,
          0.1967979073524475,
          0.19596251845359802,
          0.19513994455337524,
          0.19432979822158813,
          0.1935318410396576,
          0.19274568557739258
         ]
        },
        {
         "name": "Accuracy history",
         "type": "scatter",
         "x": [
          1,
          2,
          3,
          4,
          5,
          6,
          7,
          8,
          9,
          10,
          11,
          12,
          13,
          14,
          15,
          16,
          17,
          18,
          19,
          20,
          21,
          22,
          23,
          24,
          25,
          26,
          27,
          28,
          29,
          30,
          31,
          32,
          33,
          34,
          35,
          36,
          37,
          38,
          39,
          40,
          41,
          42,
          43,
          44,
          45,
          46,
          47,
          48,
          49,
          50,
          51,
          52,
          53,
          54,
          55,
          56,
          57,
          58,
          59,
          60,
          61,
          62,
          63,
          64,
          65,
          66,
          67,
          68,
          69,
          70,
          71,
          72,
          73,
          74,
          75,
          76,
          77,
          78,
          79,
          80,
          81,
          82,
          83,
          84,
          85,
          86,
          87,
          88,
          89,
          90,
          91,
          92,
          93,
          94,
          95,
          96,
          97,
          98,
          99,
          100
         ],
         "y": [
          0.5,
          0.5,
          0.5909090638160706,
          0.6363636255264282,
          0.6363636255264282,
          0.6818181872367859,
          0.6818181872367859,
          0.7727272510528564,
          0.7727272510528564,
          0.7727272510528564,
          0.8636363744735718,
          0.8636363744735718,
          0.8636363744735718,
          0.8636363744735718,
          0.8636363744735718,
          0.8636363744735718,
          0.8636363744735718,
          0.8636363744735718,
          0.8636363744735718,
          0.8636363744735718,
          0.8636363744735718,
          0.8636363744735718,
          0.8636363744735718,
          0.9090909361839294,
          0.9090909361839294,
          0.9090909361839294,
          0.9090909361839294,
          0.9090909361839294,
          0.9090909361839294,
          0.9090909361839294,
          0.9090909361839294,
          0.9090909361839294,
          0.9090909361839294,
          0.9090909361839294,
          0.9090909361839294,
          0.9090909361839294,
          0.9545454382896423,
          0.9545454382896423,
          0.9545454382896423,
          0.9545454382896423,
          0.9545454382896423,
          0.9545454382896423,
          0.9545454382896423,
          0.9545454382896423,
          0.9545454382896423,
          0.9545454382896423,
          0.9545454382896423,
          0.9545454382896423,
          0.9545454382896423,
          0.9545454382896423,
          0.9545454382896423,
          0.9545454382896423,
          0.9545454382896423,
          0.9545454382896423,
          0.9545454382896423,
          0.9545454382896423,
          0.9545454382896423,
          0.9545454382896423,
          0.9545454382896423,
          0.9545454382896423,
          0.9545454382896423,
          0.9545454382896423,
          0.9545454382896423,
          0.9545454382896423,
          0.9545454382896423,
          0.9545454382896423,
          0.9545454382896423,
          0.9545454382896423,
          0.9545454382896423,
          0.9545454382896423,
          0.9545454382896423,
          0.9545454382896423,
          0.9545454382896423,
          0.9545454382896423,
          0.9545454382896423,
          0.9545454382896423,
          0.9545454382896423,
          0.9545454382896423,
          0.9545454382896423,
          0.9545454382896423,
          0.9545454382896423,
          0.9545454382896423,
          0.9545454382896423,
          0.9545454382896423,
          0.9545454382896423,
          0.9545454382896423,
          0.9545454382896423,
          0.9545454382896423,
          0.9545454382896423,
          0.9545454382896423,
          0.9545454382896423,
          0.9545454382896423,
          0.9545454382896423,
          0.9545454382896423,
          0.9545454382896423,
          0.9545454382896423,
          0.9545454382896423,
          0.9545454382896423,
          0.9545454382896423,
          0.9545454382896423
         ]
        }
       ],
       "layout": {
        "title": "Cost and Accuracy history"
       }
      },
      "text/html": [
       "<div class=\"chart\" id=\"plot-21a53bfe-258e-4eb4-b8fb-3b5c7a14d0c6\"></div>\n",
       "<script>require(['plotly'], function(Plotly) {\n",
       "  (function () {\n",
       "  var data0 = {\"x\":[1.0,2.0,3.0,4.0,5.0,6.0,7.0,8.0,9.0,10.0,11.0,12.0,13.0,14.0,15.0,16.0,17.0,18.0,19.0,20.0,21.0,22.0,23.0,24.0,25.0,26.0,27.0,28.0,29.0,30.0,31.0,32.0,33.0,34.0,35.0,36.0,37.0,38.0,39.0,40.0,41.0,42.0,43.0,44.0,45.0,46.0,47.0,48.0,49.0,50.0,51.0,52.0,53.0,54.0,55.0,56.0,57.0,58.0,59.0,60.0,61.0,62.0,63.0,64.0,65.0,66.0,67.0,68.0,69.0,70.0,71.0,72.0,73.0,74.0,75.0,76.0,77.0,78.0,79.0,80.0,81.0,82.0,83.0,84.0,85.0,86.0,87.0,88.0,89.0,90.0,91.0,92.0,93.0,94.0,95.0,96.0,97.0,98.0,99.0,100.0],\"name\":\"Cost history\",\"y\":[0.6931471824645996,0.6075013875961304,0.5762651562690735,0.5568651556968689,0.5388138890266418,0.5219818949699402,0.5062747597694397,0.49160489439964294,0.4778905212879181,0.46505582332611084,0.45303040742874146,0.4417498707771301,0.4311548173427582,0.42119109630584717,0.41180893778800964,0.4029630720615387,0.39461204409599304,0.38671815395355225,0.3792469799518585,0.37216711044311523,0.36544981598854065,0.3590690791606903,0.3530007600784302,0.3472232520580292,0.34171631932258606,0.3364618122577667,0.33144283294677734,0.3266439735889435,0.32205113768577576,0.3176512122154236,0.3134322464466095,0.3093831241130829,0.30549368262290955,0.3017544746398926,0.2981567680835724,0.2946925461292267,0.2913542091846466,0.288134902715683,0.2850281000137329,0.28202781081199646,0.27912846207618713,0.2763248085975647,0.27361199259757996,0.2709854543209076,0.26844096183776855,0.2659745514392853,0.2635824680328369,0.2612612545490265,0.2590075731277466,0.25681838393211365,0.2546907961368561,0.2526220977306366,0.2506096661090851,0.24865113198757172,0.24674421548843384,0.24488669633865356,0.2430766224861145,0.24131202697753906,0.2395911067724228,0.2379121333360672,0.23627343773841858,0.23467354476451874,0.2331109493970871,0.23158420622348785,0.23009204864501953,0.22863321006298065,0.22720648348331451,0.2258107215166092,0.22444485127925873,0.22310779988765717,0.2217986136674881,0.2205163836479187,0.21926017105579376,0.21802906692028046,0.2168222963809967,0.2156391143798828,0.21447871625423431,0.2133404165506363,0.21222351491451263,0.21112734079360962,0.2100512981414795,0.20899468660354614,0.20795704424381256,0.2069377303123474,0.2059362530708313,0.20495210587978363,0.20398475229740143,0.20303373038768768,0.20209860801696777,0.2011788934469223,0.2002742439508438,0.19938422739505768,0.1985083967447281,0.19764642417430878,0.1967979073524475,0.19596251845359802,0.19513994455337524,0.19432979822158813,0.1935318410396576,0.19274568557739258],\"type\":\"scatter\"};\n",
       "  var data1 = {\"x\":[1.0,2.0,3.0,4.0,5.0,6.0,7.0,8.0,9.0,10.0,11.0,12.0,13.0,14.0,15.0,16.0,17.0,18.0,19.0,20.0,21.0,22.0,23.0,24.0,25.0,26.0,27.0,28.0,29.0,30.0,31.0,32.0,33.0,34.0,35.0,36.0,37.0,38.0,39.0,40.0,41.0,42.0,43.0,44.0,45.0,46.0,47.0,48.0,49.0,50.0,51.0,52.0,53.0,54.0,55.0,56.0,57.0,58.0,59.0,60.0,61.0,62.0,63.0,64.0,65.0,66.0,67.0,68.0,69.0,70.0,71.0,72.0,73.0,74.0,75.0,76.0,77.0,78.0,79.0,80.0,81.0,82.0,83.0,84.0,85.0,86.0,87.0,88.0,89.0,90.0,91.0,92.0,93.0,94.0,95.0,96.0,97.0,98.0,99.0,100.0],\"name\":\"Accuracy history\",\"y\":[0.5,0.5,0.5909090638160706,0.6363636255264282,0.6363636255264282,0.6818181872367859,0.6818181872367859,0.7727272510528564,0.7727272510528564,0.7727272510528564,0.8636363744735718,0.8636363744735718,0.8636363744735718,0.8636363744735718,0.8636363744735718,0.8636363744735718,0.8636363744735718,0.8636363744735718,0.8636363744735718,0.8636363744735718,0.8636363744735718,0.8636363744735718,0.8636363744735718,0.9090909361839294,0.9090909361839294,0.9090909361839294,0.9090909361839294,0.9090909361839294,0.9090909361839294,0.9090909361839294,0.9090909361839294,0.9090909361839294,0.9090909361839294,0.9090909361839294,0.9090909361839294,0.9090909361839294,0.9545454382896423,0.9545454382896423,0.9545454382896423,0.9545454382896423,0.9545454382896423,0.9545454382896423,0.9545454382896423,0.9545454382896423,0.9545454382896423,0.9545454382896423,0.9545454382896423,0.9545454382896423,0.9545454382896423,0.9545454382896423,0.9545454382896423,0.9545454382896423,0.9545454382896423,0.9545454382896423,0.9545454382896423,0.9545454382896423,0.9545454382896423,0.9545454382896423,0.9545454382896423,0.9545454382896423,0.9545454382896423,0.9545454382896423,0.9545454382896423,0.9545454382896423,0.9545454382896423,0.9545454382896423,0.9545454382896423,0.9545454382896423,0.9545454382896423,0.9545454382896423,0.9545454382896423,0.9545454382896423,0.9545454382896423,0.9545454382896423,0.9545454382896423,0.9545454382896423,0.9545454382896423,0.9545454382896423,0.9545454382896423,0.9545454382896423,0.9545454382896423,0.9545454382896423,0.9545454382896423,0.9545454382896423,0.9545454382896423,0.9545454382896423,0.9545454382896423,0.9545454382896423,0.9545454382896423,0.9545454382896423,0.9545454382896423,0.9545454382896423,0.9545454382896423,0.9545454382896423,0.9545454382896423,0.9545454382896423,0.9545454382896423,0.9545454382896423,0.9545454382896423,0.9545454382896423],\"type\":\"scatter\"};\n",
       "\n",
       "  var data = [data0, data1];\n",
       "  var layout = {\"title\":\"Cost and Accuracy history\"};\n",
       "\n",
       "  Plotly.plot('plot-21a53bfe-258e-4eb4-b8fb-3b5c7a14d0c6', data, layout);\n",
       "})();\n",
       "});\n",
       "      </script>\n",
       "           "
      ]
     },
     "metadata": {},
     "output_type": "display_data"
    },
    {
     "data": {
      "text/plain": [
       "\u001b[36mres10\u001b[39m: \u001b[32mString\u001b[39m = \u001b[32m\"plot-21a53bfe-258e-4eb4-b8fb-3b5c7a14d0c6\"\u001b[39m"
      ]
     },
     "execution_count": 11,
     "metadata": {},
     "output_type": "execute_result"
    }
   ],
   "source": [
    "// If it doesn't display, remove checkpoints in the same folder and run all the notebook again\n",
    "{{\n",
    "val costHistory = Scatter(\n",
    "    (1 to epochs), \n",
    "    history.map(h => h._1),\n",
    "    name = \"Cost history\"\n",
    ")\n",
    "\n",
    "val accHistory = Scatter(\n",
    "    (1 to epochs), \n",
    "    history.map(h => h._2),\n",
    "    name = \"Accuracy history\"\n",
    ")\n",
    "\n",
    "val data = Seq(costHistory, accHistory)\n",
    "val layout = Layout(title = \"Cost and Accuracy history\")\n",
    "plot(data, layout)\n",
    "}}"
   ]
  },
  {
   "cell_type": "markdown",
   "metadata": {},
   "source": [
    "### Test our trained model"
   ]
  },
  {
   "cell_type": "code",
   "execution_count": 12,
   "metadata": {},
   "outputs": [
    {
     "data": {
      "image/png": "[encoded data removed]"
     },
     "metadata": {},
     "output_type": "display_data"
    },
    {
     "name": "stdout",
     "output_type": "stream",
     "text": [
      "green\n"
     ]
    },
    {
     "data": {
      "image/png": "[encoded data removed]"
     },
     "metadata": {},
     "output_type": "display_data"
    },
    {
     "name": "stdout",
     "output_type": "stream",
     "text": [
      "blue\n"
     ]
    },
    {
     "data": {
      "image/png": "[encoded data removed]"
     },
     "metadata": {},
     "output_type": "display_data"
    },
    {
     "name": "stdout",
     "output_type": "stream",
     "text": [
      "green\n"
     ]
    },
    {
     "data": {
      "image/png": "[encoded data removed]"
     },
     "metadata": {},
     "output_type": "display_data"
    },
    {
     "name": "stdout",
     "output_type": "stream",
     "text": [
      "green\n"
     ]
    },
    {
     "data": {
      "image/png": "[encoded data removed]"
     },
     "metadata": {},
     "output_type": "display_data"
    },
    {
     "name": "stdout",
     "output_type": "stream",
     "text": [
      "green\n"
     ]
    },
    {
     "data": {
      "image/png": "[encoded data removed]"
     },
     "metadata": {},
     "output_type": "display_data"
    },
    {
     "name": "stdout",
     "output_type": "stream",
     "text": [
      "green\n"
     ]
    },
    {
     "data": {
      "image/png": "[encoded data removed]"
     },
     "metadata": {},
     "output_type": "display_data"
    },
    {
     "name": "stdout",
     "output_type": "stream",
     "text": [
      "blue\n"
     ]
    },
    {
     "data": {
      "image/png": "[encoded data removed]"
     },
     "metadata": {},
     "output_type": "display_data"
    },
    {
     "name": "stdout",
     "output_type": "stream",
     "text": [
      "blue\n"
     ]
    },
    {
     "data": {
      "image/png": "[encoded data removed]"
     },
     "metadata": {},
     "output_type": "display_data"
    },
    {
     "name": "stdout",
     "output_type": "stream",
     "text": [
      "green\n"
     ]
    },
    {
     "data": {
      "image/png": "[encoded data removed]"
     },
     "metadata": {},
     "output_type": "display_data"
    },
    {
     "name": "stdout",
     "output_type": "stream",
     "text": [
      "blue\n"
     ]
    },
    {
     "data": {
      "image/png": "[encoded data removed]"
     },
     "metadata": {},
     "output_type": "display_data"
    },
    {
     "name": "stdout",
     "output_type": "stream",
     "text": [
      "green\n"
     ]
    },
    {
     "data": {
      "image/png": "[encoded data removed]"
     },
     "metadata": {},
     "output_type": "display_data"
    },
    {
     "name": "stdout",
     "output_type": "stream",
     "text": [
      "green\n"
     ]
    },
    {
     "data": {
      "image/png": "[encoded data removed]"
     },
     "metadata": {},
     "output_type": "display_data"
    },
    {
     "name": "stdout",
     "output_type": "stream",
     "text": [
      "blue\n"
     ]
    },
    {
     "data": {
      "image/png": "[encoded data removed]"
     },
     "metadata": {},
     "output_type": "display_data"
    },
    {
     "name": "stdout",
     "output_type": "stream",
     "text": [
      "green\n"
     ]
    },
    {
     "data": {
      "image/png": "[encoded data removed]"
     },
     "metadata": {},
     "output_type": "display_data"
    },
    {
     "name": "stdout",
     "output_type": "stream",
     "text": [
      "blue\n"
     ]
    },
    {
     "data": {
      "image/png": "[encoded data removed]"
     },
     "metadata": {},
     "output_type": "display_data"
    },
    {
     "name": "stdout",
     "output_type": "stream",
     "text": [
      "green\n"
     ]
    },
    {
     "data": {
      "image/png": "[encoded data removed]"
     },
     "metadata": {},
     "output_type": "display_data"
    },
    {
     "name": "stdout",
     "output_type": "stream",
     "text": [
      "blue\n"
     ]
    },
    {
     "data": {
      "image/png": "[encoded data removed]"
     },
     "metadata": {},
     "output_type": "display_data"
    },
    {
     "name": "stdout",
     "output_type": "stream",
     "text": [
      "blue\n"
     ]
    },
    {
     "data": {
      "image/png": "[encoded data removed]"
     },
     "metadata": {},
     "output_type": "display_data"
    },
    {
     "name": "stdout",
     "output_type": "stream",
     "text": [
      "blue\n"
     ]
    },
    {
     "data": {
      "image/png": "[encoded data removed]"
     },
     "metadata": {},
     "output_type": "display_data"
    },
    {
     "name": "stdout",
     "output_type": "stream",
     "text": [
      "blue\n"
     ]
    },
    {
     "data": {
      "image/png": "[encoded data removed]"
     },
     "metadata": {},
     "output_type": "display_data"
    },
    {
     "name": "stdout",
     "output_type": "stream",
     "text": [
      "green\n"
     ]
    },
    {
     "data": {
      "text/plain": [
       "\u001b[36mrand\u001b[39m: \u001b[32mRandom\u001b[39m = scala.util.Random@257ad841"
      ]
     },
     "execution_count": 12,
     "metadata": {},
     "output_type": "execute_result"
    }
   ],
   "source": [
    "val rand = new Random(System.nanoTime) // random generator for random images\n",
    "\n",
    "for (i <- 0 to 20) {\n",
    "    val newData: Array[Double] = Array.ofDim[Double](sizeImage)\n",
    "    val img = generateBase64Image(widthImage, step, rand)\n",
    "    val base64Decoded: Array[Byte] = Base64.getDecoder.decode(img)\n",
    "    val bufferedImage = ImageIO.read(new ByteArrayInputStream(base64Decoded))\n",
    "    val image = Image(resize(base64Decoded, 100, 100)).withFormat(Image.PNG).display\n",
    "\n",
    "    for (x <- 0 until bufferedImage.getWidth) {\n",
    "        for (y <- 0 until bufferedImage.getHeight) {\n",
    "            val color = bufferedImage.getRGB(x, y)\n",
    "            val green = ((color & 0x0000ff00) >> 8) / 255.0 // normalize\n",
    "            newData(x * widthImage + y) = green\n",
    "        }\n",
    "    }\n",
    "\n",
    "\n",
    "    val imagesTensor = Tensor(newData.toList).reshape(Shape(1, sizeImage))\n",
    "    val labelDetected = sess.run(fetches = tf.argmax(tf.softmax(labelsInfered), -1, Int), feeds = FeedMap(Map(imagesPlaceholder -> imagesTensor.toFloat)))\n",
    "    if (labelDetected.scalar == 1) println(\"green\") else println(\"blue\")\n",
    "}"
   ]
  }
 ],
 "metadata": {
  "kernelspec": {
   "display_name": "Scala",
   "language": "scala",
   "name": "scala"
  },
  "language_info": {
   "codemirror_mode": "text/x-scala",
   "file_extension": ".scala",
   "mimetype": "text/x-scala",
   "name": "scala",
   "nbconvert_exporter": "script",
   "version": "2.12.9"
  }
 },
 "nbformat": 4,
 "nbformat_minor": 2
}
