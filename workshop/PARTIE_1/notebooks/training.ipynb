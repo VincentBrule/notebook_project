{
 "cells": [
  {
   "cell_type": "markdown",
   "metadata": {},
   "source": [
    "# <p style=\"text-align: center;, font-style: strong;\">Partie 1.2 - Entraînement d'un modèle à régression logistique</p>\n",
    "### <p style=\"text-align: center;\">(Almond 0.8.0, Scala 2.12.8)</p>\n",
    "\n",
    "Question : Softmax équivalent à Sigmoid dans notre cas de figure. J'ai utilisé Softmax pour montrer hot encoding et montrer qu'on peut rajouter des couleurs simplement. Reste-t-on dans ce choix ?"
   ]
  },
  {
   "cell_type": "markdown",
   "metadata": {},
   "source": [
    "## Dependencie"
   ]
  },
  {
   "cell_type": "code",
   "execution_count": 1,
   "metadata": {},
   "outputs": [
    {
     "data": {
      "text/plain": [
       "\u001b[32mimport \u001b[39m\u001b[36m$ivy.$                                      \n",
       "\u001b[39m"
      ]
     },
     "execution_count": 1,
     "metadata": {},
     "output_type": "execute_result"
    }
   ],
   "source": [
    "import $ivy.`org.plotly-scala::plotly-almond:0.7.0`\n",
    "interp.load.ivy(coursierapi.Dependency.of(\"org.platanios\", \"tensorflow_2.12\", \"0.4.1\").withClassifier(\"darwin-cpu-x86_64\"))"
   ]
  },
  {
   "cell_type": "markdown",
   "metadata": {},
   "source": [
    "## Imports"
   ]
  },
  {
   "cell_type": "code",
   "execution_count": 2,
   "metadata": {},
   "outputs": [
    {
     "data": {
      "text/plain": [
       "\u001b[32mimport \u001b[39m\u001b[36mplotly._, plotly.element._, plotly.layout._, plotly.Almond._\n",
       "\n",
       "\u001b[39m\n",
       "\u001b[32mimport \u001b[39m\u001b[36mjava.awt.{ Image => JImage }\n",
       "\u001b[39m\n",
       "\u001b[32mimport \u001b[39m\u001b[36mjava.io.{ ByteArrayOutputStream, ByteArrayInputStream}\n",
       "\u001b[39m\n",
       "\u001b[32mimport \u001b[39m\u001b[36mscala.io.Source\n",
       "\u001b[39m\n",
       "\u001b[32mimport \u001b[39m\u001b[36mjava.awt.image.BufferedImage\n",
       "\u001b[39m\n",
       "\u001b[32mimport \u001b[39m\u001b[36mjava.awt.{ Color => JColor }\n",
       "\u001b[39m\n",
       "\u001b[32mimport \u001b[39m\u001b[36mjavax.imageio.ImageIO\n",
       "\u001b[39m\n",
       "\u001b[32mimport \u001b[39m\u001b[36mscala.util.Random\n",
       "\u001b[39m\n",
       "\u001b[32mimport \u001b[39m\u001b[36mjava.util.Base64\n",
       "\u001b[39m\n",
       "\u001b[32mimport \u001b[39m\u001b[36morg.platanios.tensorflow.api.tf\n",
       "\u001b[39m\n",
       "\u001b[32mimport \u001b[39m\u001b[36morg.platanios.tensorflow.api.tensors.Tensor\n",
       "\u001b[39m\n",
       "\u001b[32mimport \u001b[39m\u001b[36morg.platanios.tensorflow.api.core.Shape\n",
       "\u001b[39m\n",
       "\u001b[32mimport \u001b[39m\u001b[36morg.platanios.tensorflow.api.core.client.{Session, FeedMap}\u001b[39m"
      ]
     },
     "execution_count": 2,
     "metadata": {},
     "output_type": "execute_result"
    }
   ],
   "source": [
    "import plotly._, plotly.element._, plotly.layout._, plotly.Almond._\n",
    "\n",
    "import java.awt.{ Image => JImage }\n",
    "import java.io.{ ByteArrayOutputStream, ByteArrayInputStream}\n",
    "import scala.io.Source\n",
    "import java.awt.image.BufferedImage\n",
    "import java.awt.{ Color => JColor }\n",
    "import javax.imageio.ImageIO\n",
    "import scala.util.Random\n",
    "import java.util.Base64\n",
    "import org.platanios.tensorflow.api.tf\n",
    "import org.platanios.tensorflow.api.tensors.Tensor\n",
    "import org.platanios.tensorflow.api.core.Shape\n",
    "import org.platanios.tensorflow.api.core.client.{Session, FeedMap}"
   ]
  },
  {
   "cell_type": "code",
   "execution_count": 3,
   "metadata": {},
   "outputs": [
    {
     "data": {
      "text/plain": [
       "defined \u001b[32mfunction\u001b[39m \u001b[36mtransformDataIntoTensors\u001b[39m"
      ]
     },
     "execution_count": 3,
     "metadata": {},
     "output_type": "execute_result"
    }
   ],
   "source": [
    "def transformDataIntoTensors(pathData: String, widthImage: Int): (Tensor[Float], Tensor[Int]) = {\n",
    "    val data = Source.fromFile(pathData).getLines.toList\n",
    "    val numImages = data.length\n",
    "    var dataNormalized: Array[Array[Double]] = Array.ofDim[Double](numImages, widthImage * widthImage)\n",
    "    var labels: List[Int] = List()\n",
    "\n",
    "    for ((line, index) <- data.zipWithIndex) {\n",
    "        val splitLine = line.split(\" \")\n",
    "        val base64Decoded: Array[Byte] = Base64.getDecoder.decode(splitLine.head)\n",
    "        val label = splitLine.last\n",
    "        val bufferedImage = ImageIO.read(new ByteArrayInputStream(base64Decoded))\n",
    "        labels = if (label == \"green\") 1 :: labels else 0 :: labels // 1 = green, 0 = blue\n",
    "        for (x <- 0 until bufferedImage.getWidth) {\n",
    "            for (y <- 0 until bufferedImage.getHeight) {\n",
    "                val color = bufferedImage.getRGB(x, y)\n",
    "                val green = ((color & 0x0000ff00) >> 8) / 255.0 // normalize\n",
    "                dataNormalized(index)(x * widthImage + y) = green\n",
    "            }\n",
    "        }\n",
    "    }\n",
    "\n",
    "    val labelsTensor = Tensor(labels.reverse).reshape(Shape(numImages))\n",
    "    val imagesTensor = Tensor(dataNormalized.flatten.toList).reshape(Shape(numImages, widthImage * widthImage)).toFloat // utiliser fill plus optimal je pense\n",
    "    val tensorHotEncoded = tf.oneHot(labelsTensor, 2, 1, 0) // 2 = nb dimensions, 1 = on value, 0 = off value\n",
    "    (imagesTensor, Session().run(fetches = tensorHotEncoded))\n",
    "}"
   ]
  },
  {
   "cell_type": "code",
   "execution_count": 4,
   "metadata": {},
   "outputs": [
    {
     "data": {
      "text/plain": [
       "defined \u001b[32mfunction\u001b[39m \u001b[36mconvertBufferedImgToByteArray\u001b[39m\n",
       "defined \u001b[32mfunction\u001b[39m \u001b[36mresize\u001b[39m\n",
       "defined \u001b[32mfunction\u001b[39m \u001b[36mgenerateRandomColor\u001b[39m\n",
       "defined \u001b[32mfunction\u001b[39m \u001b[36mgenerateRandomImage\u001b[39m\n",
       "defined \u001b[32mfunction\u001b[39m \u001b[36mgenerateBase64Image\u001b[39m"
      ]
     },
     "execution_count": 4,
     "metadata": {},
     "output_type": "execute_result"
    }
   ],
   "source": [
    "// Transform BufferedImage to a bytes Array\n",
    "def convertBufferedImgToByteArray(buffImg: BufferedImage): Array[Byte] = {\n",
    "    val baos = new ByteArrayOutputStream()\n",
    "    ImageIO.write(buffImg, \"png\", baos)\n",
    "    baos.toByteArray()\n",
    "}\n",
    "\n",
    "def resize(img: Array[Byte], height: Int, width: Int): Array[Byte] = {\n",
    "    val bais = new ByteArrayInputStream(img)\n",
    "    val bufferedImg = ImageIO.read(bais)\n",
    "    val newImg = bufferedImg.getScaledInstance(width, height, JImage.SCALE_SMOOTH)\n",
    "    val resized = new BufferedImage(width, height, BufferedImage.TYPE_INT_RGB)\n",
    "    val g2d = resized.createGraphics()\n",
    "    g2d.drawImage(newImg, 0, 0, null)\n",
    "    g2d.dispose()\n",
    "    convertBufferedImgToByteArray(resized)\n",
    "}\n",
    "\n",
    "// Generate a new blue-green color \n",
    "// initialGreen = First green choice randomly\n",
    "// step = step to choose the new green color\n",
    "// rnd = random generator\n",
    "// RETURN a new green and blue value with \n",
    "// (green: Int = random value between [intialGreen - step, initialGreen + step], blue: Int = 255 - green)\n",
    "def generateRandomColor(initialGreen: Int, step: Int, rnd: Random): (Int, Int) = {\n",
    "    // handle border cases\n",
    "    val start = if (initialGreen - step < 0) 0 else initialGreen - step\n",
    "    val end = if (initialGreen + step > 255) 255 else initialGreen + step\n",
    "    val randomGreen = start + rnd.nextInt((end - start) + 1)\n",
    "    // new color is [r = 0, g = randomGreen, b = 255 - randomGreen]\n",
    "    (randomGreen, 255 - randomGreen)\n",
    "}\n",
    "\n",
    "// Generate a random image\n",
    "// size of the image, size = width = height\n",
    "// step = step to choose the new green color\n",
    "// rnd = random generator\n",
    "// RETURN random image: BufferedImage\n",
    "def generateRandomImage(size: Int, step: Int, rnd: Random): BufferedImage = {\n",
    "    val rand = new Random(System.nanoTime)\n",
    "    val image = new BufferedImage(size, size, BufferedImage.TYPE_INT_RGB)\n",
    "    val initialGreen = rnd.nextInt(256) // random green between [0, 255]\n",
    "    val initialBlue = (255 - initialGreen)\n",
    "    for (x <- 0 until image.getWidth) {\n",
    "        for (y <- 0 until image.getHeight) {\n",
    "            // fill other with color depending from the initialGreen and the step variable\n",
    "            val (newGreen, newBlue) = generateRandomColor(initialGreen, step, rnd)\n",
    "            image.setRGB(x, y, new JColor(0, newGreen, newBlue).getRGB)\n",
    "        }\n",
    "    }\n",
    "    image\n",
    "}\n",
    "\n",
    "// Generate random image and convert it to base64 representation\n",
    "// step = step to choose the new green color\n",
    "// rnd = random generator\n",
    "// RETURN String = base64 random image\n",
    "def generateBase64Image(size: Int, step: Int, rnd: Random): String = {\n",
    "    val buffImage: BufferedImage = generateRandomImage(size, step, rnd)\n",
    "    val byteImage: Array[Byte] = convertBufferedImgToByteArray(buffImage)\n",
    "    Base64.getEncoder.encodeToString(byteImage)\n",
    "}"
   ]
  },
  {
   "cell_type": "code",
   "execution_count": 5,
   "metadata": {},
   "outputs": [
    {
     "data": {
      "text/plain": [
       "defined \u001b[32mfunction\u001b[39m \u001b[36mshowAnswers\u001b[39m"
      ]
     },
     "execution_count": 5,
     "metadata": {},
     "output_type": "execute_result"
    }
   ],
   "source": [
    "// Visualize results\n",
    "def showAnswers(nameFile: String) {\n",
    "    for (line <- Source.fromFile(nameFile).getLines) {\n",
    "        val splitLine = line.split(\" \")\n",
    "        val base64Decoded: Array[Byte] = Base64.getDecoder.decode(splitLine.head)\n",
    "        val image = Image(resize(base64Decoded, 100, 100)).withFormat(Image.PNG).display\n",
    "        val label = splitLine.last\n",
    "        println(label)\n",
    "    }\n",
    "}"
   ]
  },
  {
   "cell_type": "markdown",
   "metadata": {},
   "source": [
    "# TRAINING"
   ]
  },
  {
   "cell_type": "markdown",
   "metadata": {},
   "source": [
    "### Parameters"
   ]
  },
  {
   "cell_type": "code",
   "execution_count": 6,
   "metadata": {},
   "outputs": [
    {
     "data": {
      "text/plain": [
       "\u001b[36mlearningRate\u001b[39m: \u001b[32mFloat\u001b[39m = \u001b[32m0.35F\u001b[39m\n",
       "\u001b[36mepochs\u001b[39m: \u001b[32mInt\u001b[39m = \u001b[32m100\u001b[39m\n",
       "\u001b[36mwidthImage\u001b[39m: \u001b[32mInt\u001b[39m = \u001b[32m5\u001b[39m\n",
       "\u001b[36mpathData\u001b[39m: \u001b[32mString\u001b[39m = \u001b[32m\"../resources/labels.txt\"\u001b[39m\n",
       "\u001b[36mstep\u001b[39m: \u001b[32mInt\u001b[39m = \u001b[32m20\u001b[39m\n",
       "\u001b[36mclassNumber\u001b[39m: \u001b[32mInt\u001b[39m = \u001b[32m2\u001b[39m"
      ]
     },
     "execution_count": 6,
     "metadata": {},
     "output_type": "execute_result"
    }
   ],
   "source": [
    "val learningRate = 0.35f\n",
    "val epochs = 100 // number of `iteration` in this case\n",
    "val widthImage = 5\n",
    "val pathData = \"../resources/labels.txt\"\n",
    "val step = 20\n",
    "\n",
    "val classNumber = 2 // blue or green"
   ]
  },
  {
   "cell_type": "markdown",
   "metadata": {},
   "source": [
    "### Visualize"
   ]
  },
  {
   "cell_type": "code",
   "execution_count": 7,
   "metadata": {},
   "outputs": [
    {
     "data": {
      "image/png": "[encoded data removed]"
     },
     "metadata": {},
     "output_type": "display_data"
    },
    {
     "name": "stdout",
     "output_type": "stream",
     "text": [
      "green\n"
     ]
    },
    {
     "data": {
      "image/png": "[encoded data removed]"
     },
     "metadata": {},
     "output_type": "display_data"
    },
    {
     "name": "stdout",
     "output_type": "stream",
     "text": [
      "blue\n"
     ]
    },
    {
     "data": {
      "image/png": "[encoded data removed]"
     },
     "metadata": {},
     "output_type": "display_data"
    },
    {
     "name": "stdout",
     "output_type": "stream",
     "text": [
      "green\n"
     ]
    },
    {
     "data": {
      "image/png": "[encoded data removed]"
     },
     "metadata": {},
     "output_type": "display_data"
    },
    {
     "name": "stdout",
     "output_type": "stream",
     "text": [
      "blue\n"
     ]
    },
    {
     "data": {
      "image/png": "[encoded data removed]"
     },
     "metadata": {},
     "output_type": "display_data"
    },
    {
     "name": "stdout",
     "output_type": "stream",
     "text": [
      "blue\n"
     ]
    },
    {
     "data": {
      "image/png": "[encoded data removed]"
     },
     "metadata": {},
     "output_type": "display_data"
    },
    {
     "name": "stdout",
     "output_type": "stream",
     "text": [
      "blue\n"
     ]
    },
    {
     "data": {
      "image/png": "[encoded data removed]"
     },
     "metadata": {},
     "output_type": "display_data"
    },
    {
     "name": "stdout",
     "output_type": "stream",
     "text": [
      "green\n"
     ]
    },
    {
     "data": {
      "image/png": "[encoded data removed]"
     },
     "metadata": {},
     "output_type": "display_data"
    },
    {
     "name": "stdout",
     "output_type": "stream",
     "text": [
      "blue\n"
     ]
    },
    {
     "data": {
      "image/png": "[encoded data removed]"
     },
     "metadata": {},
     "output_type": "display_data"
    },
    {
     "name": "stdout",
     "output_type": "stream",
     "text": [
      "blue\n"
     ]
    },
    {
     "data": {
      "image/png": "[encoded data removed]"
     },
     "metadata": {},
     "output_type": "display_data"
    },
    {
     "name": "stdout",
     "output_type": "stream",
     "text": [
      "blue\n"
     ]
    },
    {
     "data": {
      "image/png": "[encoded data removed]"
     },
     "metadata": {},
     "output_type": "display_data"
    },
    {
     "name": "stdout",
     "output_type": "stream",
     "text": [
      "green\n"
     ]
    },
    {
     "data": {
      "image/png": "[encoded data removed]"
     },
     "metadata": {},
     "output_type": "display_data"
    },
    {
     "name": "stdout",
     "output_type": "stream",
     "text": [
      "green\n"
     ]
    },
    {
     "data": {
      "image/png": "[encoded data removed]"
     },
     "metadata": {},
     "output_type": "display_data"
    },
    {
     "name": "stdout",
     "output_type": "stream",
     "text": [
      "blue\n"
     ]
    },
    {
     "data": {
      "image/png": "[encoded data removed]"
     },
     "metadata": {},
     "output_type": "display_data"
    },
    {
     "name": "stdout",
     "output_type": "stream",
     "text": [
      "blue\n"
     ]
    },
    {
     "data": {
      "image/png": "[encoded data removed]"
     },
     "metadata": {},
     "output_type": "display_data"
    },
    {
     "name": "stdout",
     "output_type": "stream",
     "text": [
      "green\n"
     ]
    },
    {
     "data": {
      "image/png": "[encoded data removed]"
     },
     "metadata": {},
     "output_type": "display_data"
    },
    {
     "name": "stdout",
     "output_type": "stream",
     "text": [
      "green\n"
     ]
    },
    {
     "data": {
      "image/png": "[encoded data removed]"
     },
     "metadata": {},
     "output_type": "display_data"
    },
    {
     "name": "stdout",
     "output_type": "stream",
     "text": [
      "green\n"
     ]
    },
    {
     "data": {
      "image/png": "[encoded data removed]"
     },
     "metadata": {},
     "output_type": "display_data"
    },
    {
     "name": "stdout",
     "output_type": "stream",
     "text": [
      "blue\n"
     ]
    },
    {
     "data": {
      "image/png": "[encoded data removed]"
     },
     "metadata": {},
     "output_type": "display_data"
    },
    {
     "name": "stdout",
     "output_type": "stream",
     "text": [
      "green\n"
     ]
    },
    {
     "data": {
      "image/png": "[encoded data removed]"
     },
     "metadata": {},
     "output_type": "display_data"
    },
    {
     "name": "stdout",
     "output_type": "stream",
     "text": [
      "green\n"
     ]
    },
    {
     "data": {
      "image/png": "[encoded data removed]"
     },
     "metadata": {},
     "output_type": "display_data"
    },
    {
     "name": "stdout",
     "output_type": "stream",
     "text": [
      "green\n"
     ]
    }
   ],
   "source": [
    "showAnswers(pathData)"
   ]
  },
  {
   "cell_type": "markdown",
   "metadata": {},
   "source": [
    "### Model Creation\n",
    "We use a softmax activation because we want multi-class classification (= blue or green and not both at the same time)"
   ]
  },
  {
   "cell_type": "code",
   "execution_count": 25,
   "metadata": {},
   "outputs": [
    {
     "data": {
      "text/plain": [
       "\u001b[36msess\u001b[39m: \u001b[32mSession\u001b[39m = org.platanios.tensorflow.api.core.client.Session@5968deee\n",
       "\u001b[36msizeImage\u001b[39m: \u001b[32mInt\u001b[39m = \u001b[32m25\u001b[39m\n",
       "\u001b[36mimagesPlaceholder\u001b[39m: \u001b[32morg\u001b[39m.\u001b[32mplatanios\u001b[39m.\u001b[32mtensorflow\u001b[39m.\u001b[32mapi\u001b[39m.\u001b[32mops\u001b[39m.\u001b[32mOutput\u001b[39m[\u001b[32mFloat\u001b[39m] = \u001b[33mOutput\u001b[39m(\n",
       "  Placeholder_4,\n",
       "  \u001b[32m0\u001b[39m\n",
       ")\n",
       "\u001b[36mlabelsPlaceholder\u001b[39m: \u001b[32morg\u001b[39m.\u001b[32mplatanios\u001b[39m.\u001b[32mtensorflow\u001b[39m.\u001b[32mapi\u001b[39m.\u001b[32mops\u001b[39m.\u001b[32mOutput\u001b[39m[\u001b[32mFloat\u001b[39m] = \u001b[33mOutput\u001b[39m(\n",
       "  Placeholder_5,\n",
       "  \u001b[32m0\u001b[39m\n",
       ")\n",
       "\u001b[36mW\u001b[39m: \u001b[32mtf\u001b[39m.\u001b[32mVariable\u001b[39m[\u001b[32mFloat\u001b[39m] = \u001b[33mVariable\u001b[39m(\n",
       "  \u001b[33mDataType\u001b[39m(\u001b[32m\"Float\"\u001b[39m, \u001b[32m1\u001b[39m, \u001b[33mSome\u001b[39m(\u001b[32m4\u001b[39m), DT_FLOAT),\n",
       "  \u001b[33mOutput\u001b[39m(weights, \u001b[32m0\u001b[39m),\n",
       "  weights/InitializationAssign,\n",
       "  \u001b[32mnull\u001b[39m,\n",
       "  \u001b[33mOutput\u001b[39m(weights/Read/ReadVariable, \u001b[32m0\u001b[39m)\n",
       ")\n",
       "\u001b[36mB\u001b[39m: \u001b[32mtf\u001b[39m.\u001b[32mVariable\u001b[39m[\u001b[32mFloat\u001b[39m] = \u001b[33mVariable\u001b[39m(\n",
       "  \u001b[33mDataType\u001b[39m(\u001b[32m\"Float\"\u001b[39m, \u001b[32m1\u001b[39m, \u001b[33mSome\u001b[39m(\u001b[32m4\u001b[39m), DT_FLOAT),\n",
       "  \u001b[33mOutput\u001b[39m(biais, \u001b[32m0\u001b[39m),\n",
       "  biais/InitializationAssign,\n",
       "  \u001b[32mnull\u001b[39m,\n",
       "  \u001b[33mOutput\u001b[39m(biais/Read/ReadVariable, \u001b[32m0\u001b[39m)\n",
       ")\n",
       "\u001b[36mlabelsInfered\u001b[39m: \u001b[32morg\u001b[39m.\u001b[32mplatanios\u001b[39m.\u001b[32mtensorflow\u001b[39m.\u001b[32mapi\u001b[39m.\u001b[32mops\u001b[39m.\u001b[32mOutput\u001b[39m[\u001b[32mFloat\u001b[39m] = \u001b[33mOutput\u001b[39m(Add_2, \u001b[32m0\u001b[39m)\n",
       "\u001b[36mcost\u001b[39m: \u001b[32morg\u001b[39m.\u001b[32mplatanios\u001b[39m.\u001b[32mtensorflow\u001b[39m.\u001b[32mapi\u001b[39m.\u001b[32mops\u001b[39m.\u001b[32mOutput\u001b[39m[\u001b[32mFloat\u001b[39m] = \u001b[33mOutput\u001b[39m(Mean_5, \u001b[32m0\u001b[39m)\n",
       "\u001b[36moptimizer\u001b[39m: \u001b[32morg\u001b[39m.\u001b[32mplatanios\u001b[39m.\u001b[32mtensorflow\u001b[39m.\u001b[32mapi\u001b[39m.\u001b[32mops\u001b[39m.\u001b[32mpackage\u001b[39m.\u001b[32mUntypedOp\u001b[39m = Minimize_2/Finish\n",
       "\u001b[36mres24_9\u001b[39m: \u001b[32morg\u001b[39m.\u001b[32mplatanios\u001b[39m.\u001b[32mtensorflow\u001b[39m.\u001b[32mapi\u001b[39m.\u001b[32mimplicits\u001b[39m.\u001b[32mhelpers\u001b[39m.\u001b[32mOutputToTensor\u001b[39m.\u001b[32m<refinement>\u001b[39m.this.type.\u001b[32mV\u001b[39m = \u001b[33mList\u001b[39m()"
      ]
     },
     "execution_count": 25,
     "metadata": {},
     "output_type": "execute_result"
    }
   ],
   "source": [
    "val sess = Session()\n",
    "val sizeImage = widthImage * widthImage // num features\n",
    "\n",
    "val imagesPlaceholder = tf.placeholder[Float](Shape(-1, sizeImage)) // = x\n",
    "val labelsPlaceholder = tf.placeholder[Float](Shape(-1, classNumber)) // = y_\n",
    "\n",
    "val W = tf.variable[Float](\"weights\", Shape(sizeImage, classNumber), tf.ZerosInitializer)\n",
    "val B = tf.variable[Float](\"biais\", Shape(classNumber), tf.ZerosInitializer)\n",
    "\n",
    "val labelsInfered = tf.add(tf.matmul(imagesPlaceholder, W), B) // W.x + B = (a.x + b) ... = Ŷ\n",
    "\n",
    "val cost = tf.mean(tf.softmaxCrossEntropy(logits = labelsInfered, labels = labelsPlaceholder))\n",
    "\n",
    "val optimizer = tf.train.GradientDescent(learningRate = learningRate).minimize(cost) \n",
    "\n",
    "sess.run(targets = tf.globalVariablesInitializer())"
   ]
  },
  {
   "cell_type": "markdown",
   "metadata": {},
   "source": [
    "### Training the model"
   ]
  },
  {
   "cell_type": "code",
   "execution_count": 26,
   "metadata": {},
   "outputs": [
    {
     "name": "stdout",
     "output_type": "stream",
     "text": [
      "Train loss at iteration 10 = 0.48758185\n",
      "Accuracy at iteration 10 = 71.42857%\n",
      "\n",
      "Train loss at iteration 20 = 0.39355093\n",
      "Accuracy at iteration 20 = 85.71429%\n",
      "\n",
      "Train loss at iteration 30 = 0.3318882\n",
      "Accuracy at iteration 30 = 95.2381%\n",
      "\n",
      "Train loss at iteration 40 = 0.28900027\n",
      "Accuracy at iteration 40 = 100.0%\n",
      "\n",
      "Train loss at iteration 50 = 0.25759616\n",
      "Accuracy at iteration 50 = 100.0%\n",
      "\n",
      "Train loss at iteration 60 = 0.23362005\n",
      "Accuracy at iteration 60 = 100.0%\n",
      "\n",
      "Train loss at iteration 70 = 0.2146918\n",
      "Accuracy at iteration 70 = 100.0%\n",
      "\n",
      "Train loss at iteration 80 = 0.19934003\n",
      "Accuracy at iteration 80 = 100.0%\n",
      "\n",
      "Train loss at iteration 90 = 0.18661182\n",
      "Accuracy at iteration 90 = 100.0%\n",
      "\n",
      "Train loss at iteration 100 = 0.17586483\n",
      "Accuracy at iteration 100 = 100.0%\n",
      "\n"
     ]
    }
   ],
   "source": [
    "{{\n",
    "val (imagesTensor, labelsTensor) = transformDataIntoTensors(pathData, widthImage)\n",
    "val correct_prediction = tf.mean(tf.equal(tf.argmax(input = labelsInfered, axes = -1, outputDataType = Int), tf.argmax(input = labelsPlaceholder, axes = -1, outputDataType = Int)).toFloat)\n",
    "\n",
    "val history = (1 to epochs).map { e => \n",
    "    val (costIte, accIte) = sess.run(fetches = (cost, correct_prediction), targets = optimizer, feeds = FeedMap(Map(imagesPlaceholder -> imagesTensor, labelsPlaceholder -> labelsTensor.toFloat)))\n",
    "    if (e % 10 == 0) { println(s\"Train loss at iteration $e = ${costIte.scalar}\\nAccuracy at iteration $e = ${accIte.scalar * 100}%\\n\") }\n",
    "    (costIte.scalar, accIte.scalar)\n",
    "}\n",
    "}}"
   ]
  },
  {
   "cell_type": "markdown",
   "metadata": {},
   "source": [
    "### Display cost"
   ]
  },
  {
   "cell_type": "code",
   "execution_count": 10,
   "metadata": {},
   "outputs": [
    {
     "data": {
      "text/plain": [
       "\u001b[36mweight\u001b[39m: \u001b[32mTensor\u001b[39m[\u001b[32mFloat\u001b[39m] = Tensor[Float, [25, 2]]\n",
       "\u001b[36mbiais\u001b[39m: \u001b[32mTensor\u001b[39m[\u001b[32mFloat\u001b[39m] = Tensor[Float, [2]]"
      ]
     },
     "execution_count": 10,
     "metadata": {},
     "output_type": "execute_result"
    }
   ],
   "source": [
    "val weight = sess.run(fetches = W.value)\n",
    "val biais  = sess.run(fetches = B.value)"
   ]
  },
  {
   "cell_type": "code",
   "execution_count": 23,
   "metadata": {},
   "outputs": [
    {
     "data": {
      "application/vnd.plotly.v1+json": {
       "data": [
        {
         "name": "Cost history",
         "type": "scatter",
         "x": [
          1,
          2,
          3,
          4,
          5,
          6,
          7,
          8,
          9,
          10,
          11,
          12,
          13,
          14,
          15,
          16,
          17,
          18,
          19,
          20,
          21,
          22,
          23,
          24,
          25,
          26,
          27,
          28,
          29,
          30,
          31,
          32,
          33,
          34,
          35,
          36,
          37,
          38,
          39,
          40,
          41,
          42,
          43,
          44,
          45,
          46,
          47,
          48,
          49,
          50,
          51,
          52,
          53,
          54,
          55,
          56,
          57,
          58,
          59,
          60,
          61,
          62,
          63,
          64,
          65,
          66,
          67,
          68,
          69,
          70,
          71,
          72,
          73,
          74,
          75,
          76,
          77,
          78,
          79,
          80,
          81,
          82,
          83,
          84,
          85,
          86,
          87,
          88,
          89,
          90,
          91,
          92,
          93,
          94,
          95,
          96,
          97,
          98,
          99,
          100
         ],
         "y": [
          0.6931471824645996,
          0.6361860632896423,
          0.5877954363822937,
          0.5699154138565063,
          0.5540135502815247,
          0.5393245816230774,
          0.5254185199737549,
          0.512191653251648,
          0.49959173798561096,
          0.48758184909820557,
          0.4761292040348053,
          0.46520310640335083,
          0.45477423071861267,
          0.4448150396347046,
          0.43529918789863586,
          0.4262019991874695,
          0.41749998927116394,
          0.40917110443115234,
          0.40119463205337524,
          0.39355093240737915,
          0.3862217366695404,
          0.3791898488998413,
          0.3724389672279358,
          0.3659540116786957,
          0.3597206771373749,
          0.3537255525588989,
          0.3479561507701874,
          0.3424007296562195,
          0.337048202753067,
          0.33188819885253906,
          0.32691097259521484,
          0.3221074640750885,
          0.31746894121170044,
          0.31298747658729553,
          0.30865541100502014,
          0.30446553230285645,
          0.30041128396987915,
          0.2964862585067749,
          0.2926844358444214,
          0.2890002727508545,
          0.28542840480804443,
          0.281963974237442,
          0.2786020338535309,
          0.2753382623195648,
          0.27216848731040955,
          0.26908862590789795,
          0.26609498262405396,
          0.2631838917732239,
          0.2603520154953003,
          0.2575961649417877,
          0.2549133598804474,
          0.25230059027671814,
          0.24975517392158508,
          0.2472744882106781,
          0.24485613405704498,
          0.24249766767024994,
          0.24019691348075867,
          0.23795171082019806,
          0.23576007783412933,
          0.2336200475692749,
          0.23152978718280792,
          0.22948750853538513,
          0.227491557598114,
          0.2255403697490692,
          0.22363238036632538,
          0.2217661589384079,
          0.21994030475616455,
          0.2181534767150879,
          0.21640436351299286,
          0.21469180285930634,
          0.21301457285881042,
          0.21137158572673798,
          0.20976178348064423,
          0.20818407833576202,
          0.20663754642009735,
          0.20512117445468903,
          0.2036341279745102,
          0.20217545330524445,
          0.2007443606853485,
          0.19934003055095673,
          0.1979617178440094,
          0.19660858809947968,
          0.19528000056743622,
          0.1939752846956253,
          0.19269375503063202,
          0.19143469631671906,
          0.19019754230976105,
          0.18898174166679382,
          0.18778666853904724,
          0.1866118162870407,
          0.18545658886432648,
          0.18432047963142395,
          0.1832030713558197,
          0.18210376799106598,
          0.18102222681045532,
          0.17995792627334595,
          0.17891046404838562,
          0.17787936329841614,
          0.17686431109905243,
          0.1758648306131363
         ]
        },
        {
         "name": "Accuracy history",
         "type": "scatter",
         "x": [
          1,
          2,
          3,
          4,
          5,
          6,
          7,
          8,
          9,
          10,
          11,
          12,
          13,
          14,
          15,
          16,
          17,
          18,
          19,
          20,
          21,
          22,
          23,
          24,
          25,
          26,
          27,
          28,
          29,
          30,
          31,
          32,
          33,
          34,
          35,
          36,
          37,
          38,
          39,
          40,
          41,
          42,
          43,
          44,
          45,
          46,
          47,
          48,
          49,
          50,
          51,
          52,
          53,
          54,
          55,
          56,
          57,
          58,
          59,
          60,
          61,
          62,
          63,
          64,
          65,
          66,
          67,
          68,
          69,
          70,
          71,
          72,
          73,
          74,
          75,
          76,
          77,
          78,
          79,
          80,
          81,
          82,
          83,
          84,
          85,
          86,
          87,
          88,
          89,
          90,
          91,
          92,
          93,
          94,
          95,
          96,
          97,
          98,
          99,
          100
         ],
         "y": [
          0.4761904776096344,
          0.523809552192688,
          0.523809552192688,
          0.5714285969734192,
          0.5714285969734192,
          0.6190476417541504,
          0.6190476417541504,
          0.7142857313156128,
          0.7142857313156128,
          0.7142857313156128,
          0.7142857313156128,
          0.7142857313156128,
          0.7142857313156128,
          0.761904776096344,
          0.761904776096344,
          0.8095238208770752,
          0.8571428656578064,
          0.8571428656578064,
          0.8571428656578064,
          0.8571428656578064,
          0.8571428656578064,
          0.8571428656578064,
          0.9047619104385376,
          0.9047619104385376,
          0.9523809552192688,
          0.9523809552192688,
          0.9523809552192688,
          0.9523809552192688,
          0.9523809552192688,
          0.9523809552192688,
          0.9523809552192688,
          0.9523809552192688,
          0.9523809552192688,
          1,
          1,
          1,
          1,
          1,
          1,
          1,
          1,
          1,
          1,
          1,
          1,
          1,
          1,
          1,
          1,
          1,
          1,
          1,
          1,
          1,
          1,
          1,
          1,
          1,
          1,
          1,
          1,
          1,
          1,
          1,
          1,
          1,
          1,
          1,
          1,
          1,
          1,
          1,
          1,
          1,
          1,
          1,
          1,
          1,
          1,
          1,
          1,
          1,
          1,
          1,
          1,
          1,
          1,
          1,
          1,
          1,
          1,
          1,
          1,
          1,
          1,
          1,
          1,
          1,
          1,
          1
         ]
        }
       ],
       "layout": {
        "title": "Cost and Accuracy history"
       }
      },
      "text/html": [
       "<div class=\"chart\" id=\"plot-9e154ed4-9dae-4338-9f76-02043a2afe54\"></div>\n",
       "<script>require(['plotly'], function(Plotly) {\n",
       "  (function () {\n",
       "  var data0 = {\"x\":[1.0,2.0,3.0,4.0,5.0,6.0,7.0,8.0,9.0,10.0,11.0,12.0,13.0,14.0,15.0,16.0,17.0,18.0,19.0,20.0,21.0,22.0,23.0,24.0,25.0,26.0,27.0,28.0,29.0,30.0,31.0,32.0,33.0,34.0,35.0,36.0,37.0,38.0,39.0,40.0,41.0,42.0,43.0,44.0,45.0,46.0,47.0,48.0,49.0,50.0,51.0,52.0,53.0,54.0,55.0,56.0,57.0,58.0,59.0,60.0,61.0,62.0,63.0,64.0,65.0,66.0,67.0,68.0,69.0,70.0,71.0,72.0,73.0,74.0,75.0,76.0,77.0,78.0,79.0,80.0,81.0,82.0,83.0,84.0,85.0,86.0,87.0,88.0,89.0,90.0,91.0,92.0,93.0,94.0,95.0,96.0,97.0,98.0,99.0,100.0],\"name\":\"Cost history\",\"y\":[0.6931471824645996,0.6361860632896423,0.5877954363822937,0.5699154138565063,0.5540135502815247,0.5393245816230774,0.5254185199737549,0.512191653251648,0.49959173798561096,0.48758184909820557,0.4761292040348053,0.46520310640335083,0.45477423071861267,0.4448150396347046,0.43529918789863586,0.4262019991874695,0.41749998927116394,0.40917110443115234,0.40119463205337524,0.39355093240737915,0.3862217366695404,0.3791898488998413,0.3724389672279358,0.3659540116786957,0.3597206771373749,0.3537255525588989,0.3479561507701874,0.3424007296562195,0.337048202753067,0.33188819885253906,0.32691097259521484,0.3221074640750885,0.31746894121170044,0.31298747658729553,0.30865541100502014,0.30446553230285645,0.30041128396987915,0.2964862585067749,0.2926844358444214,0.2890002727508545,0.28542840480804443,0.281963974237442,0.2786020338535309,0.2753382623195648,0.27216848731040955,0.26908862590789795,0.26609498262405396,0.2631838917732239,0.2603520154953003,0.2575961649417877,0.2549133598804474,0.25230059027671814,0.24975517392158508,0.2472744882106781,0.24485613405704498,0.24249766767024994,0.24019691348075867,0.23795171082019806,0.23576007783412933,0.2336200475692749,0.23152978718280792,0.22948750853538513,0.227491557598114,0.2255403697490692,0.22363238036632538,0.2217661589384079,0.21994030475616455,0.2181534767150879,0.21640436351299286,0.21469180285930634,0.21301457285881042,0.21137158572673798,0.20976178348064423,0.20818407833576202,0.20663754642009735,0.20512117445468903,0.2036341279745102,0.20217545330524445,0.2007443606853485,0.19934003055095673,0.1979617178440094,0.19660858809947968,0.19528000056743622,0.1939752846956253,0.19269375503063202,0.19143469631671906,0.19019754230976105,0.18898174166679382,0.18778666853904724,0.1866118162870407,0.18545658886432648,0.18432047963142395,0.1832030713558197,0.18210376799106598,0.18102222681045532,0.17995792627334595,0.17891046404838562,0.17787936329841614,0.17686431109905243,0.1758648306131363],\"type\":\"scatter\"};\n",
       "  var data1 = {\"x\":[1.0,2.0,3.0,4.0,5.0,6.0,7.0,8.0,9.0,10.0,11.0,12.0,13.0,14.0,15.0,16.0,17.0,18.0,19.0,20.0,21.0,22.0,23.0,24.0,25.0,26.0,27.0,28.0,29.0,30.0,31.0,32.0,33.0,34.0,35.0,36.0,37.0,38.0,39.0,40.0,41.0,42.0,43.0,44.0,45.0,46.0,47.0,48.0,49.0,50.0,51.0,52.0,53.0,54.0,55.0,56.0,57.0,58.0,59.0,60.0,61.0,62.0,63.0,64.0,65.0,66.0,67.0,68.0,69.0,70.0,71.0,72.0,73.0,74.0,75.0,76.0,77.0,78.0,79.0,80.0,81.0,82.0,83.0,84.0,85.0,86.0,87.0,88.0,89.0,90.0,91.0,92.0,93.0,94.0,95.0,96.0,97.0,98.0,99.0,100.0],\"name\":\"Accuracy history\",\"y\":[0.4761904776096344,0.523809552192688,0.523809552192688,0.5714285969734192,0.5714285969734192,0.6190476417541504,0.6190476417541504,0.7142857313156128,0.7142857313156128,0.7142857313156128,0.7142857313156128,0.7142857313156128,0.7142857313156128,0.761904776096344,0.761904776096344,0.8095238208770752,0.8571428656578064,0.8571428656578064,0.8571428656578064,0.8571428656578064,0.8571428656578064,0.8571428656578064,0.9047619104385376,0.9047619104385376,0.9523809552192688,0.9523809552192688,0.9523809552192688,0.9523809552192688,0.9523809552192688,0.9523809552192688,0.9523809552192688,0.9523809552192688,0.9523809552192688,1.0,1.0,1.0,1.0,1.0,1.0,1.0,1.0,1.0,1.0,1.0,1.0,1.0,1.0,1.0,1.0,1.0,1.0,1.0,1.0,1.0,1.0,1.0,1.0,1.0,1.0,1.0,1.0,1.0,1.0,1.0,1.0,1.0,1.0,1.0,1.0,1.0,1.0,1.0,1.0,1.0,1.0,1.0,1.0,1.0,1.0,1.0,1.0,1.0,1.0,1.0,1.0,1.0,1.0,1.0,1.0,1.0,1.0,1.0,1.0,1.0,1.0,1.0,1.0,1.0,1.0,1.0],\"type\":\"scatter\"};\n",
       "\n",
       "  var data = [data0, data1];\n",
       "  var layout = {\"title\":\"Cost and Accuracy history\"};\n",
       "\n",
       "  Plotly.plot('plot-9e154ed4-9dae-4338-9f76-02043a2afe54', data, layout);\n",
       "})();\n",
       "});\n",
       "      </script>\n",
       "           "
      ]
     },
     "metadata": {},
     "output_type": "display_data"
    },
    {
     "data": {
      "text/plain": [
       "\u001b[36mres22\u001b[39m: \u001b[32mString\u001b[39m = \u001b[32m\"plot-9e154ed4-9dae-4338-9f76-02043a2afe54\"\u001b[39m"
      ]
     },
     "execution_count": 23,
     "metadata": {},
     "output_type": "execute_result"
    }
   ],
   "source": [
    "// If it doesn't display, remove checkpoints in the same folder and run all the notebook again\n",
    "{{\n",
    "val costHistory = Scatter(\n",
    "    (1 to epochs), \n",
    "    history.map(h => h._1),\n",
    "    name = \"Cost history\"\n",
    ")\n",
    "\n",
    "val accHistory = Scatter(\n",
    "    (1 to epochs), \n",
    "    history.map(h => h._2),\n",
    "    name = \"Accuracy history\"\n",
    ")\n",
    "\n",
    "val data = Seq(costHistory, accHistory)\n",
    "val layout = Layout(title = \"Cost and Accuracy history\")\n",
    "plot(data, layout)\n",
    "}}"
   ]
  },
  {
   "cell_type": "markdown",
   "metadata": {},
   "source": [
    "### Test our trained model"
   ]
  },
  {
   "cell_type": "code",
   "execution_count": 24,
   "metadata": {},
   "outputs": [
    {
     "data": {
      "image/png": "[encoded data removed]"
     },
     "metadata": {},
     "output_type": "display_data"
    },
    {
     "name": "stdout",
     "output_type": "stream",
     "text": [
      "green\n"
     ]
    },
    {
     "data": {
      "image/png": "[encoded data removed]"
     },
     "metadata": {},
     "output_type": "display_data"
    },
    {
     "name": "stdout",
     "output_type": "stream",
     "text": [
      "blue\n"
     ]
    },
    {
     "data": {
      "image/png": "[encoded data removed]"
     },
     "metadata": {},
     "output_type": "display_data"
    },
    {
     "name": "stdout",
     "output_type": "stream",
     "text": [
      "green\n"
     ]
    },
    {
     "data": {
      "image/png": "[encoded data removed]"
     },
     "metadata": {},
     "output_type": "display_data"
    },
    {
     "name": "stdout",
     "output_type": "stream",
     "text": [
      "blue\n"
     ]
    },
    {
     "data": {
      "image/png": "[encoded data removed]"
     },
     "metadata": {},
     "output_type": "display_data"
    },
    {
     "name": "stdout",
     "output_type": "stream",
     "text": [
      "blue\n"
     ]
    },
    {
     "data": {
      "image/png": "[encoded data removed]"
     },
     "metadata": {},
     "output_type": "display_data"
    },
    {
     "name": "stdout",
     "output_type": "stream",
     "text": [
      "green\n"
     ]
    },
    {
     "data": {
      "image/png": "[encoded data removed]"
     },
     "metadata": {},
     "output_type": "display_data"
    },
    {
     "name": "stdout",
     "output_type": "stream",
     "text": [
      "green\n"
     ]
    },
    {
     "data": {
      "image/png": "[encoded data removed]"
     },
     "metadata": {},
     "output_type": "display_data"
    },
    {
     "name": "stdout",
     "output_type": "stream",
     "text": [
      "blue\n"
     ]
    },
    {
     "data": {
      "image/png": "[encoded data removed]"
     },
     "metadata": {},
     "output_type": "display_data"
    },
    {
     "name": "stdout",
     "output_type": "stream",
     "text": [
      "blue\n"
     ]
    },
    {
     "data": {
      "image/png": "[encoded data removed]"
     },
     "metadata": {},
     "output_type": "display_data"
    },
    {
     "name": "stdout",
     "output_type": "stream",
     "text": [
      "blue\n"
     ]
    },
    {
     "data": {
      "image/png": "[encoded data removed]"
     },
     "metadata": {},
     "output_type": "display_data"
    },
    {
     "name": "stdout",
     "output_type": "stream",
     "text": [
      "blue\n"
     ]
    },
    {
     "data": {
      "image/png": "[encoded data removed]"
     },
     "metadata": {},
     "output_type": "display_data"
    },
    {
     "name": "stdout",
     "output_type": "stream",
     "text": [
      "green\n"
     ]
    },
    {
     "data": {
      "image/png": "[encoded data removed]"
     },
     "metadata": {},
     "output_type": "display_data"
    },
    {
     "name": "stdout",
     "output_type": "stream",
     "text": [
      "green\n"
     ]
    },
    {
     "data": {
      "image/png": "[encoded data removed]"
     },
     "metadata": {},
     "output_type": "display_data"
    },
    {
     "name": "stdout",
     "output_type": "stream",
     "text": [
      "blue\n"
     ]
    },
    {
     "data": {
      "image/png": "[encoded data removed]"
     },
     "metadata": {},
     "output_type": "display_data"
    },
    {
     "name": "stdout",
     "output_type": "stream",
     "text": [
      "blue\n"
     ]
    },
    {
     "data": {
      "image/png": "[encoded data removed]"
     },
     "metadata": {},
     "output_type": "display_data"
    },
    {
     "name": "stdout",
     "output_type": "stream",
     "text": [
      "green\n"
     ]
    },
    {
     "data": {
      "image/png": "[encoded data removed]"
     },
     "metadata": {},
     "output_type": "display_data"
    },
    {
     "name": "stdout",
     "output_type": "stream",
     "text": [
      "blue\n"
     ]
    },
    {
     "data": {
      "image/png": "[encoded data removed]"
     },
     "metadata": {},
     "output_type": "display_data"
    },
    {
     "name": "stdout",
     "output_type": "stream",
     "text": [
      "blue\n"
     ]
    },
    {
     "data": {
      "image/png": "[encoded data removed]"
     },
     "metadata": {},
     "output_type": "display_data"
    },
    {
     "name": "stdout",
     "output_type": "stream",
     "text": [
      "blue\n"
     ]
    },
    {
     "data": {
      "image/png": "[encoded data removed]"
     },
     "metadata": {},
     "output_type": "display_data"
    },
    {
     "name": "stdout",
     "output_type": "stream",
     "text": [
      "green\n"
     ]
    },
    {
     "data": {
      "image/png": "[encoded data removed]"
     },
     "metadata": {},
     "output_type": "display_data"
    },
    {
     "name": "stdout",
     "output_type": "stream",
     "text": [
      "blue\n"
     ]
    },
    {
     "data": {
      "text/plain": [
       "\u001b[36mrand\u001b[39m: \u001b[32mRandom\u001b[39m = scala.util.Random@1c856091"
      ]
     },
     "execution_count": 24,
     "metadata": {},
     "output_type": "execute_result"
    }
   ],
   "source": [
    "val rand = new Random(System.nanoTime) // random generator for random images\n",
    "\n",
    "for (i <- 0 to 20) {\n",
    "    val newData: Array[Double] = Array.ofDim[Double](sizeImage)\n",
    "    val img = generateBase64Image(widthImage, step, rand)\n",
    "    val base64Decoded: Array[Byte] = Base64.getDecoder.decode(img)\n",
    "    val bufferedImage = ImageIO.read(new ByteArrayInputStream(base64Decoded))\n",
    "    val image = Image(resize(base64Decoded, 100, 100)).withFormat(Image.PNG).display\n",
    "\n",
    "    for (x <- 0 until bufferedImage.getWidth) {\n",
    "        for (y <- 0 until bufferedImage.getHeight) {\n",
    "            val color = bufferedImage.getRGB(x, y)\n",
    "            val green = ((color & 0x0000ff00) >> 8) / 255.0 // normalize\n",
    "            newData(x * widthImage + y) = green\n",
    "        }\n",
    "    }\n",
    "\n",
    "\n",
    "    val imagesTensor = Tensor(newData.toList).reshape(Shape(1, sizeImage))\n",
    "    val labelDetected = sess.run(fetches = tf.argmax(tf.softmax(labelsInfered), -1, Int), feeds = FeedMap(Map(imagesPlaceholder -> imagesTensor.toFloat)))\n",
    "    if (labelDetected.scalar == 1) println(\"green\") else println(\"blue\")\n",
    "}"
   ]
  }
 ],
 "metadata": {
  "kernelspec": {
   "display_name": "Scala",
   "language": "scala",
   "name": "scala"
  },
  "language_info": {
   "codemirror_mode": "text/x-scala",
   "file_extension": ".scala",
   "mimetype": "text/x-scala",
   "name": "scala",
   "nbconvert_exporter": "script",
   "version": "2.12.8"
  }
 },
 "nbformat": 4,
 "nbformat_minor": 2
}
