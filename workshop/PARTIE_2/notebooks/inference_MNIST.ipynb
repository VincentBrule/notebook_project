{
 "cells": [
  {
   "cell_type": "markdown",
   "metadata": {},
   "source": [
    "# <p style=\"text-align: center;, font-style: strong;\">Partie 2.2 : MNIST with Multiple Layer Perceptron (MLP)</p>\n"
   ]
  },
  {
   "cell_type": "markdown",
   "metadata": {},
   "source": [
    "## Dependencies"
   ]
  },
  {
   "cell_type": "code",
   "execution_count": 3,
   "metadata": {},
   "outputs": [],
   "source": [
    "interp.load.ivy(\n",
    "  coursier.Dependency(\n",
    "    module = coursier.Module(coursier.Organization(\"org.platanios\"), coursier.ModuleName(\"tensorflow_2.12\")),\n",
    "    version = \"0.4.1\",\n",
    "    // replace with linux-gpu-x86_64 on linux with nvidia gpu or with darwin-cpu-x86_64 on macOS \n",
    "    attributes = coursier.Attributes(coursier.Type(\"\"), coursier.Classifier(\"darwin-cpu-x86_64\"))\n",
    "  )\n",
    ")\n",
    "\n",
    "interp.load.ivy(\"org.platanios\" %% \"tensorflow-data\" % \"0.4.1\")\n"
   ]
  },
  {
   "cell_type": "code",
   "execution_count": 4,
   "metadata": {},
   "outputs": [
    {
     "data": {
      "text/plain": [
       "\u001b[32mimport \u001b[39m\u001b[36morg.platanios.tensorflow.api.ops.{Files, Image => TImage}\n",
       "\u001b[39m\n",
       "\u001b[32mimport \u001b[39m\u001b[36mjava.nio.file.{ Files => JFiles, Paths, Path }\n",
       "\n",
       "\u001b[39m\n",
       "\u001b[32mimport \u001b[39m\u001b[36mjava.awt.{Image => JImage}\n",
       "\u001b[39m\n",
       "\u001b[32mimport \u001b[39m\u001b[36mjava.io.{BufferedInputStream, File, FileInputStream, ByteArrayOutputStream, IOException}\n",
       "\u001b[39m\n",
       "\u001b[32mimport \u001b[39m\u001b[36mscala.io.Source\n",
       "\u001b[39m\n",
       "\u001b[32mimport \u001b[39m\u001b[36mscala.collection.mutable.ListBuffer\n",
       "\u001b[39m\n",
       "\u001b[32mimport \u001b[39m\u001b[36mjava.awt.image.BufferedImage\n",
       "\u001b[39m\n",
       "\u001b[32mimport \u001b[39m\u001b[36mjava.awt.Color\n",
       "\u001b[39m\n",
       "\u001b[32mimport \u001b[39m\u001b[36mjava.awt.image.BufferedImage\n",
       "\u001b[39m\n",
       "\u001b[32mimport \u001b[39m\u001b[36mjavax.imageio.ImageIO\n",
       "\u001b[39m\n",
       "\u001b[32mimport \u001b[39m\u001b[36mscala.util.Random\n",
       "\u001b[39m\n",
       "\u001b[32mimport \u001b[39m\u001b[36mjava.util.Base64\n",
       "\u001b[39m\n",
       "\u001b[32mimport \u001b[39m\u001b[36mjava.io.PrintWriter\n",
       "\u001b[39m\n",
       "\u001b[32mimport \u001b[39m\u001b[36mscala.io.Source\n",
       "\u001b[39m\n",
       "\u001b[32mimport \u001b[39m\u001b[36mjava.io.ByteArrayInputStream\n",
       "\u001b[39m\n",
       "\u001b[32mimport \u001b[39m\u001b[36morg.platanios.tensorflow.api.tf\n",
       "\u001b[39m\n",
       "\u001b[32mimport \u001b[39m\u001b[36morg.platanios.tensorflow.api.tensors.Tensor\n",
       "\u001b[39m\n",
       "\u001b[32mimport \u001b[39m\u001b[36morg.platanios.tensorflow.api.core.Shape\n",
       "\u001b[39m\n",
       "\u001b[32mimport \u001b[39m\u001b[36morg.platanios.tensorflow.api.core.client.{Session, FeedMap}\n",
       "\u001b[39m\n",
       "\u001b[32mimport \u001b[39m\u001b[36morg.platanios.tensorflow.api.core.types.DataType\n",
       "\u001b[39m\n",
       "\u001b[32mimport \u001b[39m\u001b[36morg.platanios.tensorflow.data.image.MNISTLoader\n",
       "\u001b[39m\n",
       "\u001b[32mimport \u001b[39m\u001b[36mjava.nio.file.{Files, Paths}\n",
       "\u001b[39m\n",
       "\u001b[32mimport \u001b[39m\u001b[36morg.platanios.tensorflow.api.core.{Shape, types}\n",
       "\u001b[39m\n",
       "\u001b[32mimport \u001b[39m\u001b[36mscala.language.postfixOps\n",
       "\u001b[39m\n",
       "\u001b[32mimport \u001b[39m\u001b[36morg.platanios.tensorflow.api._\n",
       "\u001b[39m\n",
       "\u001b[32mimport \u001b[39m\u001b[36morg.platanios.tensorflow.api.core.types.UByte\n",
       "\u001b[39m\n",
       "\u001b[32mimport \u001b[39m\u001b[36morg.platanios.tensorflow.api.implicits.helpers.{OutputStructure, OutputToDataType, OutputToShape}\n",
       "\u001b[39m\n",
       "\u001b[32mimport \u001b[39m\u001b[36morg.platanios.tensorflow.api.learn.ClipGradientsByGlobalNorm\n",
       "\u001b[39m\n",
       "\u001b[32mimport \u001b[39m\u001b[36morg.platanios.tensorflow.api.ops.Output\n",
       "\u001b[39m\n",
       "\u001b[32mimport \u001b[39m\u001b[36morg.platanios.tensorflow.data.image.MNISTLoader\n",
       "\u001b[39m\n",
       "\u001b[32mimport \u001b[39m\u001b[36morg.platanios.tensorflow.api.learn.layers.{Flatten, Input, Linear, ReLU, SparseSoftmaxCrossEntropy, Mean, ScalarSummary}\n",
       "\u001b[39m\n",
       "\u001b[32mimport \u001b[39m\u001b[36morg.platanios.tensorflow.api.learn.{Model, StopCriteria, Configuration}\n",
       "\u001b[39m\n",
       "\u001b[32mimport \u001b[39m\u001b[36morg.platanios.tensorflow.api.learn.estimators.InMemoryEstimator\n",
       "\u001b[39m\n",
       "\u001b[32mimport \u001b[39m\u001b[36morg.platanios.tensorflow.api.learn.hooks.{SummarySaver, StepHookTrigger, CheckpointSaver}\n",
       "\u001b[39m\n",
       "\u001b[32mimport \u001b[39m\u001b[36morg.platanios.tensorflow.api.config.TensorBoardConfig\n",
       "\u001b[39m\n",
       "\u001b[32mimport \u001b[39m\u001b[36mjava.util.Base64\n",
       "\u001b[39m\n",
       "\u001b[32mimport \u001b[39m\u001b[36morg.tensorflow.framework.GraphDef\n",
       "\n",
       "\u001b[39m"
      ]
     },
     "execution_count": 4,
     "metadata": {},
     "output_type": "execute_result"
    }
   ],
   "source": [
    "import org.platanios.tensorflow.api.ops.{Files, Image => TImage}\n",
    "import java.nio.file.{ Files => JFiles, Paths, Path }\n",
    "\n",
    "import java.awt.{Image => JImage}\n",
    "import java.io.{BufferedInputStream, File, FileInputStream, ByteArrayOutputStream, IOException}\n",
    "import scala.io.Source\n",
    "import scala.collection.mutable.ListBuffer\n",
    "import java.awt.image.BufferedImage\n",
    "import java.awt.Color\n",
    "import java.awt.image.BufferedImage\n",
    "import javax.imageio.ImageIO\n",
    "import scala.util.Random\n",
    "import java.util.Base64\n",
    "import java.io.PrintWriter\n",
    "import scala.io.Source\n",
    "import java.io.ByteArrayInputStream\n",
    "import org.platanios.tensorflow.api.tf\n",
    "import org.platanios.tensorflow.api.tensors.Tensor\n",
    "import org.platanios.tensorflow.api.core.Shape\n",
    "import org.platanios.tensorflow.api.core.client.{Session, FeedMap}\n",
    "import org.platanios.tensorflow.api.core.types.DataType\n",
    "import org.platanios.tensorflow.data.image.MNISTLoader\n",
    "import java.nio.file.{Files, Paths}\n",
    "import org.platanios.tensorflow.api.core.{Shape, types}\n",
    "import scala.language.postfixOps\n",
    "import org.platanios.tensorflow.api._\n",
    "import org.platanios.tensorflow.api.core.types.UByte\n",
    "import org.platanios.tensorflow.api.implicits.helpers.{OutputStructure, OutputToDataType, OutputToShape}\n",
    "import org.platanios.tensorflow.api.learn.ClipGradientsByGlobalNorm\n",
    "import org.platanios.tensorflow.api.ops.Output\n",
    "import org.platanios.tensorflow.data.image.MNISTLoader\n",
    "import org.platanios.tensorflow.api.learn.layers.{Flatten, Input, Linear, ReLU, SparseSoftmaxCrossEntropy, Mean, ScalarSummary}\n",
    "import org.platanios.tensorflow.api.learn.{Model, StopCriteria, Configuration}\n",
    "import org.platanios.tensorflow.api.learn.estimators.InMemoryEstimator\n",
    "import org.platanios.tensorflow.api.learn.hooks.{SummarySaver, StepHookTrigger, CheckpointSaver}\n",
    "import org.platanios.tensorflow.api.config.TensorBoardConfig\n",
    "import java.util.Base64\n",
    "import org.tensorflow.framework.GraphDef\n",
    "\n"
   ]
  },
  {
   "cell_type": "markdown",
   "metadata": {},
   "source": [
    "## Display MNIST Dataset"
   ]
  },
  {
   "cell_type": "code",
   "execution_count": 2,
   "metadata": {},
   "outputs": [
    {
     "name": "stderr",
     "output_type": "stream",
     "text": [
      "(console):3:23 expected (If | While | Try | DoWhile | For | Throw | Return | ImplicitLambda | SmallerExprOrLambda)\n",
      "session.run(fetches = , feeds = )\n",
      "                      ^"
     ]
    },
    {
     "ename": "",
     "evalue": "",
     "output_type": "error",
     "traceback": [
      "(console):3:23 expected (If | While | Try | DoWhile | For | Throw | Return | ImplicitLambda | SmallerExprOrLambda)\nsession.run(fetches = , feeds = )\n                      ^"
     ]
    }
   ],
   "source": [
    "lazy val graph = Graph.fromGraphDef(GraphDef.parseFrom(new BufferedInputStream(new FileInputStream(new File(\"../resources/save/graph.pbtxt\")))))\n",
    "val session = Session(graph)\n",
    "session.run(fetches = , feeds = )"
   ]
  },
  {
   "cell_type": "code",
   "execution_count": null,
   "metadata": {},
   "outputs": [],
   "source": [
    "val imagePlaceholder = graph.getOutputByName(\"OutputLayer/Linear:0\").toUByte\n",
    "\n"
   ]
  },
  {
   "cell_type": "code",
   "execution_count": null,
   "metadata": {},
   "outputs": [],
   "source": [
    "def accuracy(images: Tensor[UByte], labels: Tensor[UByte]): Float = {\n",
    "    val predictions = estimator.infer(() => images.toFloat)\n",
    "    predictions\n",
    "      .argmax(1).toUByte\n",
    "      .equal(labels).toFloat\n",
    "      .mean().scalar\n",
    "}\n",
    "\n",
    "println(s\"Train accuracy = ${accuracy(dataSet.trainImages, dataSet.trainLabels)}\")\n",
    "println(s\"Test accuracy = ${accuracy(dataSet.testImages, dataSet.testLabels)}\")"
   ]
  },
  {
   "cell_type": "code",
   "execution_count": 4,
   "metadata": {},
   "outputs": [
    {
     "name": "stderr",
     "output_type": "stream",
     "text": [
      "cmd4.sc:10: not found: value estimator\n",
      "    val predictions = estimator.infer(() => imageTest.toFloat)\n",
      "                      ^Compilation Failed"
     ]
    },
    {
     "ename": "",
     "evalue": "",
     "output_type": "error",
     "traceback": [
      "Compilation Failed"
     ]
    }
   ],
   "source": [
    "def transformImagesForPrediction(imagefilePath: String, numChannel: Int, s: Session = Session()): Tensor[UByte] = {\n",
    "    val tensorImageOuts = TImage.decodePng(Files.readFile(imagefilePath), numChannel)\n",
    "    s.run(fetches = tf.reshape(tensorImageOuts, Shape(1,28,28)))\n",
    "}\n",
    "\n",
    "def runPrediction(imagePath: String): String = {\n",
    "    val imageTest = transformImagesForPrediction(imagePath, 1)\n",
    "    val imageToDisplay = Session().run(fetches = tf.decodeRaw[Byte](tf.image.encodePng(tf.reshape(imageTest, Shape(28, 28, 1)))))\n",
    "    Image(imageToDisplay.entriesIterator.toArray).withFormat(Image.PNG).withWidth(100).withHeight(100).display \n",
    "    val predictions = estimator.infer(() => imageTest.toFloat)\n",
    "    s\"Le chiffre est : ${predictions.argmax(1).toInt.scalar}\"\n",
    "}\n",
    "\n",
    "//runPrediction(\"../resources/images/de677a85-be92-4f72-8a9a-f97d18be26e5.png\")\n",
    "\n"
   ]
  },
  {
   "cell_type": "code",
   "execution_count": 5,
   "metadata": {},
   "outputs": [
    {
     "data": {
      "text/html": [
       "<script>\n",
       "    var comm = Jupyter.notebook.kernel.comm_manager.new_comm(\"1dcfaa16-d5bd-41bb-af9a-eb61be6c5ab4\");\n",
       "    var canvas = document.getElementById('canvasInAPerfectWorld')\n",
       "    context = canvas.getContext(\"2d\");\n",
       "    context.fillStyle = \"black\";\n",
       "    context.fillRect(0, 0, canvas.width, canvas.height);\n",
       "    var clickX = new Array();\n",
       "    var clickY = new Array();\n",
       "    var clickDrag = new Array();\n",
       "    var paint;\n",
       "    $('#canvasInAPerfectWorld').mousedown(function(e){\n",
       "        var pos = getMousePos(canvas, e)\n",
       "        paint = true;\n",
       "        addClick(pos.x, pos.y);\n",
       "        redraw();\n",
       "    });\n",
       "    $('#canvasInAPerfectWorld').mousemove(function(e){\n",
       "        if(paint){\n",
       "          var pos = getMousePos(canvas, e)\n",
       "          addClick(pos.x, pos.y, true);\n",
       "          redraw();\n",
       "        }\n",
       "    });\n",
       "    $('#canvasInAPerfectWorld').mouseup(function(e){\n",
       "        paint = false;\n",
       "    });\n",
       "    $('#canvasInAPerfectWorld').mouseleave(function(e){\n",
       "        paint = false;\n",
       "    });\n",
       "\n",
       "    function addClick(x, y, dragging)\n",
       "    {\n",
       "      clickX.push(x);\n",
       "      clickY.push(y);\n",
       "      clickDrag.push(dragging);\n",
       "    }\n",
       "\n",
       "    function clearRect() {\n",
       "      context.clearRect(0, 0, context.canvas.width, context.canvas.height);\n",
       "      context.fillStyle = \"black\";\n",
       "      context.fillRect(0, 0, canvas.width, canvas.height);\n",
       "      clickX = new Array();\n",
       "      clickY = new Array();\n",
       "      clickDrag = new Array();\n",
       "    }\n",
       "\n",
       "    function saveImage() {\n",
       "      var base64 = canvas.toDataURL(\"image/png\");\n",
       "      comm.send({\"content\": `${base64}`});\n",
       "    }\n",
       "\n",
       "    function redraw()\n",
       "    {\n",
       "        context.clearRect(0, 0, context.canvas.width, context.canvas.height);\n",
       "        context.fillStyle = \"black\";\n",
       "        context.fillRect(0, 0, canvas.width, canvas.height);\n",
       "        context.strokeStyle = \"white\";\n",
       "        context.lineJoin = \"round\";\n",
       "        context.lineWidth = 20;\n",
       "\n",
       "        for(var i=0; i < clickX.length; i++) {\n",
       "            context.beginPath();\n",
       "            if(clickDrag[i] && i){\n",
       "                context.moveTo(clickX[i-1], clickY[i-1]);\n",
       "            }else{\n",
       "                context.moveTo(clickX[i]-1, clickY[i]);\n",
       "            }\n",
       "            context.lineTo(clickX[i], clickY[i]);\n",
       "            context.closePath();\n",
       "            context.stroke();\n",
       "        }\n",
       "    }\n",
       "\n",
       "    function getMousePos(canvas, evt) {\n",
       "      var rect = canvas.getBoundingClientRect();\n",
       "      return {\n",
       "        x: evt.clientX - rect.left,\n",
       "        y: evt.clientY - rect.top\n",
       "      };\n",
       "    }\n",
       "</script>\n",
       "<style>\n",
       "  .colorButton {\n",
       "    width: 100px;\n",
       "    height: 50px;\n",
       "    border-radius: 12px;\n",
       "    font-size: 20px;\n",
       "    color: black;\n",
       "    outline:none;\n",
       "  }\n",
       "  .colorButton:active {\n",
       "      position: relative;\n",
       "      top: 3px;\n",
       "  }\n",
       "  .colorButton:hover {\n",
       "      border: 1px solid black;\n",
       "  }\n",
       "  #groupButton {\n",
       "      text-align: center;\n",
       "      padding-top: 40px;\n",
       "  }\n",
       "</style>\n",
       "<h1 style=\"text-align: center; padding-bottom: 40px;\">Dessiner votre chiffre à deviner &#9997</h1>\n",
       "<canvas id=\"canvasInAPerfectWorld\" width=\"400\" height=\"400\" style=\"display: block; margin:0 auto;\"></canvas>\n",
       "<div id=\"groupButton\">\n",
       "  <button onClick=\"clearRect()\" class=\"colorButton\" style=\"margin-right: 30px;\">Reset</button>\n",
       "  <button onClick=\"saveImage()\" class=\"colorButton\">Predict</button>\n",
       "</div>\n"
      ]
     },
     "metadata": {},
     "output_type": "display_data"
    },
    {
     "data": {
      "text/html": []
     },
     "metadata": {},
     "output_type": "display_data"
    },
    {
     "data": {
      "text/plain": [
       "defined \u001b[32mfunction\u001b[39m \u001b[36mdrawOwnNumber\u001b[39m\n",
       "\u001b[36mid\u001b[39m: \u001b[32mString\u001b[39m = \u001b[32m\"1dcfaa16-d5bd-41bb-af9a-eb61be6c5ab4\"\u001b[39m"
      ]
     },
     "execution_count": 5,
     "metadata": {},
     "output_type": "execute_result"
    }
   ],
   "source": [
    "def drawOwnNumber(id: String) {\n",
    "    val htmlCode = JFiles.readString(Paths.get(\"../resources/drawing.html\"))\n",
    "    kernel.publish.display(almond.interpreter.api.DisplayData(Map(\"text/html\" -> htmlCode.replace(\"nameCommandToChange\", id))))\n",
    "}\n",
    "val id = java.util.UUID.randomUUID().toString // random ID use to synchronize communication between JS code and Scala code\n",
    "drawOwnNumber(id)\n",
    "kernel.publish.html(\"\", id)\n",
    "kernel.comm.receiver(id) { data =>\n",
    "    kernel.publish.updateHtml(\"Waiting\", id)\n",
    "    val nameImage = java.util.UUID.randomUUID().toString\n",
    "    val base64 = data.drop(34).dropRight(2)\n",
    "    val bis = new ByteArrayInputStream(Base64.getDecoder().decode(base64))\n",
    "    val bImage2 = ImageIO.read(bis)\n",
    "    val tmp = bImage2.getScaledInstance(28, 28, JImage.SCALE_SMOOTH)\n",
    "    val dimg = new BufferedImage(28, 28, BufferedImage.TYPE_INT_ARGB)\n",
    "    val g2d = dimg.createGraphics()\n",
    "    g2d.drawImage(tmp, 0, 0, null)\n",
    "    g2d.dispose()\n",
    "    ImageIO.write(dimg, \"png\", new File(s\"../resources/images/$nameImage.png\") )\n",
    "    //val result = runPrediction(s\"../resources/images/$nameImage.png\")\n",
    "    //kernel.publish.updateHtml(s\"$result\", id)\n",
    "}"
   ]
  }
 ],
 "metadata": {
  "kernelspec": {
   "display_name": "Scala",
   "language": "scala",
   "name": "scala"
  },
  "language_info": {
   "codemirror_mode": "text/x-scala",
   "file_extension": ".scala",
   "mimetype": "text/x-scala",
   "name": "scala",
   "nbconvert_exporter": "script",
   "version": "2.12.8"
  }
 },
 "nbformat": 4,
 "nbformat_minor": 2
}
