{
 "cells": [
  {
   "cell_type": "markdown",
   "metadata": {},
   "source": [
    "# <p style=\"text-align: center;, font-style: strong;\">Partie 2.1 : MNIST with Multiple Layer Perceptron (MLP)</p>\n"
   ]
  },
  {
   "cell_type": "markdown",
   "metadata": {},
   "source": [
    "## Dependencies"
   ]
  },
  {
   "cell_type": "code",
   "execution_count": 4,
   "metadata": {},
   "outputs": [],
   "source": [
    "interp.load.ivy(\n",
    "  coursier.Dependency(\n",
    "    module = coursier.Module(coursier.Organization(\"org.platanios\"), coursier.ModuleName(\"tensorflow_2.12\")),\n",
    "    version = \"0.4.1\",\n",
    "    // replace with linux-gpu-x86_64 on linux with nvidia gpu or with darwin-cpu-x86_64 on macOS \n",
    "    attributes = coursier.Attributes(coursier.Type(\"\"), coursier.Classifier(\"darwin-cpu-x86_64\"))\n",
    "  )\n",
    ")\n",
    "\n",
    "interp.load.ivy(\"org.platanios\" %% \"tensorflow-data\" % \"0.4.1\")\n"
   ]
  },
  {
   "cell_type": "code",
   "execution_count": 5,
   "metadata": {},
   "outputs": [
    {
     "data": {
      "text/plain": [
       "\u001b[32mimport \u001b[39m\u001b[36morg.platanios.tensorflow.api.ops.{Files, Image => TImage}\n",
       "\u001b[39m\n",
       "\u001b[32mimport \u001b[39m\u001b[36mjava.nio.file.{ Files => JFiles, Paths, Path }\n",
       "\u001b[39m\n",
       "\u001b[32mimport \u001b[39m\u001b[36mjava.awt.{Image => JImage}\n",
       "\u001b[39m\n",
       "\u001b[32mimport \u001b[39m\u001b[36mjava.io.{BufferedInputStream, File, FileInputStream, ByteArrayOutputStream, IOException}\n",
       "\u001b[39m\n",
       "\u001b[32mimport \u001b[39m\u001b[36mscala.io.Source\n",
       "\u001b[39m\n",
       "\u001b[32mimport \u001b[39m\u001b[36mscala.collection.mutable.ListBuffer\n",
       "\u001b[39m\n",
       "\u001b[32mimport \u001b[39m\u001b[36mjava.awt.image.BufferedImage\n",
       "\u001b[39m\n",
       "\u001b[32mimport \u001b[39m\u001b[36mjava.awt.Color\n",
       "\u001b[39m\n",
       "\u001b[32mimport \u001b[39m\u001b[36mjava.awt.image.BufferedImage\n",
       "\u001b[39m\n",
       "\u001b[32mimport \u001b[39m\u001b[36mjavax.imageio.ImageIO\n",
       "\u001b[39m\n",
       "\u001b[32mimport \u001b[39m\u001b[36mscala.util.Random\n",
       "\u001b[39m\n",
       "\u001b[32mimport \u001b[39m\u001b[36mjava.util.Base64\n",
       "\u001b[39m\n",
       "\u001b[32mimport \u001b[39m\u001b[36mjava.io.PrintWriter\n",
       "\u001b[39m\n",
       "\u001b[32mimport \u001b[39m\u001b[36mscala.io.Source\n",
       "\u001b[39m\n",
       "\u001b[32mimport \u001b[39m\u001b[36mjava.io.ByteArrayInputStream\n",
       "\u001b[39m\n",
       "\u001b[32mimport \u001b[39m\u001b[36morg.platanios.tensorflow.api.tf\n",
       "\u001b[39m\n",
       "\u001b[32mimport \u001b[39m\u001b[36morg.platanios.tensorflow.api.tensors.Tensor\n",
       "\u001b[39m\n",
       "\u001b[32mimport \u001b[39m\u001b[36morg.platanios.tensorflow.api.core.Shape\n",
       "\u001b[39m\n",
       "\u001b[32mimport \u001b[39m\u001b[36morg.platanios.tensorflow.api.core.client.{Session, FeedMap}\n",
       "\u001b[39m\n",
       "\u001b[32mimport \u001b[39m\u001b[36morg.platanios.tensorflow.api.core.types.DataType\n",
       "\u001b[39m\n",
       "\u001b[32mimport \u001b[39m\u001b[36morg.platanios.tensorflow.data.image.MNISTLoader\n",
       "\u001b[39m\n",
       "\u001b[32mimport \u001b[39m\u001b[36mjava.nio.file.{Files, Paths}\n",
       "\u001b[39m\n",
       "\u001b[32mimport \u001b[39m\u001b[36morg.platanios.tensorflow.api.core.{Shape, types}\n",
       "\u001b[39m\n",
       "\u001b[32mimport \u001b[39m\u001b[36mscala.language.postfixOps\n",
       "\u001b[39m\n",
       "\u001b[32mimport \u001b[39m\u001b[36morg.platanios.tensorflow.api._\n",
       "\u001b[39m\n",
       "\u001b[32mimport \u001b[39m\u001b[36morg.platanios.tensorflow.api.core.types.UByte\n",
       "\u001b[39m\n",
       "\u001b[32mimport \u001b[39m\u001b[36morg.platanios.tensorflow.api.implicits.helpers.{OutputStructure, OutputToDataType, OutputToShape}\n",
       "\u001b[39m\n",
       "\u001b[32mimport \u001b[39m\u001b[36morg.platanios.tensorflow.api.learn.ClipGradientsByGlobalNorm\n",
       "\u001b[39m\n",
       "\u001b[32mimport \u001b[39m\u001b[36morg.platanios.tensorflow.api.ops.Output\n",
       "\u001b[39m\n",
       "\u001b[32mimport \u001b[39m\u001b[36morg.platanios.tensorflow.data.image.MNISTLoader\n",
       "\u001b[39m\n",
       "\u001b[32mimport \u001b[39m\u001b[36morg.platanios.tensorflow.api.learn.layers.{Flatten, Input, Linear, ReLU, SparseSoftmaxCrossEntropy, Mean, ScalarSummary}\n",
       "\u001b[39m\n",
       "\u001b[32mimport \u001b[39m\u001b[36morg.platanios.tensorflow.api.learn.{Model, StopCriteria, Configuration}\n",
       "\u001b[39m\n",
       "\u001b[32mimport \u001b[39m\u001b[36morg.platanios.tensorflow.api.learn.estimators.InMemoryEstimator\n",
       "\u001b[39m\n",
       "\u001b[32mimport \u001b[39m\u001b[36morg.platanios.tensorflow.api.learn.hooks.{SummarySaver, StepHookTrigger, CheckpointSaver}\n",
       "\u001b[39m\n",
       "\u001b[32mimport \u001b[39m\u001b[36morg.platanios.tensorflow.api.config.TensorBoardConfig\n",
       "\u001b[39m\n",
       "\u001b[32mimport \u001b[39m\u001b[36mjava.util.Base64\n",
       "\u001b[39m\n",
       "\u001b[32mimport \u001b[39m\u001b[36morg.platanios.tensorflow.api._\n",
       "\u001b[39m\n",
       "\u001b[32mimport \u001b[39m\u001b[36morg.platanios.tensorflow.api.core.types.UByte\n",
       "\u001b[39m\n",
       "\u001b[32mimport \u001b[39m\u001b[36morg.platanios.tensorflow.api.implicits.helpers.{OutputStructure, OutputToDataType, OutputToShape}\n",
       "\u001b[39m\n",
       "\u001b[32mimport \u001b[39m\u001b[36morg.platanios.tensorflow.api.learn.ClipGradientsByGlobalNorm\n",
       "\u001b[39m\n",
       "\u001b[32mimport \u001b[39m\u001b[36morg.platanios.tensorflow.api.ops.Output\n",
       "\u001b[39m\n",
       "\u001b[32mimport \u001b[39m\u001b[36morg.platanios.tensorflow.data.image.MNISTLoader\n",
       "\u001b[39m\n",
       "\u001b[32mimport \u001b[39m\u001b[36mjava.nio.file.Paths\u001b[39m"
      ]
     },
     "execution_count": 5,
     "metadata": {},
     "output_type": "execute_result"
    }
   ],
   "source": [
    "import org.platanios.tensorflow.api.ops.{Files, Image => TImage}\n",
    "import java.nio.file.{ Files => JFiles, Paths, Path }\n",
    "import java.awt.{Image => JImage}\n",
    "import java.io.{BufferedInputStream, File, FileInputStream, ByteArrayOutputStream, IOException}\n",
    "import scala.io.Source\n",
    "import scala.collection.mutable.ListBuffer\n",
    "import java.awt.image.BufferedImage\n",
    "import java.awt.Color\n",
    "import java.awt.image.BufferedImage\n",
    "import javax.imageio.ImageIO\n",
    "import scala.util.Random\n",
    "import java.util.Base64\n",
    "import java.io.PrintWriter\n",
    "import scala.io.Source\n",
    "import java.io.ByteArrayInputStream\n",
    "import org.platanios.tensorflow.api.tf\n",
    "import org.platanios.tensorflow.api.tensors.Tensor\n",
    "import org.platanios.tensorflow.api.core.Shape\n",
    "import org.platanios.tensorflow.api.core.client.{Session, FeedMap}\n",
    "import org.platanios.tensorflow.api.core.types.DataType\n",
    "import org.platanios.tensorflow.data.image.MNISTLoader\n",
    "import java.nio.file.{Files, Paths}\n",
    "import org.platanios.tensorflow.api.core.{Shape, types}\n",
    "import scala.language.postfixOps\n",
    "import org.platanios.tensorflow.api._\n",
    "import org.platanios.tensorflow.api.core.types.UByte\n",
    "import org.platanios.tensorflow.api.implicits.helpers.{OutputStructure, OutputToDataType, OutputToShape}\n",
    "import org.platanios.tensorflow.api.learn.ClipGradientsByGlobalNorm\n",
    "import org.platanios.tensorflow.api.ops.Output\n",
    "import org.platanios.tensorflow.data.image.MNISTLoader\n",
    "import org.platanios.tensorflow.api.learn.layers.{Flatten, Input, Linear, ReLU, SparseSoftmaxCrossEntropy, Mean, ScalarSummary}\n",
    "import org.platanios.tensorflow.api.learn.{Model, StopCriteria, Configuration}\n",
    "import org.platanios.tensorflow.api.learn.estimators.InMemoryEstimator\n",
    "import org.platanios.tensorflow.api.learn.hooks.{SummarySaver, StepHookTrigger, CheckpointSaver}\n",
    "import org.platanios.tensorflow.api.config.TensorBoardConfig\n",
    "import java.util.Base64\n",
    "import org.platanios.tensorflow.api._\n",
    "import org.platanios.tensorflow.api.core.types.UByte\n",
    "import org.platanios.tensorflow.api.implicits.helpers.{OutputStructure, OutputToDataType, OutputToShape}\n",
    "import org.platanios.tensorflow.api.learn.ClipGradientsByGlobalNorm\n",
    "import org.platanios.tensorflow.api.ops.Output\n",
    "import org.platanios.tensorflow.data.image.MNISTLoader\n",
    "import java.nio.file.Paths"
   ]
  },
  {
   "cell_type": "markdown",
   "metadata": {},
   "source": [
    "## Display MNIST Dataset"
   ]
  },
  {
   "cell_type": "code",
   "execution_count": 3,
   "metadata": {
    "collapsed": true
   },
   "outputs": [
    {
     "name": "stdout",
     "output_type": "stream",
     "text": [
      "2019-07-25 08:56:34.603 [scala-interpreter-1] INFO  MNIST Data Loader - Extracting images from file '../resources/dataset/train-images-idx3-ubyte.gz'.\n",
      "2019-07-25 08:56:36.008 [scala-interpreter-1] INFO  MNIST Data Loader - Extracting labels from file '../resources/dataset/train-labels-idx1-ubyte.gz'.\n",
      "2019-07-25 08:56:36.013 [scala-interpreter-1] INFO  MNIST Data Loader - Extracting images from file '../resources/dataset/t10k-images-idx3-ubyte.gz'.\n",
      "2019-07-25 08:56:36.077 [scala-interpreter-1] INFO  MNIST Data Loader - Extracting labels from file '../resources/dataset/t10k-labels-idx1-ubyte.gz'.\n",
      "2019-07-25 08:56:36.080 [scala-interpreter-1] INFO  MNIST Data Loader - Finished loading the MNIST dataset.\n"
     ]
    },
    {
     "data": {
      "image/png": "[encoded data removed]"
     },
     "metadata": {
      "height": 100,
      "width": 100
     },
     "output_type": "display_data"
    },
    {
     "data": {
      "image/png": "[encoded data removed]"
     },
     "metadata": {
      "height": 100,
      "width": 100
     },
     "output_type": "display_data"
    },
    {
     "data": {
      "image/png": "[encoded data removed]"
     },
     "metadata": {
      "height": 100,
      "width": 100
     },
     "output_type": "display_data"
    },
    {
     "data": {
      "image/png": "[encoded data removed]"
     },
     "metadata": {
      "height": 100,
      "width": 100
     },
     "output_type": "display_data"
    },
    {
     "data": {
      "image/png": "[encoded data removed]"
     },
     "metadata": {
      "height": 100,
      "width": 100
     },
     "output_type": "display_data"
    },
    {
     "data": {
      "image/png": "[encoded data removed]"
     },
     "metadata": {
      "height": 100,
      "width": 100
     },
     "output_type": "display_data"
    },
    {
     "data": {
      "image/png": "[encoded data removed]"
     },
     "metadata": {
      "height": 100,
      "width": 100
     },
     "output_type": "display_data"
    },
    {
     "data": {
      "image/png": "[encoded data removed]"
     },
     "metadata": {
      "height": 100,
      "width": 100
     },
     "output_type": "display_data"
    },
    {
     "data": {
      "image/png": "[encoded data removed]"
     },
     "metadata": {
      "height": 100,
      "width": 100
     },
     "output_type": "display_data"
    },
    {
     "data": {
      "image/png": "[encoded data removed]"
     },
     "metadata": {
      "height": 100,
      "width": 100
     },
     "output_type": "display_data"
    },
    {
     "data": {
      "image/png": "[encoded data removed]"
     },
     "metadata": {
      "height": 100,
      "width": 100
     },
     "output_type": "display_data"
    },
    {
     "data": {
      "image/png": "[encoded data removed]"
     },
     "metadata": {
      "height": 100,
      "width": 100
     },
     "output_type": "display_data"
    },
    {
     "data": {
      "image/png": "[encoded data removed]"
     },
     "metadata": {
      "height": 100,
      "width": 100
     },
     "output_type": "display_data"
    },
    {
     "data": {
      "image/png": "[encoded data removed]"
     },
     "metadata": {
      "height": 100,
      "width": 100
     },
     "output_type": "display_data"
    },
    {
     "data": {
      "image/png": "[encoded data removed]"
     },
     "metadata": {
      "height": 100,
      "width": 100
     },
     "output_type": "display_data"
    },
    {
     "data": {
      "image/png": "[encoded data removed]"
     },
     "metadata": {
      "height": 100,
      "width": 100
     },
     "output_type": "display_data"
    },
    {
     "data": {
      "image/png": "[encoded data removed]"
     },
     "metadata": {
      "height": 100,
      "width": 100
     },
     "output_type": "display_data"
    },
    {
     "data": {
      "image/png": "[encoded data removed]"
     },
     "metadata": {
      "height": 100,
      "width": 100
     },
     "output_type": "display_data"
    },
    {
     "data": {
      "image/png": "[encoded data removed]"
     },
     "metadata": {
      "height": 100,
      "width": 100
     },
     "output_type": "display_data"
    },
    {
     "data": {
      "image/png": "[encoded data removed]"
     },
     "metadata": {
      "height": 100,
      "width": 100
     },
     "output_type": "display_data"
    },
    {
     "data": {
      "text/plain": [
       "defined \u001b[32mfunction\u001b[39m \u001b[36mdisplayNumberMNIST\u001b[39m"
      ]
     },
     "execution_count": 3,
     "metadata": {},
     "output_type": "execute_result"
    }
   ],
   "source": [
    "def displayNumberMNIST(nb: Int) {\n",
    "    val dataset = MNISTLoader.load(Paths.get(\"../resources/dataset\"))\n",
    "    val images = dataset.trainImages\n",
    "    val imagesToDisplay = images.slice(0 :: nb, ::, ::)\n",
    "    var s = true\n",
    "    for (index <- 0 until nb) {\n",
    "        val png = Session().run(fetches = tf.decodeRaw[Byte](tf.image.encodePng(imagesToDisplay(index).reshape(Shape(28, 28, 1)))))\n",
    "        Image(png.entriesIterator.toArray).withFormat(Image.PNG).withWidth(100).withHeight(100).display \n",
    "    }\n",
    "}\n",
    "displayNumberMNIST(20)"
   ]
  },
  {
   "cell_type": "code",
   "execution_count": 6,
   "metadata": {},
   "outputs": [
    {
     "name": "stdout",
     "output_type": "stream",
     "text": [
      "2019-07-25 08:57:53.189 [scala-interpreter-1] INFO  MNIST Data Loader - Extracting images from file '../resources/dataset/train-images-idx3-ubyte.gz'.\n",
      "2019-07-25 08:57:53.552 [scala-interpreter-1] INFO  MNIST Data Loader - Extracting labels from file '../resources/dataset/train-labels-idx1-ubyte.gz'.\n",
      "2019-07-25 08:57:53.554 [scala-interpreter-1] INFO  MNIST Data Loader - Extracting images from file '../resources/dataset/t10k-images-idx3-ubyte.gz'.\n",
      "2019-07-25 08:57:53.606 [scala-interpreter-1] INFO  MNIST Data Loader - Extracting labels from file '../resources/dataset/t10k-labels-idx1-ubyte.gz'.\n",
      "2019-07-25 08:57:53.608 [scala-interpreter-1] INFO  MNIST Data Loader - Finished loading the MNIST dataset.\n",
      "2019-07-25 08:57:58.674 [scala-interpreter-1] INFO  Learn / Hooks / Checkpoint Saver - Saving checkpoint for step 0.\n",
      "2019-07-25 08:57:58.676 [scala-interpreter-1] INFO  Variables / Saver - Saving parameters to '/Users/vincentbrule/Desktop/audiScala/WORKSHOP/PARTIE_2/notebooks/../resources/save/model.ckpt-0'.\n",
      "2019-07-25 08:57:59.019 [scala-interpreter-1] INFO  Variables / Saver - Saved parameters to '/Users/vincentbrule/Desktop/audiScala/WORKSHOP/PARTIE_2/notebooks/../resources/save/model.ckpt-0'.\n",
      "2019-07-25 08:57:59.024 [scala-interpreter-1] INFO  Learn / Hooks / Loss Logger - (    N/A    ) Step:      0, Loss: 803678.6875\n",
      "2019-07-25 08:57:59.101 [scala-interpreter-1] INFO  Variables / Saver - Restoring parameters from '/Users/vincentbrule/Desktop/audiScala/WORKSHOP/PARTIE_2/notebooks/../resources/save/model.ckpt-0'.\n",
      "2019-07-25 08:57:59.440 [scala-interpreter-1] INFO  Learn / Hooks / Evaluation - Step 0 Evaluator:\n",
      "2019-07-25 08:57:59.442 [scala-interpreter-1] INFO  Learn / Hooks / Evaluation - ╔═══════╤════════════╗\n",
      "2019-07-25 08:57:59.444 [scala-interpreter-1] INFO  Learn / Hooks / Evaluation - ║       │   Accuracy ║\n",
      "2019-07-25 08:57:59.446 [scala-interpreter-1] INFO  Learn / Hooks / Evaluation - ╟───────┼────────────╢\n",
      "2019-07-25 08:58:03.246 [scala-interpreter-1] INFO  Learn / Hooks / Evaluation - ║ Train │     0.1050 ║\n",
      "2019-07-25 08:58:03.745 [scala-interpreter-1] INFO  Learn / Hooks / Evaluation - ║  Test │     0.1061 ║\n",
      "2019-07-25 08:58:03.764 [scala-interpreter-1] INFO  Learn / Hooks / Evaluation - ╚═══════╧════════════╝\n",
      "2019-07-25 08:58:05.751 [scala-interpreter-1] INFO  Learn / Hooks / Loss Logger - (    6.726 s) Step:    100, Loss: 3486.0156\n",
      "2019-07-25 08:58:07.128 [scala-interpreter-1] INFO  Learn / Hooks / Loss Logger - (    1.378 s) Step:    200, Loss: 1385.5183\n",
      "2019-07-25 08:58:08.505 [scala-interpreter-1] INFO  Learn / Hooks / Loss Logger - (    1.376 s) Step:    300, Loss: 722.9758\n",
      "2019-07-25 08:58:09.775 [scala-interpreter-1] INFO  Learn / Hooks / Loss Logger - (    1.270 s) Step:    400, Loss: 610.2412\n",
      "2019-07-25 08:58:10.975 [scala-interpreter-1] INFO  Learn / Hooks / Loss Logger - (    1.201 s) Step:    500, Loss: 289.5280\n",
      "2019-07-25 08:58:12.284 [scala-interpreter-1] INFO  Learn / Hooks / Loss Logger - (    1.309 s) Step:    600, Loss: 470.7931\n",
      "2019-07-25 08:58:13.585 [scala-interpreter-1] INFO  Learn / Hooks / Loss Logger - (    1.301 s) Step:    700, Loss: 208.3499\n",
      "2019-07-25 08:58:14.859 [scala-interpreter-1] INFO  Learn / Hooks / Loss Logger - (    1.274 s) Step:    800, Loss: 115.0139\n",
      "2019-07-25 08:58:16.133 [scala-interpreter-1] INFO  Learn / Hooks / Loss Logger - (    1.273 s) Step:    900, Loss: 117.2658\n",
      "2019-07-25 08:58:17.403 [scala-interpreter-1] INFO  Learn / Hooks / Checkpoint Saver - Saving checkpoint for step 1000.\n",
      "2019-07-25 08:58:17.404 [scala-interpreter-1] INFO  Variables / Saver - Saving parameters to '/Users/vincentbrule/Desktop/audiScala/WORKSHOP/PARTIE_2/notebooks/../resources/save/model.ckpt-1000'.\n",
      "2019-07-25 08:58:17.662 [scala-interpreter-1] INFO  Variables / Saver - Saved parameters to '/Users/vincentbrule/Desktop/audiScala/WORKSHOP/PARTIE_2/notebooks/../resources/save/model.ckpt-1000'.\n",
      "2019-07-25 08:58:17.663 [scala-interpreter-1] INFO  Learn / Hooks / Loss Logger - (    1.531 s) Step:   1000, Loss: 45.3842\n",
      "2019-07-25 08:58:17.665 [scala-interpreter-1] INFO  Variables / Saver - Restoring parameters from '/Users/vincentbrule/Desktop/audiScala/WORKSHOP/PARTIE_2/notebooks/../resources/save/model.ckpt-1000'.\n",
      "2019-07-25 08:58:18.038 [scala-interpreter-1] INFO  Learn / Hooks / Evaluation - Step 1000 Evaluator:\n",
      "2019-07-25 08:58:18.040 [scala-interpreter-1] INFO  Learn / Hooks / Evaluation - ╔═══════╤════════════╗\n",
      "2019-07-25 08:58:18.040 [scala-interpreter-1] INFO  Learn / Hooks / Evaluation - ║       │   Accuracy ║\n",
      "2019-07-25 08:58:18.040 [scala-interpreter-1] INFO  Learn / Hooks / Evaluation - ╟───────┼────────────╢\n",
      "2019-07-25 08:58:21.576 [scala-interpreter-1] INFO  Learn / Hooks / Evaluation - ║ Train │     0.8277 ║\n",
      "2019-07-25 08:58:22.115 [scala-interpreter-1] INFO  Learn / Hooks / Evaluation - ║  Test │     0.8251 ║\n",
      "2019-07-25 08:58:22.136 [scala-interpreter-1] INFO  Learn / Hooks / Evaluation - ╚═══════╧════════════╝\n",
      "2019-07-25 08:58:23.327 [scala-interpreter-1] INFO  Learn / Hooks / Loss Logger - (    5.663 s) Step:   1100, Loss: 105.2210\n",
      "2019-07-25 08:58:24.568 [scala-interpreter-1] INFO  Learn / Hooks / Loss Logger - (    1.241 s) Step:   1200, Loss: 23.4826\n",
      "2019-07-25 08:58:25.853 [scala-interpreter-1] INFO  Learn / Hooks / Loss Logger - (    1.285 s) Step:   1300, Loss: 20.5398\n",
      "2019-07-25 08:58:27.293 [scala-interpreter-1] INFO  Learn / Hooks / Loss Logger - (    1.441 s) Step:   1400, Loss: 14.9456\n",
      "2019-07-25 08:58:28.601 [scala-interpreter-1] INFO  Learn / Hooks / Loss Logger - (    1.308 s) Step:   1500, Loss: 16.1250\n",
      "2019-07-25 08:58:30.046 [scala-interpreter-1] INFO  Learn / Hooks / Loss Logger - (    1.445 s) Step:   1600, Loss: 14.5244\n",
      "2019-07-25 08:58:31.379 [scala-interpreter-1] INFO  Learn / Hooks / Loss Logger - (    1.333 s) Step:   1700, Loss: 8.2700\n",
      "2019-07-25 08:58:32.704 [scala-interpreter-1] INFO  Learn / Hooks / Loss Logger - (    1.325 s) Step:   1800, Loss: 10.9296\n",
      "2019-07-25 08:58:33.968 [scala-interpreter-1] INFO  Learn / Hooks / Loss Logger - (    1.264 s) Step:   1900, Loss: 10.4669\n",
      "2019-07-25 08:58:35.288 [scala-interpreter-1] INFO  Learn / Hooks / Checkpoint Saver - Saving checkpoint for step 2000.\n",
      "2019-07-25 08:58:35.289 [scala-interpreter-1] INFO  Variables / Saver - Saving parameters to '/Users/vincentbrule/Desktop/audiScala/WORKSHOP/PARTIE_2/notebooks/../resources/save/model.ckpt-2000'.\n",
      "2019-07-25 08:58:35.515 [scala-interpreter-1] INFO  Variables / Saver - Saved parameters to '/Users/vincentbrule/Desktop/audiScala/WORKSHOP/PARTIE_2/notebooks/../resources/save/model.ckpt-2000'.\n",
      "2019-07-25 08:58:35.516 [scala-interpreter-1] INFO  Learn / Hooks / Loss Logger - (    1.548 s) Step:   2000, Loss: 3.5277\n",
      "2019-07-25 08:58:35.518 [scala-interpreter-1] INFO  Variables / Saver - Restoring parameters from '/Users/vincentbrule/Desktop/audiScala/WORKSHOP/PARTIE_2/notebooks/../resources/save/model.ckpt-2000'.\n",
      "2019-07-25 08:58:35.912 [scala-interpreter-1] INFO  Learn / Hooks / Evaluation - Step 2000 Evaluator:\n",
      "2019-07-25 08:58:35.913 [scala-interpreter-1] INFO  Learn / Hooks / Evaluation - ╔═══════╤════════════╗\n",
      "2019-07-25 08:58:35.914 [scala-interpreter-1] INFO  Learn / Hooks / Evaluation - ║       │   Accuracy ║\n",
      "2019-07-25 08:58:35.914 [scala-interpreter-1] INFO  Learn / Hooks / Evaluation - ╟───────┼────────────╢\n",
      "2019-07-25 08:58:39.526 [scala-interpreter-1] INFO  Learn / Hooks / Evaluation - ║ Train │     0.8747 ║\n",
      "2019-07-25 08:58:40.060 [scala-interpreter-1] INFO  Learn / Hooks / Evaluation - ║  Test │     0.8685 ║\n",
      "2019-07-25 08:58:40.084 [scala-interpreter-1] INFO  Learn / Hooks / Evaluation - ╚═══════╧════════════╝\n",
      "2019-07-25 08:58:41.251 [scala-interpreter-1] INFO  Learn / Hooks / Loss Logger - (    5.735 s) Step:   2100, Loss: 3.9915\n",
      "2019-07-25 08:58:42.650 [scala-interpreter-1] INFO  Learn / Hooks / Loss Logger - (    1.399 s) Step:   2200, Loss: 3.8024\n",
      "2019-07-25 08:58:44.376 [scala-interpreter-1] INFO  Learn / Hooks / Loss Logger - (    1.726 s) Step:   2300, Loss: 3.1210\n",
      "2019-07-25 08:58:45.739 [scala-interpreter-1] INFO  Learn / Hooks / Loss Logger - (    1.362 s) Step:   2400, Loss: 1.8972\n",
      "2019-07-25 08:58:47.009 [scala-interpreter-1] INFO  Learn / Hooks / Loss Logger - (    1.271 s) Step:   2500, Loss: 2.9807\n"
     ]
    },
    {
     "name": "stdout",
     "output_type": "stream",
     "text": [
      "2019-07-25 08:58:48.466 [scala-interpreter-1] INFO  Learn / Hooks / Loss Logger - (    1.456 s) Step:   2600, Loss: 2.6773\n",
      "2019-07-25 08:58:50.006 [scala-interpreter-1] INFO  Learn / Hooks / Loss Logger - (    1.541 s) Step:   2700, Loss: 1.8804\n",
      "2019-07-25 08:58:51.383 [scala-interpreter-1] INFO  Learn / Hooks / Loss Logger - (    1.377 s) Step:   2800, Loss: 2.7786\n",
      "2019-07-25 08:58:52.735 [scala-interpreter-1] INFO  Learn / Hooks / Loss Logger - (    1.352 s) Step:   2900, Loss: 1.5707\n",
      "2019-07-25 08:58:54.061 [scala-interpreter-1] INFO  Learn / Hooks / Checkpoint Saver - Saving checkpoint for step 3000.\n",
      "2019-07-25 08:58:54.062 [scala-interpreter-1] INFO  Variables / Saver - Saving parameters to '/Users/vincentbrule/Desktop/audiScala/WORKSHOP/PARTIE_2/notebooks/../resources/save/model.ckpt-3000'.\n",
      "2019-07-25 08:58:54.274 [scala-interpreter-1] INFO  Variables / Saver - Saved parameters to '/Users/vincentbrule/Desktop/audiScala/WORKSHOP/PARTIE_2/notebooks/../resources/save/model.ckpt-3000'.\n",
      "2019-07-25 08:58:54.275 [scala-interpreter-1] INFO  Learn / Hooks / Loss Logger - (    1.540 s) Step:   3000, Loss: 0.8150\n",
      "2019-07-25 08:58:54.276 [scala-interpreter-1] INFO  Variables / Saver - Restoring parameters from '/Users/vincentbrule/Desktop/audiScala/WORKSHOP/PARTIE_2/notebooks/../resources/save/model.ckpt-3000'.\n",
      "2019-07-25 08:58:54.651 [scala-interpreter-1] INFO  Learn / Hooks / Evaluation - Step 3000 Evaluator:\n",
      "2019-07-25 08:58:54.652 [scala-interpreter-1] INFO  Learn / Hooks / Evaluation - ╔═══════╤════════════╗\n",
      "2019-07-25 08:58:54.653 [scala-interpreter-1] INFO  Learn / Hooks / Evaluation - ║       │   Accuracy ║\n",
      "2019-07-25 08:58:54.653 [scala-interpreter-1] INFO  Learn / Hooks / Evaluation - ╟───────┼────────────╢\n",
      "2019-07-25 08:58:58.171 [scala-interpreter-1] INFO  Learn / Hooks / Evaluation - ║ Train │     0.9199 ║\n",
      "2019-07-25 08:58:58.702 [scala-interpreter-1] INFO  Learn / Hooks / Evaluation - ║  Test │     0.9112 ║\n",
      "2019-07-25 08:58:58.724 [scala-interpreter-1] INFO  Learn / Hooks / Evaluation - ╚═══════╧════════════╝\n",
      "2019-07-25 08:58:59.890 [scala-interpreter-1] INFO  Learn / Hooks / Loss Logger - (    5.615 s) Step:   3100, Loss: 0.7767\n",
      "2019-07-25 08:59:01.150 [scala-interpreter-1] INFO  Learn / Hooks / Loss Logger - (    1.260 s) Step:   3200, Loss: 1.0934\n",
      "2019-07-25 08:59:02.446 [scala-interpreter-1] INFO  Learn / Hooks / Loss Logger - (    1.295 s) Step:   3300, Loss: 0.8373\n",
      "2019-07-25 08:59:04.018 [scala-interpreter-1] INFO  Learn / Hooks / Loss Logger - (    1.573 s) Step:   3400, Loss: 0.7669\n",
      "2019-07-25 08:59:05.307 [scala-interpreter-1] INFO  Learn / Hooks / Loss Logger - (    1.289 s) Step:   3500, Loss: 1.6942\n",
      "2019-07-25 08:59:06.832 [scala-interpreter-1] INFO  Learn / Hooks / Loss Logger - (    1.525 s) Step:   3600, Loss: 0.5272\n",
      "2019-07-25 08:59:08.338 [scala-interpreter-1] INFO  Learn / Hooks / Loss Logger - (    1.506 s) Step:   3700, Loss: 0.4185\n",
      "2019-07-25 08:59:09.672 [scala-interpreter-1] INFO  Learn / Hooks / Loss Logger - (    1.333 s) Step:   3800, Loss: 0.5858\n",
      "2019-07-25 08:59:11.066 [scala-interpreter-1] INFO  Learn / Hooks / Loss Logger - (    1.395 s) Step:   3900, Loss: 0.5834\n",
      "2019-07-25 08:59:12.410 [scala-interpreter-1] INFO  Learn / Hooks / Checkpoint Saver - Saving checkpoint for step 4000.\n",
      "2019-07-25 08:59:12.411 [scala-interpreter-1] INFO  Variables / Saver - Saving parameters to '/Users/vincentbrule/Desktop/audiScala/WORKSHOP/PARTIE_2/notebooks/../resources/save/model.ckpt-4000'.\n",
      "2019-07-25 08:59:12.604 [scala-interpreter-1] INFO  Variables / Saver - Saved parameters to '/Users/vincentbrule/Desktop/audiScala/WORKSHOP/PARTIE_2/notebooks/../resources/save/model.ckpt-4000'.\n",
      "2019-07-25 08:59:12.605 [scala-interpreter-1] INFO  Learn / Hooks / Loss Logger - (    1.539 s) Step:   4000, Loss: 0.3247\n",
      "2019-07-25 08:59:12.606 [scala-interpreter-1] INFO  Variables / Saver - Restoring parameters from '/Users/vincentbrule/Desktop/audiScala/WORKSHOP/PARTIE_2/notebooks/../resources/save/model.ckpt-4000'.\n",
      "2019-07-25 08:59:12.960 [scala-interpreter-1] INFO  Learn / Hooks / Evaluation - Step 4000 Evaluator:\n",
      "2019-07-25 08:59:12.961 [scala-interpreter-1] INFO  Learn / Hooks / Evaluation - ╔═══════╤════════════╗\n",
      "2019-07-25 08:59:12.962 [scala-interpreter-1] INFO  Learn / Hooks / Evaluation - ║       │   Accuracy ║\n",
      "2019-07-25 08:59:12.962 [scala-interpreter-1] INFO  Learn / Hooks / Evaluation - ╟───────┼────────────╢\n",
      "2019-07-25 08:59:16.146 [scala-interpreter-1] INFO  Learn / Hooks / Evaluation - ║ Train │     0.9006 ║\n",
      "2019-07-25 08:59:16.667 [scala-interpreter-1] INFO  Learn / Hooks / Evaluation - ║  Test │     0.8896 ║\n",
      "2019-07-25 08:59:16.690 [scala-interpreter-1] INFO  Learn / Hooks / Evaluation - ╚═══════╧════════════╝\n",
      "2019-07-25 08:59:17.797 [scala-interpreter-1] INFO  Learn / Hooks / Loss Logger - (    5.192 s) Step:   4100, Loss: 0.2546\n",
      "2019-07-25 08:59:18.980 [scala-interpreter-1] INFO  Learn / Hooks / Loss Logger - (    1.183 s) Step:   4200, Loss: 0.5689\n",
      "2019-07-25 08:59:20.167 [scala-interpreter-1] INFO  Learn / Hooks / Loss Logger - (    1.187 s) Step:   4300, Loss: 0.4261\n",
      "2019-07-25 08:59:21.365 [scala-interpreter-1] INFO  Learn / Hooks / Loss Logger - (    1.198 s) Step:   4400, Loss: 0.4679\n",
      "2019-07-25 08:59:22.658 [scala-interpreter-1] INFO  Learn / Hooks / Loss Logger - (    1.293 s) Step:   4500, Loss: 0.1491\n",
      "2019-07-25 08:59:23.901 [scala-interpreter-1] INFO  Learn / Hooks / Loss Logger - (    1.243 s) Step:   4600, Loss: 0.6697\n",
      "2019-07-25 08:59:25.143 [scala-interpreter-1] INFO  Learn / Hooks / Loss Logger - (    1.241 s) Step:   4700, Loss: 0.2549\n",
      "2019-07-25 08:59:26.465 [scala-interpreter-1] INFO  Learn / Hooks / Loss Logger - (    1.323 s) Step:   4800, Loss: 0.1798\n",
      "2019-07-25 08:59:27.848 [scala-interpreter-1] INFO  Learn / Hooks / Loss Logger - (    1.383 s) Step:   4900, Loss: 0.2645\n",
      "2019-07-25 08:59:29.403 [scala-interpreter-1] INFO  Learn / Hooks / Checkpoint Saver - Saving checkpoint for step 5000.\n",
      "2019-07-25 08:59:29.403 [scala-interpreter-1] INFO  Variables / Saver - Saving parameters to '/Users/vincentbrule/Desktop/audiScala/WORKSHOP/PARTIE_2/notebooks/../resources/save/model.ckpt-5000'.\n",
      "2019-07-25 08:59:29.609 [scala-interpreter-1] INFO  Variables / Saver - Saved parameters to '/Users/vincentbrule/Desktop/audiScala/WORKSHOP/PARTIE_2/notebooks/../resources/save/model.ckpt-5000'.\n",
      "2019-07-25 08:59:29.610 [scala-interpreter-1] INFO  Learn / Hooks / Loss Logger - (    1.762 s) Step:   5000, Loss: 0.1531\n",
      "2019-07-25 08:59:29.613 [scala-interpreter-1] INFO  Variables / Saver - Restoring parameters from '/Users/vincentbrule/Desktop/audiScala/WORKSHOP/PARTIE_2/notebooks/../resources/save/model.ckpt-5000'.\n",
      "2019-07-25 08:59:29.967 [scala-interpreter-1] INFO  Learn / Hooks / Evaluation - Step 5000 Evaluator:\n",
      "2019-07-25 08:59:29.968 [scala-interpreter-1] INFO  Learn / Hooks / Evaluation - ╔═══════╤════════════╗\n",
      "2019-07-25 08:59:29.968 [scala-interpreter-1] INFO  Learn / Hooks / Evaluation - ║       │   Accuracy ║\n",
      "2019-07-25 08:59:29.969 [scala-interpreter-1] INFO  Learn / Hooks / Evaluation - ╟───────┼────────────╢\n",
      "2019-07-25 08:59:34.873 [scala-interpreter-1] INFO  Learn / Hooks / Evaluation - ║ Train │     0.9417 ║\n",
      "2019-07-25 08:59:35.643 [scala-interpreter-1] INFO  Learn / Hooks / Evaluation - ║  Test │     0.9273 ║\n",
      "2019-07-25 08:59:35.668 [scala-interpreter-1] INFO  Learn / Hooks / Evaluation - ╚═══════╧════════════╝\n",
      "2019-07-25 08:59:36.920 [scala-interpreter-1] INFO  Learn / Hooks / Loss Logger - (    7.310 s) Step:   5100, Loss: 0.2251\n",
      "2019-07-25 08:59:38.114 [scala-interpreter-1] INFO  Learn / Hooks / Loss Logger - (    1.194 s) Step:   5200, Loss: 0.2227\n",
      "2019-07-25 08:59:39.297 [scala-interpreter-1] INFO  Learn / Hooks / Loss Logger - (    1.183 s) Step:   5300, Loss: 0.1818\n",
      "2019-07-25 08:59:40.511 [scala-interpreter-1] INFO  Learn / Hooks / Loss Logger - (    1.214 s) Step:   5400, Loss: 0.2428\n",
      "2019-07-25 08:59:41.813 [scala-interpreter-1] INFO  Learn / Hooks / Loss Logger - (    1.302 s) Step:   5500, Loss: 0.1670\n",
      "2019-07-25 08:59:43.119 [scala-interpreter-1] INFO  Learn / Hooks / Loss Logger - (    1.305 s) Step:   5600, Loss: 0.2836\n",
      "2019-07-25 08:59:44.424 [scala-interpreter-1] INFO  Learn / Hooks / Loss Logger - (    1.306 s) Step:   5700, Loss: 0.3152\n"
     ]
    },
    {
     "name": "stdout",
     "output_type": "stream",
     "text": [
      "2019-07-25 08:59:45.797 [scala-interpreter-1] INFO  Learn / Hooks / Loss Logger - (    1.373 s) Step:   5800, Loss: 0.4473\n",
      "2019-07-25 08:59:47.102 [scala-interpreter-1] INFO  Learn / Hooks / Loss Logger - (    1.305 s) Step:   5900, Loss: 0.2930\n",
      "2019-07-25 08:59:48.374 [scala-interpreter-1] INFO  Learn / Hooks / Checkpoint Saver - Saving checkpoint for step 6000.\n",
      "2019-07-25 08:59:48.375 [scala-interpreter-1] INFO  Variables / Saver - Saving parameters to '/Users/vincentbrule/Desktop/audiScala/WORKSHOP/PARTIE_2/notebooks/../resources/save/model.ckpt-6000'.\n",
      "2019-07-25 08:59:48.573 [scala-interpreter-1] INFO  Variables / Saver - Saved parameters to '/Users/vincentbrule/Desktop/audiScala/WORKSHOP/PARTIE_2/notebooks/../resources/save/model.ckpt-6000'.\n",
      "2019-07-25 08:59:48.573 [scala-interpreter-1] INFO  Learn / Hooks / Loss Logger - (    1.471 s) Step:   6000, Loss: 0.3259\n",
      "2019-07-25 08:59:48.576 [scala-interpreter-1] INFO  Variables / Saver - Restoring parameters from '/Users/vincentbrule/Desktop/audiScala/WORKSHOP/PARTIE_2/notebooks/../resources/save/model.ckpt-6000'.\n",
      "2019-07-25 08:59:48.875 [scala-interpreter-1] INFO  Learn / Hooks / Evaluation - Step 6000 Evaluator:\n",
      "2019-07-25 08:59:48.875 [scala-interpreter-1] INFO  Learn / Hooks / Evaluation - ╔═══════╤════════════╗\n",
      "2019-07-25 08:59:48.876 [scala-interpreter-1] INFO  Learn / Hooks / Evaluation - ║       │   Accuracy ║\n",
      "2019-07-25 08:59:48.876 [scala-interpreter-1] INFO  Learn / Hooks / Evaluation - ╟───────┼────────────╢\n",
      "2019-07-25 08:59:52.205 [scala-interpreter-1] INFO  Learn / Hooks / Evaluation - ║ Train │     0.9534 ║\n",
      "2019-07-25 08:59:52.732 [scala-interpreter-1] INFO  Learn / Hooks / Evaluation - ║  Test │     0.9399 ║\n",
      "2019-07-25 08:59:52.754 [scala-interpreter-1] INFO  Learn / Hooks / Evaluation - ╚═══════╧════════════╝\n",
      "2019-07-25 08:59:53.915 [scala-interpreter-1] INFO  Learn / Hooks / Loss Logger - (    5.342 s) Step:   6100, Loss: 0.1979\n",
      "2019-07-25 08:59:55.211 [scala-interpreter-1] INFO  Learn / Hooks / Loss Logger - (    1.296 s) Step:   6200, Loss: 0.1049\n",
      "2019-07-25 08:59:56.468 [scala-interpreter-1] INFO  Learn / Hooks / Loss Logger - (    1.256 s) Step:   6300, Loss: 0.3145\n",
      "2019-07-25 08:59:57.744 [scala-interpreter-1] INFO  Learn / Hooks / Loss Logger - (    1.277 s) Step:   6400, Loss: 0.2803\n",
      "2019-07-25 08:59:58.997 [scala-interpreter-1] INFO  Learn / Hooks / Loss Logger - (    1.253 s) Step:   6500, Loss: 0.3231\n",
      "2019-07-25 09:00:00.235 [scala-interpreter-1] INFO  Learn / Hooks / Loss Logger - (    1.238 s) Step:   6600, Loss: 0.2283\n",
      "2019-07-25 09:00:01.572 [scala-interpreter-1] INFO  Learn / Hooks / Loss Logger - (    1.337 s) Step:   6700, Loss: 0.1348\n",
      "2019-07-25 09:00:02.932 [scala-interpreter-1] INFO  Learn / Hooks / Loss Logger - (    1.360 s) Step:   6800, Loss: 0.3052\n",
      "2019-07-25 09:00:04.207 [scala-interpreter-1] INFO  Learn / Hooks / Loss Logger - (    1.275 s) Step:   6900, Loss: 0.3094\n",
      "2019-07-25 09:00:05.486 [scala-interpreter-1] INFO  Learn / Hooks / Checkpoint Saver - Saving checkpoint for step 7000.\n",
      "2019-07-25 09:00:05.487 [scala-interpreter-1] INFO  Variables / Saver - Saving parameters to '/Users/vincentbrule/Desktop/audiScala/WORKSHOP/PARTIE_2/notebooks/../resources/save/model.ckpt-7000'.\n",
      "2019-07-25 09:00:05.679 [scala-interpreter-1] INFO  Variables / Saver - Saved parameters to '/Users/vincentbrule/Desktop/audiScala/WORKSHOP/PARTIE_2/notebooks/../resources/save/model.ckpt-7000'.\n",
      "2019-07-25 09:00:05.680 [scala-interpreter-1] INFO  Learn / Hooks / Loss Logger - (    1.473 s) Step:   7000, Loss: 0.1897\n",
      "2019-07-25 09:00:05.682 [scala-interpreter-1] INFO  Variables / Saver - Restoring parameters from '/Users/vincentbrule/Desktop/audiScala/WORKSHOP/PARTIE_2/notebooks/../resources/save/model.ckpt-7000'.\n",
      "2019-07-25 09:00:05.999 [scala-interpreter-1] INFO  Learn / Hooks / Evaluation - Step 7000 Evaluator:\n",
      "2019-07-25 09:00:06.000 [scala-interpreter-1] INFO  Learn / Hooks / Evaluation - ╔═══════╤════════════╗\n",
      "2019-07-25 09:00:06.000 [scala-interpreter-1] INFO  Learn / Hooks / Evaluation - ║       │   Accuracy ║\n",
      "2019-07-25 09:00:06.001 [scala-interpreter-1] INFO  Learn / Hooks / Evaluation - ╟───────┼────────────╢\n",
      "2019-07-25 09:00:09.901 [scala-interpreter-1] INFO  Learn / Hooks / Evaluation - ║ Train │     0.9552 ║\n",
      "2019-07-25 09:00:10.488 [scala-interpreter-1] INFO  Learn / Hooks / Evaluation - ║  Test │     0.9397 ║\n",
      "2019-07-25 09:00:10.512 [scala-interpreter-1] INFO  Learn / Hooks / Evaluation - ╚═══════╧════════════╝\n",
      "2019-07-25 09:00:11.711 [scala-interpreter-1] INFO  Learn / Hooks / Loss Logger - (    6.031 s) Step:   7100, Loss: 0.2115\n",
      "2019-07-25 09:00:13.005 [scala-interpreter-1] INFO  Learn / Hooks / Loss Logger - (    1.294 s) Step:   7200, Loss: 0.3456\n",
      "2019-07-25 09:00:14.287 [scala-interpreter-1] INFO  Learn / Hooks / Loss Logger - (    1.281 s) Step:   7300, Loss: 0.2093\n",
      "2019-07-25 09:00:15.485 [scala-interpreter-1] INFO  Learn / Hooks / Loss Logger - (    1.199 s) Step:   7400, Loss: 0.1801\n",
      "2019-07-25 09:00:16.691 [scala-interpreter-1] INFO  Learn / Hooks / Loss Logger - (    1.206 s) Step:   7500, Loss: 0.3179\n",
      "2019-07-25 09:00:18.053 [scala-interpreter-1] INFO  Learn / Hooks / Loss Logger - (    1.362 s) Step:   7600, Loss: 0.3513\n",
      "2019-07-25 09:00:19.329 [scala-interpreter-1] INFO  Learn / Hooks / Loss Logger - (    1.275 s) Step:   7700, Loss: 0.3197\n",
      "2019-07-25 09:00:20.599 [scala-interpreter-1] INFO  Learn / Hooks / Loss Logger - (    1.270 s) Step:   7800, Loss: 0.2720\n",
      "2019-07-25 09:00:21.872 [scala-interpreter-1] INFO  Learn / Hooks / Loss Logger - (    1.274 s) Step:   7900, Loss: 0.2371\n",
      "2019-07-25 09:00:23.159 [scala-interpreter-1] INFO  Learn / Hooks / Checkpoint Saver - Saving checkpoint for step 8000.\n",
      "2019-07-25 09:00:23.160 [scala-interpreter-1] INFO  Variables / Saver - Saving parameters to '/Users/vincentbrule/Desktop/audiScala/WORKSHOP/PARTIE_2/notebooks/../resources/save/model.ckpt-8000'.\n",
      "2019-07-25 09:00:23.412 [scala-interpreter-1] INFO  Variables / Saver - Saved parameters to '/Users/vincentbrule/Desktop/audiScala/WORKSHOP/PARTIE_2/notebooks/../resources/save/model.ckpt-8000'.\n",
      "2019-07-25 09:00:23.413 [scala-interpreter-1] INFO  Learn / Hooks / Loss Logger - (    1.541 s) Step:   8000, Loss: 0.2764\n",
      "2019-07-25 09:00:23.415 [scala-interpreter-1] INFO  Variables / Saver - Restoring parameters from '/Users/vincentbrule/Desktop/audiScala/WORKSHOP/PARTIE_2/notebooks/../resources/save/model.ckpt-8000'.\n",
      "2019-07-25 09:00:23.736 [scala-interpreter-1] INFO  Learn / Hooks / Evaluation - Step 8000 Evaluator:\n",
      "2019-07-25 09:00:23.737 [scala-interpreter-1] INFO  Learn / Hooks / Evaluation - ╔═══════╤════════════╗\n",
      "2019-07-25 09:00:23.737 [scala-interpreter-1] INFO  Learn / Hooks / Evaluation - ║       │   Accuracy ║\n",
      "2019-07-25 09:00:23.738 [scala-interpreter-1] INFO  Learn / Hooks / Evaluation - ╟───────┼────────────╢\n",
      "2019-07-25 09:00:27.003 [scala-interpreter-1] INFO  Learn / Hooks / Evaluation - ║ Train │     0.9410 ║\n",
      "2019-07-25 09:00:27.538 [scala-interpreter-1] INFO  Learn / Hooks / Evaluation - ║  Test │     0.9269 ║\n",
      "2019-07-25 09:00:27.560 [scala-interpreter-1] INFO  Learn / Hooks / Evaluation - ╚═══════╧════════════╝\n",
      "2019-07-25 09:00:28.674 [scala-interpreter-1] INFO  Learn / Hooks / Loss Logger - (    5.261 s) Step:   8100, Loss: 0.1701\n",
      "2019-07-25 09:00:29.905 [scala-interpreter-1] INFO  Learn / Hooks / Loss Logger - (    1.231 s) Step:   8200, Loss: 0.1832\n",
      "2019-07-25 09:00:31.189 [scala-interpreter-1] INFO  Learn / Hooks / Loss Logger - (    1.284 s) Step:   8300, Loss: 0.3545\n",
      "2019-07-25 09:00:32.446 [scala-interpreter-1] INFO  Learn / Hooks / Loss Logger - (    1.257 s) Step:   8400, Loss: 0.2472\n",
      "2019-07-25 09:00:33.697 [scala-interpreter-1] INFO  Learn / Hooks / Loss Logger - (    1.251 s) Step:   8500, Loss: 0.1984\n",
      "2019-07-25 09:00:34.878 [scala-interpreter-1] INFO  Learn / Hooks / Loss Logger - (    1.181 s) Step:   8600, Loss: 0.2653\n",
      "2019-07-25 09:00:36.104 [scala-interpreter-1] INFO  Learn / Hooks / Loss Logger - (    1.226 s) Step:   8700, Loss: 0.1157\n",
      "2019-07-25 09:00:37.268 [scala-interpreter-1] INFO  Learn / Hooks / Loss Logger - (    1.164 s) Step:   8800, Loss: 0.3366\n",
      "2019-07-25 09:00:38.441 [scala-interpreter-1] INFO  Learn / Hooks / Loss Logger - (    1.172 s) Step:   8900, Loss: 0.2091\n"
     ]
    },
    {
     "name": "stdout",
     "output_type": "stream",
     "text": [
      "2019-07-25 09:00:39.667 [scala-interpreter-1] INFO  Learn / Hooks / Checkpoint Saver - Saving checkpoint for step 9000.\n",
      "2019-07-25 09:00:39.668 [scala-interpreter-1] INFO  Variables / Saver - Saving parameters to '/Users/vincentbrule/Desktop/audiScala/WORKSHOP/PARTIE_2/notebooks/../resources/save/model.ckpt-9000'.\n",
      "2019-07-25 09:00:39.866 [scala-interpreter-1] INFO  Variables / Saver - Saved parameters to '/Users/vincentbrule/Desktop/audiScala/WORKSHOP/PARTIE_2/notebooks/../resources/save/model.ckpt-9000'.\n",
      "2019-07-25 09:00:39.867 [scala-interpreter-1] INFO  Learn / Hooks / Loss Logger - (    1.427 s) Step:   9000, Loss: 0.3805\n",
      "2019-07-25 09:00:39.869 [scala-interpreter-1] INFO  Variables / Saver - Restoring parameters from '/Users/vincentbrule/Desktop/audiScala/WORKSHOP/PARTIE_2/notebooks/../resources/save/model.ckpt-9000'.\n",
      "2019-07-25 09:00:40.188 [scala-interpreter-1] INFO  Learn / Hooks / Evaluation - Step 9000 Evaluator:\n",
      "2019-07-25 09:00:40.189 [scala-interpreter-1] INFO  Learn / Hooks / Evaluation - ╔═══════╤════════════╗\n",
      "2019-07-25 09:00:40.189 [scala-interpreter-1] INFO  Learn / Hooks / Evaluation - ║       │   Accuracy ║\n",
      "2019-07-25 09:00:40.189 [scala-interpreter-1] INFO  Learn / Hooks / Evaluation - ╟───────┼────────────╢\n",
      "2019-07-25 09:00:43.717 [scala-interpreter-1] INFO  Learn / Hooks / Evaluation - ║ Train │     0.9501 ║\n",
      "2019-07-25 09:00:44.299 [scala-interpreter-1] INFO  Learn / Hooks / Evaluation - ║  Test │     0.9331 ║\n",
      "2019-07-25 09:00:44.320 [scala-interpreter-1] INFO  Learn / Hooks / Evaluation - ╚═══════╧════════════╝\n",
      "2019-07-25 09:00:45.411 [scala-interpreter-1] INFO  Learn / Hooks / Loss Logger - (    5.544 s) Step:   9100, Loss: 0.1382\n",
      "2019-07-25 09:00:46.624 [scala-interpreter-1] INFO  Learn / Hooks / Loss Logger - (    1.213 s) Step:   9200, Loss: 0.2726\n",
      "2019-07-25 09:00:47.799 [scala-interpreter-1] INFO  Learn / Hooks / Loss Logger - (    1.175 s) Step:   9300, Loss: 0.2078\n",
      "2019-07-25 09:00:49.036 [scala-interpreter-1] INFO  Learn / Hooks / Loss Logger - (    1.236 s) Step:   9400, Loss: 0.3205\n",
      "2019-07-25 09:00:50.255 [scala-interpreter-1] INFO  Learn / Hooks / Loss Logger - (    1.220 s) Step:   9500, Loss: 0.1098\n",
      "2019-07-25 09:00:51.448 [scala-interpreter-1] INFO  Learn / Hooks / Loss Logger - (    1.193 s) Step:   9600, Loss: 0.3081\n",
      "2019-07-25 09:00:52.644 [scala-interpreter-1] INFO  Learn / Hooks / Loss Logger - (    1.196 s) Step:   9700, Loss: 0.1545\n",
      "2019-07-25 09:00:53.838 [scala-interpreter-1] INFO  Learn / Hooks / Loss Logger - (    1.194 s) Step:   9800, Loss: 0.4754\n",
      "2019-07-25 09:00:55.081 [scala-interpreter-1] INFO  Learn / Hooks / Loss Logger - (    1.243 s) Step:   9900, Loss: 0.1618\n",
      "2019-07-25 09:00:56.314 [scala-interpreter-1] INFO  Learn / Hooks / Checkpoint Saver - Saving checkpoint for step 10000.\n",
      "2019-07-25 09:00:56.314 [scala-interpreter-1] INFO  Variables / Saver - Saving parameters to '/Users/vincentbrule/Desktop/audiScala/WORKSHOP/PARTIE_2/notebooks/../resources/save/model.ckpt-10000'.\n",
      "2019-07-25 09:00:56.529 [scala-interpreter-1] INFO  Variables / Saver - Saved parameters to '/Users/vincentbrule/Desktop/audiScala/WORKSHOP/PARTIE_2/notebooks/../resources/save/model.ckpt-10000'.\n",
      "2019-07-25 09:00:56.530 [scala-interpreter-1] INFO  Learn / Hooks / Loss Logger - (    1.449 s) Step:  10000, Loss: 0.2156\n",
      "2019-07-25 09:00:56.532 [scala-interpreter-1] INFO  Variables / Saver - Restoring parameters from '/Users/vincentbrule/Desktop/audiScala/WORKSHOP/PARTIE_2/notebooks/../resources/save/model.ckpt-10000'.\n",
      "2019-07-25 09:00:56.831 [scala-interpreter-1] INFO  Learn / Hooks / Evaluation - Step 10000 Evaluator:\n",
      "2019-07-25 09:00:56.832 [scala-interpreter-1] INFO  Learn / Hooks / Evaluation - ╔═══════╤════════════╗\n",
      "2019-07-25 09:00:56.832 [scala-interpreter-1] INFO  Learn / Hooks / Evaluation - ║       │   Accuracy ║\n",
      "2019-07-25 09:00:56.832 [scala-interpreter-1] INFO  Learn / Hooks / Evaluation - ╟───────┼────────────╢\n",
      "2019-07-25 09:01:00.158 [scala-interpreter-1] INFO  Learn / Hooks / Evaluation - ║ Train │     0.9574 ║\n",
      "2019-07-25 09:01:00.706 [scala-interpreter-1] INFO  Learn / Hooks / Evaluation - ║  Test │     0.9410 ║\n",
      "2019-07-25 09:01:00.730 [scala-interpreter-1] INFO  Learn / Hooks / Evaluation - ╚═══════╧════════════╝\n"
     ]
    },
    {
     "data": {
      "text/plain": [
       "\u001b[36mdataSet\u001b[39m: \u001b[32morg\u001b[39m.\u001b[32mplatanios\u001b[39m.\u001b[32mtensorflow\u001b[39m.\u001b[32mdata\u001b[39m.\u001b[32mimage\u001b[39m.\u001b[32mMNISTDataset\u001b[39m = \u001b[33mMNISTDataset\u001b[39m(\n",
       "  MNIST,\n",
       "  Tensor[UByte, [60000, 28, 28]],\n",
       "  Tensor[UByte, [60000]],\n",
       "  Tensor[UByte, [10000, 28, 28]],\n",
       "  Tensor[UByte, [10000]]\n",
       ")\n",
       "\u001b[36mtrainImages\u001b[39m: \u001b[32mops\u001b[39m.\u001b[32mdata\u001b[39m.\u001b[32mDataset\u001b[39m[\u001b[32mOutput\u001b[39m[\u001b[32mFloat\u001b[39m]] = Dataset[TensorSlicesDataset/Map]\n",
       "\u001b[36mtrainLabels\u001b[39m: \u001b[32mops\u001b[39m.\u001b[32mdata\u001b[39m.\u001b[32mDataset\u001b[39m[\u001b[32mOutput\u001b[39m[\u001b[32mLong\u001b[39m]] = Dataset[TensorSlicesDataset/Map]\n",
       "\u001b[36mtestImages\u001b[39m: \u001b[32mops\u001b[39m.\u001b[32mdata\u001b[39m.\u001b[32mDataset\u001b[39m[\u001b[32mOutput\u001b[39m[\u001b[32mFloat\u001b[39m]] = Dataset[TensorSlicesDataset/Map]\n",
       "\u001b[36mtestLabels\u001b[39m: \u001b[32mops\u001b[39m.\u001b[32mdata\u001b[39m.\u001b[32mDataset\u001b[39m[\u001b[32mOutput\u001b[39m[\u001b[32mLong\u001b[39m]] = Dataset[TensorSlicesDataset/Map]\n",
       "\u001b[36mtrainData\u001b[39m: \u001b[32mops\u001b[39m.\u001b[32mdata\u001b[39m.\u001b[32mDataset\u001b[39m[(\u001b[32mOutput\u001b[39m[\u001b[32mFloat\u001b[39m], \u001b[32mOutput\u001b[39m[\u001b[32mLong\u001b[39m])] = Dataset[TensorSlicesDataset/Map/Zip/Repeat/Shuffle/Batch/Prefetch]\n",
       "\u001b[36mevalTrainData\u001b[39m: \u001b[32mops\u001b[39m.\u001b[32mdata\u001b[39m.\u001b[32mDataset\u001b[39m[(\u001b[32mOutput\u001b[39m[\u001b[32mFloat\u001b[39m], \u001b[32mOutput\u001b[39m[\u001b[32mLong\u001b[39m])] = Dataset[TensorSlicesDataset/Map/Zip/Batch/Prefetch]\n",
       "\u001b[36mevalTestData\u001b[39m: \u001b[32mops\u001b[39m.\u001b[32mdata\u001b[39m.\u001b[32mDataset\u001b[39m[(\u001b[32mOutput\u001b[39m[\u001b[32mFloat\u001b[39m], \u001b[32mOutput\u001b[39m[\u001b[32mLong\u001b[39m])] = Dataset[TensorSlicesDataset/Map/Zip/Batch/Prefetch]\n",
       "\u001b[36minput\u001b[39m: \u001b[32mInput\u001b[39m[\u001b[32mOutput\u001b[39m[\u001b[32mFloat\u001b[39m]] = org.platanios.tensorflow.api.learn.layers.Input@b6f8926\n",
       "\u001b[36mtrainInput\u001b[39m: \u001b[32mInput\u001b[39m[\u001b[32mOutput\u001b[39m[\u001b[32mLong\u001b[39m]] = org.platanios.tensorflow.api.learn.layers.Input@f6278f1\n",
       "\u001b[36mlayer\u001b[39m: \u001b[32mlearn\u001b[39m.\u001b[32mlayers\u001b[39m.\u001b[32mCompose\u001b[39m[\u001b[32mOutput\u001b[39m[\u001b[32mFloat\u001b[39m], \u001b[32mOutput\u001b[39m[\u001b[32mFloat\u001b[39m], \u001b[32mOutput\u001b[39m[\u001b[32mFloat\u001b[39m]] = \u001b[33mCompose\u001b[39m(\n",
       "  \u001b[32m\"Input/Flatten\"\u001b[39m,\n",
       "  \u001b[33mCompose\u001b[39m(\n",
       "    \u001b[32m\"Input/Flatten\"\u001b[39m,\n",
       "    \u001b[33mCompose\u001b[39m(\n",
       "      \u001b[32m\"Input/Flatten\"\u001b[39m,\n",
       "      \u001b[33mCompose\u001b[39m(\n",
       "        \u001b[32m\"Input/Flatten\"\u001b[39m,\n",
       "        \u001b[33mCompose\u001b[39m(\n",
       "          \u001b[32m\"Input/Flatten\"\u001b[39m,\n",
       "          \u001b[33mCompose\u001b[39m(\n",
       "            \u001b[32m\"Input/Flatten\"\u001b[39m,\n",
       "            \u001b[33mCompose\u001b[39m(\n",
       "              \u001b[32m\"Input/Flatten\"\u001b[39m,\n",
       "              \u001b[33mFlatten\u001b[39m(\u001b[32m\"Input/Flatten\"\u001b[39m),\n",
       "              \u001b[33mLinear\u001b[39m(\n",
       "                \u001b[32m\"Layer_0/Linear\"\u001b[39m,\n",
       "                \u001b[32m128\u001b[39m,\n",
       "                true,\n",
       "                \u001b[33mRandomNormalInitializer\u001b[39m(\n",
       "                  Tensor[Float, []],\n",
       "                  Tensor[Float, []],\n",
       "                  \u001b[32mNone\u001b[39m\n",
       "                ),\n",
       "                \u001b[33mRandomNormalInitializer\u001b[39m(\n",
       "                  Tensor[Float, []],\n",
       "                  Tensor[Float, []],\n",
       "                  \u001b[32mNone\u001b[39m\n",
       "                )\n",
       "              )\n",
       "            ),\n",
       "            \u001b[33mReLU\u001b[39m(\u001b[32m\"Layer_0/ReLU\"\u001b[39m, \u001b[32m0.1F\u001b[39m)\n",
       "          ),\n",
       "          \u001b[33mLinear\u001b[39m(\n",
       "            \u001b[32m\"Layer_1/Linear\"\u001b[39m,\n",
       "            \u001b[32m64\u001b[39m,\n",
       "            true,\n",
       "            \u001b[33mRandomNormalInitializer\u001b[39m(Tensor[Float, []], Tensor[Float, []], \u001b[32mNone\u001b[39m),\n",
       "            \u001b[33mRandomNormalInitializer\u001b[39m(Tensor[Float, []], Tensor[Float, []], \u001b[32mNone\u001b[39m)\n",
       "...\n",
       "\u001b[36mloss\u001b[39m: \u001b[32mlearn\u001b[39m.\u001b[32mlayers\u001b[39m.\u001b[32mCompose\u001b[39m[(\u001b[32mOutput\u001b[39m[\u001b[32mFloat\u001b[39m], \u001b[32mOutput\u001b[39m[\u001b[32mLong\u001b[39m]), \u001b[32mOutput\u001b[39m[\u001b[32mFloat\u001b[39m], \u001b[32mOutput\u001b[39m[\u001b[32mFloat\u001b[39m]] = \u001b[33mCompose\u001b[39m(\n",
       "  \u001b[32m\"Loss/CrossEntropy\"\u001b[39m,\n",
       "  \u001b[33mCompose\u001b[39m(\n",
       "    \u001b[32m\"Loss/CrossEntropy\"\u001b[39m,\n",
       "    \u001b[33mSparseSoftmaxCrossEntropy\u001b[39m(\u001b[32m\"Loss/CrossEntropy\"\u001b[39m),\n",
       "    \u001b[33mMean\u001b[39m(\u001b[32m\"Loss/Mean\"\u001b[39m, \u001b[32mnull\u001b[39m, false)\n",
       "  ),\n",
       "  \u001b[33mScalarSummary\u001b[39m(\n",
       "    \u001b[32m\"Loss/Summary\"\u001b[39m,\n",
       "    \u001b[32m\"Loss\"\u001b[39m,\n",
       "    \u001b[32mnull\u001b[39m,\n",
       "    \u001b[33mSet\u001b[39m(org.platanios.tensorflow.api.core.Graph$Keys$SUMMARIES$@407feac3)\n",
       "  )\n",
       ")\n",
       "\u001b[36moptimizer\u001b[39m: \u001b[32mops\u001b[39m.\u001b[32mtraining\u001b[39m.\u001b[32moptimizers\u001b[39m.\u001b[32mYellowFin\u001b[39m = org.platanios.tensorflow.api.ops.training.optimizers.YellowFin@34091498\n",
       "\u001b[36mmodel\u001b[39m: \u001b[32mlearn\u001b[39m.\u001b[32mSupervisedTrainableModel\u001b[39m[\u001b[32mOutput\u001b[39m[\u001b[32mFloat\u001b[39m], \u001b[32mOutput\u001b[39m[\u001b[32mLong\u001b[39m], \u001b[32mOutput\u001b[39m[\u001b[32mFloat\u001b[39m], \u001b[32mOutput\u001b[39m[\u001b[32mFloat\u001b[39m], \u001b[32mFloat\u001b[39m] = org.platanios.tensorflow.api.learn.Model$$anon$1@5804e6d4\n",
       "\u001b[36msummariesDir\u001b[39m: \u001b[32mPath\u001b[39m = ../resources/save\n",
       "\u001b[36maccMetric\u001b[39m: \u001b[32mops\u001b[39m.\u001b[32mmetrics\u001b[39m.\u001b[32mMapMetric\u001b[39m[(\u001b[32mOutput\u001b[39m[\u001b[32mFloat\u001b[39m], (\u001b[32mOutput\u001b[39m[\u001b[32mFloat\u001b[39m], \u001b[32mOutput\u001b[39m[\u001b[32mInt\u001b[39m])), (\u001b[32mOutput\u001b[39m[\u001b[32mFloat\u001b[39m], \u001b[32mOutput\u001b[39m[\u001b[32mFloat\u001b[39m]), \u001b[32mOutput\u001b[39m[\u001b[32mFloat\u001b[39m]] = Accuracy\n",
       "\u001b[36mestimator\u001b[39m: \u001b[32mInMemoryEstimator\u001b[39m[\u001b[32mOutput\u001b[39m[\u001b[32mFloat\u001b[39m], (\u001b[32mOutput\u001b[39m[\u001b[32mFloat\u001b[39m], \u001b[32mOutput\u001b[39m[\u001b[32mLong\u001b[39m]), \u001b[32mOutput\u001b[39m[\u001b[32mFloat\u001b[39m], \u001b[32mOutput\u001b[39m[\u001b[32mFloat\u001b[39m], \u001b[32mFloat\u001b[39m, (\u001b[32mOutput\u001b[39m[\u001b[32mFloat\u001b[39m], (\u001b[32mOutput\u001b[39m[\u001b[32mFloat\u001b[39m], \u001b[32mOutput\u001b[39m[\u001b[32mLong\u001b[39m]))] = org.platanios.tensorflow.api.learn.estimators.InMemoryEstimator@6a1f4edf\n",
       "defined \u001b[32mfunction\u001b[39m \u001b[36maccuracy\u001b[39m"
      ]
     },
     "execution_count": 6,
     "metadata": {},
     "output_type": "execute_result"
    }
   ],
   "source": [
    "val dataSet = MNISTLoader.load(Paths.get(\"../resources/dataset\"))\n",
    "val trainImages = tf.data.datasetFromTensorSlices(dataSet.trainImages).map(_.toFloat)\n",
    "val trainLabels = tf.data.datasetFromTensorSlices(dataSet.trainLabels).map(_.toLong)\n",
    "val testImages = tf.data.datasetFromTensorSlices(dataSet.testImages).map(_.toFloat)\n",
    "val testLabels = tf.data.datasetFromTensorSlices(dataSet.testLabels).map(_.toLong)\n",
    "val trainData =\n",
    "  trainImages.zip(trainLabels)\n",
    "      .repeat()\n",
    "      .shuffle(10000)\n",
    "      .batch(256)\n",
    "      .prefetch(10)\n",
    "val evalTrainData = trainImages.zip(trainLabels).batch(1000).prefetch(10)\n",
    "val evalTestData = testImages.zip(testLabels).batch(1000).prefetch(10)\n",
    "\n",
    "\n",
    "val input = tf.learn.Input(FLOAT32, Shape(-1, dataSet.trainImages.shape(1), dataSet.trainImages.shape(2)))\n",
    "val trainInput = tf.learn.Input(INT64, Shape(-1))\n",
    "val layer = tf.learn.Flatten[Float](\"Input/Flatten\") >>\n",
    "    tf.learn.Linear[Float](\"Layer_0/Linear\", 128) >> tf.learn.ReLU[Float](\"Layer_0/ReLU\", 0.1f) >>\n",
    "    tf.learn.Linear[Float](\"Layer_1/Linear\", 64) >> tf.learn.ReLU[Float](\"Layer_1/ReLU\", 0.1f) >>\n",
    "    tf.learn.Linear[Float](\"Layer_2/Linear\", 32) >> tf.learn.ReLU[Float](\"Layer_2/ReLU\", 0.1f) >>\n",
    "    tf.learn.Linear[Float](\"OutputLayer/Linear\", 10)\n",
    "val loss = tf.learn.SparseSoftmaxCrossEntropy[Float, Long, Float](\"Loss/CrossEntropy\") >>\n",
    "    tf.learn.Mean[Float](\"Loss/Mean\") >>\n",
    "    tf.learn.ScalarSummary[Float](\"Loss/Summary\", \"Loss\")\n",
    "val optimizer = tf.train.YellowFin()\n",
    "\n",
    "val model = tf.learn.Model.simpleSupervised(\n",
    "  input = input,\n",
    "  trainInput = trainInput,\n",
    "  layer = layer,\n",
    "  loss = loss,\n",
    "  optimizer = optimizer,\n",
    "  clipGradients = ClipGradientsByGlobalNorm(5.0f))\n",
    "\n",
    "val summariesDir = Paths.get(\"../resources/save\")\n",
    "val accMetric = tf.metrics.MapMetric(\n",
    "  (v: (Output[Float], (Output[Float], Output[Int]))) => {\n",
    "    (tf.argmax(v._1, -1, INT64).toFloat, v._2._2.toFloat)\n",
    "  }, tf.metrics.Accuracy(\"Accuracy\"))\n",
    "val estimator = tf.learn.InMemoryEstimator(\n",
    "  model,\n",
    "  tf.learn.Configuration(Some(summariesDir)),\n",
    "  tf.learn.StopCriteria(maxSteps = Some(100000)),\n",
    "  Set(\n",
    "    tf.learn.LossLogger(trigger = tf.learn.StepHookTrigger(100)),\n",
    "    tf.learn.Evaluator(\n",
    "      log = true, datasets = Seq((\"Train\", () => evalTrainData), (\"Test\", () => evalTestData)),\n",
    "      metrics = Seq(accMetric), trigger = tf.learn.StepHookTrigger(1000), name = \"Evaluator\"),\n",
    "    tf.learn.StepRateLogger(log = false, summaryDir = summariesDir, trigger = tf.learn.StepHookTrigger(100)),\n",
    "    tf.learn.SummarySaver(summariesDir, tf.learn.StepHookTrigger(100)),\n",
    "    tf.learn.CheckpointSaver(summariesDir, tf.learn.StepHookTrigger(1000))),\n",
    "  tensorBoardConfig = tf.learn.TensorBoardConfig(summariesDir, reloadInterval = 1))\n",
    "estimator.train(() => trainData, tf.learn.StopCriteria(maxSteps = Some(10000)))\n",
    "\n",
    "def accuracy(images: Tensor[UByte], labels: Tensor[UByte]): Float = {\n",
    "  val predictions = estimator.infer(() => images.toFloat)\n",
    "  predictions\n",
    "      .argmax(1).toUByte\n",
    "      .equal(labels).toFloat\n",
    "      .mean().scalar\n",
    "}\n"
   ]
  },
  {
   "cell_type": "code",
   "execution_count": 8,
   "metadata": {},
   "outputs": [
    {
     "name": "stdout",
     "output_type": "stream",
     "text": [
      "Train accuracy = 0.95735\n",
      "Test accuracy = 0.941\n"
     ]
    },
    {
     "data": {
      "text/plain": [
       "defined \u001b[32mfunction\u001b[39m \u001b[36maccuracy\u001b[39m"
      ]
     },
     "execution_count": 8,
     "metadata": {},
     "output_type": "execute_result"
    }
   ],
   "source": [
    "def accuracy(images: Tensor[UByte], labels: Tensor[UByte]): Float = {\n",
    "    val predictions = estimator.infer(() => images.toFloat)\n",
    "    predictions\n",
    "      .argmax(1).toUByte\n",
    "      .equal(labels).toFloat\n",
    "      .mean().scalar\n",
    "}\n",
    "\n",
    "println(s\"Train accuracy = ${accuracy(dataSet.trainImages, dataSet.trainLabels)}\")\n",
    "println(s\"Test accuracy = ${accuracy(dataSet.testImages, dataSet.testLabels)}\")"
   ]
  },
  {
   "cell_type": "code",
   "execution_count": 7,
   "metadata": {},
   "outputs": [
    {
     "data": {
      "text/plain": [
       "\u001b[36mres6\u001b[39m: \u001b[32mShape\u001b[39m = [60000, 28, 28]"
      ]
     },
     "execution_count": 7,
     "metadata": {},
     "output_type": "execute_result"
    }
   ],
   "source": [
    "/*def transformImagesForPrediction(imagefilePath: String, numChannel: Int, s: Session = Session()): Tensor[UByte] = {\n",
    "    val tensorImageOuts = TImage.decodePng(Files.readFile(imagefilePath), numChannel)\n",
    "    s.run(fetches = tf.reshape(tensorImageOuts, Shape(1,28,28)))\n",
    "}\n",
    "\n",
    "def runPrediction(imagePath: String): String = {\n",
    "    val imageTest = transformImagesForPrediction(imagePath, 1)\n",
    "    val imageToDisplay = Session().run(fetches = tf.decodeRaw[Byte](tf.image.encodePng(tf.reshape(imageTest, Shape(28, 28, 1)))))\n",
    "    Image(imageToDisplay.entriesIterator.toArray).withFormat(Image.PNG).withWidth(100).withHeight(100).display \n",
    "    val predictions = estimator.infer(() => imageTest.toFloat)\n",
    "    s\"Le chiffre est : ${predictions.argmax(1).toInt.scalar}\"\n",
    "}*/\n",
    "dataSet.trainImages.shape"
   ]
  }
 ],
 "metadata": {
  "kernelspec": {
   "display_name": "Scala",
   "language": "scala",
   "name": "scala"
  },
  "language_info": {
   "codemirror_mode": "text/x-scala",
   "file_extension": ".scala",
   "mimetype": "text/x-scala",
   "name": "scala",
   "nbconvert_exporter": "script",
   "version": "2.12.8"
  }
 },
 "nbformat": 4,
 "nbformat_minor": 2
}
