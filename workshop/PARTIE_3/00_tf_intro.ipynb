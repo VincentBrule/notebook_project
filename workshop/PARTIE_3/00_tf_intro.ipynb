{
 "cells": [
  {
   "cell_type": "markdown",
   "metadata": {},
   "source": [
    "# Tensorflow Low Level API introduction\n",
    "\n",
    "This notebook introduces the scala_tensorflow library low-level API for a simple regression model case.\n",
    "\n",
    "Summary:\n",
    "\n",
    "- load data into a Tensor\n",
    "- get data back from Tensor to Scala Collections for visualization\n",
    "- Create a model: Variables, and Placeholders, operations\n",
    "- Training elements: Loss and Optimizer\n",
    "- Graph and session\n",
    "- Tensorboard vizualization\n",
    "- Model Metrics\n"
   ]
  },
  {
   "cell_type": "markdown",
   "metadata": {},
   "source": [
    "## Load tensorflow_scala dependency \n",
    "\n",
    "For the `scala_tensorflow` source, see:\n",
    "\n",
    "https://github.com/eaplatanios/tensorflow_scala "
   ]
  },
  {
   "cell_type": "code",
   "execution_count": 1,
   "metadata": {},
   "outputs": [],
   "source": [
    "interp.load.ivy(\n",
    "  coursier.Dependency(\n",
    "    module = coursier.Module(\"org.platanios\", \"tensorflow_2.12\"),\n",
    "    version = \"0.4.1\",\n",
    "    // replace with linux-gpu-x86_64 on linux with nvidia gpu or with darwin-cpu-x86_64 on macOS \n",
    "    attributes = coursier.Attributes(\"\", \"darwin-cpu-x86_64\")\n",
    "  )\n",
    ")\n",
    "interp.load.ivy(\"org.platanios\" %% \"tensorflow-data\" % \"0.4.1\")\n"
   ]
  },
  {
   "cell_type": "markdown",
   "metadata": {},
   "source": [
    "A few imports to access the tensorflow_scala API"
   ]
  },
  {
   "cell_type": "code",
   "execution_count": 2,
   "metadata": {},
   "outputs": [
    {
     "data": {
      "text/plain": [
       "\u001b[32mimport \u001b[39m\u001b[36morg.platanios.tensorflow.api._\n",
       "\u001b[39m\n",
       "\u001b[32mimport \u001b[39m\u001b[36morg.platanios.tensorflow.api.learn._\n",
       "\u001b[39m\n",
       "\u001b[32mimport \u001b[39m\u001b[36morg.platanios.tensorflow.api.learn.layers._\n",
       "\u001b[39m\n",
       "\u001b[32mimport \u001b[39m\u001b[36morg.platanios.tensorflow.api.learn.estimators.InMemoryEstimator\n",
       "\u001b[39m\n",
       "\u001b[32mimport \u001b[39m\u001b[36morg.platanios.tensorflow.data.image.MNISTLoader\n",
       "\u001b[39m\n",
       "\u001b[32mimport \u001b[39m\u001b[36morg.platanios.tensorflow.api.core.client.FeedMap\n",
       "\n",
       "\u001b[39m\n",
       "\u001b[32mimport \u001b[39m\u001b[36mjava.nio.file.Paths\n",
       "\u001b[39m\n",
       "\u001b[32mimport \u001b[39m\u001b[36mscala.util.Random\u001b[39m"
      ]
     },
     "execution_count": 2,
     "metadata": {},
     "output_type": "execute_result"
    }
   ],
   "source": [
    "import org.platanios.tensorflow.api._\n",
    "import org.platanios.tensorflow.api.learn._\n",
    "import org.platanios.tensorflow.api.learn.layers._\n",
    "import org.platanios.tensorflow.api.learn.estimators.InMemoryEstimator\n",
    "import org.platanios.tensorflow.data.image.MNISTLoader\n",
    "import org.platanios.tensorflow.api.core.client.FeedMap\n",
    "\n",
    "import java.nio.file.Paths\n",
    "import scala.util.Random"
   ]
  },
  {
   "cell_type": "code",
   "execution_count": 3,
   "metadata": {},
   "outputs": [
    {
     "data": {
      "text/plain": [
       "\u001b[32mimport \u001b[39m\u001b[36msys.process._\u001b[39m"
      ]
     },
     "execution_count": 3,
     "metadata": {},
     "output_type": "execute_result"
    }
   ],
   "source": [
    "import sys.process._"
   ]
  },
  {
   "cell_type": "markdown",
   "metadata": {},
   "source": [
    "### Load a simple dataset\n",
    "\n",
    "Machine learning is a data-driven process, let's load some simple data.\n",
    "\n",
    "This is a csv with 2 columns, `Price` and `Surface` as double values.\n",
    "\n",
    "We will want to get a model to predict land `Price` from `Surface`, a linear model should make the cut!"
   ]
  },
  {
   "cell_type": "code",
   "execution_count": 4,
   "metadata": {},
   "outputs": [
    {
     "data": {
      "text/plain": [
       "\u001b[36mrootDir\u001b[39m: \u001b[32mString\u001b[39m = \u001b[32m\"/Users/xavier/data/immo/\"\u001b[39m"
      ]
     },
     "execution_count": 4,
     "metadata": {},
     "output_type": "execute_result"
    }
   ],
   "source": [
    "val rootDir = sys.env(\"HOME\") + \"/data/immo/\""
   ]
  },
  {
   "cell_type": "code",
   "execution_count": 5,
   "metadata": {},
   "outputs": [
    {
     "name": "stdout",
     "output_type": "stream",
     "text": [
      "Price,Surface\n",
      "54,614\n",
      "95,2900\n",
      "155,2070\n",
      "110,1098\n",
      "95,1000\n",
      "135,1150\n",
      "92,2060\n",
      "55,569\n",
      "90,2000\n"
     ]
    },
    {
     "data": {
      "text/plain": [
       "\u001b[36mres4\u001b[39m: \u001b[32mInt\u001b[39m = \u001b[32m0\u001b[39m"
      ]
     },
     "execution_count": 5,
     "metadata": {},
     "output_type": "execute_result"
    }
   ],
   "source": [
    "s\"head ${rootDir}land-price.csv\"!"
   ]
  },
  {
   "cell_type": "markdown",
   "metadata": {},
   "source": [
    "#### CSV parsing to Tensors, in pure Scala\n",
    "\n",
    "We read the file line by line\n",
    "\n",
    "Skip the header line\n",
    "\n",
    "Split each row and convert to Double\n",
    "\n",
    "Then we create a Tensor of Rank 1 (1-d array with 2 elements) for each row:"
   ]
  },
  {
   "cell_type": "code",
   "execution_count": 6,
   "metadata": {},
   "outputs": [
    {
     "data": {
      "text/plain": [
       "\u001b[36mbufferedSource\u001b[39m: \u001b[32mscala\u001b[39m.\u001b[32mio\u001b[39m.\u001b[32mBufferedSource\u001b[39m = <iterator>\n",
       "\u001b[36mtt\u001b[39m: \u001b[32mVector\u001b[39m[\u001b[32mTensor\u001b[39m[\u001b[32mFloat\u001b[39m]] = \u001b[32m<lazy>\u001b[39m"
      ]
     },
     "execution_count": 6,
     "metadata": {},
     "output_type": "execute_result"
    }
   ],
   "source": [
    "val bufferedSource = scala.io.Source.fromFile(s\"${rootDir}land-price.csv\")\n",
    "lazy val tt = bufferedSource.getLines.drop(1).toVector\n",
    "                       .map(_.split(\",\").map(_.trim.toFloat))\n",
    "                       .map(arr => Tensor(arr(0), arr(1)))"
   ]
  },
  {
   "cell_type": "markdown",
   "metadata": {},
   "source": [
    "We then add one dimension to the Tensor by collecting all records in a new one:"
   ]
  },
  {
   "cell_type": "code",
   "execution_count": 7,
   "metadata": {},
   "outputs": [
    {
     "data": {
      "text/plain": [
       "\u001b[36mdata\u001b[39m: \u001b[32mTensor\u001b[39m[\u001b[32mFloat\u001b[39m] = Tensor[Float, [19, 2]]"
      ]
     },
     "execution_count": 7,
     "metadata": {},
     "output_type": "execute_result"
    }
   ],
   "source": [
    "val data = Tensor(tt: _*)"
   ]
  },
  {
   "cell_type": "markdown",
   "metadata": {},
   "source": [
    "Note the shape, 19 elements of 2 values:"
   ]
  },
  {
   "cell_type": "code",
   "execution_count": 8,
   "metadata": {},
   "outputs": [
    {
     "data": {
      "text/plain": [
       "\u001b[36mres7\u001b[39m: \u001b[32mShape\u001b[39m = [19, 2]"
      ]
     },
     "execution_count": 8,
     "metadata": {},
     "output_type": "execute_result"
    }
   ],
   "source": [
    "data.shape"
   ]
  },
  {
   "cell_type": "markdown",
   "metadata": {},
   "source": [
    "Here are a few examples of loading Tensor values back into scala:"
   ]
  },
  {
   "cell_type": "code",
   "execution_count": 9,
   "metadata": {},
   "outputs": [
    {
     "data": {
      "text/plain": [
       "\u001b[36mres8\u001b[39m: (\u001b[32mFloat\u001b[39m, \u001b[32mFloat\u001b[39m) = (\u001b[32m54.0F\u001b[39m, \u001b[32m614.0F\u001b[39m)"
      ]
     },
     "execution_count": 9,
     "metadata": {},
     "output_type": "execute_result"
    }
   ],
   "source": [
    "(data(0,0).scalar, data(0,1).scalar)"
   ]
  },
  {
   "cell_type": "code",
   "execution_count": 10,
   "metadata": {},
   "outputs": [
    {
     "data": {
      "text/plain": [
       "\u001b[36mres9\u001b[39m: \u001b[32mSeq\u001b[39m[\u001b[32mFloat\u001b[39m] = \u001b[33mStream\u001b[39m(\u001b[32m54.0F\u001b[39m, \u001b[32m614.0F\u001b[39m)"
      ]
     },
     "execution_count": 10,
     "metadata": {},
     "output_type": "execute_result"
    }
   ],
   "source": [
    "data(0).entriesIterator.toSeq"
   ]
  },
  {
   "cell_type": "code",
   "execution_count": 11,
   "metadata": {},
   "outputs": [
    {
     "data": {
      "text/plain": [
       "\u001b[36mres10\u001b[39m: \u001b[32mSeq\u001b[39m[\u001b[32mFloat\u001b[39m] = \u001b[33mStream\u001b[39m(\n",
       "  \u001b[32m54.0F\u001b[39m,\n",
       "  \u001b[32m614.0F\u001b[39m,\n",
       "  \u001b[32m95.0F\u001b[39m,\n",
       "  \u001b[32m2900.0F\u001b[39m,\n",
       "  \u001b[32m155.0F\u001b[39m,\n",
       "  \u001b[32m2070.0F\u001b[39m,\n",
       "  \u001b[32m110.0F\u001b[39m,\n",
       "  \u001b[32m1098.0F\u001b[39m,\n",
       "  \u001b[32m95.0F\u001b[39m,\n",
       "  \u001b[32m1000.0F\u001b[39m,\n",
       "  \u001b[32m135.0F\u001b[39m,\n",
       "  \u001b[32m1150.0F\u001b[39m,\n",
       "  \u001b[32m92.0F\u001b[39m,\n",
       "  \u001b[32m2060.0F\u001b[39m,\n",
       "  \u001b[32m55.0F\u001b[39m,\n",
       "  \u001b[32m569.0F\u001b[39m,\n",
       "  \u001b[32m90.0F\u001b[39m,\n",
       "  \u001b[32m2000.0F\u001b[39m,\n",
       "  \u001b[32m109.0F\u001b[39m,\n",
       "  \u001b[32m1100.0F\u001b[39m,\n",
       "  \u001b[32m99.0F\u001b[39m,\n",
       "  \u001b[32m1056.0F\u001b[39m,\n",
       "  \u001b[32m61.5F\u001b[39m,\n",
       "  \u001b[32m996.0F\u001b[39m,\n",
       "  \u001b[32m129.0F\u001b[39m,\n",
       "  \u001b[32m1336.0F\u001b[39m,\n",
       "  \u001b[32m85.0F\u001b[39m,\n",
       "  \u001b[32m574.0F\u001b[39m,\n",
       "  \u001b[32m140.0F\u001b[39m,\n",
       "  \u001b[32m1133.0F\u001b[39m,\n",
       "  \u001b[32m150.0F\u001b[39m,\n",
       "  \u001b[32m1568.0F\u001b[39m,\n",
       "  \u001b[32m95.0F\u001b[39m,\n",
       "  \u001b[32m750.0F\u001b[39m,\n",
       "  \u001b[32m99.5F\u001b[39m,\n",
       "  \u001b[32m1200.0F\u001b[39m,\n",
       "  \u001b[32m85.0F\u001b[39m,\n",
       "  \u001b[32m1060.0F\u001b[39m\n",
       ")"
      ]
     },
     "execution_count": 11,
     "metadata": {},
     "output_type": "execute_result"
    }
   ],
   "source": [
    "data.entriesIterator.toSeq"
   ]
  },
  {
   "cell_type": "markdown",
   "metadata": {},
   "source": [
    "## Visualize data"
   ]
  },
  {
   "cell_type": "code",
   "execution_count": 12,
   "metadata": {},
   "outputs": [
    {
     "data": {
      "text/plain": [
       "\u001b[32mimport \u001b[39m\u001b[36m$ivy.$                                      \n",
       "\u001b[39m\n",
       "\u001b[32mimport \u001b[39m\u001b[36mplotly._, plotly.element._, plotly.layout._, plotly.Almond._\u001b[39m"
      ]
     },
     "execution_count": 12,
     "metadata": {},
     "output_type": "execute_result"
    }
   ],
   "source": [
    "import $ivy.`org.plotly-scala::plotly-almond:0.5.2`\n",
    "import plotly._, plotly.element._, plotly.layout._, plotly.Almond._"
   ]
  },
  {
   "cell_type": "code",
   "execution_count": 13,
   "metadata": {},
   "outputs": [
    {
     "data": {
      "text/plain": [
       "\u001b[36mtrace2\u001b[39m: \u001b[32mScatter\u001b[39m = \u001b[32m<lazy>\u001b[39m\n",
       "\u001b[36mdataPlt\u001b[39m: \u001b[32mSeq\u001b[39m[\u001b[32mScatter\u001b[39m] = \u001b[32m<lazy>\u001b[39m\n",
       "\u001b[36mlayout\u001b[39m: \u001b[32mLayout\u001b[39m = \u001b[32m<lazy>\u001b[39m"
      ]
     },
     "execution_count": 13,
     "metadata": {},
     "output_type": "execute_result"
    }
   ],
   "source": [
    "lazy val trace2 = Scatter(\n",
    "  data(---, 1).entriesIterator.toSeq,\n",
    "  data(---, 0).entriesIterator.toSeq,\n",
    "  mode = ScatterMode(ScatterMode.Markers)\n",
    ")\n",
    "lazy val dataPlt = Seq(trace2)\n",
    "\n",
    "lazy val layout = Layout(\n",
    "  title = \"Scatter Plot\"\n",
    ")\n",
    "\n"
   ]
  },
  {
   "cell_type": "code",
   "execution_count": 14,
   "metadata": {},
   "outputs": [
    {
     "data": {
      "text/html": [
       "\n",
       "      <script type=\"text/javascript\">\n",
       "        require.config({\n",
       "  paths: {\n",
       "    d3: 'https://cdnjs.cloudflare.com/ajax/libs/d3/3.5.17/d3.min',\n",
       "    plotly: 'https://cdn.plot.ly/plotly-1.12.0.min',\n",
       "    jquery: 'https://code.jquery.com/jquery-3.3.1.min'\n",
       "  },\n",
       "\n",
       "  shim: {\n",
       "    plotly: {\n",
       "      deps: ['d3', 'jquery'],\n",
       "      exports: 'plotly'\n",
       "    }\n",
       "  }\n",
       "});\n",
       "        \n",
       "\n",
       "        require(['plotly'], function(Plotly) {\n",
       "          window.Plotly = Plotly;\n",
       "        });\n",
       "      </script>\n",
       "    "
      ]
     },
     "metadata": {},
     "output_type": "display_data"
    },
    {
     "data": {
      "application/vnd.plotly.v1+json": {
       "data": [
        {
         "mode": "markers",
         "type": "scatter",
         "x": [
          614,
          2900,
          2070,
          1098,
          1000,
          1150,
          2060,
          569,
          2000,
          1100,
          1056,
          996,
          1336,
          574,
          1133,
          1568,
          750,
          1200,
          1060
         ],
         "y": [
          54,
          95,
          155,
          110,
          95,
          135,
          92,
          55,
          90,
          109,
          99,
          61.5,
          129,
          85,
          140,
          150,
          95,
          99.5,
          85
         ]
        }
       ],
       "layout": {
        "title": "Scatter Plot"
       }
      },
      "text/html": [
       "<div class=\"chart\" id=\"plot-450095997\"></div>\n",
       "<script>require(['plotly'], function(Plotly) {\n",
       "  (function () {\n",
       "  var data0 = {\"x\":[614.0,2900.0,2070.0,1098.0,1000.0,1150.0,2060.0,569.0,2000.0,1100.0,1056.0,996.0,1336.0,574.0,1133.0,1568.0,750.0,1200.0,1060.0],\"y\":[54.0,95.0,155.0,110.0,95.0,135.0,92.0,55.0,90.0,109.0,99.0,61.5,129.0,85.0,140.0,150.0,95.0,99.5,85.0],\"mode\":\"markers\",\"type\":\"scatter\"};\n",
       "\n",
       "  var data = [data0];\n",
       "  var layout = {\"title\":\"Scatter Plot\"};\n",
       "\n",
       "  Plotly.plot('plot-450095997', data, layout);\n",
       "})();\n",
       "});\n",
       "      </script>\n",
       "           "
      ]
     },
     "metadata": {},
     "output_type": "display_data"
    },
    {
     "data": {
      "text/plain": [
       "\u001b[36mres13\u001b[39m: \u001b[32mString\u001b[39m = \u001b[32m\"plot-450095997\"\u001b[39m"
      ]
     },
     "execution_count": 14,
     "metadata": {},
     "output_type": "execute_result"
    }
   ],
   "source": [
    "plot(dataPlt, layout)"
   ]
  },
  {
   "cell_type": "markdown",
   "metadata": {},
   "source": [
    "## Build a linear model:\n"
   ]
  },
  {
   "cell_type": "code",
   "execution_count": 15,
   "metadata": {},
   "outputs": [
    {
     "data": {
      "text/plain": [
       "\u001b[36minputs\u001b[39m: \u001b[32mOutput\u001b[39m[\u001b[32mFloat\u001b[39m] = \u001b[33mOutput\u001b[39m(Placeholder, \u001b[32m0\u001b[39m)\n",
       "\u001b[36moutputs\u001b[39m: \u001b[32mOutput\u001b[39m[\u001b[32mFloat\u001b[39m] = \u001b[33mOutput\u001b[39m(Placeholder_1, \u001b[32m0\u001b[39m)"
      ]
     },
     "execution_count": 15,
     "metadata": {},
     "output_type": "execute_result"
    }
   ],
   "source": [
    "val inputs      = tf.placeholder[Float](Shape(-1, 1))\n",
    "val outputs     = tf.placeholder[Float](Shape(-1, 1))"
   ]
  },
  {
   "cell_type": "code",
   "execution_count": 16,
   "metadata": {},
   "outputs": [
    {
     "data": {
      "text/plain": [
       "\u001b[36mpredictions\u001b[39m: \u001b[32mOutput\u001b[39m[\u001b[32mFloat\u001b[39m] = \u001b[33mOutput\u001b[39m(Linear/MatMul, \u001b[32m0\u001b[39m)\n",
       "\u001b[36mweights\u001b[39m: \u001b[32mVariable\u001b[39m[\u001b[32mFloat\u001b[39m] = \u001b[33mVariable\u001b[39m(\n",
       "  \u001b[33mDataType\u001b[39m(\u001b[32m\"Float\"\u001b[39m, \u001b[32m1\u001b[39m, \u001b[33mSome\u001b[39m(\u001b[32m4\u001b[39m), DT_FLOAT),\n",
       "  \u001b[33mOutput\u001b[39m(weights, \u001b[32m0\u001b[39m),\n",
       "  weights/InitializationAssign,\n",
       "  \u001b[32mnull\u001b[39m,\n",
       "  \u001b[33mOutput\u001b[39m(weights/Read/ReadVariable, \u001b[32m0\u001b[39m)\n",
       ")"
      ]
     },
     "execution_count": 16,
     "metadata": {},
     "output_type": "execute_result"
    }
   ],
   "source": [
    "val (predictions, weights) = tf.nameScope(\"Linear\") {\n",
    "  val weights = tf.variable[Float](\"weights\", Shape(1, 1), tf.ZerosInitializer)\n",
    "  (tf.matmul(inputs, weights), weights)\n",
    "}"
   ]
  },
  {
   "cell_type": "code",
   "execution_count": 17,
   "metadata": {},
   "outputs": [
    {
     "data": {
      "text/plain": [
       "\u001b[36mloss\u001b[39m: \u001b[32mOutput\u001b[39m[\u001b[32mFloat\u001b[39m] = \u001b[33mOutput\u001b[39m(Sum, \u001b[32m0\u001b[39m)\n",
       "\u001b[36moptimizer\u001b[39m: \u001b[32mops\u001b[39m.\u001b[32mtraining\u001b[39m.\u001b[32moptimizers\u001b[39m.\u001b[32mAdaGrad\u001b[39m = org.platanios.tensorflow.api.ops.training.optimizers.AdaGrad@ab54147\n",
       "\u001b[36mtrainOp\u001b[39m: \u001b[32mUntypedOp\u001b[39m = Minimize/Finish"
      ]
     },
     "execution_count": 17,
     "metadata": {},
     "output_type": "execute_result"
    }
   ],
   "source": [
    "val loss        = tf.sum(tf.square(predictions - outputs))\n",
    "val optimizer   = tf.train.AdaGrad(1.0f)\n",
    "val trainOp     = optimizer.minimize(loss)"
   ]
  },
  {
   "cell_type": "code",
   "execution_count": 18,
   "metadata": {},
   "outputs": [
    {
     "data": {
      "text/plain": [
       "\u001b[36msess\u001b[39m: \u001b[32mSession\u001b[39m = org.platanios.tensorflow.api.core.client.Session@2ee9ee3c"
      ]
     },
     "execution_count": 18,
     "metadata": {},
     "output_type": "execute_result"
    }
   ],
   "source": [
    "val sess = Session()"
   ]
  },
  {
   "cell_type": "code",
   "execution_count": 19,
   "metadata": {},
   "outputs": [
    {
     "data": {
      "text/plain": [
       "\u001b[36mres18\u001b[39m: \u001b[32mimplicits\u001b[39m.\u001b[32mhelpers\u001b[39m.\u001b[32mOutputToTensor\u001b[39m.\u001b[32m<refinement>\u001b[39m.this.type.\u001b[32mV\u001b[39m = \u001b[33mList\u001b[39m()"
      ]
     },
     "execution_count": 19,
     "metadata": {},
     "output_type": "execute_result"
    }
   ],
   "source": [
    "sess.run(targets = tf.globalVariablesInitializer())"
   ]
  },
  {
   "cell_type": "code",
   "execution_count": 20,
   "metadata": {},
   "outputs": [
    {
     "data": {
      "text/plain": [
       "\u001b[36minTensor\u001b[39m: \u001b[32mTensor\u001b[39m[\u001b[32mFloat\u001b[39m] = Tensor[Float, [19, 1]]\n",
       "\u001b[36moutTensor\u001b[39m: \u001b[32mTensor\u001b[39m[\u001b[32mFloat\u001b[39m] = Tensor[Float, [19, 1]]"
      ]
     },
     "execution_count": 20,
     "metadata": {},
     "output_type": "execute_result"
    }
   ],
   "source": [
    "val inTensor = data(---, 1).expandDims(-1)\n",
    "val outTensor = data(---, 0).expandDims(-1)"
   ]
  },
  {
   "cell_type": "raw",
   "metadata": {},
   "source": []
  },
  {
   "cell_type": "code",
   "execution_count": 21,
   "metadata": {},
   "outputs": [
    {
     "data": {
      "text/plain": [
       "\u001b[36mfeedMap\u001b[39m: \u001b[32mSeq\u001b[39m[\u001b[32mFeedMap\u001b[39m] = \u001b[33mList\u001b[39m(\n",
       "  org.platanios.tensorflow.api.core.client.FeedMap@14463f10,\n",
       "  org.platanios.tensorflow.api.core.client.FeedMap@50953bce\n",
       ")"
      ]
     },
     "execution_count": 21,
     "metadata": {},
     "output_type": "execute_result"
    }
   ],
   "source": [
    "val feedMap = Seq(\n",
    "    FeedMap(inputs, inTensor),\n",
    "    FeedMap(outputs, outTensor)\n",
    "    )"
   ]
  },
  {
   "cell_type": "code",
   "execution_count": 32,
   "metadata": {},
   "outputs": [
    {
     "data": {
      "text/plain": [
       "\u001b[36mcurrentLoss\u001b[39m: \u001b[32mTensor\u001b[39m[\u001b[32mFloat\u001b[39m] = Tensor[Float, []]\n",
       "\u001b[36mcurrentWeights\u001b[39m: \u001b[32mTensor\u001b[39m[\u001b[32mFloat\u001b[39m] = Tensor[Float, [1, 1]]"
      ]
     },
     "execution_count": 32,
     "metadata": {},
     "output_type": "execute_result"
    }
   ],
   "source": [
    "val (currentLoss, currentWeights) = sess.run(fetches = (loss, weights.value), \n",
    "                                              targets = Set(trainOp), feeds = feedMap)"
   ]
  },
  {
   "cell_type": "code",
   "execution_count": 33,
   "metadata": {},
   "outputs": [
    {
     "data": {
      "text/plain": [
       "\u001b[36mres32\u001b[39m: \u001b[32mSeq\u001b[39m[\u001b[32mFloat\u001b[39m] = \u001b[33mStream\u001b[39m(\u001b[32m0.06895473F\u001b[39m)"
      ]
     },
     "execution_count": 33,
     "metadata": {},
     "output_type": "execute_result"
    }
   ],
   "source": [
    "currentWeights.entriesIterator.toSeq"
   ]
  },
  {
   "cell_type": "code",
   "execution_count": 34,
   "metadata": {},
   "outputs": [
    {
     "data": {
      "text/plain": [
       "\u001b[36mres33\u001b[39m: \u001b[32morg\u001b[39m.\u001b[32mtensorflow\u001b[39m.\u001b[32mframework\u001b[39m.\u001b[32mMetaGraphDef\u001b[39m = meta_info_def {\n",
       "  tensorflow_version: \"1.12.0-rc0\"\n",
       "}\n",
       "graph_def {\n",
       "  node {\n",
       "    name: \"Placeholder\"\n",
       "    op: \"Placeholder\"\n",
       "    attr {\n",
       "      key: \"dtype\"\n",
       "      value {\n",
       "        type: DT_FLOAT\n",
       "      }\n",
       "    }\n",
       "    attr {\n",
       "      key: \"shape\"\n",
       "      value {\n",
       "        shape {\n",
       "          dim {\n",
       "            size: -1\n",
       "          }\n",
       "          dim {\n",
       "            size: 1\n",
       "          }\n",
       "        }\n",
       "      }\n",
       "    }\n",
       "  }\n",
       "  node {\n",
       "    name: \"Placeholder_1\"\n",
       "    op: \"Placeholder\"\n",
       "    attr {\n",
       "      key: \"dtype\"\n",
       "      value {\n",
       "        type: DT_FLOAT\n",
       "      }\n",
       "    }\n",
       "    attr {\n",
       "      key: \"shape\"\n",
       "      value {\n",
       "..."
      ]
     },
     "execution_count": 34,
     "metadata": {},
     "output_type": "execute_result"
    }
   ],
   "source": [
    "sess.graph.toMetaGraphDef()"
   ]
  },
  {
   "cell_type": "code",
   "execution_count": null,
   "metadata": {},
   "outputs": [],
   "source": [
    "val path = java.nio.file.Paths.get(\"/tmp/000tfsc\")\n",
    "tf.summary.FileWriter(path, sess.graph)\n"
   ]
  },
  {
   "cell_type": "code",
   "execution_count": null,
   "metadata": {},
   "outputs": [],
   "source": []
  },
  {
   "cell_type": "code",
   "execution_count": 35,
   "metadata": {},
   "outputs": [
    {
     "data": {
      "text/plain": [
       "\u001b[36mpreds\u001b[39m: \u001b[32mTensor\u001b[39m[\u001b[32mFloat\u001b[39m] = Tensor[Float, [19, 1]]"
      ]
     },
     "execution_count": 35,
     "metadata": {},
     "output_type": "execute_result"
    }
   ],
   "source": [
    "val preds = sess.run(fetches = predictions, feeds = FeedMap(inputs -> inTensor))"
   ]
  },
  {
   "cell_type": "code",
   "execution_count": 36,
   "metadata": {},
   "outputs": [
    {
     "data": {
      "text/plain": [
       "\u001b[36mres35\u001b[39m: \u001b[32mSeq\u001b[39m[(\u001b[32mFloat\u001b[39m, \u001b[32mFloat\u001b[39m)] = \u001b[33mStream\u001b[39m(\n",
       "  (\u001b[32m42.324295F\u001b[39m, \u001b[32m54.0F\u001b[39m),\n",
       "  (\u001b[32m199.90303F\u001b[39m, \u001b[32m95.0F\u001b[39m),\n",
       "  (\u001b[32m142.6894F\u001b[39m, \u001b[32m155.0F\u001b[39m),\n",
       "  (\u001b[32m75.68742F\u001b[39m, \u001b[32m110.0F\u001b[39m),\n",
       "  (\u001b[32m68.932076F\u001b[39m, \u001b[32m95.0F\u001b[39m),\n",
       "  (\u001b[32m79.27189F\u001b[39m, \u001b[32m135.0F\u001b[39m),\n",
       "  (\u001b[32m142.00008F\u001b[39m, \u001b[32m92.0F\u001b[39m),\n",
       "  (\u001b[32m39.22235F\u001b[39m, \u001b[32m55.0F\u001b[39m),\n",
       "  (\u001b[32m137.86415F\u001b[39m, \u001b[32m90.0F\u001b[39m),\n",
       "  (\u001b[32m75.82529F\u001b[39m, \u001b[32m109.0F\u001b[39m),\n",
       "  (\u001b[32m72.792274F\u001b[39m, \u001b[32m99.0F\u001b[39m),\n",
       "  (\u001b[32m68.65635F\u001b[39m, \u001b[32m61.5F\u001b[39m),\n",
       "  (\u001b[32m92.093254F\u001b[39m, \u001b[32m129.0F\u001b[39m),\n",
       "  (\u001b[32m39.567013F\u001b[39m, \u001b[32m85.0F\u001b[39m),\n",
       "  (\u001b[32m78.100044F\u001b[39m, \u001b[32m140.0F\u001b[39m),\n",
       "  (\u001b[32m108.0855F\u001b[39m, \u001b[32m150.0F\u001b[39m),\n",
       "  (\u001b[32m51.69906F\u001b[39m, \u001b[32m95.0F\u001b[39m),\n",
       "  (\u001b[32m82.7185F\u001b[39m, \u001b[32m99.5F\u001b[39m),\n",
       "  (\u001b[32m73.068F\u001b[39m, \u001b[32m85.0F\u001b[39m)\n",
       ")"
      ]
     },
     "execution_count": 36,
     "metadata": {},
     "output_type": "execute_result"
    }
   ],
   "source": [
    "preds(---, 0).entriesIterator.toSeq.zip(data(---, 0).entriesIterator.toSeq)"
   ]
  },
  {
   "cell_type": "markdown",
   "metadata": {},
   "source": [
    "## Plot Predictions vs Actual"
   ]
  },
  {
   "cell_type": "code",
   "execution_count": 37,
   "metadata": {},
   "outputs": [
    {
     "data": {
      "text/plain": [
       "\u001b[36mtrace2\u001b[39m: \u001b[32mScatter\u001b[39m = \u001b[32m<lazy>\u001b[39m\n",
       "\u001b[36mtrace1\u001b[39m: \u001b[32mScatter\u001b[39m = \u001b[32m<lazy>\u001b[39m\n",
       "\u001b[36mdataPlt\u001b[39m: \u001b[32mSeq\u001b[39m[\u001b[32mScatter\u001b[39m] = \u001b[32m<lazy>\u001b[39m\n",
       "\u001b[36mlayout\u001b[39m: \u001b[32mLayout\u001b[39m = \u001b[32m<lazy>\u001b[39m"
      ]
     },
     "execution_count": 37,
     "metadata": {},
     "output_type": "execute_result"
    }
   ],
   "source": [
    "lazy val trace2 = Scatter(\n",
    "  data(---, 1).entriesIterator.toSeq,\n",
    "  data(---, 0).entriesIterator.toSeq,\n",
    "  mode = ScatterMode(ScatterMode.Markers)\n",
    ")\n",
    "\n",
    "lazy val trace1 = Scatter(\n",
    "  data(---, 1).entriesIterator.toSeq,\n",
    "  preds(---, 0).entriesIterator.toSeq,\n",
    "  mode = ScatterMode(ScatterMode.Lines)\n",
    ")\n",
    "\n",
    "lazy val dataPlt = Seq(trace1, trace2)\n",
    "\n",
    "lazy val layout = Layout(\n",
    "  title = \"Scatter Plot\"\n",
    ")\n"
   ]
  },
  {
   "cell_type": "code",
   "execution_count": 38,
   "metadata": {},
   "outputs": [
    {
     "data": {
      "application/vnd.plotly.v1+json": {
       "data": [
        {
         "mode": "lines",
         "type": "scatter",
         "x": [
          614,
          2900,
          2070,
          1098,
          1000,
          1150,
          2060,
          569,
          2000,
          1100,
          1056,
          996,
          1336,
          574,
          1133,
          1568,
          750,
          1200,
          1060
         ],
         "y": [
          42.32429504394531,
          199.9030303955078,
          142.6894073486328,
          75.68742370605469,
          68.93207550048828,
          79.27188873291016,
          142.0000762939453,
          39.22235107421875,
          137.86415100097656,
          75.82528686523438,
          72.79227447509766,
          68.6563491821289,
          92.09325408935547,
          39.567012786865234,
          78.10004425048828,
          108.08550262451172,
          51.699058532714844,
          82.71849822998047,
          73.06800079345703
         ]
        },
        {
         "mode": "markers",
         "type": "scatter",
         "x": [
          614,
          2900,
          2070,
          1098,
          1000,
          1150,
          2060,
          569,
          2000,
          1100,
          1056,
          996,
          1336,
          574,
          1133,
          1568,
          750,
          1200,
          1060
         ],
         "y": [
          54,
          95,
          155,
          110,
          95,
          135,
          92,
          55,
          90,
          109,
          99,
          61.5,
          129,
          85,
          140,
          150,
          95,
          99.5,
          85
         ]
        }
       ],
       "layout": {
        "title": "Scatter Plot"
       }
      },
      "text/html": [
       "<div class=\"chart\" id=\"plot-1816658790\"></div>\n",
       "<script>require(['plotly'], function(Plotly) {\n",
       "  (function () {\n",
       "  var data0 = {\"x\":[614.0,2900.0,2070.0,1098.0,1000.0,1150.0,2060.0,569.0,2000.0,1100.0,1056.0,996.0,1336.0,574.0,1133.0,1568.0,750.0,1200.0,1060.0],\"y\":[42.32429504394531,199.9030303955078,142.6894073486328,75.68742370605469,68.93207550048828,79.27188873291016,142.0000762939453,39.22235107421875,137.86415100097656,75.82528686523438,72.79227447509766,68.6563491821289,92.09325408935547,39.567012786865234,78.10004425048828,108.08550262451172,51.699058532714844,82.71849822998047,73.06800079345703],\"mode\":\"lines\",\"type\":\"scatter\"};\n",
       "  var data1 = {\"x\":[614.0,2900.0,2070.0,1098.0,1000.0,1150.0,2060.0,569.0,2000.0,1100.0,1056.0,996.0,1336.0,574.0,1133.0,1568.0,750.0,1200.0,1060.0],\"y\":[54.0,95.0,155.0,110.0,95.0,135.0,92.0,55.0,90.0,109.0,99.0,61.5,129.0,85.0,140.0,150.0,95.0,99.5,85.0],\"mode\":\"markers\",\"type\":\"scatter\"};\n",
       "\n",
       "  var data = [data0, data1];\n",
       "  var layout = {\"title\":\"Scatter Plot\"};\n",
       "\n",
       "  Plotly.plot('plot-1816658790', data, layout);\n",
       "})();\n",
       "});\n",
       "      </script>\n",
       "           "
      ]
     },
     "metadata": {},
     "output_type": "display_data"
    },
    {
     "data": {
      "text/plain": [
       "\u001b[36mres37\u001b[39m: \u001b[32mString\u001b[39m = \u001b[32m\"plot-1816658790\"\u001b[39m"
      ]
     },
     "execution_count": 38,
     "metadata": {},
     "output_type": "execute_result"
    }
   ],
   "source": [
    "plot(dataPlt, layout)"
   ]
  },
  {
   "cell_type": "code",
   "execution_count": null,
   "metadata": {},
   "outputs": [],
   "source": []
  },
  {
   "cell_type": "code",
   "execution_count": null,
   "metadata": {},
   "outputs": [],
   "source": []
  }
 ],
 "metadata": {
  "kernelspec": {
   "display_name": "Scala",
   "language": "scala",
   "name": "scala"
  },
  "language_info": {
   "codemirror_mode": "text/x-scala",
   "file_extension": ".scala",
   "mimetype": "text/x-scala",
   "name": "scala",
   "nbconvert_exporter": "script",
   "version": "2.12.8"
  }
 },
 "nbformat": 4,
 "nbformat_minor": 2
}
