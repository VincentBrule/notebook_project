{
 "cells": [
  {
   "cell_type": "markdown",
   "metadata": {},
   "source": [
    "# Tensorflow Low Level API introduction\n",
    "\n",
    "This notebook introduces the scala_tensorflow library low-level API for a simple regression model case.\n",
    "\n",
    "Summary:\n",
    "\n",
    "- load data into a Tensor\n",
    "- get data back from Tensor to Scala Collections for visualization\n",
    "- Create a model: Variables, and Placeholders, operations\n",
    "- Training elements: Loss and Optimizer\n",
    "- Graph and session\n",
    "- Tensorboard vizualization\n",
    "- Model Metrics\n"
   ]
  },
  {
   "cell_type": "markdown",
   "metadata": {},
   "source": [
    "## Load tensorflow_scala dependency \n",
    "\n",
    "For the `scala_tensorflow` source, see:\n",
    "\n",
    "https://github.com/eaplatanios/tensorflow_scala "
   ]
  },
  {
   "cell_type": "code",
   "execution_count": null,
   "metadata": {},
   "outputs": [],
   "source": [
    "interp.load.ivy(coursierapi.Dependency.of(\"org.platanios\", \"tensorflow_2.12\", \"0.4.1\").withClassifier(\"linux-cpu-x86_64\"))\n",
    "interp.load.ivy(\"org.platanios\" %% \"tensorflow-data\" % \"0.4.1\")"
   ]
  },
  {
   "cell_type": "markdown",
   "metadata": {},
   "source": [
    "A few imports to access the tensorflow_scala API"
   ]
  },
  {
   "cell_type": "code",
   "execution_count": null,
   "metadata": {},
   "outputs": [],
   "source": [
    "import org.platanios.tensorflow.api._\n",
    "import org.platanios.tensorflow.api.learn._\n",
    "import org.platanios.tensorflow.api.learn.layers._\n",
    "import org.platanios.tensorflow.api.learn.estimators.InMemoryEstimator\n",
    "import org.platanios.tensorflow.data.image.MNISTLoader\n",
    "import org.platanios.tensorflow.api.core.client.FeedMap\n",
    "\n",
    "import java.nio.file.Paths\n",
    "import scala.util.Random"
   ]
  },
  {
   "cell_type": "code",
   "execution_count": null,
   "metadata": {},
   "outputs": [],
   "source": [
    "import sys.process._"
   ]
  },
  {
   "cell_type": "markdown",
   "metadata": {},
   "source": [
    "### Load a simple dataset\n",
    "\n",
    "Machine learning is a data-driven process, let's load some simple data.\n",
    "\n",
    "This is a csv with 2 columns, `Price` and `Surface` as double values.\n",
    "\n",
    "We will want to get a model to predict land `Price` from `Surface`, a linear model should make the cut!"
   ]
  },
  {
   "cell_type": "code",
   "execution_count": null,
   "metadata": {},
   "outputs": [],
   "source": [
    "val rootDir = \"resources/\"  //sys.env(\"HOME\") + \"/data/immo/\""
   ]
  },
  {
   "cell_type": "code",
   "execution_count": null,
   "metadata": {},
   "outputs": [],
   "source": [
    "s\"head ${rootDir}land-price.csv\"!"
   ]
  },
  {
   "cell_type": "markdown",
   "metadata": {},
   "source": [
    "#### CSV parsing to Tensors, in pure Scala\n",
    "\n",
    "We read the file line by line\n",
    "\n",
    "Skip the header line\n",
    "\n",
    "Split each row and convert to Double\n",
    "\n",
    "Then we create a Tensor of Rank 1 (1-d array with 2 elements) for each row:"
   ]
  },
  {
   "cell_type": "code",
   "execution_count": null,
   "metadata": {},
   "outputs": [],
   "source": [
    "val bufferedSource = scala.io.Source.fromFile(s\"${rootDir}land-price.csv\")\n",
    "lazy val tt = bufferedSource.getLines.drop(1).toVector\n",
    "                       .map(_.split(\",\").map(_.trim.toFloat))\n",
    "                       .map(arr => Tensor(arr(0), arr(1)))"
   ]
  },
  {
   "cell_type": "markdown",
   "metadata": {},
   "source": [
    "We then add one dimension to the Tensor by collecting all records in a new one:"
   ]
  },
  {
   "cell_type": "code",
   "execution_count": null,
   "metadata": {},
   "outputs": [],
   "source": [
    "val data = Tensor(tt: _*)"
   ]
  },
  {
   "cell_type": "markdown",
   "metadata": {},
   "source": [
    "Note the shape, 19 elements of 2 values:"
   ]
  },
  {
   "cell_type": "code",
   "execution_count": null,
   "metadata": {},
   "outputs": [],
   "source": [
    "data.shape"
   ]
  },
  {
   "cell_type": "markdown",
   "metadata": {},
   "source": [
    "Here are a few examples of loading Tensor values back into scala:"
   ]
  },
  {
   "cell_type": "code",
   "execution_count": null,
   "metadata": {},
   "outputs": [],
   "source": [
    "(data(0,0).scalar, data(0,1).scalar)"
   ]
  },
  {
   "cell_type": "code",
   "execution_count": null,
   "metadata": {},
   "outputs": [],
   "source": [
    "data(0).entriesIterator.toSeq"
   ]
  },
  {
   "cell_type": "code",
   "execution_count": null,
   "metadata": {},
   "outputs": [],
   "source": [
    "data.entriesIterator.toSeq"
   ]
  },
  {
   "cell_type": "markdown",
   "metadata": {},
   "source": [
    "## Visualize data"
   ]
  },
  {
   "cell_type": "code",
   "execution_count": null,
   "metadata": {},
   "outputs": [],
   "source": [
    "import $ivy.`org.plotly-scala::plotly-almond:0.5.2`\n",
    "import plotly._, plotly.element._, plotly.layout._, plotly.Almond._"
   ]
  },
  {
   "cell_type": "code",
   "execution_count": null,
   "metadata": {},
   "outputs": [],
   "source": [
    "lazy val trace2 = Scatter(\n",
    "  data(---, 1).entriesIterator.toSeq,\n",
    "  data(---, 0).entriesIterator.toSeq,\n",
    "  mode = ScatterMode(ScatterMode.Markers)\n",
    ")\n",
    "lazy val dataPlt = Seq(trace2)\n",
    "\n",
    "lazy val layout = Layout(\n",
    "  title = \"Scatter Plot\"\n",
    ")\n",
    "\n"
   ]
  },
  {
   "cell_type": "code",
   "execution_count": null,
   "metadata": {},
   "outputs": [],
   "source": [
    "plot(dataPlt, layout)"
   ]
  },
  {
   "cell_type": "markdown",
   "metadata": {},
   "source": [
    "## Build a linear model:\n"
   ]
  },
  {
   "cell_type": "code",
   "execution_count": null,
   "metadata": {},
   "outputs": [],
   "source": [
    "val inputs      = tf.placeholder[Float](Shape(-1, 1))\n",
    "val outputs     = tf.placeholder[Float](Shape(-1, 1))"
   ]
  },
  {
   "cell_type": "code",
   "execution_count": null,
   "metadata": {},
   "outputs": [],
   "source": [
    "val (predictions, weights) = tf.nameScope(\"Linear\") {\n",
    "  val weights = tf.variable[Float](\"weights\", Shape(1, 1), tf.ZerosInitializer)\n",
    "  (tf.matmul(inputs, weights), weights)\n",
    "}"
   ]
  },
  {
   "cell_type": "code",
   "execution_count": null,
   "metadata": {},
   "outputs": [],
   "source": [
    "val loss        = tf.sum(tf.square(predictions - outputs))\n",
    "val optimizer   = tf.train.AdaGrad(1.0f)\n",
    "val trainOp     = optimizer.minimize(loss)"
   ]
  },
  {
   "cell_type": "code",
   "execution_count": null,
   "metadata": {},
   "outputs": [],
   "source": [
    "val sess = Session()"
   ]
  },
  {
   "cell_type": "code",
   "execution_count": null,
   "metadata": {},
   "outputs": [],
   "source": [
    "sess.run(targets = tf.globalVariablesInitializer())"
   ]
  },
  {
   "cell_type": "code",
   "execution_count": null,
   "metadata": {},
   "outputs": [],
   "source": [
    "val inTensor = data(---, 1).expandDims(-1)\n",
    "val outTensor = data(---, 0).expandDims(-1)"
   ]
  },
  {
   "cell_type": "raw",
   "metadata": {},
   "source": []
  },
  {
   "cell_type": "code",
   "execution_count": null,
   "metadata": {},
   "outputs": [],
   "source": [
    "val feedMap = Seq(\n",
    "    FeedMap(inputs, inTensor),\n",
    "    FeedMap(outputs, outTensor)\n",
    "    )"
   ]
  },
  {
   "cell_type": "code",
   "execution_count": null,
   "metadata": {},
   "outputs": [],
   "source": [
    "val (currentLoss, currentWeights) = sess.run(fetches = (loss, weights.value), \n",
    "                                              targets = Set(trainOp), feeds = feedMap)"
   ]
  },
  {
   "cell_type": "code",
   "execution_count": null,
   "metadata": {},
   "outputs": [],
   "source": [
    "currentWeights.entriesIterator.toSeq"
   ]
  },
  {
   "cell_type": "code",
   "execution_count": null,
   "metadata": {},
   "outputs": [],
   "source": [
    "sess.graph.toMetaGraphDef()"
   ]
  },
  {
   "cell_type": "code",
   "execution_count": null,
   "metadata": {},
   "outputs": [],
   "source": [
    "//val path = java.nio.file.Paths.get(\"/tmp/000tfsc\")\n",
    "//tf.summary.FileWriter(path, sess.graph)\n"
   ]
  },
  {
   "cell_type": "code",
   "execution_count": null,
   "metadata": {},
   "outputs": [],
   "source": []
  },
  {
   "cell_type": "code",
   "execution_count": null,
   "metadata": {},
   "outputs": [],
   "source": [
    "val preds = sess.run(fetches = predictions, feeds = FeedMap(inputs -> inTensor))"
   ]
  },
  {
   "cell_type": "code",
   "execution_count": null,
   "metadata": {},
   "outputs": [],
   "source": [
    "preds(---, 0).entriesIterator.toSeq.zip(data(---, 0).entriesIterator.toSeq)"
   ]
  },
  {
   "cell_type": "markdown",
   "metadata": {},
   "source": [
    "## Plot Predictions vs Actual"
   ]
  },
  {
   "cell_type": "code",
   "execution_count": null,
   "metadata": {},
   "outputs": [],
   "source": [
    "lazy val trace2 = Scatter(\n",
    "  data(---, 1).entriesIterator.toSeq,\n",
    "  data(---, 0).entriesIterator.toSeq,\n",
    "  mode = ScatterMode(ScatterMode.Markers)\n",
    ")\n",
    "\n",
    "lazy val trace1 = Scatter(\n",
    "  data(---, 1).entriesIterator.toSeq,\n",
    "  preds(---, 0).entriesIterator.toSeq,\n",
    "  mode = ScatterMode(ScatterMode.Lines)\n",
    ")\n",
    "\n",
    "lazy val dataPlt = Seq(trace1, trace2)\n",
    "\n",
    "lazy val layout = Layout(\n",
    "  title = \"Scatter Plot\"\n",
    ")\n"
   ]
  },
  {
   "cell_type": "code",
   "execution_count": null,
   "metadata": {},
   "outputs": [],
   "source": [
    "plot(dataPlt, layout)"
   ]
  },
  {
   "cell_type": "code",
   "execution_count": null,
   "metadata": {},
   "outputs": [],
   "source": []
  },
  {
   "cell_type": "code",
   "execution_count": null,
   "metadata": {},
   "outputs": [],
   "source": []
  }
 ],
 "metadata": {
  "kernelspec": {
   "display_name": "Scala",
   "language": "scala",
   "name": "scala"
  },
  "language_info": {
   "codemirror_mode": "text/x-scala",
   "file_extension": ".scala",
   "mimetype": "text/x-scala",
   "name": "scala",
   "nbconvert_exporter": "script",
   "version": "2.12.9"
  }
 },
 "nbformat": 4,
 "nbformat_minor": 2
}
