{
 "cells": [
  {
   "cell_type": "markdown",
   "metadata": {},
   "source": [
    "# Tensorflow High Level APIs introduction\n",
    "\n",
    "This notebook introduces the scala_tensorflow library high-level APIs (Dataset and Estimators) for a simple regression model case.\n",
    "\n",
    "Summary:\n",
    "\n",
    "- load data into a Tensor, make a Dataset\n",
    "- Create a model Estimator\n",
    "- Train\n",
    "- Tensorflow training vizualization\n",
    "- Save Model\n",
    "- Model Signature\n",
    "- Infer\n"
   ]
  },
  {
   "cell_type": "code",
   "execution_count": 1,
   "metadata": {},
   "outputs": [],
   "source": [
    "interp.load.ivy(\n",
    "  coursier.Dependency(\n",
    "    module = coursier.Module(\"org.platanios\", \"tensorflow_2.12\"),\n",
    "    version = \"0.4.1\",\n",
    "    // replace with linux-gpu-x86_64 on linux with nvidia gpu or with darwin-cpu-x86_64 on macOS \n",
    "    attributes = coursier.Attributes(\"\", \"darwin-cpu-x86_64\")\n",
    "  )\n",
    ")\n",
    "interp.load.ivy(\"org.platanios\" %% \"tensorflow-data\" % \"0.4.1\")\n"
   ]
  },
  {
   "cell_type": "code",
   "execution_count": 2,
   "metadata": {},
   "outputs": [
    {
     "data": {
      "text/plain": [
       "\u001b[32mimport \u001b[39m\u001b[36msys.process._\n",
       "\u001b[39m\n",
       "\u001b[32mimport \u001b[39m\u001b[36morg.platanios.tensorflow.api._\n",
       "\u001b[39m\n",
       "\u001b[32mimport \u001b[39m\u001b[36morg.platanios.tensorflow.api.learn._\n",
       "\u001b[39m\n",
       "\u001b[32mimport \u001b[39m\u001b[36morg.platanios.tensorflow.api.learn.layers._\n",
       "\u001b[39m\n",
       "\u001b[32mimport \u001b[39m\u001b[36morg.platanios.tensorflow.api.learn.estimators.InMemoryEstimator\n",
       "\u001b[39m\n",
       "\u001b[32mimport \u001b[39m\u001b[36morg.platanios.tensorflow.data.image.MNISTLoader\n",
       "\u001b[39m\n",
       "\u001b[32mimport \u001b[39m\u001b[36morg.platanios.tensorflow.api.core.client.FeedMap\n",
       "\n",
       "\u001b[39m\n",
       "\u001b[32mimport \u001b[39m\u001b[36mjava.nio.file.Paths\n",
       "\u001b[39m\n",
       "\u001b[32mimport \u001b[39m\u001b[36mscala.util.Random\u001b[39m"
      ]
     },
     "execution_count": 2,
     "metadata": {},
     "output_type": "execute_result"
    }
   ],
   "source": [
    "import sys.process._\n",
    "import org.platanios.tensorflow.api._\n",
    "import org.platanios.tensorflow.api.learn._\n",
    "import org.platanios.tensorflow.api.learn.layers._\n",
    "import org.platanios.tensorflow.api.learn.estimators.InMemoryEstimator\n",
    "import org.platanios.tensorflow.data.image.MNISTLoader\n",
    "import org.platanios.tensorflow.api.core.client.FeedMap\n",
    "\n",
    "import java.nio.file.Paths\n",
    "import scala.util.Random"
   ]
  },
  {
   "cell_type": "code",
   "execution_count": 3,
   "metadata": {},
   "outputs": [
    {
     "data": {
      "text/plain": [
       "\u001b[36mrootDir\u001b[39m: \u001b[32mString\u001b[39m = \u001b[32m\"/Users/xavier/data/immo/\"\u001b[39m"
      ]
     },
     "execution_count": 3,
     "metadata": {},
     "output_type": "execute_result"
    }
   ],
   "source": [
    "val rootDir = sys.env(\"HOME\") + \"/data/immo/\""
   ]
  },
  {
   "cell_type": "code",
   "execution_count": 4,
   "metadata": {},
   "outputs": [
    {
     "name": "stdout",
     "output_type": "stream",
     "text": [
      "Price,Surface,Land,Beds,Sidings\n",
      "160,110,896,2,4\n",
      "189,120,435,3,2\n"
     ]
    },
    {
     "data": {
      "text/plain": [
       "\u001b[36mres3\u001b[39m: \u001b[32mInt\u001b[39m = \u001b[32m0\u001b[39m"
      ]
     },
     "execution_count": 4,
     "metadata": {},
     "output_type": "execute_result"
    }
   ],
   "source": [
    "s\"head -3 ${rootDir}immo.csv\"!"
   ]
  },
  {
   "cell_type": "code",
   "execution_count": 5,
   "metadata": {},
   "outputs": [
    {
     "data": {
      "text/plain": [
       "\u001b[36mbufferedSource\u001b[39m: \u001b[32mscala\u001b[39m.\u001b[32mio\u001b[39m.\u001b[32mBufferedSource\u001b[39m = <iterator>\n",
       "\u001b[36mtt\u001b[39m: \u001b[32mVector\u001b[39m[\u001b[32mTensor\u001b[39m[\u001b[32mFloat\u001b[39m]] = \u001b[32m<lazy>\u001b[39m"
      ]
     },
     "execution_count": 5,
     "metadata": {},
     "output_type": "execute_result"
    }
   ],
   "source": [
    "val bufferedSource = scala.io.Source.fromFile(s\"${rootDir}immo.csv\")\n",
    "lazy val tt = bufferedSource.getLines.drop(1).toVector\n",
    "                       .map(_.split(\",\").map(_.trim.toFloat))\n",
    "                       .map(arr => Tensor(arr(0), arr(1), arr(2), arr(3), arr(4)))"
   ]
  },
  {
   "cell_type": "code",
   "execution_count": 6,
   "metadata": {},
   "outputs": [
    {
     "data": {
      "text/plain": [
       "\u001b[36msess\u001b[39m: \u001b[32mSession\u001b[39m = org.platanios.tensorflow.api.core.client.Session@4f36e543"
      ]
     },
     "execution_count": 6,
     "metadata": {},
     "output_type": "execute_result"
    }
   ],
   "source": [
    "val sess = Session()"
   ]
  },
  {
   "cell_type": "code",
   "execution_count": 7,
   "metadata": {},
   "outputs": [
    {
     "data": {
      "text/plain": [
       "\u001b[36mdataTensor\u001b[39m: \u001b[32mTensor\u001b[39m[\u001b[32mFloat\u001b[39m] = Tensor[Float, [25, 5]]\n",
       "\u001b[36mmeanD\u001b[39m: \u001b[32mOutput\u001b[39m[\u001b[32mFloat\u001b[39m] = \u001b[33mOutput\u001b[39m(Mean, \u001b[32m0\u001b[39m)\n",
       "\u001b[36mvarianceD\u001b[39m: \u001b[32mOutput\u001b[39m[\u001b[32mFloat\u001b[39m] = \u001b[33mOutput\u001b[39m(Variance, \u001b[32m0\u001b[39m)\n",
       "\u001b[36mdataScaled\u001b[39m: \u001b[32mOutput\u001b[39m[\u001b[32mFloat\u001b[39m] = \u001b[33mOutput\u001b[39m(Divide, \u001b[32m0\u001b[39m)\n",
       "\u001b[36mdataScaledTensor\u001b[39m: \u001b[32mTensor\u001b[39m[\u001b[32mFloat\u001b[39m] = Tensor[Float, [25, 5]]\n",
       "\u001b[36mtrainFeatures\u001b[39m: \u001b[32mops\u001b[39m.\u001b[32mdata\u001b[39m.\u001b[32mDataset\u001b[39m[\u001b[32mOutput\u001b[39m[\u001b[32mFloat\u001b[39m]] = Dataset[TensorSlicesDataset]\n",
       "\u001b[36mtrainLabels\u001b[39m: \u001b[32mops\u001b[39m.\u001b[32mdata\u001b[39m.\u001b[32mDataset\u001b[39m[\u001b[32mOutput\u001b[39m[\u001b[32mFloat\u001b[39m]] = Dataset[TensorSlicesDataset]"
      ]
     },
     "execution_count": 7,
     "metadata": {},
     "output_type": "execute_result"
    }
   ],
   "source": [
    "val dataTensor = Tensor(tt:_*)\n",
    "\n",
    "val meanD = tf.mean(dataTensor, axes = Seq(0), keepDims = true, name = \"Mean\")\n",
    "val varianceD = tf.mean( tf.squaredDifference(meanD, tf.stopGradient(dataTensor)), axes = Seq(0), keepDims = true, name = \"Variance\")\n",
    "\n",
    "val dataScaled = tf.divide(tf.subtract(dataTensor, meanD), tf.sqrt(varianceD))\n",
    "val dataScaledTensor = sess.run(fetches = dataScaled)\n",
    "\n",
    "val trainFeatures = tf.data.datasetFromTensorSlices(dataScaledTensor(---, 1::))\n",
    "val trainLabels   = tf.data.datasetFromTensorSlices(dataScaledTensor(---, 0))\n"
   ]
  },
  {
   "cell_type": "code",
   "execution_count": 8,
   "metadata": {},
   "outputs": [
    {
     "data": {
      "text/plain": [
       "\u001b[36mtrainData\u001b[39m: \u001b[32mops\u001b[39m.\u001b[32mdata\u001b[39m.\u001b[32mDataset\u001b[39m[(\u001b[32mOutput\u001b[39m[\u001b[32mFloat\u001b[39m], \u001b[32mOutput\u001b[39m[\u001b[32mFloat\u001b[39m])] = Dataset[TensorSlicesDataset/Zip/Repeat/Batch/Prefetch]"
      ]
     },
     "execution_count": 8,
     "metadata": {},
     "output_type": "execute_result"
    }
   ],
   "source": [
    "val trainData =\n",
    "  trainFeatures.zip(trainLabels)\n",
    "      .repeat()\n",
    "      //.shuffle(10)\n",
    "      .batch(250)\n",
    "      .prefetch(1000)"
   ]
  },
  {
   "cell_type": "code",
   "execution_count": 9,
   "metadata": {},
   "outputs": [
    {
     "data": {
      "text/plain": [
       "\u001b[36minput\u001b[39m: \u001b[32mInput\u001b[39m[\u001b[32mOutput\u001b[39m[\u001b[32mFloat\u001b[39m]] = org.platanios.tensorflow.api.learn.layers.Input@6eba0304\n",
       "\u001b[36mtrainInput\u001b[39m: \u001b[32mInput\u001b[39m[\u001b[32mOutput\u001b[39m[\u001b[32mFloat\u001b[39m]] = org.platanios.tensorflow.api.learn.layers.Input@86b4bf4"
      ]
     },
     "execution_count": 9,
     "metadata": {},
     "output_type": "execute_result"
    }
   ],
   "source": [
    "val input = Input(FLOAT32, Shape(-1, 4))\n",
    "val trainInput = Input(FLOAT32, Shape(-1))"
   ]
  },
  {
   "cell_type": "code",
   "execution_count": 10,
   "metadata": {},
   "outputs": [
    {
     "data": {
      "text/plain": [
       "\u001b[32mimport \u001b[39m\u001b[36morg.platanios.tensorflow.api.ops.variables._\u001b[39m"
      ]
     },
     "execution_count": 10,
     "metadata": {},
     "output_type": "execute_result"
    }
   ],
   "source": [
    "import org.platanios.tensorflow.api.ops.variables._"
   ]
  },
  {
   "cell_type": "code",
   "execution_count": 11,
   "metadata": {},
   "outputs": [
    {
     "data": {
      "text/plain": [
       "\u001b[36mlayers\u001b[39m: \u001b[32mLinear\u001b[39m[\u001b[32mFloat\u001b[39m] = \u001b[33mLinear\u001b[39m(\n",
       "  \u001b[32m\"Layer_0\"\u001b[39m,\n",
       "  \u001b[32m1\u001b[39m,\n",
       "  true,\n",
       "  \u001b[33mRandomNormalInitializer\u001b[39m(Tensor[Float, []], Tensor[Float, []], \u001b[32mNone\u001b[39m),\n",
       "  \u001b[33mRandomNormalInitializer\u001b[39m(Tensor[Float, []], Tensor[Float, []], \u001b[32mNone\u001b[39m)\n",
       ")\n",
       "\u001b[36mloss\u001b[39m: \u001b[32mCompose\u001b[39m[(\u001b[32mOutput\u001b[39m[\u001b[32mFloat\u001b[39m], \u001b[32mOutput\u001b[39m[\u001b[32mFloat\u001b[39m]), \u001b[32mOutput\u001b[39m[\u001b[32mFloat\u001b[39m], \u001b[32mOutput\u001b[39m[\u001b[32mFloat\u001b[39m]] = \u001b[33mCompose\u001b[39m(\n",
       "  \u001b[32m\"Loss\"\u001b[39m,\n",
       "  \u001b[33mL2Loss\u001b[39m(\u001b[32m\"Loss\"\u001b[39m),\n",
       "  \u001b[33mScalarSummary\u001b[39m(\n",
       "    \u001b[32m\"Loss\"\u001b[39m,\n",
       "    \u001b[32m\"Loss\"\u001b[39m,\n",
       "    \u001b[32mnull\u001b[39m,\n",
       "    \u001b[33mSet\u001b[39m(org.platanios.tensorflow.api.core.Graph$Keys$SUMMARIES$@2537a5e)\n",
       "  )\n",
       ")"
      ]
     },
     "execution_count": 11,
     "metadata": {},
     "output_type": "execute_result"
    }
   ],
   "source": [
    "val layers =  Linear[Float](\"Layer_0\", 1)\n",
    "val loss = L2Loss[Float, Float](\"Loss\") >> ScalarSummary(name = \"Loss\", tag = \"Loss\")"
   ]
  },
  {
   "cell_type": "code",
   "execution_count": 12,
   "metadata": {},
   "outputs": [
    {
     "data": {
      "text/plain": [
       "\u001b[36moptimizer\u001b[39m: \u001b[32mops\u001b[39m.\u001b[32mtraining\u001b[39m.\u001b[32moptimizers\u001b[39m.\u001b[32mAdaGrad\u001b[39m = org.platanios.tensorflow.api.ops.training.optimizers.AdaGrad@7d8a94c4\n",
       "\u001b[36mmodel\u001b[39m: \u001b[32mSupervisedTrainableModel\u001b[39m[\u001b[32mOutput\u001b[39m[\u001b[32mFloat\u001b[39m], \u001b[32mOutput\u001b[39m[\u001b[32mFloat\u001b[39m], \u001b[32mOutput\u001b[39m[\u001b[32mFloat\u001b[39m], \u001b[32mOutput\u001b[39m[\u001b[32mFloat\u001b[39m], \u001b[32mFloat\u001b[39m] = org.platanios.tensorflow.api.learn.Model$$anon$1@45ce7015"
      ]
     },
     "execution_count": 12,
     "metadata": {},
     "output_type": "execute_result"
    }
   ],
   "source": [
    "val optimizer = tf.train.AdaGrad(1.0f)//tf.train.GradientDescent(1e-6f)\n",
    "val model = Model.simpleSupervised(input, trainInput, layers, loss, optimizer)"
   ]
  },
  {
   "cell_type": "code",
   "execution_count": 13,
   "metadata": {},
   "outputs": [
    {
     "data": {
      "text/plain": [
       "\u001b[32mimport \u001b[39m\u001b[36morg.platanios.tensorflow.api.learn.hooks._\n",
       "\u001b[39m\n",
       "\u001b[32mimport \u001b[39m\u001b[36morg.platanios.tensorflow.api.config.TensorBoardConfig\n",
       "\n",
       "\n",
       "\u001b[39m\n",
       "\u001b[36msummariesDir\u001b[39m: \u001b[32mjava\u001b[39m.\u001b[32mnio\u001b[39m.\u001b[32mfile\u001b[39m.\u001b[32mPath\u001b[39m = /tmp/001tfsc\n",
       "\u001b[36mestimator\u001b[39m: \u001b[32mInMemoryEstimator\u001b[39m[\u001b[32mOutput\u001b[39m[\u001b[32mFloat\u001b[39m], (\u001b[32mOutput\u001b[39m[\u001b[32mFloat\u001b[39m], \u001b[32mOutput\u001b[39m[\u001b[32mFloat\u001b[39m]), \u001b[32mOutput\u001b[39m[\u001b[32mFloat\u001b[39m], \u001b[32mOutput\u001b[39m[\u001b[32mFloat\u001b[39m], \u001b[32mFloat\u001b[39m, (\u001b[32mOutput\u001b[39m[\u001b[32mFloat\u001b[39m], (\u001b[32mOutput\u001b[39m[\u001b[32mFloat\u001b[39m], \u001b[32mOutput\u001b[39m[\u001b[32mFloat\u001b[39m]))] = org.platanios.tensorflow.api.learn.estimators.InMemoryEstimator@76d79fa6"
      ]
     },
     "execution_count": 13,
     "metadata": {},
     "output_type": "execute_result"
    }
   ],
   "source": [
    "import org.platanios.tensorflow.api.learn.hooks._\n",
    "import org.platanios.tensorflow.api.config.TensorBoardConfig\n",
    "\n",
    "\n",
    "val summariesDir = java.nio.file.Paths.get(\"/tmp/001tfsc\")\n",
    "\n",
    "val estimator = InMemoryEstimator(\n",
    "  modelFunction = model,\n",
    "  configurationBase = Configuration(Some(summariesDir)),\n",
    "  trainHooks = Set(\n",
    "    SummarySaver(summariesDir, StepHookTrigger(10)),\n",
    "    tf.learn.StepRateLogger(log = true, summaryDir = summariesDir, trigger = tf.learn.StepHookTrigger(100)),\n",
    "    tf.learn.LossLogger(trigger = tf.learn.StepHookTrigger(10)),\n",
    "    CheckpointSaver(summariesDir, StepHookTrigger(10))),\n",
    "  tensorBoardConfig = TensorBoardConfig(summariesDir))"
   ]
  },
  {
   "cell_type": "code",
   "execution_count": 14,
   "metadata": {},
   "outputs": [
    {
     "name": "stdout",
     "output_type": "stream",
     "text": [
      "2019-05-23 16:28:32.226 [scala-interpreter-1] INFO  Learn / Hooks / Checkpoint Saver - Saving checkpoint for step 0.\n",
      "2019-05-23 16:28:32.230 [scala-interpreter-1] INFO  Variables / Saver - Saving parameters to '/tmp/001tfsc/model.ckpt-0'.\n",
      "2019-05-23 16:28:32.277 [scala-interpreter-1] INFO  Variables / Saver - Saved parameters to '/tmp/001tfsc/model.ckpt-0'.\n",
      "2019-05-23 16:28:32.292 [scala-interpreter-1] INFO  Learn / Hooks / Loss Logger - (    N/A    ) Step:      0, Loss: 139637.3438\n",
      "2019-05-23 16:28:32.337 [scala-interpreter-1] INFO  Learn / Hooks / Checkpoint Saver - Saving checkpoint for step 10.\n",
      "2019-05-23 16:28:32.337 [scala-interpreter-1] INFO  Variables / Saver - Saving parameters to '/tmp/001tfsc/model.ckpt-10'.\n",
      "2019-05-23 16:28:32.355 [scala-interpreter-1] INFO  Variables / Saver - Saved parameters to '/tmp/001tfsc/model.ckpt-10'.\n",
      "2019-05-23 16:28:32.356 [scala-interpreter-1] INFO  Learn / Hooks / Loss Logger - (    0.065 s) Step:     10, Loss: 31250.3281\n",
      "2019-05-23 16:28:32.369 [scala-interpreter-1] INFO  Learn / Hooks / Checkpoint Saver - Saving checkpoint for step 20.\n",
      "2019-05-23 16:28:32.369 [scala-interpreter-1] INFO  Variables / Saver - Saving parameters to '/tmp/001tfsc/model.ckpt-20'.\n",
      "2019-05-23 16:28:32.380 [scala-interpreter-1] INFO  Variables / Saver - Saved parameters to '/tmp/001tfsc/model.ckpt-20'.\n",
      "2019-05-23 16:28:32.381 [scala-interpreter-1] INFO  Learn / Hooks / Loss Logger - (    0.025 s) Step:     20, Loss: 31249.9824\n",
      "2019-05-23 16:28:32.393 [scala-interpreter-1] INFO  Learn / Hooks / Checkpoint Saver - Saving checkpoint for step 30.\n",
      "2019-05-23 16:28:32.394 [scala-interpreter-1] INFO  Variables / Saver - Saving parameters to '/tmp/001tfsc/model.ckpt-30'.\n",
      "2019-05-23 16:28:32.406 [scala-interpreter-1] INFO  Variables / Saver - Saved parameters to '/tmp/001tfsc/model.ckpt-30'.\n",
      "2019-05-23 16:28:32.407 [scala-interpreter-1] INFO  Learn / Hooks / Loss Logger - (    0.026 s) Step:     30, Loss: 31249.9863\n",
      "2019-05-23 16:28:32.418 [scala-interpreter-1] INFO  Learn / Hooks / Checkpoint Saver - Saving checkpoint for step 40.\n",
      "2019-05-23 16:28:32.419 [scala-interpreter-1] INFO  Variables / Saver - Saving parameters to '/tmp/001tfsc/model.ckpt-40'.\n",
      "2019-05-23 16:28:32.431 [scala-interpreter-1] INFO  Variables / Saver - Saved parameters to '/tmp/001tfsc/model.ckpt-40'.\n",
      "2019-05-23 16:28:32.432 [scala-interpreter-1] INFO  Learn / Hooks / Loss Logger - (    0.025 s) Step:     40, Loss: 31249.9805\n",
      "2019-05-23 16:28:32.444 [scala-interpreter-1] INFO  Learn / Hooks / Checkpoint Saver - Saving checkpoint for step 50.\n",
      "2019-05-23 16:28:32.445 [scala-interpreter-1] INFO  Variables / Saver - Saving parameters to '/tmp/001tfsc/model.ckpt-50'.\n",
      "2019-05-23 16:28:32.462 [scala-interpreter-1] INFO  Variables / Saver - Saved parameters to '/tmp/001tfsc/model.ckpt-50'.\n",
      "2019-05-23 16:28:32.464 [scala-interpreter-1] INFO  Learn / Hooks / Loss Logger - (    0.031 s) Step:     50, Loss: 31249.9609\n",
      "2019-05-23 16:28:32.474 [scala-interpreter-1] INFO  Learn / Hooks / Checkpoint Saver - Saving checkpoint for step 60.\n",
      "2019-05-23 16:28:32.475 [scala-interpreter-1] INFO  Variables / Saver - Saving parameters to '/tmp/001tfsc/model.ckpt-60'.\n",
      "2019-05-23 16:28:32.493 [scala-interpreter-1] INFO  Variables / Saver - Saved parameters to '/tmp/001tfsc/model.ckpt-60'.\n",
      "2019-05-23 16:28:32.494 [scala-interpreter-1] INFO  Learn / Hooks / Loss Logger - (    0.031 s) Step:     60, Loss: 31249.9492\n",
      "2019-05-23 16:28:32.505 [scala-interpreter-1] INFO  Learn / Hooks / Checkpoint Saver - Saving checkpoint for step 70.\n",
      "2019-05-23 16:28:32.506 [scala-interpreter-1] INFO  Variables / Saver - Saving parameters to '/tmp/001tfsc/model.ckpt-70'.\n",
      "2019-05-23 16:28:32.519 [scala-interpreter-1] INFO  Variables / Saver - Saved parameters to '/tmp/001tfsc/model.ckpt-70'.\n",
      "2019-05-23 16:28:32.520 [scala-interpreter-1] INFO  Learn / Hooks / Loss Logger - (    0.026 s) Step:     70, Loss: 31249.9492\n",
      "2019-05-23 16:28:32.530 [scala-interpreter-1] INFO  Learn / Hooks / Checkpoint Saver - Saving checkpoint for step 80.\n",
      "2019-05-23 16:28:32.530 [scala-interpreter-1] INFO  Variables / Saver - Saving parameters to '/tmp/001tfsc/model.ckpt-80'.\n",
      "2019-05-23 16:28:32.543 [scala-interpreter-1] INFO  Variables / Saver - Saved parameters to '/tmp/001tfsc/model.ckpt-80'.\n",
      "2019-05-23 16:28:32.544 [scala-interpreter-1] INFO  Learn / Hooks / Loss Logger - (    0.024 s) Step:     80, Loss: 31249.9492\n",
      "2019-05-23 16:28:32.559 [scala-interpreter-1] INFO  Learn / Hooks / Checkpoint Saver - Saving checkpoint for step 90.\n",
      "2019-05-23 16:28:32.559 [scala-interpreter-1] INFO  Variables / Saver - Saving parameters to '/tmp/001tfsc/model.ckpt-90'.\n",
      "2019-05-23 16:28:32.571 [scala-interpreter-1] INFO  Variables / Saver - Saved parameters to '/tmp/001tfsc/model.ckpt-90'.\n",
      "2019-05-23 16:28:32.574 [scala-interpreter-1] INFO  Learn / Hooks / Loss Logger - (    0.030 s) Step:     90, Loss: 31249.9492\n",
      "2019-05-23 16:28:32.583 [scala-interpreter-1] INFO  Learn / Hooks / Checkpoint Saver - Saving checkpoint for step 100.\n",
      "2019-05-23 16:28:32.584 [scala-interpreter-1] INFO  Variables / Saver - Saving parameters to '/tmp/001tfsc/model.ckpt-100'.\n",
      "2019-05-23 16:28:32.595 [scala-interpreter-1] INFO  Variables / Saver - Saved parameters to '/tmp/001tfsc/model.ckpt-100'.\n",
      "2019-05-23 16:28:32.597 [scala-interpreter-1] INFO  Learn / Hooks / Step Rate - Steps/Sec: 327.87\n",
      "2019-05-23 16:28:32.603 [scala-interpreter-1] INFO  Learn / Hooks / Loss Logger - (    0.029 s) Step:    100, Loss: 31249.9492\n",
      "2019-05-23 16:28:32.613 [scala-interpreter-1] INFO  Learn / Hooks / Checkpoint Saver - Saving checkpoint for step 110.\n",
      "2019-05-23 16:28:32.613 [scala-interpreter-1] INFO  Variables / Saver - Saving parameters to '/tmp/001tfsc/model.ckpt-110'.\n",
      "2019-05-23 16:28:32.625 [scala-interpreter-1] INFO  Variables / Saver - Saved parameters to '/tmp/001tfsc/model.ckpt-110'.\n",
      "2019-05-23 16:28:32.626 [scala-interpreter-1] INFO  Learn / Hooks / Loss Logger - (    0.023 s) Step:    110, Loss: 31249.9492\n",
      "2019-05-23 16:28:32.635 [scala-interpreter-1] INFO  Learn / Hooks / Checkpoint Saver - Saving checkpoint for step 120.\n",
      "2019-05-23 16:28:32.636 [scala-interpreter-1] INFO  Variables / Saver - Saving parameters to '/tmp/001tfsc/model.ckpt-120'.\n",
      "2019-05-23 16:28:32.648 [scala-interpreter-1] INFO  Variables / Saver - Saved parameters to '/tmp/001tfsc/model.ckpt-120'.\n",
      "2019-05-23 16:28:32.649 [scala-interpreter-1] INFO  Learn / Hooks / Loss Logger - (    0.023 s) Step:    120, Loss: 31249.9492\n",
      "2019-05-23 16:28:32.659 [scala-interpreter-1] INFO  Learn / Hooks / Checkpoint Saver - Saving checkpoint for step 130.\n",
      "2019-05-23 16:28:32.659 [scala-interpreter-1] INFO  Variables / Saver - Saving parameters to '/tmp/001tfsc/model.ckpt-130'.\n",
      "2019-05-23 16:28:32.670 [scala-interpreter-1] INFO  Variables / Saver - Saved parameters to '/tmp/001tfsc/model.ckpt-130'.\n",
      "2019-05-23 16:28:32.671 [scala-interpreter-1] INFO  Learn / Hooks / Loss Logger - (    0.022 s) Step:    130, Loss: 31249.9492\n",
      "2019-05-23 16:28:32.680 [scala-interpreter-1] INFO  Learn / Hooks / Checkpoint Saver - Saving checkpoint for step 140.\n",
      "2019-05-23 16:28:32.681 [scala-interpreter-1] INFO  Variables / Saver - Saving parameters to '/tmp/001tfsc/model.ckpt-140'.\n",
      "2019-05-23 16:28:32.693 [scala-interpreter-1] INFO  Variables / Saver - Saved parameters to '/tmp/001tfsc/model.ckpt-140'.\n",
      "2019-05-23 16:28:32.694 [scala-interpreter-1] INFO  Learn / Hooks / Loss Logger - (    0.022 s) Step:    140, Loss: 31249.9492\n",
      "2019-05-23 16:28:32.702 [scala-interpreter-1] INFO  Learn / Hooks / Checkpoint Saver - Saving checkpoint for step 150.\n",
      "2019-05-23 16:28:32.703 [scala-interpreter-1] INFO  Variables / Saver - Saving parameters to '/tmp/001tfsc/model.ckpt-150'.\n",
      "2019-05-23 16:28:32.717 [scala-interpreter-1] INFO  Variables / Saver - Saved parameters to '/tmp/001tfsc/model.ckpt-150'.\n",
      "2019-05-23 16:28:32.718 [scala-interpreter-1] INFO  Learn / Hooks / Loss Logger - (    0.025 s) Step:    150, Loss: 31249.9492\n",
      "2019-05-23 16:28:32.728 [scala-interpreter-1] INFO  Learn / Hooks / Checkpoint Saver - Saving checkpoint for step 160.\n",
      "2019-05-23 16:28:32.729 [scala-interpreter-1] INFO  Variables / Saver - Saving parameters to '/tmp/001tfsc/model.ckpt-160'.\n"
     ]
    },
    {
     "name": "stdout",
     "output_type": "stream",
     "text": [
      "2019-05-23 16:28:32.740 [scala-interpreter-1] INFO  Variables / Saver - Saved parameters to '/tmp/001tfsc/model.ckpt-160'.\n",
      "2019-05-23 16:28:32.741 [scala-interpreter-1] INFO  Learn / Hooks / Loss Logger - (    0.023 s) Step:    160, Loss: 31249.9492\n",
      "2019-05-23 16:28:32.749 [scala-interpreter-1] INFO  Learn / Hooks / Checkpoint Saver - Saving checkpoint for step 170.\n",
      "2019-05-23 16:28:32.749 [scala-interpreter-1] INFO  Variables / Saver - Saving parameters to '/tmp/001tfsc/model.ckpt-170'.\n",
      "2019-05-23 16:28:32.761 [scala-interpreter-1] INFO  Variables / Saver - Saved parameters to '/tmp/001tfsc/model.ckpt-170'.\n",
      "2019-05-23 16:28:32.762 [scala-interpreter-1] INFO  Learn / Hooks / Loss Logger - (    0.020 s) Step:    170, Loss: 31249.9492\n",
      "2019-05-23 16:28:32.770 [scala-interpreter-1] INFO  Learn / Hooks / Checkpoint Saver - Saving checkpoint for step 180.\n",
      "2019-05-23 16:28:32.771 [scala-interpreter-1] INFO  Variables / Saver - Saving parameters to '/tmp/001tfsc/model.ckpt-180'.\n",
      "2019-05-23 16:28:32.782 [scala-interpreter-1] INFO  Variables / Saver - Saved parameters to '/tmp/001tfsc/model.ckpt-180'.\n",
      "2019-05-23 16:28:32.783 [scala-interpreter-1] INFO  Learn / Hooks / Loss Logger - (    0.022 s) Step:    180, Loss: 31249.9492\n",
      "2019-05-23 16:28:32.791 [scala-interpreter-1] INFO  Learn / Hooks / Checkpoint Saver - Saving checkpoint for step 190.\n",
      "2019-05-23 16:28:32.792 [scala-interpreter-1] INFO  Variables / Saver - Saving parameters to '/tmp/001tfsc/model.ckpt-190'.\n",
      "2019-05-23 16:28:32.803 [scala-interpreter-1] INFO  Variables / Saver - Saved parameters to '/tmp/001tfsc/model.ckpt-190'.\n",
      "2019-05-23 16:28:32.804 [scala-interpreter-1] INFO  Learn / Hooks / Loss Logger - (    0.021 s) Step:    190, Loss: 31249.9492\n",
      "2019-05-23 16:28:32.813 [scala-interpreter-1] INFO  Learn / Hooks / Checkpoint Saver - Saving checkpoint for step 200.\n",
      "2019-05-23 16:28:32.814 [scala-interpreter-1] INFO  Variables / Saver - Saving parameters to '/tmp/001tfsc/model.ckpt-200'.\n",
      "2019-05-23 16:28:32.825 [scala-interpreter-1] INFO  Variables / Saver - Saved parameters to '/tmp/001tfsc/model.ckpt-200'.\n",
      "2019-05-23 16:28:32.826 [scala-interpreter-1] INFO  Learn / Hooks / Step Rate - Steps/Sec: 434.78\n",
      "2019-05-23 16:28:32.826 [scala-interpreter-1] INFO  Learn / Hooks / Loss Logger - (    0.022 s) Step:    200, Loss: 31249.9492\n",
      "2019-05-23 16:28:32.835 [scala-interpreter-1] INFO  Learn / Hooks / Checkpoint Saver - Saving checkpoint for step 210.\n",
      "2019-05-23 16:28:32.835 [scala-interpreter-1] INFO  Variables / Saver - Saving parameters to '/tmp/001tfsc/model.ckpt-210'.\n",
      "2019-05-23 16:28:32.848 [scala-interpreter-1] INFO  Variables / Saver - Saved parameters to '/tmp/001tfsc/model.ckpt-210'.\n",
      "2019-05-23 16:28:32.849 [scala-interpreter-1] INFO  Learn / Hooks / Loss Logger - (    0.023 s) Step:    210, Loss: 31249.9492\n",
      "2019-05-23 16:28:32.858 [scala-interpreter-1] INFO  Learn / Hooks / Checkpoint Saver - Saving checkpoint for step 220.\n",
      "2019-05-23 16:28:32.858 [scala-interpreter-1] INFO  Variables / Saver - Saving parameters to '/tmp/001tfsc/model.ckpt-220'.\n",
      "2019-05-23 16:28:32.870 [scala-interpreter-1] INFO  Variables / Saver - Saved parameters to '/tmp/001tfsc/model.ckpt-220'.\n",
      "2019-05-23 16:28:32.870 [scala-interpreter-1] INFO  Learn / Hooks / Loss Logger - (    0.021 s) Step:    220, Loss: 31249.9492\n",
      "2019-05-23 16:28:32.879 [scala-interpreter-1] INFO  Learn / Hooks / Checkpoint Saver - Saving checkpoint for step 230.\n",
      "2019-05-23 16:28:32.880 [scala-interpreter-1] INFO  Variables / Saver - Saving parameters to '/tmp/001tfsc/model.ckpt-230'.\n",
      "2019-05-23 16:28:32.891 [scala-interpreter-1] INFO  Variables / Saver - Saved parameters to '/tmp/001tfsc/model.ckpt-230'.\n",
      "2019-05-23 16:28:32.892 [scala-interpreter-1] INFO  Learn / Hooks / Loss Logger - (    0.021 s) Step:    230, Loss: 31249.9492\n",
      "2019-05-23 16:28:32.900 [scala-interpreter-1] INFO  Learn / Hooks / Checkpoint Saver - Saving checkpoint for step 240.\n",
      "2019-05-23 16:28:32.901 [scala-interpreter-1] INFO  Variables / Saver - Saving parameters to '/tmp/001tfsc/model.ckpt-240'.\n",
      "2019-05-23 16:28:32.912 [scala-interpreter-1] INFO  Variables / Saver - Saved parameters to '/tmp/001tfsc/model.ckpt-240'.\n",
      "2019-05-23 16:28:32.913 [scala-interpreter-1] INFO  Learn / Hooks / Loss Logger - (    0.021 s) Step:    240, Loss: 31249.9492\n",
      "2019-05-23 16:28:32.921 [scala-interpreter-1] INFO  Learn / Hooks / Checkpoint Saver - Saving checkpoint for step 250.\n",
      "2019-05-23 16:28:32.921 [scala-interpreter-1] INFO  Variables / Saver - Saving parameters to '/tmp/001tfsc/model.ckpt-250'.\n",
      "2019-05-23 16:28:32.932 [scala-interpreter-1] INFO  Variables / Saver - Saved parameters to '/tmp/001tfsc/model.ckpt-250'.\n",
      "2019-05-23 16:28:32.932 [scala-interpreter-1] INFO  Learn / Hooks / Loss Logger - (    0.020 s) Step:    250, Loss: 31249.9492\n",
      "2019-05-23 16:28:32.941 [scala-interpreter-1] INFO  Learn / Hooks / Checkpoint Saver - Saving checkpoint for step 260.\n",
      "2019-05-23 16:28:32.941 [scala-interpreter-1] INFO  Variables / Saver - Saving parameters to '/tmp/001tfsc/model.ckpt-260'.\n",
      "2019-05-23 16:28:32.953 [scala-interpreter-1] INFO  Variables / Saver - Saved parameters to '/tmp/001tfsc/model.ckpt-260'.\n",
      "2019-05-23 16:28:32.954 [scala-interpreter-1] INFO  Learn / Hooks / Loss Logger - (    0.022 s) Step:    260, Loss: 31249.9492\n",
      "2019-05-23 16:28:32.961 [scala-interpreter-1] INFO  Learn / Hooks / Checkpoint Saver - Saving checkpoint for step 270.\n",
      "2019-05-23 16:28:32.961 [scala-interpreter-1] INFO  Variables / Saver - Saving parameters to '/tmp/001tfsc/model.ckpt-270'.\n",
      "2019-05-23 16:28:32.972 [scala-interpreter-1] INFO  Variables / Saver - Saved parameters to '/tmp/001tfsc/model.ckpt-270'.\n",
      "2019-05-23 16:28:32.973 [scala-interpreter-1] INFO  Learn / Hooks / Loss Logger - (    0.019 s) Step:    270, Loss: 31249.9492\n",
      "2019-05-23 16:28:32.980 [scala-interpreter-1] INFO  Learn / Hooks / Checkpoint Saver - Saving checkpoint for step 280.\n",
      "2019-05-23 16:28:32.980 [scala-interpreter-1] INFO  Variables / Saver - Saving parameters to '/tmp/001tfsc/model.ckpt-280'.\n",
      "2019-05-23 16:28:32.990 [scala-interpreter-1] INFO  Variables / Saver - Saved parameters to '/tmp/001tfsc/model.ckpt-280'.\n",
      "2019-05-23 16:28:32.991 [scala-interpreter-1] INFO  Learn / Hooks / Loss Logger - (    0.018 s) Step:    280, Loss: 31249.9492\n",
      "2019-05-23 16:28:32.999 [scala-interpreter-1] INFO  Learn / Hooks / Checkpoint Saver - Saving checkpoint for step 290.\n",
      "2019-05-23 16:28:32.999 [scala-interpreter-1] INFO  Variables / Saver - Saving parameters to '/tmp/001tfsc/model.ckpt-290'.\n",
      "2019-05-23 16:28:33.010 [scala-interpreter-1] INFO  Variables / Saver - Saved parameters to '/tmp/001tfsc/model.ckpt-290'.\n",
      "2019-05-23 16:28:33.010 [scala-interpreter-1] INFO  Learn / Hooks / Loss Logger - (    0.019 s) Step:    290, Loss: 31249.9492\n",
      "2019-05-23 16:28:33.019 [scala-interpreter-1] INFO  Learn / Hooks / Checkpoint Saver - Saving checkpoint for step 300.\n",
      "2019-05-23 16:28:33.019 [scala-interpreter-1] INFO  Variables / Saver - Saving parameters to '/tmp/001tfsc/model.ckpt-300'.\n",
      "2019-05-23 16:28:33.029 [scala-interpreter-1] INFO  Variables / Saver - Saved parameters to '/tmp/001tfsc/model.ckpt-300'.\n",
      "2019-05-23 16:28:33.030 [scala-interpreter-1] INFO  Learn / Hooks / Step Rate - Steps/Sec: 490.20\n",
      "2019-05-23 16:28:33.030 [scala-interpreter-1] INFO  Learn / Hooks / Loss Logger - (    0.020 s) Step:    300, Loss: 31249.9492\n",
      "2019-05-23 16:28:33.039 [scala-interpreter-1] INFO  Learn / Hooks / Checkpoint Saver - Saving checkpoint for step 310.\n",
      "2019-05-23 16:28:33.039 [scala-interpreter-1] INFO  Variables / Saver - Saving parameters to '/tmp/001tfsc/model.ckpt-310'.\n",
      "2019-05-23 16:28:33.049 [scala-interpreter-1] INFO  Variables / Saver - Saved parameters to '/tmp/001tfsc/model.ckpt-310'.\n",
      "2019-05-23 16:28:33.050 [scala-interpreter-1] INFO  Learn / Hooks / Loss Logger - (    0.020 s) Step:    310, Loss: 31249.9492\n",
      "2019-05-23 16:28:33.059 [scala-interpreter-1] INFO  Learn / Hooks / Checkpoint Saver - Saving checkpoint for step 320.\n",
      "2019-05-23 16:28:33.059 [scala-interpreter-1] INFO  Variables / Saver - Saving parameters to '/tmp/001tfsc/model.ckpt-320'.\n",
      "2019-05-23 16:28:33.071 [scala-interpreter-1] INFO  Variables / Saver - Saved parameters to '/tmp/001tfsc/model.ckpt-320'.\n"
     ]
    },
    {
     "name": "stdout",
     "output_type": "stream",
     "text": [
      "2019-05-23 16:28:33.072 [scala-interpreter-1] INFO  Learn / Hooks / Loss Logger - (    0.022 s) Step:    320, Loss: 31249.9492\n",
      "2019-05-23 16:28:33.080 [scala-interpreter-1] INFO  Learn / Hooks / Checkpoint Saver - Saving checkpoint for step 330.\n",
      "2019-05-23 16:28:33.080 [scala-interpreter-1] INFO  Variables / Saver - Saving parameters to '/tmp/001tfsc/model.ckpt-330'.\n",
      "2019-05-23 16:28:33.091 [scala-interpreter-1] INFO  Variables / Saver - Saved parameters to '/tmp/001tfsc/model.ckpt-330'.\n",
      "2019-05-23 16:28:33.092 [scala-interpreter-1] INFO  Learn / Hooks / Loss Logger - (    0.020 s) Step:    330, Loss: 31249.9492\n",
      "2019-05-23 16:28:33.101 [scala-interpreter-1] INFO  Learn / Hooks / Checkpoint Saver - Saving checkpoint for step 340.\n",
      "2019-05-23 16:28:33.101 [scala-interpreter-1] INFO  Variables / Saver - Saving parameters to '/tmp/001tfsc/model.ckpt-340'.\n",
      "2019-05-23 16:28:33.112 [scala-interpreter-1] INFO  Variables / Saver - Saved parameters to '/tmp/001tfsc/model.ckpt-340'.\n",
      "2019-05-23 16:28:33.113 [scala-interpreter-1] INFO  Learn / Hooks / Loss Logger - (    0.021 s) Step:    340, Loss: 31249.9492\n",
      "2019-05-23 16:28:33.123 [scala-interpreter-1] INFO  Learn / Hooks / Checkpoint Saver - Saving checkpoint for step 350.\n",
      "2019-05-23 16:28:33.123 [scala-interpreter-1] INFO  Variables / Saver - Saving parameters to '/tmp/001tfsc/model.ckpt-350'.\n",
      "2019-05-23 16:28:33.134 [scala-interpreter-1] INFO  Variables / Saver - Saved parameters to '/tmp/001tfsc/model.ckpt-350'.\n",
      "2019-05-23 16:28:33.135 [scala-interpreter-1] INFO  Learn / Hooks / Loss Logger - (    0.022 s) Step:    350, Loss: 31249.9492\n",
      "2019-05-23 16:28:33.145 [scala-interpreter-1] INFO  Learn / Hooks / Checkpoint Saver - Saving checkpoint for step 360.\n",
      "2019-05-23 16:28:33.146 [scala-interpreter-1] INFO  Variables / Saver - Saving parameters to '/tmp/001tfsc/model.ckpt-360'.\n",
      "2019-05-23 16:28:33.158 [scala-interpreter-1] INFO  Variables / Saver - Saved parameters to '/tmp/001tfsc/model.ckpt-360'.\n",
      "2019-05-23 16:28:33.159 [scala-interpreter-1] INFO  Learn / Hooks / Loss Logger - (    0.024 s) Step:    360, Loss: 31249.9492\n",
      "2019-05-23 16:28:33.169 [scala-interpreter-1] INFO  Learn / Hooks / Checkpoint Saver - Saving checkpoint for step 370.\n",
      "2019-05-23 16:28:33.169 [scala-interpreter-1] INFO  Variables / Saver - Saving parameters to '/tmp/001tfsc/model.ckpt-370'.\n",
      "2019-05-23 16:28:33.183 [scala-interpreter-1] INFO  Variables / Saver - Saved parameters to '/tmp/001tfsc/model.ckpt-370'.\n",
      "2019-05-23 16:28:33.184 [scala-interpreter-1] INFO  Learn / Hooks / Loss Logger - (    0.025 s) Step:    370, Loss: 31249.9492\n",
      "2019-05-23 16:28:33.196 [scala-interpreter-1] INFO  Learn / Hooks / Checkpoint Saver - Saving checkpoint for step 380.\n",
      "2019-05-23 16:28:33.196 [scala-interpreter-1] INFO  Variables / Saver - Saving parameters to '/tmp/001tfsc/model.ckpt-380'.\n",
      "2019-05-23 16:28:33.207 [scala-interpreter-1] INFO  Variables / Saver - Saved parameters to '/tmp/001tfsc/model.ckpt-380'.\n",
      "2019-05-23 16:28:33.208 [scala-interpreter-1] INFO  Learn / Hooks / Loss Logger - (    0.024 s) Step:    380, Loss: 31249.9492\n",
      "2019-05-23 16:28:33.218 [scala-interpreter-1] INFO  Learn / Hooks / Checkpoint Saver - Saving checkpoint for step 390.\n",
      "2019-05-23 16:28:33.218 [scala-interpreter-1] INFO  Variables / Saver - Saving parameters to '/tmp/001tfsc/model.ckpt-390'.\n",
      "2019-05-23 16:28:33.229 [scala-interpreter-1] INFO  Variables / Saver - Saved parameters to '/tmp/001tfsc/model.ckpt-390'.\n",
      "2019-05-23 16:28:33.230 [scala-interpreter-1] INFO  Learn / Hooks / Loss Logger - (    0.022 s) Step:    390, Loss: 31249.9492\n",
      "2019-05-23 16:28:33.238 [scala-interpreter-1] INFO  Learn / Hooks / Checkpoint Saver - Saving checkpoint for step 400.\n",
      "2019-05-23 16:28:33.238 [scala-interpreter-1] INFO  Variables / Saver - Saving parameters to '/tmp/001tfsc/model.ckpt-400'.\n",
      "2019-05-23 16:28:33.250 [scala-interpreter-1] INFO  Variables / Saver - Saved parameters to '/tmp/001tfsc/model.ckpt-400'.\n",
      "2019-05-23 16:28:33.250 [scala-interpreter-1] INFO  Learn / Hooks / Step Rate - Steps/Sec: 454.55\n",
      "2019-05-23 16:28:33.251 [scala-interpreter-1] INFO  Learn / Hooks / Loss Logger - (    0.021 s) Step:    400, Loss: 31249.9492\n",
      "2019-05-23 16:28:33.259 [scala-interpreter-1] INFO  Learn / Hooks / Checkpoint Saver - Saving checkpoint for step 410.\n",
      "2019-05-23 16:28:33.260 [scala-interpreter-1] INFO  Variables / Saver - Saving parameters to '/tmp/001tfsc/model.ckpt-410'.\n",
      "2019-05-23 16:28:33.271 [scala-interpreter-1] INFO  Variables / Saver - Saved parameters to '/tmp/001tfsc/model.ckpt-410'.\n",
      "2019-05-23 16:28:33.271 [scala-interpreter-1] INFO  Learn / Hooks / Loss Logger - (    0.020 s) Step:    410, Loss: 31249.9492\n",
      "2019-05-23 16:28:33.279 [scala-interpreter-1] INFO  Learn / Hooks / Checkpoint Saver - Saving checkpoint for step 420.\n",
      "2019-05-23 16:28:33.279 [scala-interpreter-1] INFO  Variables / Saver - Saving parameters to '/tmp/001tfsc/model.ckpt-420'.\n",
      "2019-05-23 16:28:33.292 [scala-interpreter-1] INFO  Variables / Saver - Saved parameters to '/tmp/001tfsc/model.ckpt-420'.\n",
      "2019-05-23 16:28:33.293 [scala-interpreter-1] INFO  Learn / Hooks / Loss Logger - (    0.022 s) Step:    420, Loss: 31249.9492\n",
      "2019-05-23 16:28:33.301 [scala-interpreter-1] INFO  Learn / Hooks / Checkpoint Saver - Saving checkpoint for step 430.\n",
      "2019-05-23 16:28:33.301 [scala-interpreter-1] INFO  Variables / Saver - Saving parameters to '/tmp/001tfsc/model.ckpt-430'.\n",
      "2019-05-23 16:28:33.311 [scala-interpreter-1] INFO  Variables / Saver - Saved parameters to '/tmp/001tfsc/model.ckpt-430'.\n",
      "2019-05-23 16:28:33.312 [scala-interpreter-1] INFO  Learn / Hooks / Loss Logger - (    0.019 s) Step:    430, Loss: 31249.9492\n",
      "2019-05-23 16:28:33.320 [scala-interpreter-1] INFO  Learn / Hooks / Checkpoint Saver - Saving checkpoint for step 440.\n",
      "2019-05-23 16:28:33.321 [scala-interpreter-1] INFO  Variables / Saver - Saving parameters to '/tmp/001tfsc/model.ckpt-440'.\n",
      "2019-05-23 16:28:33.331 [scala-interpreter-1] INFO  Variables / Saver - Saved parameters to '/tmp/001tfsc/model.ckpt-440'.\n",
      "2019-05-23 16:28:33.331 [scala-interpreter-1] INFO  Learn / Hooks / Loss Logger - (    0.019 s) Step:    440, Loss: 31249.9492\n",
      "2019-05-23 16:28:33.338 [scala-interpreter-1] INFO  Learn / Hooks / Checkpoint Saver - Saving checkpoint for step 450.\n",
      "2019-05-23 16:28:33.338 [scala-interpreter-1] INFO  Variables / Saver - Saving parameters to '/tmp/001tfsc/model.ckpt-450'.\n",
      "2019-05-23 16:28:33.348 [scala-interpreter-1] INFO  Variables / Saver - Saved parameters to '/tmp/001tfsc/model.ckpt-450'.\n",
      "2019-05-23 16:28:33.349 [scala-interpreter-1] INFO  Learn / Hooks / Loss Logger - (    0.018 s) Step:    450, Loss: 31249.9492\n",
      "2019-05-23 16:28:33.355 [scala-interpreter-1] INFO  Learn / Hooks / Checkpoint Saver - Saving checkpoint for step 460.\n",
      "2019-05-23 16:28:33.356 [scala-interpreter-1] INFO  Variables / Saver - Saving parameters to '/tmp/001tfsc/model.ckpt-460'.\n",
      "2019-05-23 16:28:33.366 [scala-interpreter-1] INFO  Variables / Saver - Saved parameters to '/tmp/001tfsc/model.ckpt-460'.\n",
      "2019-05-23 16:28:33.367 [scala-interpreter-1] INFO  Learn / Hooks / Loss Logger - (    0.018 s) Step:    460, Loss: 31249.9492\n",
      "2019-05-23 16:28:33.374 [scala-interpreter-1] INFO  Learn / Hooks / Checkpoint Saver - Saving checkpoint for step 470.\n",
      "2019-05-23 16:28:33.374 [scala-interpreter-1] INFO  Variables / Saver - Saving parameters to '/tmp/001tfsc/model.ckpt-470'.\n",
      "2019-05-23 16:28:33.383 [scala-interpreter-1] INFO  Variables / Saver - Saved parameters to '/tmp/001tfsc/model.ckpt-470'.\n",
      "2019-05-23 16:28:33.383 [scala-interpreter-1] INFO  Learn / Hooks / Loss Logger - (    0.016 s) Step:    470, Loss: 31249.9492\n",
      "2019-05-23 16:28:33.390 [scala-interpreter-1] INFO  Learn / Hooks / Checkpoint Saver - Saving checkpoint for step 480.\n",
      "2019-05-23 16:28:33.390 [scala-interpreter-1] INFO  Variables / Saver - Saving parameters to '/tmp/001tfsc/model.ckpt-480'.\n",
      "2019-05-23 16:28:33.399 [scala-interpreter-1] INFO  Variables / Saver - Saved parameters to '/tmp/001tfsc/model.ckpt-480'.\n",
      "2019-05-23 16:28:33.400 [scala-interpreter-1] INFO  Learn / Hooks / Loss Logger - (    0.017 s) Step:    480, Loss: 31249.9492\n",
      "2019-05-23 16:28:33.406 [scala-interpreter-1] INFO  Learn / Hooks / Checkpoint Saver - Saving checkpoint for step 490.\n"
     ]
    },
    {
     "name": "stdout",
     "output_type": "stream",
     "text": [
      "2019-05-23 16:28:33.406 [scala-interpreter-1] INFO  Variables / Saver - Saving parameters to '/tmp/001tfsc/model.ckpt-490'.\n",
      "2019-05-23 16:28:33.415 [scala-interpreter-1] INFO  Variables / Saver - Saved parameters to '/tmp/001tfsc/model.ckpt-490'.\n",
      "2019-05-23 16:28:33.416 [scala-interpreter-1] INFO  Learn / Hooks / Loss Logger - (    0.016 s) Step:    490, Loss: 31249.9492\n",
      "2019-05-23 16:28:33.422 [scala-interpreter-1] INFO  Learn / Hooks / Checkpoint Saver - Saving checkpoint for step 500.\n",
      "2019-05-23 16:28:33.423 [scala-interpreter-1] INFO  Variables / Saver - Saving parameters to '/tmp/001tfsc/model.ckpt-500'.\n",
      "2019-05-23 16:28:33.432 [scala-interpreter-1] INFO  Variables / Saver - Saved parameters to '/tmp/001tfsc/model.ckpt-500'.\n",
      "2019-05-23 16:28:33.432 [scala-interpreter-1] INFO  Learn / Hooks / Step Rate - Steps/Sec: 549.45\n",
      "2019-05-23 16:28:33.432 [scala-interpreter-1] INFO  Learn / Hooks / Loss Logger - (    0.016 s) Step:    500, Loss: 31249.9492\n",
      "2019-05-23 16:28:33.439 [scala-interpreter-1] INFO  Learn / Hooks / Checkpoint Saver - Saving checkpoint for step 510.\n",
      "2019-05-23 16:28:33.439 [scala-interpreter-1] INFO  Variables / Saver - Saving parameters to '/tmp/001tfsc/model.ckpt-510'.\n",
      "2019-05-23 16:28:33.448 [scala-interpreter-1] INFO  Variables / Saver - Saved parameters to '/tmp/001tfsc/model.ckpt-510'.\n",
      "2019-05-23 16:28:33.449 [scala-interpreter-1] INFO  Learn / Hooks / Loss Logger - (    0.017 s) Step:    510, Loss: 31249.9492\n",
      "2019-05-23 16:28:33.457 [scala-interpreter-1] INFO  Learn / Hooks / Checkpoint Saver - Saving checkpoint for step 520.\n",
      "2019-05-23 16:28:33.458 [scala-interpreter-1] INFO  Variables / Saver - Saving parameters to '/tmp/001tfsc/model.ckpt-520'.\n",
      "2019-05-23 16:28:33.467 [scala-interpreter-1] INFO  Variables / Saver - Saved parameters to '/tmp/001tfsc/model.ckpt-520'.\n",
      "2019-05-23 16:28:33.468 [scala-interpreter-1] INFO  Learn / Hooks / Loss Logger - (    0.019 s) Step:    520, Loss: 31249.9492\n",
      "2019-05-23 16:28:33.475 [scala-interpreter-1] INFO  Learn / Hooks / Checkpoint Saver - Saving checkpoint for step 530.\n",
      "2019-05-23 16:28:33.476 [scala-interpreter-1] INFO  Variables / Saver - Saving parameters to '/tmp/001tfsc/model.ckpt-530'.\n",
      "2019-05-23 16:28:33.487 [scala-interpreter-1] INFO  Variables / Saver - Saved parameters to '/tmp/001tfsc/model.ckpt-530'.\n",
      "2019-05-23 16:28:33.487 [scala-interpreter-1] INFO  Learn / Hooks / Loss Logger - (    0.019 s) Step:    530, Loss: 31249.9492\n",
      "2019-05-23 16:28:33.493 [scala-interpreter-1] INFO  Learn / Hooks / Checkpoint Saver - Saving checkpoint for step 540.\n",
      "2019-05-23 16:28:33.494 [scala-interpreter-1] INFO  Variables / Saver - Saving parameters to '/tmp/001tfsc/model.ckpt-540'.\n",
      "2019-05-23 16:28:33.505 [scala-interpreter-1] INFO  Variables / Saver - Saved parameters to '/tmp/001tfsc/model.ckpt-540'.\n",
      "2019-05-23 16:28:33.505 [scala-interpreter-1] INFO  Learn / Hooks / Loss Logger - (    0.018 s) Step:    540, Loss: 31249.9492\n",
      "2019-05-23 16:28:33.512 [scala-interpreter-1] INFO  Learn / Hooks / Checkpoint Saver - Saving checkpoint for step 550.\n",
      "2019-05-23 16:28:33.513 [scala-interpreter-1] INFO  Variables / Saver - Saving parameters to '/tmp/001tfsc/model.ckpt-550'.\n",
      "2019-05-23 16:28:33.522 [scala-interpreter-1] INFO  Variables / Saver - Saved parameters to '/tmp/001tfsc/model.ckpt-550'.\n",
      "2019-05-23 16:28:33.523 [scala-interpreter-1] INFO  Learn / Hooks / Loss Logger - (    0.018 s) Step:    550, Loss: 31249.9492\n",
      "2019-05-23 16:28:33.529 [scala-interpreter-1] INFO  Learn / Hooks / Checkpoint Saver - Saving checkpoint for step 560.\n",
      "2019-05-23 16:28:33.530 [scala-interpreter-1] INFO  Variables / Saver - Saving parameters to '/tmp/001tfsc/model.ckpt-560'.\n",
      "2019-05-23 16:28:33.540 [scala-interpreter-1] INFO  Variables / Saver - Saved parameters to '/tmp/001tfsc/model.ckpt-560'.\n",
      "2019-05-23 16:28:33.540 [scala-interpreter-1] INFO  Learn / Hooks / Loss Logger - (    0.017 s) Step:    560, Loss: 31249.9492\n",
      "2019-05-23 16:28:33.547 [scala-interpreter-1] INFO  Learn / Hooks / Checkpoint Saver - Saving checkpoint for step 570.\n",
      "2019-05-23 16:28:33.548 [scala-interpreter-1] INFO  Variables / Saver - Saving parameters to '/tmp/001tfsc/model.ckpt-570'.\n",
      "2019-05-23 16:28:33.558 [scala-interpreter-1] INFO  Variables / Saver - Saved parameters to '/tmp/001tfsc/model.ckpt-570'.\n",
      "2019-05-23 16:28:33.558 [scala-interpreter-1] INFO  Learn / Hooks / Loss Logger - (    0.018 s) Step:    570, Loss: 31249.9492\n",
      "2019-05-23 16:28:33.564 [scala-interpreter-1] INFO  Learn / Hooks / Checkpoint Saver - Saving checkpoint for step 580.\n",
      "2019-05-23 16:28:33.565 [scala-interpreter-1] INFO  Variables / Saver - Saving parameters to '/tmp/001tfsc/model.ckpt-580'.\n",
      "2019-05-23 16:28:33.575 [scala-interpreter-1] INFO  Variables / Saver - Saved parameters to '/tmp/001tfsc/model.ckpt-580'.\n",
      "2019-05-23 16:28:33.575 [scala-interpreter-1] INFO  Learn / Hooks / Loss Logger - (    0.017 s) Step:    580, Loss: 31249.9492\n",
      "2019-05-23 16:28:33.581 [scala-interpreter-1] INFO  Learn / Hooks / Checkpoint Saver - Saving checkpoint for step 590.\n",
      "2019-05-23 16:28:33.582 [scala-interpreter-1] INFO  Variables / Saver - Saving parameters to '/tmp/001tfsc/model.ckpt-590'.\n",
      "2019-05-23 16:28:33.591 [scala-interpreter-1] INFO  Variables / Saver - Saved parameters to '/tmp/001tfsc/model.ckpt-590'.\n",
      "2019-05-23 16:28:33.592 [scala-interpreter-1] INFO  Learn / Hooks / Loss Logger - (    0.016 s) Step:    590, Loss: 31249.9492\n",
      "2019-05-23 16:28:33.598 [scala-interpreter-1] INFO  Learn / Hooks / Checkpoint Saver - Saving checkpoint for step 600.\n",
      "2019-05-23 16:28:33.598 [scala-interpreter-1] INFO  Variables / Saver - Saving parameters to '/tmp/001tfsc/model.ckpt-600'.\n",
      "2019-05-23 16:28:33.608 [scala-interpreter-1] INFO  Variables / Saver - Saved parameters to '/tmp/001tfsc/model.ckpt-600'.\n",
      "2019-05-23 16:28:33.608 [scala-interpreter-1] INFO  Learn / Hooks / Step Rate - Steps/Sec: 568.18\n",
      "2019-05-23 16:28:33.609 [scala-interpreter-1] INFO  Learn / Hooks / Loss Logger - (    0.017 s) Step:    600, Loss: 31249.9492\n",
      "2019-05-23 16:28:33.616 [scala-interpreter-1] INFO  Learn / Hooks / Checkpoint Saver - Saving checkpoint for step 610.\n",
      "2019-05-23 16:28:33.616 [scala-interpreter-1] INFO  Variables / Saver - Saving parameters to '/tmp/001tfsc/model.ckpt-610'.\n",
      "2019-05-23 16:28:33.627 [scala-interpreter-1] INFO  Variables / Saver - Saved parameters to '/tmp/001tfsc/model.ckpt-610'.\n",
      "2019-05-23 16:28:33.627 [scala-interpreter-1] INFO  Learn / Hooks / Loss Logger - (    0.019 s) Step:    610, Loss: 31249.9492\n",
      "2019-05-23 16:28:33.635 [scala-interpreter-1] INFO  Learn / Hooks / Checkpoint Saver - Saving checkpoint for step 620.\n",
      "2019-05-23 16:28:33.635 [scala-interpreter-1] INFO  Variables / Saver - Saving parameters to '/tmp/001tfsc/model.ckpt-620'.\n",
      "2019-05-23 16:28:33.645 [scala-interpreter-1] INFO  Variables / Saver - Saved parameters to '/tmp/001tfsc/model.ckpt-620'.\n",
      "2019-05-23 16:28:33.646 [scala-interpreter-1] INFO  Learn / Hooks / Loss Logger - (    0.019 s) Step:    620, Loss: 31249.9492\n",
      "2019-05-23 16:28:33.653 [scala-interpreter-1] INFO  Learn / Hooks / Checkpoint Saver - Saving checkpoint for step 630.\n",
      "2019-05-23 16:28:33.653 [scala-interpreter-1] INFO  Variables / Saver - Saving parameters to '/tmp/001tfsc/model.ckpt-630'.\n",
      "2019-05-23 16:28:33.663 [scala-interpreter-1] INFO  Variables / Saver - Saved parameters to '/tmp/001tfsc/model.ckpt-630'.\n",
      "2019-05-23 16:28:33.664 [scala-interpreter-1] INFO  Learn / Hooks / Loss Logger - (    0.018 s) Step:    630, Loss: 31249.9492\n",
      "2019-05-23 16:28:33.671 [scala-interpreter-1] INFO  Learn / Hooks / Checkpoint Saver - Saving checkpoint for step 640.\n",
      "2019-05-23 16:28:33.672 [scala-interpreter-1] INFO  Variables / Saver - Saving parameters to '/tmp/001tfsc/model.ckpt-640'.\n",
      "2019-05-23 16:28:33.682 [scala-interpreter-1] INFO  Variables / Saver - Saved parameters to '/tmp/001tfsc/model.ckpt-640'.\n",
      "2019-05-23 16:28:33.683 [scala-interpreter-1] INFO  Learn / Hooks / Loss Logger - (    0.019 s) Step:    640, Loss: 31249.9492\n",
      "2019-05-23 16:28:33.690 [scala-interpreter-1] INFO  Learn / Hooks / Checkpoint Saver - Saving checkpoint for step 650.\n",
      "2019-05-23 16:28:33.690 [scala-interpreter-1] INFO  Variables / Saver - Saving parameters to '/tmp/001tfsc/model.ckpt-650'.\n"
     ]
    },
    {
     "name": "stdout",
     "output_type": "stream",
     "text": [
      "2019-05-23 16:28:33.701 [scala-interpreter-1] INFO  Variables / Saver - Saved parameters to '/tmp/001tfsc/model.ckpt-650'.\n",
      "2019-05-23 16:28:33.701 [scala-interpreter-1] INFO  Learn / Hooks / Loss Logger - (    0.018 s) Step:    650, Loss: 31249.9492\n",
      "2019-05-23 16:28:33.708 [scala-interpreter-1] INFO  Learn / Hooks / Checkpoint Saver - Saving checkpoint for step 660.\n",
      "2019-05-23 16:28:33.708 [scala-interpreter-1] INFO  Variables / Saver - Saving parameters to '/tmp/001tfsc/model.ckpt-660'.\n",
      "2019-05-23 16:28:33.720 [scala-interpreter-1] INFO  Variables / Saver - Saved parameters to '/tmp/001tfsc/model.ckpt-660'.\n",
      "2019-05-23 16:28:33.721 [scala-interpreter-1] INFO  Learn / Hooks / Loss Logger - (    0.019 s) Step:    660, Loss: 31249.9492\n",
      "2019-05-23 16:28:33.727 [scala-interpreter-1] INFO  Learn / Hooks / Checkpoint Saver - Saving checkpoint for step 670.\n",
      "2019-05-23 16:28:33.727 [scala-interpreter-1] INFO  Variables / Saver - Saving parameters to '/tmp/001tfsc/model.ckpt-670'.\n",
      "2019-05-23 16:28:33.738 [scala-interpreter-1] INFO  Variables / Saver - Saved parameters to '/tmp/001tfsc/model.ckpt-670'.\n",
      "2019-05-23 16:28:33.739 [scala-interpreter-1] INFO  Learn / Hooks / Loss Logger - (    0.018 s) Step:    670, Loss: 31249.9492\n",
      "2019-05-23 16:28:33.745 [scala-interpreter-1] INFO  Learn / Hooks / Checkpoint Saver - Saving checkpoint for step 680.\n",
      "2019-05-23 16:28:33.745 [scala-interpreter-1] INFO  Variables / Saver - Saving parameters to '/tmp/001tfsc/model.ckpt-680'.\n",
      "2019-05-23 16:28:33.756 [scala-interpreter-1] INFO  Variables / Saver - Saved parameters to '/tmp/001tfsc/model.ckpt-680'.\n",
      "2019-05-23 16:28:33.757 [scala-interpreter-1] INFO  Learn / Hooks / Loss Logger - (    0.019 s) Step:    680, Loss: 31249.9492\n",
      "2019-05-23 16:28:33.764 [scala-interpreter-1] INFO  Learn / Hooks / Checkpoint Saver - Saving checkpoint for step 690.\n",
      "2019-05-23 16:28:33.764 [scala-interpreter-1] INFO  Variables / Saver - Saving parameters to '/tmp/001tfsc/model.ckpt-690'.\n",
      "2019-05-23 16:28:33.774 [scala-interpreter-1] INFO  Variables / Saver - Saved parameters to '/tmp/001tfsc/model.ckpt-690'.\n",
      "2019-05-23 16:28:33.774 [scala-interpreter-1] INFO  Learn / Hooks / Loss Logger - (    0.017 s) Step:    690, Loss: 31249.9492\n",
      "2019-05-23 16:28:33.780 [scala-interpreter-1] INFO  Learn / Hooks / Checkpoint Saver - Saving checkpoint for step 700.\n",
      "2019-05-23 16:28:33.781 [scala-interpreter-1] INFO  Variables / Saver - Saving parameters to '/tmp/001tfsc/model.ckpt-700'.\n",
      "2019-05-23 16:28:33.791 [scala-interpreter-1] INFO  Variables / Saver - Saved parameters to '/tmp/001tfsc/model.ckpt-700'.\n",
      "2019-05-23 16:28:33.792 [scala-interpreter-1] INFO  Learn / Hooks / Step Rate - Steps/Sec: 543.48\n",
      "2019-05-23 16:28:33.792 [scala-interpreter-1] INFO  Learn / Hooks / Loss Logger - (    0.018 s) Step:    700, Loss: 31249.9492\n",
      "2019-05-23 16:28:33.799 [scala-interpreter-1] INFO  Learn / Hooks / Checkpoint Saver - Saving checkpoint for step 710.\n",
      "2019-05-23 16:28:33.799 [scala-interpreter-1] INFO  Variables / Saver - Saving parameters to '/tmp/001tfsc/model.ckpt-710'.\n",
      "2019-05-23 16:28:33.809 [scala-interpreter-1] INFO  Variables / Saver - Saved parameters to '/tmp/001tfsc/model.ckpt-710'.\n",
      "2019-05-23 16:28:33.809 [scala-interpreter-1] INFO  Learn / Hooks / Loss Logger - (    0.017 s) Step:    710, Loss: 31249.9492\n",
      "2019-05-23 16:28:33.816 [scala-interpreter-1] INFO  Learn / Hooks / Checkpoint Saver - Saving checkpoint for step 720.\n",
      "2019-05-23 16:28:33.816 [scala-interpreter-1] INFO  Variables / Saver - Saving parameters to '/tmp/001tfsc/model.ckpt-720'.\n",
      "2019-05-23 16:28:33.825 [scala-interpreter-1] INFO  Variables / Saver - Saved parameters to '/tmp/001tfsc/model.ckpt-720'.\n",
      "2019-05-23 16:28:33.826 [scala-interpreter-1] INFO  Learn / Hooks / Loss Logger - (    0.017 s) Step:    720, Loss: 31249.9492\n",
      "2019-05-23 16:28:33.832 [scala-interpreter-1] INFO  Learn / Hooks / Checkpoint Saver - Saving checkpoint for step 730.\n",
      "2019-05-23 16:28:33.832 [scala-interpreter-1] INFO  Variables / Saver - Saving parameters to '/tmp/001tfsc/model.ckpt-730'.\n",
      "2019-05-23 16:28:33.842 [scala-interpreter-1] INFO  Variables / Saver - Saved parameters to '/tmp/001tfsc/model.ckpt-730'.\n",
      "2019-05-23 16:28:33.843 [scala-interpreter-1] INFO  Learn / Hooks / Loss Logger - (    0.017 s) Step:    730, Loss: 31249.9492\n",
      "2019-05-23 16:28:33.850 [scala-interpreter-1] INFO  Learn / Hooks / Checkpoint Saver - Saving checkpoint for step 740.\n",
      "2019-05-23 16:28:33.851 [scala-interpreter-1] INFO  Variables / Saver - Saving parameters to '/tmp/001tfsc/model.ckpt-740'.\n",
      "2019-05-23 16:28:33.861 [scala-interpreter-1] INFO  Variables / Saver - Saved parameters to '/tmp/001tfsc/model.ckpt-740'.\n",
      "2019-05-23 16:28:33.862 [scala-interpreter-1] INFO  Learn / Hooks / Loss Logger - (    0.019 s) Step:    740, Loss: 31249.9492\n",
      "2019-05-23 16:28:33.868 [scala-interpreter-1] INFO  Learn / Hooks / Checkpoint Saver - Saving checkpoint for step 750.\n",
      "2019-05-23 16:28:33.868 [scala-interpreter-1] INFO  Variables / Saver - Saving parameters to '/tmp/001tfsc/model.ckpt-750'.\n",
      "2019-05-23 16:28:33.877 [scala-interpreter-1] INFO  Variables / Saver - Saved parameters to '/tmp/001tfsc/model.ckpt-750'.\n",
      "2019-05-23 16:28:33.878 [scala-interpreter-1] INFO  Learn / Hooks / Loss Logger - (    0.016 s) Step:    750, Loss: 31249.9492\n",
      "2019-05-23 16:28:33.884 [scala-interpreter-1] INFO  Learn / Hooks / Checkpoint Saver - Saving checkpoint for step 760.\n",
      "2019-05-23 16:28:33.884 [scala-interpreter-1] INFO  Variables / Saver - Saving parameters to '/tmp/001tfsc/model.ckpt-760'.\n",
      "2019-05-23 16:28:33.894 [scala-interpreter-1] INFO  Variables / Saver - Saved parameters to '/tmp/001tfsc/model.ckpt-760'.\n",
      "2019-05-23 16:28:33.894 [scala-interpreter-1] INFO  Learn / Hooks / Loss Logger - (    0.016 s) Step:    760, Loss: 31249.9492\n",
      "2019-05-23 16:28:33.900 [scala-interpreter-1] INFO  Learn / Hooks / Checkpoint Saver - Saving checkpoint for step 770.\n",
      "2019-05-23 16:28:33.901 [scala-interpreter-1] INFO  Variables / Saver - Saving parameters to '/tmp/001tfsc/model.ckpt-770'.\n",
      "2019-05-23 16:28:33.910 [scala-interpreter-1] INFO  Variables / Saver - Saved parameters to '/tmp/001tfsc/model.ckpt-770'.\n",
      "2019-05-23 16:28:33.912 [scala-interpreter-1] INFO  Learn / Hooks / Loss Logger - (    0.016 s) Step:    770, Loss: 31249.9492\n",
      "2019-05-23 16:28:33.918 [scala-interpreter-1] INFO  Learn / Hooks / Checkpoint Saver - Saving checkpoint for step 780.\n",
      "2019-05-23 16:28:33.918 [scala-interpreter-1] INFO  Variables / Saver - Saving parameters to '/tmp/001tfsc/model.ckpt-780'.\n",
      "2019-05-23 16:28:33.928 [scala-interpreter-1] INFO  Variables / Saver - Saved parameters to '/tmp/001tfsc/model.ckpt-780'.\n",
      "2019-05-23 16:28:33.928 [scala-interpreter-1] INFO  Learn / Hooks / Loss Logger - (    0.018 s) Step:    780, Loss: 31249.9492\n",
      "2019-05-23 16:28:33.934 [scala-interpreter-1] INFO  Learn / Hooks / Checkpoint Saver - Saving checkpoint for step 790.\n",
      "2019-05-23 16:28:33.935 [scala-interpreter-1] INFO  Variables / Saver - Saving parameters to '/tmp/001tfsc/model.ckpt-790'.\n",
      "2019-05-23 16:28:33.944 [scala-interpreter-1] INFO  Variables / Saver - Saved parameters to '/tmp/001tfsc/model.ckpt-790'.\n",
      "2019-05-23 16:28:33.945 [scala-interpreter-1] INFO  Learn / Hooks / Loss Logger - (    0.017 s) Step:    790, Loss: 31249.9492\n",
      "2019-05-23 16:28:33.951 [scala-interpreter-1] INFO  Learn / Hooks / Checkpoint Saver - Saving checkpoint for step 800.\n",
      "2019-05-23 16:28:33.951 [scala-interpreter-1] INFO  Variables / Saver - Saving parameters to '/tmp/001tfsc/model.ckpt-800'.\n",
      "2019-05-23 16:28:33.960 [scala-interpreter-1] INFO  Variables / Saver - Saved parameters to '/tmp/001tfsc/model.ckpt-800'.\n",
      "2019-05-23 16:28:33.961 [scala-interpreter-1] INFO  Learn / Hooks / Step Rate - Steps/Sec: 591.72\n",
      "2019-05-23 16:28:33.961 [scala-interpreter-1] INFO  Learn / Hooks / Loss Logger - (    0.016 s) Step:    800, Loss: 31249.9492\n",
      "2019-05-23 16:28:33.967 [scala-interpreter-1] INFO  Learn / Hooks / Checkpoint Saver - Saving checkpoint for step 810.\n",
      "2019-05-23 16:28:33.967 [scala-interpreter-1] INFO  Variables / Saver - Saving parameters to '/tmp/001tfsc/model.ckpt-810'.\n",
      "2019-05-23 16:28:33.976 [scala-interpreter-1] INFO  Variables / Saver - Saved parameters to '/tmp/001tfsc/model.ckpt-810'.\n"
     ]
    },
    {
     "name": "stdout",
     "output_type": "stream",
     "text": [
      "2019-05-23 16:28:33.977 [scala-interpreter-1] INFO  Learn / Hooks / Loss Logger - (    0.016 s) Step:    810, Loss: 31249.9492\n",
      "2019-05-23 16:28:33.982 [scala-interpreter-1] INFO  Learn / Hooks / Checkpoint Saver - Saving checkpoint for step 820.\n",
      "2019-05-23 16:28:33.983 [scala-interpreter-1] INFO  Variables / Saver - Saving parameters to '/tmp/001tfsc/model.ckpt-820'.\n",
      "2019-05-23 16:28:33.993 [scala-interpreter-1] INFO  Variables / Saver - Saved parameters to '/tmp/001tfsc/model.ckpt-820'.\n",
      "2019-05-23 16:28:33.994 [scala-interpreter-1] INFO  Learn / Hooks / Loss Logger - (    0.016 s) Step:    820, Loss: 31249.9492\n",
      "2019-05-23 16:28:33.999 [scala-interpreter-1] INFO  Learn / Hooks / Checkpoint Saver - Saving checkpoint for step 830.\n",
      "2019-05-23 16:28:34.000 [scala-interpreter-1] INFO  Variables / Saver - Saving parameters to '/tmp/001tfsc/model.ckpt-830'.\n",
      "2019-05-23 16:28:34.011 [scala-interpreter-1] INFO  Variables / Saver - Saved parameters to '/tmp/001tfsc/model.ckpt-830'.\n",
      "2019-05-23 16:28:34.012 [scala-interpreter-1] INFO  Learn / Hooks / Loss Logger - (    0.018 s) Step:    830, Loss: 31249.9492\n",
      "2019-05-23 16:28:34.017 [scala-interpreter-1] INFO  Learn / Hooks / Checkpoint Saver - Saving checkpoint for step 840.\n",
      "2019-05-23 16:28:34.018 [scala-interpreter-1] INFO  Variables / Saver - Saving parameters to '/tmp/001tfsc/model.ckpt-840'.\n",
      "2019-05-23 16:28:34.027 [scala-interpreter-1] INFO  Variables / Saver - Saved parameters to '/tmp/001tfsc/model.ckpt-840'.\n",
      "2019-05-23 16:28:34.028 [scala-interpreter-1] INFO  Learn / Hooks / Loss Logger - (    0.017 s) Step:    840, Loss: 31249.9492\n",
      "2019-05-23 16:28:34.034 [scala-interpreter-1] INFO  Learn / Hooks / Checkpoint Saver - Saving checkpoint for step 850.\n",
      "2019-05-23 16:28:34.034 [scala-interpreter-1] INFO  Variables / Saver - Saving parameters to '/tmp/001tfsc/model.ckpt-850'.\n",
      "2019-05-23 16:28:34.044 [scala-interpreter-1] INFO  Variables / Saver - Saved parameters to '/tmp/001tfsc/model.ckpt-850'.\n",
      "2019-05-23 16:28:34.044 [scala-interpreter-1] INFO  Learn / Hooks / Loss Logger - (    0.016 s) Step:    850, Loss: 31249.9492\n",
      "2019-05-23 16:28:34.050 [scala-interpreter-1] INFO  Learn / Hooks / Checkpoint Saver - Saving checkpoint for step 860.\n",
      "2019-05-23 16:28:34.050 [scala-interpreter-1] INFO  Variables / Saver - Saving parameters to '/tmp/001tfsc/model.ckpt-860'.\n",
      "2019-05-23 16:28:34.059 [scala-interpreter-1] INFO  Variables / Saver - Saved parameters to '/tmp/001tfsc/model.ckpt-860'.\n",
      "2019-05-23 16:28:34.059 [scala-interpreter-1] INFO  Learn / Hooks / Loss Logger - (    0.015 s) Step:    860, Loss: 31249.9492\n",
      "2019-05-23 16:28:34.065 [scala-interpreter-1] INFO  Learn / Hooks / Checkpoint Saver - Saving checkpoint for step 870.\n",
      "2019-05-23 16:28:34.065 [scala-interpreter-1] INFO  Variables / Saver - Saving parameters to '/tmp/001tfsc/model.ckpt-870'.\n",
      "2019-05-23 16:28:34.074 [scala-interpreter-1] INFO  Variables / Saver - Saved parameters to '/tmp/001tfsc/model.ckpt-870'.\n",
      "2019-05-23 16:28:34.075 [scala-interpreter-1] INFO  Learn / Hooks / Loss Logger - (    0.016 s) Step:    870, Loss: 31249.9492\n",
      "2019-05-23 16:28:34.080 [scala-interpreter-1] INFO  Learn / Hooks / Checkpoint Saver - Saving checkpoint for step 880.\n",
      "2019-05-23 16:28:34.081 [scala-interpreter-1] INFO  Variables / Saver - Saving parameters to '/tmp/001tfsc/model.ckpt-880'.\n",
      "2019-05-23 16:28:34.090 [scala-interpreter-1] INFO  Variables / Saver - Saved parameters to '/tmp/001tfsc/model.ckpt-880'.\n",
      "2019-05-23 16:28:34.091 [scala-interpreter-1] INFO  Learn / Hooks / Loss Logger - (    0.016 s) Step:    880, Loss: 31249.9492\n",
      "2019-05-23 16:28:34.096 [scala-interpreter-1] INFO  Learn / Hooks / Checkpoint Saver - Saving checkpoint for step 890.\n",
      "2019-05-23 16:28:34.097 [scala-interpreter-1] INFO  Variables / Saver - Saving parameters to '/tmp/001tfsc/model.ckpt-890'.\n",
      "2019-05-23 16:28:34.108 [scala-interpreter-1] INFO  Variables / Saver - Saved parameters to '/tmp/001tfsc/model.ckpt-890'.\n",
      "2019-05-23 16:28:34.108 [scala-interpreter-1] INFO  Learn / Hooks / Loss Logger - (    0.017 s) Step:    890, Loss: 31249.9492\n",
      "2019-05-23 16:28:34.114 [scala-interpreter-1] INFO  Learn / Hooks / Checkpoint Saver - Saving checkpoint for step 900.\n",
      "2019-05-23 16:28:34.114 [scala-interpreter-1] INFO  Variables / Saver - Saving parameters to '/tmp/001tfsc/model.ckpt-900'.\n",
      "2019-05-23 16:28:34.124 [scala-interpreter-1] INFO  Variables / Saver - Saved parameters to '/tmp/001tfsc/model.ckpt-900'.\n",
      "2019-05-23 16:28:34.124 [scala-interpreter-1] INFO  Learn / Hooks / Step Rate - Steps/Sec: 613.50\n",
      "2019-05-23 16:28:34.125 [scala-interpreter-1] INFO  Learn / Hooks / Loss Logger - (    0.017 s) Step:    900, Loss: 31249.9492\n",
      "2019-05-23 16:28:34.130 [scala-interpreter-1] INFO  Learn / Hooks / Checkpoint Saver - Saving checkpoint for step 910.\n",
      "2019-05-23 16:28:34.130 [scala-interpreter-1] INFO  Variables / Saver - Saving parameters to '/tmp/001tfsc/model.ckpt-910'.\n",
      "2019-05-23 16:28:34.143 [scala-interpreter-1] INFO  Variables / Saver - Saved parameters to '/tmp/001tfsc/model.ckpt-910'.\n",
      "2019-05-23 16:28:34.144 [scala-interpreter-1] INFO  Learn / Hooks / Loss Logger - (    0.018 s) Step:    910, Loss: 31249.9492\n",
      "2019-05-23 16:28:34.151 [scala-interpreter-1] INFO  Learn / Hooks / Checkpoint Saver - Saving checkpoint for step 920.\n",
      "2019-05-23 16:28:34.152 [scala-interpreter-1] INFO  Variables / Saver - Saving parameters to '/tmp/001tfsc/model.ckpt-920'.\n",
      "2019-05-23 16:28:34.164 [scala-interpreter-1] INFO  Variables / Saver - Saved parameters to '/tmp/001tfsc/model.ckpt-920'.\n",
      "2019-05-23 16:28:34.165 [scala-interpreter-1] INFO  Learn / Hooks / Loss Logger - (    0.022 s) Step:    920, Loss: 31249.9492\n",
      "2019-05-23 16:28:34.170 [scala-interpreter-1] INFO  Learn / Hooks / Checkpoint Saver - Saving checkpoint for step 930.\n",
      "2019-05-23 16:28:34.171 [scala-interpreter-1] INFO  Variables / Saver - Saving parameters to '/tmp/001tfsc/model.ckpt-930'.\n",
      "2019-05-23 16:28:34.180 [scala-interpreter-1] INFO  Variables / Saver - Saved parameters to '/tmp/001tfsc/model.ckpt-930'.\n",
      "2019-05-23 16:28:34.180 [scala-interpreter-1] INFO  Learn / Hooks / Loss Logger - (    0.015 s) Step:    930, Loss: 31249.9492\n",
      "2019-05-23 16:28:34.186 [scala-interpreter-1] INFO  Learn / Hooks / Checkpoint Saver - Saving checkpoint for step 940.\n",
      "2019-05-23 16:28:34.186 [scala-interpreter-1] INFO  Variables / Saver - Saving parameters to '/tmp/001tfsc/model.ckpt-940'.\n",
      "2019-05-23 16:28:34.197 [scala-interpreter-1] INFO  Variables / Saver - Saved parameters to '/tmp/001tfsc/model.ckpt-940'.\n",
      "2019-05-23 16:28:34.197 [scala-interpreter-1] INFO  Learn / Hooks / Loss Logger - (    0.017 s) Step:    940, Loss: 31249.9492\n",
      "2019-05-23 16:28:34.202 [scala-interpreter-1] INFO  Learn / Hooks / Checkpoint Saver - Saving checkpoint for step 950.\n",
      "2019-05-23 16:28:34.203 [scala-interpreter-1] INFO  Variables / Saver - Saving parameters to '/tmp/001tfsc/model.ckpt-950'.\n",
      "2019-05-23 16:28:34.211 [scala-interpreter-1] INFO  Variables / Saver - Saved parameters to '/tmp/001tfsc/model.ckpt-950'.\n",
      "2019-05-23 16:28:34.212 [scala-interpreter-1] INFO  Learn / Hooks / Loss Logger - (    0.015 s) Step:    950, Loss: 31249.9492\n",
      "2019-05-23 16:28:34.217 [scala-interpreter-1] INFO  Learn / Hooks / Checkpoint Saver - Saving checkpoint for step 960.\n",
      "2019-05-23 16:28:34.218 [scala-interpreter-1] INFO  Variables / Saver - Saving parameters to '/tmp/001tfsc/model.ckpt-960'.\n",
      "2019-05-23 16:28:34.227 [scala-interpreter-1] INFO  Variables / Saver - Saved parameters to '/tmp/001tfsc/model.ckpt-960'.\n",
      "2019-05-23 16:28:34.227 [scala-interpreter-1] INFO  Learn / Hooks / Loss Logger - (    0.015 s) Step:    960, Loss: 31249.9492\n",
      "2019-05-23 16:28:34.233 [scala-interpreter-1] INFO  Learn / Hooks / Checkpoint Saver - Saving checkpoint for step 970.\n",
      "2019-05-23 16:28:34.233 [scala-interpreter-1] INFO  Variables / Saver - Saving parameters to '/tmp/001tfsc/model.ckpt-970'.\n",
      "2019-05-23 16:28:34.242 [scala-interpreter-1] INFO  Variables / Saver - Saved parameters to '/tmp/001tfsc/model.ckpt-970'.\n",
      "2019-05-23 16:28:34.242 [scala-interpreter-1] INFO  Learn / Hooks / Loss Logger - (    0.015 s) Step:    970, Loss: 31249.9492\n",
      "2019-05-23 16:28:34.247 [scala-interpreter-1] INFO  Learn / Hooks / Checkpoint Saver - Saving checkpoint for step 980.\n"
     ]
    },
    {
     "name": "stdout",
     "output_type": "stream",
     "text": [
      "2019-05-23 16:28:34.248 [scala-interpreter-1] INFO  Variables / Saver - Saving parameters to '/tmp/001tfsc/model.ckpt-980'.\n",
      "2019-05-23 16:28:34.257 [scala-interpreter-1] INFO  Variables / Saver - Saved parameters to '/tmp/001tfsc/model.ckpt-980'.\n",
      "2019-05-23 16:28:34.258 [scala-interpreter-1] INFO  Learn / Hooks / Loss Logger - (    0.016 s) Step:    980, Loss: 31249.9492\n",
      "2019-05-23 16:28:34.263 [scala-interpreter-1] INFO  Learn / Hooks / Checkpoint Saver - Saving checkpoint for step 990.\n",
      "2019-05-23 16:28:34.263 [scala-interpreter-1] INFO  Variables / Saver - Saving parameters to '/tmp/001tfsc/model.ckpt-990'.\n",
      "2019-05-23 16:28:34.272 [scala-interpreter-1] INFO  Variables / Saver - Saved parameters to '/tmp/001tfsc/model.ckpt-990'.\n",
      "2019-05-23 16:28:34.273 [scala-interpreter-1] INFO  Learn / Hooks / Loss Logger - (    0.015 s) Step:    990, Loss: 31249.9492\n",
      "2019-05-23 16:28:34.278 [scala-interpreter-1] INFO  Learn / Hooks / Checkpoint Saver - Saving checkpoint for step 1000.\n",
      "2019-05-23 16:28:34.278 [scala-interpreter-1] INFO  Variables / Saver - Saving parameters to '/tmp/001tfsc/model.ckpt-1000'.\n",
      "2019-05-23 16:28:34.287 [scala-interpreter-1] INFO  Variables / Saver - Saved parameters to '/tmp/001tfsc/model.ckpt-1000'.\n",
      "2019-05-23 16:28:34.288 [scala-interpreter-1] INFO  Learn / Hooks / Step Rate - Steps/Sec: 609.76\n",
      "2019-05-23 16:28:34.288 [scala-interpreter-1] INFO  Learn / Hooks / Loss Logger - (    0.015 s) Step:   1000, Loss: 31249.9492\n"
     ]
    }
   ],
   "source": [
    "estimator.train(() => trainData, StopCriteria(maxSteps = Some(1000)))"
   ]
  },
  {
   "cell_type": "code",
   "execution_count": 15,
   "metadata": {},
   "outputs": [
    {
     "data": {
      "text/plain": [
       "\u001b[36mscaledPreds\u001b[39m: \u001b[32mTensor\u001b[39m[\u001b[32mFloat\u001b[39m] = Tensor[Float, [25, 1]]\n",
       "\u001b[36mpredsOp\u001b[39m: \u001b[32mOutput\u001b[39m[\u001b[32mFloat\u001b[39m] = \u001b[33mOutput\u001b[39m(Add, \u001b[32m0\u001b[39m)\n",
       "\u001b[36mpreds\u001b[39m: \u001b[32mTensor\u001b[39m[\u001b[32mFloat\u001b[39m] = Tensor[Float, [25, 1]]\n",
       "\u001b[36mm\u001b[39m: \u001b[32mTensor\u001b[39m[\u001b[32mFloat\u001b[39m] = Tensor[Float, [1, 5]]\n",
       "\u001b[36msd2\u001b[39m: \u001b[32mTensor\u001b[39m[\u001b[32mFloat\u001b[39m] = Tensor[Float, [1, 5]]"
      ]
     },
     "execution_count": 15,
     "metadata": {},
     "output_type": "execute_result"
    }
   ],
   "source": [
    "val scaledPreds = estimator.infer(() => dataScaledTensor(---, 1::))\n",
    "val predsOp = tf.add(meanD(---,0),tf.multiply(scaledPreds,tf.sqrt(varianceD(---,0))))\n",
    "//val preds = tf.sum(meanD(---,0), tf.multiply(scaledPreds, tf.sqrt(varianceD(---,0))))\n",
    "val (preds, m, sd2) = sess.run(fetches = (predsOp,meanD,varianceD))"
   ]
  },
  {
   "cell_type": "code",
   "execution_count": 16,
   "metadata": {},
   "outputs": [
    {
     "data": {
      "text/plain": [
       "\u001b[36mres15\u001b[39m: \u001b[32mSeq\u001b[39m[\u001b[32mFloat\u001b[39m] = \u001b[33mStream\u001b[39m(\n",
       "  \u001b[32m4.6393488E-8F\u001b[39m,\n",
       "  \u001b[32m4.023166E-8F\u001b[39m,\n",
       "  \u001b[32m4.1822602E-8F\u001b[39m,\n",
       "  \u001b[32m4.5064894E-8F\u001b[39m,\n",
       "  \u001b[32m4.6525216E-8F\u001b[39m,\n",
       "  \u001b[32m4.5800387E-8F\u001b[39m,\n",
       "  \u001b[32m4.1290104E-8F\u001b[39m,\n",
       "  \u001b[32m4.572816E-8F\u001b[39m,\n",
       "  \u001b[32m4.533636E-8F\u001b[39m,\n",
       "  \u001b[32m4.0941693E-8F\u001b[39m,\n",
       "  \u001b[32m3.9265426E-8F\u001b[39m,\n",
       "  \u001b[32m4.068332E-8F\u001b[39m,\n",
       "  \u001b[32m4.1707455E-8F\u001b[39m,\n",
       "  \u001b[32m4.283643E-8F\u001b[39m,\n",
       "  \u001b[32m3.897924E-8F\u001b[39m,\n",
       "  \u001b[32m4.6642224E-8F\u001b[39m,\n",
       "  \u001b[32m4.2617767E-8F\u001b[39m,\n",
       "  \u001b[32m4.3711232E-8F\u001b[39m,\n",
       "  \u001b[32m4.6393488E-8F\u001b[39m,\n",
       "  \u001b[32m4.0619714E-8F\u001b[39m,\n",
       "  \u001b[32m4.5502734E-8F\u001b[39m,\n",
       "  \u001b[32m4.2315065E-8F\u001b[39m,\n",
       "  \u001b[32m5.1046392E-8F\u001b[39m,\n",
       "  \u001b[32m4.7040473E-8F\u001b[39m,\n",
       "  \u001b[32m4.126023E-8F\u001b[39m\n",
       ")"
      ]
     },
     "execution_count": 16,
     "metadata": {},
     "output_type": "execute_result"
    }
   ],
   "source": [
    "scaledPreds(---, 0).entriesIterator.toSeq"
   ]
  },
  {
   "cell_type": "code",
   "execution_count": null,
   "metadata": {},
   "outputs": [],
   "source": []
  },
  {
   "cell_type": "code",
   "execution_count": 18,
   "metadata": {},
   "outputs": [
    {
     "data": {
      "text/plain": [
       "\u001b[36mres17\u001b[39m: \u001b[32mSeq\u001b[39m[\u001b[32mFloat\u001b[39m] = \u001b[33mStream\u001b[39m(\u001b[32m2033.5618F\u001b[39m)"
      ]
     },
     "execution_count": 18,
     "metadata": {},
     "output_type": "execute_result"
    }
   ],
   "source": [
    "sd2(---,0).entriesIterator.toSeq//.map(_)"
   ]
  },
  {
   "cell_type": "code",
   "execution_count": 19,
   "metadata": {},
   "outputs": [
    {
     "data": {
      "text/plain": [
       "\u001b[36mres18\u001b[39m: \u001b[32mFloat\u001b[39m = \u001b[32m25.0F\u001b[39m"
      ]
     },
     "execution_count": 19,
     "metadata": {},
     "output_type": "execute_result"
    }
   ],
   "source": [
    "dataScaledTensor(---, 0).entriesIterator.toSeq.map(x =>x*x).reduce(_+_)"
   ]
  },
  {
   "cell_type": "code",
   "execution_count": null,
   "metadata": {},
   "outputs": [],
   "source": []
  },
  {
   "cell_type": "code",
   "execution_count": null,
   "metadata": {},
   "outputs": [],
   "source": []
  }
 ],
 "metadata": {
  "kernelspec": {
   "display_name": "Scala",
   "language": "scala",
   "name": "scala"
  },
  "language_info": {
   "codemirror_mode": "text/x-scala",
   "file_extension": ".scala",
   "mimetype": "text/x-scala",
   "name": "scala",
   "nbconvert_exporter": "script",
   "version": "2.12.8"
  }
 },
 "nbformat": 4,
 "nbformat_minor": 2
}
