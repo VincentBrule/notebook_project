{
 "cells": [
  {
   "cell_type": "code",
   "execution_count": null,
   "metadata": {},
   "outputs": [],
   "source": [
    "import $ivy.`com.sksamuel.scrimage:scrimage-core_2.12:2.1.8`\n",
    "import sys.process._\n",
    "import javax.imageio.ImageIO\n",
    "import java.io.File"
   ]
  },
  {
   "cell_type": "code",
   "execution_count": null,
   "metadata": {},
   "outputs": [],
   "source": [
    "import $ivy.`io.circe:circe-core_2.12:0.10.1`\n",
    "import $ivy.`io.circe:circe-generic_2.12:0.10.1`\n",
    "import $ivy.`io.circe:circe-parser_2.12:0.10.1`\n",
    "import _root_.io.circe.{Decoder, Encoder}\n",
    "\n",
    "import io.circe.parser.decode\n",
    "\n",
    "case class Detection(`class`: String, score: Float, box: (Int, Int, Int, Int))\n",
    "\n",
    "object Detection {\n",
    "  import _root_.io.circe.generic.semiauto._\n",
    "\n",
    "  implicit lazy val encoder: Encoder[Detection] = deriveEncoder[Detection]\n",
    "  implicit lazy val decoder: Decoder[Detection] = deriveDecoder[Detection]\n",
    "}"
   ]
  },
  {
   "cell_type": "code",
   "execution_count": null,
   "metadata": {},
   "outputs": [],
   "source": [
    "val imageFile = \"resources/baywatch.jpg\""
   ]
  },
  {
   "cell_type": "code",
   "execution_count": null,
   "metadata": {},
   "outputs": [],
   "source": [
    "def detectObjects(s: String) = {\n",
    "    val cmd = s\"\"\"curl -X POST -F img=@${s}  localhost:8080/detect\"\"\"\n",
    "    println(cmd)\n",
    "    cmd.!!\n",
    "}"
   ]
  },
  {
   "cell_type": "code",
   "execution_count": null,
   "metadata": {},
   "outputs": [],
   "source": [
    "detectObjects(imageFile)"
   ]
  },
  {
   "cell_type": "code",
   "execution_count": null,
   "metadata": {},
   "outputs": [],
   "source": [
    "\n",
    "\n",
    "def displayBoxes(imgFile: String, threshold: Float = 0.3f) = {\n",
    "    val response = s\"\"\"curl -X POST -F img=@${imgFile}  localhost:8080/detect\"\"\"!!\n",
    "    \n",
    "    val detections = decode[Seq[Detection]](response) match {\n",
    "        case Right(detections) => detections\n",
    "        case Left(_) => List[Detection]()\n",
    "    }\n",
    "    \n",
    "    val photo1 = ImageIO.read(new File(imgFile))\n",
    "    val (width, height) = (photo1.getWidth, photo1.getHeight)\n",
    "    def w(x: Int) = math.min(x, width-1)\n",
    "    def h(x: Int) = math.min(x, height-1)\n",
    "    \n",
    "    detections.filter(_.score > threshold).foreach { d =>\n",
    "    (d.box._1 until d.box._1 + d.box._3).map {x =>\n",
    "        photo1.setRGB(w(x), h(d.box._2), 0xffffff)\n",
    "        photo1.setRGB(w(x), h(d.box._2-1), 0xffffff)\n",
    "        photo1.setRGB(w(x), h(d.box._2+1), 0xffffff)\n",
    "        \n",
    "        photo1.setRGB(w(x), h(d.box._2+d.box._4), 0xffffff)\n",
    "        photo1.setRGB(w(x), h(d.box._2+d.box._4-1), 0xffffff)\n",
    "        photo1.setRGB(w(x), h(d.box._2+d.box._4+1), 0xffffff)\n",
    "    }\n",
    "    (d.box._2 until d.box._2+ d.box._4).map {y =>\n",
    "        photo1.setRGB(w(d.box._1), h(y), 0xffffff)\n",
    "        photo1.setRGB(w(d.box._1-1), h(y), 0xffffff)\n",
    "        photo1.setRGB(w(d.box._1+1), h(y), 0xffffff)\n",
    "        photo1.setRGB(w(d.box._1 + d.box._3), h(y), 0xffffff)\n",
    "        photo1.setRGB(w(d.box._1 + d.box._3-1), h(y), 0xffffff)\n",
    "        photo1.setRGB(w(d.box._1 + d.box._3+1), h(y), 0xffffff)\n",
    "    }\n",
    "    }\n",
    "    \n",
    "    lazy val baos = new java.io.ByteArrayOutputStream()\n",
    "    ImageIO.write( photo1, \"png\", baos );\n",
    "    baos.flush()\n",
    "    lazy val imageInByte = baos.toByteArray()\n",
    "    baos.close()\n",
    "    \n",
    "    //Image.fromArray(imageInByte, Image.PNG,  width=Some(\"500\"))\n",
    "    Image.fromRenderedImage(photo1)// fv.withByteArray(imageInByte, Image.PNG,  width=Some(\"500\"))\n",
    "}"
   ]
  },
  {
   "cell_type": "code",
   "execution_count": null,
   "metadata": {},
   "outputs": [],
   "source": [
    "detectObjects(imageFile)"
   ]
  },
  {
   "cell_type": "code",
   "execution_count": null,
   "metadata": {
    "scrolled": true
   },
   "outputs": [],
   "source": [
    "displayBoxes(imageFile, 0.9f)"
   ]
  },
  {
   "cell_type": "code",
   "execution_count": null,
   "metadata": {},
   "outputs": [],
   "source": [
    "detectObjects(\"resources/lt.jpg\")"
   ]
  },
  {
   "cell_type": "code",
   "execution_count": null,
   "metadata": {},
   "outputs": [],
   "source": [
    "displayBoxes(\"resources/lt.jpg\", 0.16F)"
   ]
  },
  {
   "cell_type": "code",
   "execution_count": null,
   "metadata": {},
   "outputs": [],
   "source": []
  },
  {
   "cell_type": "code",
   "execution_count": null,
   "metadata": {},
   "outputs": [],
   "source": [
    "displayBoxes(\"resources/thulsadoom.png\", 0.16F)"
   ]
  },
  {
   "cell_type": "code",
   "execution_count": null,
   "metadata": {},
   "outputs": [],
   "source": [
    "displayBoxes(\"resources/thulsadoomsnake.jpg\", 0.16F)"
   ]
  },
  {
   "cell_type": "code",
   "execution_count": null,
   "metadata": {},
   "outputs": [],
   "source": [
    "detectObjects(\"resources/thulsadoom.png\")"
   ]
  },
  {
   "cell_type": "code",
   "execution_count": null,
   "metadata": {},
   "outputs": [],
   "source": [
    "detectObjects(\"resources/thulsadoomsnake.jpg\")"
   ]
  },
  {
   "cell_type": "markdown",
   "metadata": {},
   "source": [
    "# Excercise"
   ]
  },
  {
   "cell_type": "code",
   "execution_count": null,
   "metadata": {},
   "outputs": [],
   "source": [
    "Use the face detection model in place of the object detection model:\n",
    "\n",
    "val modelname = \"anonymizer\"\n",
    "val modelfilename = \"weights_face_v1.0.0.pb\"\n",
    "\n"
   ]
  }
 ],
 "metadata": {
  "kernelspec": {
   "display_name": "Scala",
   "language": "scala",
   "name": "scala"
  },
  "language_info": {
   "codemirror_mode": "text/x-scala",
   "file_extension": ".scala",
   "mimetype": "text/x-scala",
   "name": "scala",
   "nbconvert_exporter": "script",
   "version": "2.12.9"
  }
 },
 "nbformat": 4,
 "nbformat_minor": 2
}
