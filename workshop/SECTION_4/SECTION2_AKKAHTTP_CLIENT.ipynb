{
 "cells": [
  {
   "cell_type": "markdown",
   "metadata": {},
   "source": [
    "# Section 2\n",
    "\n",
    "### Akka HTTP client to query object detection"
   ]
  },
  {
   "cell_type": "code",
   "execution_count": null,
   "metadata": {},
   "outputs": [],
   "source": [
    "import $ivy.`com.sksamuel.scrimage:scrimage-core_2.12:2.1.8`\n",
    "import sys.process._\n",
    "import javax.imageio.ImageIO\n",
    "import java.io.File"
   ]
  },
  {
   "cell_type": "code",
   "execution_count": null,
   "metadata": {},
   "outputs": [],
   "source": [
    "import $ivy.`io.circe:circe-core_2.12:0.10.1`\n",
    "import $ivy.`io.circe:circe-generic_2.12:0.10.1`\n",
    "import $ivy.`io.circe:circe-parser_2.12:0.10.1`\n",
    "import _root_.io.circe.{Decoder, Encoder}\n",
    "\n",
    "import io.circe.parser.decode\n",
    "\n",
    "case class Detection(label: String, score: Float, x1: Double, y1: Double, x2: Double, y2: Double)\n",
    "\n",
    "object Detection {\n",
    "  import _root_.io.circe.generic.semiauto._\n",
    "\n",
    "  implicit lazy val encoder: Encoder[Detection] = deriveEncoder[Detection]\n",
    "  implicit lazy val decoder: Decoder[Detection] = deriveDecoder[Detection]\n",
    "}"
   ]
  },
  {
   "cell_type": "code",
   "execution_count": null,
   "metadata": {},
   "outputs": [],
   "source": [
    "val imageFile = \"resources/baywatch.jpg\""
   ]
  },
  {
   "cell_type": "code",
   "execution_count": null,
   "metadata": {},
   "outputs": [],
   "source": [
    "def detectObjects(s: String) = {\n",
    "    val cmd = s\"\"\"curl -X POST -F img=@${s}  localhost:8080/detect\"\"\"\n",
    "    println(cmd)\n",
    "    cmd.!!\n",
    "}"
   ]
  },
  {
   "cell_type": "code",
   "execution_count": null,
   "metadata": {},
   "outputs": [],
   "source": [
    "detectObjects(imageFile)"
   ]
  },
  {
   "cell_type": "code",
   "execution_count": null,
   "metadata": {},
   "outputs": [],
   "source": [
    "import java.io.ByteArrayInputStream\n",
    "import javax.imageio.ImageIO\n",
    "import java.awt.image.BufferedImage\n",
    "import java.awt.{Color, Graphics2D}\n",
    "import java.awt.geom.Ellipse2D\n",
    "import java.awt.Font\n",
    "import java.awt.BasicStroke\n",
    "import java.awt.geom.AffineTransform\n",
    "import java.awt.RenderingHints\n",
    "import scala.math.{ sqrt, abs, min, max, exp, Pi }"
   ]
  },
  {
   "cell_type": "code",
   "execution_count": null,
   "metadata": {},
   "outputs": [],
   "source": [
    "def customDrawBoundingBoxes(nameImage: String, threshold: Float) {\n",
    "    val img = ImageIO.read(new File(nameImage))\n",
    "    val graphics = img.createGraphics\n",
    "    val w = img.getWidth\n",
    "    val h = img.getHeight\n",
    "    val font = new Font(\"Serif\", Font.PLAIN, 30)\n",
    "    val affineTransform = new AffineTransform()\n",
    "    val oldStroke = graphics.getStroke()\n",
    "    affineTransform.rotate(-Pi/2)\n",
    "    val rotatedFont = font.deriveFont(affineTransform)\n",
    "    graphics.setFont(font)\n",
    "    graphics.setColor(Color.red)\n",
    "    \n",
    "    val response = s\"\"\"curl -X POST -F img=@${nameImage}  localhost:8080/detect\"\"\"!!\n",
    "    \n",
    "    val detections = decode[Seq[Detection]](response) match {\n",
    "        case Right(detections) => detections\n",
    "        case Left(_) => List[Detection]()\n",
    "    }\n",
    "    println(detections)\n",
    "    detections.filter(_.score > threshold).foreach { b =>\n",
    "        graphics.setColor(Color.red)\n",
    "        graphics.drawString((b.label).toString, b.x1.toInt, b.y1.toInt)\n",
    "        graphics.setStroke(new BasicStroke(1.0f))\n",
    "        graphics.drawRect(b.x1.toInt, b.y1.toInt, (b.x2 - b.x1).toInt, (b.y2 - b.y1).toInt) \n",
    "        graphics.setStroke(oldStroke)\n",
    "    }\n",
    "    graphics.dispose()\n",
    "    lazy val baos = new java.io.ByteArrayOutputStream()\n",
    "    ImageIO.write( img, \"png\", baos );\n",
    "    baos.flush()\n",
    "    lazy val imageInByte = baos.toByteArray()\n",
    "    baos.close()\n",
    "    Image(imageInByte).withFormat(Image.PNG).display \n",
    "}"
   ]
  },
  {
   "cell_type": "code",
   "execution_count": null,
   "metadata": {
    "scrolled": true
   },
   "outputs": [],
   "source": [
    "customDrawBoundingBoxes(imageFile, 0.9f)"
   ]
  },
  {
   "cell_type": "code",
   "execution_count": null,
   "metadata": {},
   "outputs": [],
   "source": [
    "customDrawBoundingBoxes(\"resources/elephant.jpg\", 0.9f)"
   ]
  },
  {
   "cell_type": "code",
   "execution_count": null,
   "metadata": {},
   "outputs": [],
   "source": [
    "customDrawBoundingBoxes(\"resources/couvert.jpg\", 0.9f)"
   ]
  }
 ],
 "metadata": {
  "kernelspec": {
   "display_name": "Scala",
   "language": "scala",
   "name": "scala"
  },
  "language_info": {
   "codemirror_mode": "text/x-scala",
   "file_extension": ".scala",
   "mimetype": "text/x-scala",
   "name": "scala",
   "nbconvert_exporter": "script",
   "version": "2.12.10"
  }
 },
 "nbformat": 4,
 "nbformat_minor": 2
}
